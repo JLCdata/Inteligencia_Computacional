{
  "nbformat": 4,
  "nbformat_minor": 0,
  "metadata": {
    "colab": {
      "name": "Tarea 2 Inteligencia Computacional.ipynb",
      "provenance": [],
      "collapsed_sections": [
        "Y-Bx__9eEUrv"
      ],
      "toc_visible": true
    },
    "kernelspec": {
      "name": "python3",
      "display_name": "Python 3"
    },
    "language_info": {
      "name": "python"
    }
  },
  "cells": [
    {
      "cell_type": "markdown",
      "metadata": {
        "id": "9ZgaASdfdLls"
      },
      "source": [
        "# **Tarea 2: Clasificador SVM**"
      ]
    },
    {
      "cell_type": "markdown",
      "metadata": {
        "id": "EA9VGWkaKOMG"
      },
      "source": [
        "**Nombre**: José Luis Cádiz Sejas\n",
        "\n",
        "**ReadMe**: Para el correcto funcionamiento del código, se debe ejecutar todo el código, ya que existen algunas variables que se van sobreescribiendo."
      ]
    },
    {
      "cell_type": "markdown",
      "metadata": {
        "id": "Y-Bx__9eEUrv"
      },
      "source": [
        "# **Introducción:**\n",
        "\n",
        "En el contexto del curso ''**Inteligencia Computacional**'', se presentará a continuación el desarrollo de la ''**Tarea 2**'' del curso. Esta tarea pretende implementar un **Clasificador SVM**  para distinguir entre rayos gamma primarios v/s hadrones, programando en lenguaje ''**Python**'' y utlizando sus librerías (pandas, numpy, matplotlib y **scikit-learn**).\n",
        "\n",
        "A continuación se explica a grandes razgos lo que se realizara en en la tarea: En la parte 1 se implementará un código para leer el dataset. Luego, en la parte 2 se re-muestreará el dataset en un conjunto de 3000 ejemplos de clase positiva y 3000 ejemplos de clase negativa. En la parte 3, se dividirá el conjunto en 3 partes; conjunto de entrenamiento, conjunto de validación y conjunto de prueba, verificando que las proporciones de clases se mantengan respecto del conjunto original.\n",
        "\n",
        "A partir de la parte 4, se empieza a trabajar con la libreria **scikit-learn**, en donde se entrena **StandardScaler** usando las características del conjunto de entrenamiento para poder normalizar al conjunto de validación y de prueba. En la parte 5 se Entrenar un clasificador SVM lineal, para luego en la parte 6 evaluar sobre el conjunto de validación y generar la matriz de confusión.\n",
        "\n",
        "En la parte 7 y 8 se generan las curvas ROC y precisión-recall junto con sus respectivas metricas de desempeño.\n",
        "\n",
        "En la parte 9 y 10 se repetiran los pasos 5, 6, 7 y 8 para el caso de clasificadores SVM con kernel polinominal y RBF respectivamente. \n",
        "\n",
        "Posteriomente, en la parte 11, se Evaluará el mejor clasificador obtenido sobre el conjunto de prueba, reportando las métricas indicadas \n",
        "en las partes 6, 7 y 8. \n",
        "\n",
        "Finalmente, se termina el documento con las conclusiones principales de esta experiencia."
      ]
    },
    {
      "cell_type": "markdown",
      "metadata": {
        "id": "fHLhGgVZEr7O"
      },
      "source": [
        "# **Desarrollo:**"
      ]
    },
    {
      "cell_type": "code",
      "metadata": {
        "id": "kKR6KirraQcx"
      },
      "source": [
        "#Importando librerias:\n",
        "#import cv2\n",
        "import numpy as np\n",
        "from matplotlib import pyplot as plt\n",
        "import pandas as pd\n",
        "#import seaborn as sb\n",
        "\n",
        "#Libreria sklearn:\n",
        "from sklearn.preprocessing import StandardScaler\n",
        "from sklearn import svm\n",
        "from sklearn.model_selection import GridSearchCV\n",
        "from sklearn import metrics\n",
        "confuns\n",
        "from sklearn.metrics import precision_recall_curve\n",
        "from sklearn.metrics import average_precision_score"
      ],
      "execution_count": null,
      "outputs": []
    },
    {
      "cell_type": "markdown",
      "metadata": {
        "id": "Nnx5m9locvVl"
      },
      "source": [
        "**1)** Implementar un código que lea el dataset, usando pandas:"
      ]
    },
    {
      "cell_type": "code",
      "metadata": {
        "colab": {
          "base_uri": "https://localhost:8080/",
          "height": 952
        },
        "id": "ZRfkSUuAcXMN",
        "outputId": "c8d2ceba-6486-463c-ee75-9659ec368399"
      },
      "source": [
        "#Se define la ubicación de los datos:\n",
        "path = 'magic04.data'  #Para la revisión solo cambiar la dirección del path\n",
        "#path='magic04.data'\n",
        "#Lectura de datos sin cabecera:\n",
        "datos=pd.read_csv(path,header=None)\n",
        "print(\"Datos sin cabecera\")\n",
        "print(datos)\n",
        "#Se agrega nombre a las columnas de las features:\n",
        "datos.set_axis(['fLength', 'fwidth', 'fSize', 'fConc','fconc1','fAsym','fM3Long','fM3Trans','fAlpha','fDist','class'], axis=1, inplace=True)\n",
        "#Se muestran los datos con cabecera:\n",
        "print(\"Datos con cabecera\")\n",
        "print(datos)\n",
        "#Verficiando dimensión de los datos y sus tipos:\n",
        "print(\"Dimensión y tipos\")\n",
        "print(len(datos))\n",
        "print(datos.dtypes)\n",
        "#Primeros elementos del DataFrame:\n",
        "datos.head()"
      ],
      "execution_count": null,
      "outputs": [
        {
          "output_type": "stream",
          "text": [
            "Datos sin cabecera\n",
            "             0         1       2       3   ...       7        8         9   10\n",
            "0       28.7967   16.0021  2.6449  0.3918  ...  -8.2027  40.0920   81.8828   g\n",
            "1       31.6036   11.7235  2.5185  0.5303  ...  -9.9574   6.3609  205.2610   g\n",
            "2      162.0520  136.0310  4.0612  0.0374  ... -45.2160  76.9600  256.7880   g\n",
            "3       23.8172    9.5728  2.3385  0.6147  ...  -7.1513  10.4490  116.7370   g\n",
            "4       75.1362   30.9205  3.1611  0.3168  ...  21.8393   4.6480  356.4620   g\n",
            "...         ...       ...     ...     ...  ...      ...      ...       ...  ..\n",
            "19015   21.3846   10.9170  2.6161  0.5857  ...   2.8766   2.4229  106.8258   h\n",
            "19016   28.9452    6.7020  2.2672  0.5351  ...  -2.9632  86.7975  247.4560   h\n",
            "19017   75.4455   47.5305  3.4483  0.1417  ...  -9.4662  30.2987  256.5166   h\n",
            "19018  120.5135   76.9018  3.9939  0.0944  ... -63.8389  84.6874  408.3166   h\n",
            "19019  187.1814   53.0014  3.2093  0.2876  ...  31.4755  52.7310  272.3174   h\n",
            "\n",
            "[19020 rows x 11 columns]\n",
            "Datos con cabecera\n",
            "        fLength    fwidth   fSize   fConc  ...  fM3Trans   fAlpha     fDist  class\n",
            "0       28.7967   16.0021  2.6449  0.3918  ...   -8.2027  40.0920   81.8828      g\n",
            "1       31.6036   11.7235  2.5185  0.5303  ...   -9.9574   6.3609  205.2610      g\n",
            "2      162.0520  136.0310  4.0612  0.0374  ...  -45.2160  76.9600  256.7880      g\n",
            "3       23.8172    9.5728  2.3385  0.6147  ...   -7.1513  10.4490  116.7370      g\n",
            "4       75.1362   30.9205  3.1611  0.3168  ...   21.8393   4.6480  356.4620      g\n",
            "...         ...       ...     ...     ...  ...       ...      ...       ...    ...\n",
            "19015   21.3846   10.9170  2.6161  0.5857  ...    2.8766   2.4229  106.8258      h\n",
            "19016   28.9452    6.7020  2.2672  0.5351  ...   -2.9632  86.7975  247.4560      h\n",
            "19017   75.4455   47.5305  3.4483  0.1417  ...   -9.4662  30.2987  256.5166      h\n",
            "19018  120.5135   76.9018  3.9939  0.0944  ...  -63.8389  84.6874  408.3166      h\n",
            "19019  187.1814   53.0014  3.2093  0.2876  ...   31.4755  52.7310  272.3174      h\n",
            "\n",
            "[19020 rows x 11 columns]\n",
            "Dimensión y tipos\n",
            "19020\n",
            "fLength     float64\n",
            "fwidth      float64\n",
            "fSize       float64\n",
            "fConc       float64\n",
            "fconc1      float64\n",
            "fAsym       float64\n",
            "fM3Long     float64\n",
            "fM3Trans    float64\n",
            "fAlpha      float64\n",
            "fDist       float64\n",
            "class        object\n",
            "dtype: object\n"
          ],
          "name": "stdout"
        },
        {
          "output_type": "execute_result",
          "data": {
            "text/html": [
              "<div>\n",
              "<style scoped>\n",
              "    .dataframe tbody tr th:only-of-type {\n",
              "        vertical-align: middle;\n",
              "    }\n",
              "\n",
              "    .dataframe tbody tr th {\n",
              "        vertical-align: top;\n",
              "    }\n",
              "\n",
              "    .dataframe thead th {\n",
              "        text-align: right;\n",
              "    }\n",
              "</style>\n",
              "<table border=\"1\" class=\"dataframe\">\n",
              "  <thead>\n",
              "    <tr style=\"text-align: right;\">\n",
              "      <th></th>\n",
              "      <th>fLength</th>\n",
              "      <th>fwidth</th>\n",
              "      <th>fSize</th>\n",
              "      <th>fConc</th>\n",
              "      <th>fconc1</th>\n",
              "      <th>fAsym</th>\n",
              "      <th>fM3Long</th>\n",
              "      <th>fM3Trans</th>\n",
              "      <th>fAlpha</th>\n",
              "      <th>fDist</th>\n",
              "      <th>class</th>\n",
              "    </tr>\n",
              "  </thead>\n",
              "  <tbody>\n",
              "    <tr>\n",
              "      <th>0</th>\n",
              "      <td>28.7967</td>\n",
              "      <td>16.0021</td>\n",
              "      <td>2.6449</td>\n",
              "      <td>0.3918</td>\n",
              "      <td>0.1982</td>\n",
              "      <td>27.7004</td>\n",
              "      <td>22.0110</td>\n",
              "      <td>-8.2027</td>\n",
              "      <td>40.0920</td>\n",
              "      <td>81.8828</td>\n",
              "      <td>g</td>\n",
              "    </tr>\n",
              "    <tr>\n",
              "      <th>1</th>\n",
              "      <td>31.6036</td>\n",
              "      <td>11.7235</td>\n",
              "      <td>2.5185</td>\n",
              "      <td>0.5303</td>\n",
              "      <td>0.3773</td>\n",
              "      <td>26.2722</td>\n",
              "      <td>23.8238</td>\n",
              "      <td>-9.9574</td>\n",
              "      <td>6.3609</td>\n",
              "      <td>205.2610</td>\n",
              "      <td>g</td>\n",
              "    </tr>\n",
              "    <tr>\n",
              "      <th>2</th>\n",
              "      <td>162.0520</td>\n",
              "      <td>136.0310</td>\n",
              "      <td>4.0612</td>\n",
              "      <td>0.0374</td>\n",
              "      <td>0.0187</td>\n",
              "      <td>116.7410</td>\n",
              "      <td>-64.8580</td>\n",
              "      <td>-45.2160</td>\n",
              "      <td>76.9600</td>\n",
              "      <td>256.7880</td>\n",
              "      <td>g</td>\n",
              "    </tr>\n",
              "    <tr>\n",
              "      <th>3</th>\n",
              "      <td>23.8172</td>\n",
              "      <td>9.5728</td>\n",
              "      <td>2.3385</td>\n",
              "      <td>0.6147</td>\n",
              "      <td>0.3922</td>\n",
              "      <td>27.2107</td>\n",
              "      <td>-6.4633</td>\n",
              "      <td>-7.1513</td>\n",
              "      <td>10.4490</td>\n",
              "      <td>116.7370</td>\n",
              "      <td>g</td>\n",
              "    </tr>\n",
              "    <tr>\n",
              "      <th>4</th>\n",
              "      <td>75.1362</td>\n",
              "      <td>30.9205</td>\n",
              "      <td>3.1611</td>\n",
              "      <td>0.3168</td>\n",
              "      <td>0.1832</td>\n",
              "      <td>-5.5277</td>\n",
              "      <td>28.5525</td>\n",
              "      <td>21.8393</td>\n",
              "      <td>4.6480</td>\n",
              "      <td>356.4620</td>\n",
              "      <td>g</td>\n",
              "    </tr>\n",
              "  </tbody>\n",
              "</table>\n",
              "</div>"
            ],
            "text/plain": [
              "    fLength    fwidth   fSize   fConc  ...  fM3Trans   fAlpha     fDist  class\n",
              "0   28.7967   16.0021  2.6449  0.3918  ...   -8.2027  40.0920   81.8828      g\n",
              "1   31.6036   11.7235  2.5185  0.5303  ...   -9.9574   6.3609  205.2610      g\n",
              "2  162.0520  136.0310  4.0612  0.0374  ...  -45.2160  76.9600  256.7880      g\n",
              "3   23.8172    9.5728  2.3385  0.6147  ...   -7.1513  10.4490  116.7370      g\n",
              "4   75.1362   30.9205  3.1611  0.3168  ...   21.8393   4.6480  356.4620      g\n",
              "\n",
              "[5 rows x 11 columns]"
            ]
          },
          "metadata": {
            "tags": []
          },
          "execution_count": 3
        }
      ]
    },
    {
      "cell_type": "markdown",
      "metadata": {
        "id": "6PG6FNmedTO0"
      },
      "source": [
        "**2)** Re-muestrear el dataset usando pandas, de modo que contenga 3.000 ejemplos de la clase positiva, \n",
        "y 3.000 ejemplos de la clase negativa:"
      ]
    },
    {
      "cell_type": "code",
      "metadata": {
        "colab": {
          "base_uri": "https://localhost:8080/"
        },
        "id": "TW7qHTnpMx22",
        "outputId": "e5efa522-5ce7-412d-983c-9ab6d5b9b68c"
      },
      "source": [
        "  #Extracción de las clases del conjunto original:\n",
        "  datosg=datos.loc[datos[\"class\"]==\"g\"].reset_index(drop=True)\n",
        "  datosh=datos.loc[datos[\"class\"]==\"h\"].reset_index(drop=True)\n",
        "  print(\"Datos Extraidos\")\n",
        "  print(\"datosg\")\n",
        "  print(datosg)\n",
        "  print(\"datosh\")\n",
        "  print(datosh)\n",
        "  #Desordenamos cada conjunto:\n",
        "  datosg=datosg.iloc[np.random.permutation(datosg.index)].reset_index(drop=True)\n",
        "  datosh=datosh.iloc[np.random.permutation(datosh.index)].reset_index(drop=True)\n",
        "  print(\"Datos Extraidos Permutados\")\n",
        "  print(\"datosg\")\n",
        "  print(datosg)\n",
        "  print(\"datosh\")\n",
        "  print(datosh)\n"
      ],
      "execution_count": null,
      "outputs": [
        {
          "output_type": "stream",
          "text": [
            "Datos Extraidos\n",
            "datosg\n",
            "        fLength    fwidth   fSize   fConc  ...  fM3Trans   fAlpha     fDist  class\n",
            "0       28.7967   16.0021  2.6449  0.3918  ...   -8.2027  40.0920   81.8828      g\n",
            "1       31.6036   11.7235  2.5185  0.5303  ...   -9.9574   6.3609  205.2610      g\n",
            "2      162.0520  136.0310  4.0612  0.0374  ...  -45.2160  76.9600  256.7880      g\n",
            "3       23.8172    9.5728  2.3385  0.6147  ...   -7.1513  10.4490  116.7370      g\n",
            "4       75.1362   30.9205  3.1611  0.3168  ...   21.8393   4.6480  356.4620      g\n",
            "...         ...       ...     ...     ...  ...       ...      ...       ...    ...\n",
            "12327   12.8703   11.4444  2.3811  0.7360  ...   11.6208  21.0120  204.0370      g\n",
            "12328   26.8595   20.5946  2.8754  0.3438  ...   -9.0535   3.9848  205.4980      g\n",
            "12329   22.0913   10.8949  2.2945  0.5381  ...    7.3975  21.0680  123.2810      g\n",
            "12330   56.2216   18.7019  2.9297  0.2516  ...   11.3764   5.9110  197.2090      g\n",
            "12331   31.5125   19.2867  2.9578  0.2975  ...  -12.0726  17.5809  171.2270      g\n",
            "\n",
            "[12332 rows x 11 columns]\n",
            "datosh\n",
            "       fLength   fwidth   fSize   fConc  ...  fM3Trans   fAlpha     fDist  class\n",
            "0      93.7035  37.9432  3.1454  0.1680  ...   11.8175  14.1224  231.9028      h\n",
            "1     102.0005  22.0017  3.3161  0.1064  ...  -15.0647  88.4636  274.9392      h\n",
            "2     100.2775  21.8784  3.1100  0.3120  ...   -9.6341  20.7848  346.4330      h\n",
            "3      91.6558  18.8293  2.7097  0.4386  ...  -17.0955  63.8834  130.7998      h\n",
            "4      38.0195  12.6736  2.8747  0.4084  ...    7.9620  24.5402  163.8674      h\n",
            "...        ...      ...     ...     ...  ...       ...      ...       ...    ...\n",
            "6683   21.3846  10.9170  2.6161  0.5857  ...    2.8766   2.4229  106.8258      h\n",
            "6684   28.9452   6.7020  2.2672  0.5351  ...   -2.9632  86.7975  247.4560      h\n",
            "6685   75.4455  47.5305  3.4483  0.1417  ...   -9.4662  30.2987  256.5166      h\n",
            "6686  120.5135  76.9018  3.9939  0.0944  ...  -63.8389  84.6874  408.3166      h\n",
            "6687  187.1814  53.0014  3.2093  0.2876  ...   31.4755  52.7310  272.3174      h\n",
            "\n",
            "[6688 rows x 11 columns]\n",
            "Datos Extraidos Permutados\n",
            "datosg\n",
            "        fLength   fwidth   fSize   fConc  ...  fM3Trans   fAlpha    fDist  class\n",
            "0       30.7967  21.2847  2.7135  0.3288  ...  -10.6740  18.6544  136.253      g\n",
            "1       26.8582  11.8539  2.5079  0.4161  ...   10.5278  17.6770  154.531      g\n",
            "2      107.9800  38.8773  3.8841  0.1138  ...   27.3765   0.8130  275.562      g\n",
            "3       51.6411  23.1357  3.3334  0.2176  ...  -10.7424   0.3140  235.535      g\n",
            "4       26.8933  10.1789  2.3829  0.5052  ...   -5.5168  11.6582  136.793      g\n",
            "...         ...      ...     ...     ...  ...       ...      ...      ...    ...\n",
            "12327   28.3396   6.8049  2.2175  0.5636  ...    1.7177  35.7150  138.106      g\n",
            "12328   75.5264  37.4053  3.2695  0.1446  ...  -18.0208   6.1980  191.936      g\n",
            "12329   67.6011  25.9772  3.0962  0.2941  ...   11.2731   1.3700  326.562      g\n",
            "12330   22.1635  15.3738  2.5514  0.4382  ...   -4.5724  26.5822  110.607      g\n",
            "12331   41.2629  20.9786  3.1361  0.2807  ...   12.7150   7.6147  219.077      g\n",
            "\n",
            "[12332 rows x 11 columns]\n",
            "datosh\n",
            "       fLength    fwidth   fSize   fConc  ...  fM3Trans   fAlpha     fDist  class\n",
            "0      31.5154    8.4687  2.7780  0.5424  ...  -11.2787  14.3231  240.2221      h\n",
            "1     127.7040  101.0160  3.6960  0.1625  ...   59.1181  50.4247  367.0820      h\n",
            "2      38.6665   26.0742  3.1864  0.2135  ...   19.0948   5.6355  110.1450      h\n",
            "3      41.8730   11.8226  2.6465  0.4711  ...   -7.1176  76.8503  234.0699      h\n",
            "4     290.9274   63.2814  3.8407  0.1196  ...   42.2985  43.2185  220.5279      h\n",
            "...        ...       ...     ...     ...  ...       ...      ...       ...    ...\n",
            "6683   25.4719   20.6789  2.1683  0.5356  ...   -9.6268  85.9595  158.3338      h\n",
            "6684   15.6821   10.5755  2.4572  0.5267  ...   -3.6389  40.8695  260.4657      h\n",
            "6685  146.4313   42.5271  3.4172  0.1991  ...   35.4950  65.3512  280.7068      h\n",
            "6686  105.4590   45.7602  3.0218  0.1940  ...   34.5833   5.9458  257.3760      h\n",
            "6687   36.3453   11.6641  2.7210  0.4125  ...   -6.7210  58.1600  234.2930      h\n",
            "\n",
            "[6688 rows x 11 columns]\n"
          ],
          "name": "stdout"
        }
      ]
    },
    {
      "cell_type": "code",
      "metadata": {
        "colab": {
          "base_uri": "https://localhost:8080/"
        },
        "id": "iZSH10ktZrX4",
        "outputId": "42c7a0b7-0284-4a37-fc01-16c49e1876b4"
      },
      "source": [
        "#Extraemos 3000 clase g y clase h:\n",
        "datosg=datosg.iloc[0:3000,:].reset_index(drop=True)\n",
        "datosh=datosh.iloc[0:3000,:].reset_index(drop=True)\n",
        "print(\"Datos Re-muestreados Separados\")\n",
        "print(\"datosg\")\n",
        "print(datosg)\n",
        "print(\"datosh\")\n",
        "print(datosh)\n",
        "\n",
        "#En esta matriz almacenaremos el conjunto, comenzamos por definirlo como datosh:\n",
        "datosF=datosh\n",
        "#Agregamos datosg a datosF:\n",
        "for i in range(len(datosg)):\n",
        "  datosF.loc[len(datosF)+i]=datosg.loc[i]\n",
        "#Reset de indices:\n",
        "datosF=datosF.reset_index(drop=True)\n",
        "print(\"conjunto de datos con el que se trabajará\")\n",
        "print(datosF)"
      ],
      "execution_count": null,
      "outputs": [
        {
          "output_type": "stream",
          "text": [
            "Datos Re-muestreados Separados\n",
            "datosg\n",
            "       fLength   fwidth   fSize   fConc  ...  fM3Trans   fAlpha    fDist  class\n",
            "0      30.7967  21.2847  2.7135  0.3288  ...  -10.6740  18.6544  136.253      g\n",
            "1      26.8582  11.8539  2.5079  0.4161  ...   10.5278  17.6770  154.531      g\n",
            "2     107.9800  38.8773  3.8841  0.1138  ...   27.3765   0.8130  275.562      g\n",
            "3      51.6411  23.1357  3.3334  0.2176  ...  -10.7424   0.3140  235.535      g\n",
            "4      26.8933  10.1789  2.3829  0.5052  ...   -5.5168  11.6582  136.793      g\n",
            "...        ...      ...     ...     ...  ...       ...      ...      ...    ...\n",
            "2995   65.1513  29.9163  3.1392  0.2438  ...  -19.0741  17.7720  323.143      g\n",
            "2996   33.8469  13.0364  2.4065  0.4353  ...    7.3487   8.7272  235.852      g\n",
            "2997   29.8866  18.9200  2.7664  0.2945  ...   -4.8501  19.5579  177.893      g\n",
            "2998   27.7069   9.7056  2.4023  0.4792  ...   -6.6979  32.8160  154.342      g\n",
            "2999   23.9080  21.7195  2.8932  0.3402  ...   12.4132  18.5960  115.998      g\n",
            "\n",
            "[3000 rows x 11 columns]\n",
            "datosh\n",
            "       fLength    fwidth   fSize   fConc  ...  fM3Trans   fAlpha     fDist  class\n",
            "0      31.5154    8.4687  2.7780  0.5424  ...  -11.2787  14.3231  240.2221      h\n",
            "1     127.7040  101.0160  3.6960  0.1625  ...   59.1181  50.4247  367.0820      h\n",
            "2      38.6665   26.0742  3.1864  0.2135  ...   19.0948   5.6355  110.1450      h\n",
            "3      41.8730   11.8226  2.6465  0.4711  ...   -7.1176  76.8503  234.0699      h\n",
            "4     290.9274   63.2814  3.8407  0.1196  ...   42.2985  43.2185  220.5279      h\n",
            "...        ...       ...     ...     ...  ...       ...      ...       ...    ...\n",
            "2995   28.2374   16.2718  2.3720  0.4416  ...  -11.7319  40.3891  172.7860      h\n",
            "2996   30.9720   16.6823  2.6561  0.4150  ...   13.0838  53.4668  139.9475      h\n",
            "2997   30.5640   19.5691  2.6875  0.3696  ...   14.7830  26.5320  216.3150      h\n",
            "2998   94.1210   17.1116  3.2054  0.2423  ...   17.7171   3.8489  174.0073      h\n",
            "2999   75.4455   47.5305  3.4483  0.1417  ...   -9.4662  30.2987  256.5166      h\n",
            "\n",
            "[3000 rows x 11 columns]\n",
            "conjunto de datos con el que se trabajará\n",
            "       fLength    fwidth   fSize   fConc  ...  fM3Trans   fAlpha     fDist  class\n",
            "0      31.5154    8.4687  2.7780  0.5424  ...  -11.2787  14.3231  240.2221      h\n",
            "1     127.7040  101.0160  3.6960  0.1625  ...   59.1181  50.4247  367.0820      h\n",
            "2      38.6665   26.0742  3.1864  0.2135  ...   19.0948   5.6355  110.1450      h\n",
            "3      41.8730   11.8226  2.6465  0.4711  ...   -7.1176  76.8503  234.0699      h\n",
            "4     290.9274   63.2814  3.8407  0.1196  ...   42.2985  43.2185  220.5279      h\n",
            "...        ...       ...     ...     ...  ...       ...      ...       ...    ...\n",
            "5995   65.1513   29.9163  3.1392  0.2438  ...  -19.0741  17.7720  323.1430      g\n",
            "5996   33.8469   13.0364  2.4065  0.4353  ...    7.3487   8.7272  235.8520      g\n",
            "5997   29.8866   18.9200  2.7664  0.2945  ...   -4.8501  19.5579  177.8930      g\n",
            "5998   27.7069    9.7056  2.4023  0.4792  ...   -6.6979  32.8160  154.3420      g\n",
            "5999   23.9080   21.7195  2.8932  0.3402  ...   12.4132  18.5960  115.9980      g\n",
            "\n",
            "[6000 rows x 11 columns]\n"
          ],
          "name": "stdout"
        }
      ]
    },
    {
      "cell_type": "markdown",
      "metadata": {
        "id": "V2-duiabg6Yp"
      },
      "source": [
        "**3)** Dividir la base de datos en 3 conjuntos representativos: entrenamiento (60%), validación (20%) y \n",
        "prueba (20%). Compruebe la representatividad de éstos, verificando si la proporción de cada clase \n",
        "se mantiene cercana a la proporción del conjunto completo:\n"
      ]
    },
    {
      "cell_type": "code",
      "metadata": {
        "id": "yZLhoobXjC6B",
        "colab": {
          "base_uri": "https://localhost:8080/"
        },
        "outputId": "d179500b-7828-4b5d-8b50-53d6bb29144d"
      },
      "source": [
        "#Desordenamos datosF para no generar datos sesgados:\n",
        "datosF=datosF.iloc[np.random.permutation(datosF.index)].reset_index(drop=True)\n",
        "print(\"datosF\")\n",
        "print(datosF)\n",
        "#Creamos 3 DataFrame's conjuntos:\n",
        "entrenamiento =pd.DataFrame(columns=['fLength', 'fwidth', 'fSize', 'fConc','fconc1','fAsym','fM3Long','fM3Trans','fAlpha','fDist','class'])\n",
        "validacion=pd.DataFrame(columns=['fLength', 'fwidth', 'fSize', 'fConc','fconc1','fAsym','fM3Long','fM3Trans','fAlpha','fDist','class']) \n",
        "prueba=pd.DataFrame(columns=['fLength', 'fwidth', 'fSize', 'fConc','fconc1','fAsym','fM3Long','fM3Trans','fAlpha','fDist','class'])     "
      ],
      "execution_count": null,
      "outputs": [
        {
          "output_type": "stream",
          "text": [
            "datosF\n",
            "      fLength   fwidth   fSize   fConc  ...  fM3Trans   fAlpha     fDist  class\n",
            "0     52.1790   6.0128  3.0017  0.3246  ...    5.4896  89.1295  182.6925      h\n",
            "1     30.6744  15.2889  2.7775  0.4846  ...   -8.8896  27.3278   65.2747      h\n",
            "2     84.9403  33.2071  3.5457  0.1307  ...   30.8090   4.5847  172.0970      g\n",
            "3     38.2386  15.0661  2.7443  0.2919  ...   12.2243   1.6390  211.5020      g\n",
            "4     46.5070  11.2989  2.3847  0.5526  ...    8.4745  13.3338  105.4530      g\n",
            "...       ...      ...     ...     ...  ...       ...      ...       ...    ...\n",
            "5995  20.7559  10.7539  2.3139  0.5825  ...    8.4671  68.2680  138.3230      h\n",
            "5996  61.2087  14.9003  2.8794  0.4739  ...   14.3684  54.4350  147.3620      h\n",
            "5997  51.6966  15.9900  2.5224  0.3213  ...   -8.1007  11.3396  137.9050      g\n",
            "5998  32.1865  15.0783  2.6675  0.4817  ...   10.1242   8.7970    5.6998      h\n",
            "5999  80.7093  47.2876  3.5386  0.1276  ...  -25.3392  30.7630  280.7670      g\n",
            "\n",
            "[6000 rows x 11 columns]\n"
          ],
          "name": "stdout"
        }
      ]
    },
    {
      "cell_type": "code",
      "metadata": {
        "colab": {
          "base_uri": "https://localhost:8080/"
        },
        "id": "RtS3RtqyKog-",
        "outputId": "7af06b45-b5b4-4697-e41d-475aac1dc6aa"
      },
      "source": [
        "#Rellenamos los DataFrame's:\n",
        "entrenamiento=datosF.iloc[0:3000,:].reset_index(drop=True)\n",
        "validacion=datosF.iloc[3000:4000,:].reset_index(drop=True)\n",
        "prueba=datosF.iloc[4000:,:].reset_index(drop=True)\n",
        "\n",
        "#Conteo de elementos g y h para verificar proporción:\n",
        "Centrenamiento=entrenamiento['class'].value_counts()\n",
        "Cvalidacion=validacion['class'].value_counts()\n",
        "Cprueba=prueba['class'].value_counts()\n",
        "print(\"Proporcion g/h debe ser aprox 1\")\n",
        "print(\"entrenamiento\")\n",
        "print(entrenamiento)\n",
        "print(\"Proporcion g/h:\"+\" \"+str(Centrenamiento['g']/Centrenamiento['h']))\n",
        "print(\"validacion\")\n",
        "print(validacion)\n",
        "print(\"Proporcion g/h:\"+\" \"+str(Cvalidacion['g']/Cvalidacion['h']))\n",
        "print(\"prueba\")\n",
        "print(prueba)\n",
        "print(\"Proporcion g/h:\"+\" \"+str(Cprueba['g']/Cprueba['h']))"
      ],
      "execution_count": null,
      "outputs": [
        {
          "output_type": "stream",
          "text": [
            "Proporcion g/h debe ser aprox 1\n",
            "entrenamiento\n",
            "      fLength   fwidth   fSize   fConc  ...  fM3Trans   fAlpha     fDist  class\n",
            "0     52.1790   6.0128  3.0017  0.3246  ...    5.4896  89.1295  182.6925      h\n",
            "1     30.6744  15.2889  2.7775  0.4846  ...   -8.8896  27.3278   65.2747      h\n",
            "2     84.9403  33.2071  3.5457  0.1307  ...   30.8090   4.5847  172.0970      g\n",
            "3     38.2386  15.0661  2.7443  0.2919  ...   12.2243   1.6390  211.5020      g\n",
            "4     46.5070  11.2989  2.3847  0.5526  ...    8.4745  13.3338  105.4530      g\n",
            "...       ...      ...     ...     ...  ...       ...      ...       ...    ...\n",
            "2995  96.0320  39.9332  3.0166  0.3118  ...  -32.1138  69.8492  264.6740      h\n",
            "2996  24.2132   9.5469  2.5270  0.5527  ...    6.2053  72.5221  197.4810      h\n",
            "2997  77.6804  42.2710  3.4374  0.2429  ...  -34.9058  51.5904  342.7220      h\n",
            "2998  82.9946  23.8627  3.1989  0.2258  ...   17.4201   2.9285  325.0760      g\n",
            "2999  27.8065  11.0411  2.5658  0.4620  ...    8.0266   9.2000  177.6200      g\n",
            "\n",
            "[3000 rows x 11 columns]\n",
            "Proporcion g/h: 1.051983584131327\n",
            "validacion\n",
            "      fLength   fwidth   fSize   fConc  ...  fM3Trans   fAlpha     fDist  class\n",
            "0     91.1228  32.0506  3.6607  0.2320  ...  -20.3967   1.1330  365.2890      g\n",
            "1     30.0622  10.7943  2.6096  0.4275  ...    8.0645  45.7507  211.1500      h\n",
            "2     48.0266  17.5822  2.4855  0.4308  ...   -4.1124  59.1356  141.9130      h\n",
            "3     68.4217  19.7064  2.7566  0.3748  ...  -10.8613  13.5339  286.5220      g\n",
            "4     22.0750   0.0028  2.0917  0.7449  ...    0.0001   8.8970  167.9930      g\n",
            "..        ...      ...     ...     ...  ...       ...      ...       ...    ...\n",
            "995   20.2874   9.2749  2.2227  0.6168  ...   -2.5528  11.8040  214.6970      g\n",
            "996   28.6893  19.4822  2.6340  0.2811  ...   16.0918  43.7063   91.0879      g\n",
            "997   27.0994  10.6958  2.4969  0.4841  ...    7.4016   1.5977  145.4240      g\n",
            "998   30.8779  10.6009  2.3493  0.4877  ...    4.8418  40.5255  143.2270      g\n",
            "999  184.7689  63.0994  3.4360  0.1205  ...   53.8718  68.6399  258.5003      h\n",
            "\n",
            "[1000 rows x 11 columns]\n",
            "Proporcion g/h: 0.9267822736030829\n",
            "prueba\n",
            "       fLength    fwidth   fSize   fConc  ...  fM3Trans   fAlpha     fDist  class\n",
            "0     138.7728  103.1938  3.7465  0.1216  ...   58.5837   7.0801  199.3698      h\n",
            "1      17.4792    7.4648  2.2418  0.7794  ...    4.3031  58.5483  201.8400      h\n",
            "2      29.3437   12.5750  2.4942  0.5032  ...   -4.1189  32.1435  239.4870      h\n",
            "3      22.6484   19.5177  2.6826  0.4216  ...   11.6044  82.4452  130.1130      g\n",
            "4      92.3969   32.0819  3.6056  0.2118  ...  -20.5296   2.9756  340.2600      g\n",
            "...        ...       ...     ...     ...  ...       ...      ...       ...    ...\n",
            "1995   20.7559   10.7539  2.3139  0.5825  ...    8.4671  68.2680  138.3230      h\n",
            "1996   61.2087   14.9003  2.8794  0.4739  ...   14.3684  54.4350  147.3620      h\n",
            "1997   51.6966   15.9900  2.5224  0.3213  ...   -8.1007  11.3396  137.9050      g\n",
            "1998   32.1865   15.0783  2.6675  0.4817  ...   10.1242   8.7970    5.6998      h\n",
            "1999   80.7093   47.2876  3.5386  0.1276  ...  -25.3392  30.7630  280.7670      g\n",
            "\n",
            "[2000 rows x 11 columns]\n",
            "Proporcion g/h: 0.9627085377821394\n"
          ],
          "name": "stdout"
        }
      ]
    },
    {
      "cell_type": "markdown",
      "metadata": {
        "id": "zt31ibDJg7xS"
      },
      "source": [
        "**4)** Entrene un StandardScaler usando las características del conjunto de entrenamiento para poder \n",
        "normalizar las características. Luego, aplíquelo a las características del conjunto de entrenamiento, \n",
        "validación y prueba:\n"
      ]
    },
    {
      "cell_type": "code",
      "metadata": {
        "colab": {
          "base_uri": "https://localhost:8080/"
        },
        "id": "FVIKIDSk5N2y",
        "outputId": "021c21f6-d487-4c8d-9f19-73c7bb6c6518"
      },
      "source": [
        "#Entrenamiento de StandardScaler:\n",
        "scaler = StandardScaler().fit(entrenamiento[['fLength', 'fwidth', 'fSize', 'fConc','fconc1','fAsym','fM3Long','fM3Trans','fAlpha','fDist']])\n",
        "\n",
        "#Matriz de entrenamiento escalada:\n",
        "print(scaler.transform(entrenamiento[['fLength', 'fwidth', 'fSize', 'fConc','fconc1','fAsym','fM3Long','fM3Trans','fAlpha','fDist']]))"
      ],
      "execution_count": null,
      "outputs": [
        {
          "output_type": "stream",
          "text": [
            "[[-0.1389051  -0.87924981  0.29005293 ...  0.22840697  2.20650336\n",
            "  -0.20174793]\n",
            " [-0.5877377  -0.43098221 -0.17533046 ... -0.38967511 -0.11325401\n",
            "  -1.73140212]\n",
            " [ 0.54487138  0.43491495  1.41926151 ...  1.31674758 -0.96692751\n",
            "  -0.33978025]\n",
            " ...\n",
            " [ 0.3933466   0.87292798  1.19445767 ... -1.5079673   0.79745468\n",
            "   1.88302793]\n",
            " [ 0.50426176 -0.01665326  0.69939104 ...  0.74123301 -1.0290938\n",
            "   1.6531456 ]\n",
            " [-0.64759499 -0.63625717 -0.61476696 ...  0.33745853 -0.79368995\n",
            "  -0.26782966]]\n"
          ],
          "name": "stdout"
        }
      ]
    },
    {
      "cell_type": "code",
      "metadata": {
        "id": "d5n3wAVXTm6D",
        "colab": {
          "base_uri": "https://localhost:8080/",
          "height": 419
        },
        "outputId": "924e18fc-2bab-442f-989f-f28ecefca849"
      },
      "source": [
        "entrenamiento"
      ],
      "execution_count": null,
      "outputs": [
        {
          "output_type": "execute_result",
          "data": {
            "text/html": [
              "<div>\n",
              "<style scoped>\n",
              "    .dataframe tbody tr th:only-of-type {\n",
              "        vertical-align: middle;\n",
              "    }\n",
              "\n",
              "    .dataframe tbody tr th {\n",
              "        vertical-align: top;\n",
              "    }\n",
              "\n",
              "    .dataframe thead th {\n",
              "        text-align: right;\n",
              "    }\n",
              "</style>\n",
              "<table border=\"1\" class=\"dataframe\">\n",
              "  <thead>\n",
              "    <tr style=\"text-align: right;\">\n",
              "      <th></th>\n",
              "      <th>fLength</th>\n",
              "      <th>fwidth</th>\n",
              "      <th>fSize</th>\n",
              "      <th>fConc</th>\n",
              "      <th>fconc1</th>\n",
              "      <th>fAsym</th>\n",
              "      <th>fM3Long</th>\n",
              "      <th>fM3Trans</th>\n",
              "      <th>fAlpha</th>\n",
              "      <th>fDist</th>\n",
              "      <th>class</th>\n",
              "    </tr>\n",
              "  </thead>\n",
              "  <tbody>\n",
              "    <tr>\n",
              "      <th>0</th>\n",
              "      <td>52.1790</td>\n",
              "      <td>6.0128</td>\n",
              "      <td>3.0017</td>\n",
              "      <td>0.3246</td>\n",
              "      <td>0.1490</td>\n",
              "      <td>-24.0190</td>\n",
              "      <td>-44.2395</td>\n",
              "      <td>5.4896</td>\n",
              "      <td>89.1295</td>\n",
              "      <td>182.6925</td>\n",
              "      <td>h</td>\n",
              "    </tr>\n",
              "    <tr>\n",
              "      <th>1</th>\n",
              "      <td>30.6744</td>\n",
              "      <td>15.2889</td>\n",
              "      <td>2.7775</td>\n",
              "      <td>0.4846</td>\n",
              "      <td>0.2627</td>\n",
              "      <td>23.4064</td>\n",
              "      <td>18.1141</td>\n",
              "      <td>-8.8896</td>\n",
              "      <td>27.3278</td>\n",
              "      <td>65.2747</td>\n",
              "      <td>h</td>\n",
              "    </tr>\n",
              "    <tr>\n",
              "      <th>2</th>\n",
              "      <td>84.9403</td>\n",
              "      <td>33.2071</td>\n",
              "      <td>3.5457</td>\n",
              "      <td>0.1307</td>\n",
              "      <td>0.0673</td>\n",
              "      <td>67.7193</td>\n",
              "      <td>74.3871</td>\n",
              "      <td>30.8090</td>\n",
              "      <td>4.5847</td>\n",
              "      <td>172.0970</td>\n",
              "      <td>g</td>\n",
              "    </tr>\n",
              "    <tr>\n",
              "      <th>3</th>\n",
              "      <td>38.2386</td>\n",
              "      <td>15.0661</td>\n",
              "      <td>2.7443</td>\n",
              "      <td>0.2919</td>\n",
              "      <td>0.1577</td>\n",
              "      <td>14.7864</td>\n",
              "      <td>-24.8104</td>\n",
              "      <td>12.2243</td>\n",
              "      <td>1.6390</td>\n",
              "      <td>211.5020</td>\n",
              "      <td>g</td>\n",
              "    </tr>\n",
              "    <tr>\n",
              "      <th>4</th>\n",
              "      <td>46.5070</td>\n",
              "      <td>11.2989</td>\n",
              "      <td>2.3847</td>\n",
              "      <td>0.5526</td>\n",
              "      <td>0.3691</td>\n",
              "      <td>28.1802</td>\n",
              "      <td>40.0369</td>\n",
              "      <td>8.4745</td>\n",
              "      <td>13.3338</td>\n",
              "      <td>105.4530</td>\n",
              "      <td>g</td>\n",
              "    </tr>\n",
              "    <tr>\n",
              "      <th>...</th>\n",
              "      <td>...</td>\n",
              "      <td>...</td>\n",
              "      <td>...</td>\n",
              "      <td>...</td>\n",
              "      <td>...</td>\n",
              "      <td>...</td>\n",
              "      <td>...</td>\n",
              "      <td>...</td>\n",
              "      <td>...</td>\n",
              "      <td>...</td>\n",
              "      <td>...</td>\n",
              "    </tr>\n",
              "    <tr>\n",
              "      <th>2995</th>\n",
              "      <td>96.0320</td>\n",
              "      <td>39.9332</td>\n",
              "      <td>3.0166</td>\n",
              "      <td>0.3118</td>\n",
              "      <td>0.1593</td>\n",
              "      <td>60.8547</td>\n",
              "      <td>97.0464</td>\n",
              "      <td>-32.1138</td>\n",
              "      <td>69.8492</td>\n",
              "      <td>264.6740</td>\n",
              "      <td>h</td>\n",
              "    </tr>\n",
              "    <tr>\n",
              "      <th>2996</th>\n",
              "      <td>24.2132</td>\n",
              "      <td>9.5469</td>\n",
              "      <td>2.5270</td>\n",
              "      <td>0.5527</td>\n",
              "      <td>0.3492</td>\n",
              "      <td>-10.0637</td>\n",
              "      <td>10.7815</td>\n",
              "      <td>6.2053</td>\n",
              "      <td>72.5221</td>\n",
              "      <td>197.4810</td>\n",
              "      <td>h</td>\n",
              "    </tr>\n",
              "    <tr>\n",
              "      <th>2997</th>\n",
              "      <td>77.6804</td>\n",
              "      <td>42.2710</td>\n",
              "      <td>3.4374</td>\n",
              "      <td>0.2429</td>\n",
              "      <td>0.1587</td>\n",
              "      <td>7.5600</td>\n",
              "      <td>62.9826</td>\n",
              "      <td>-34.9058</td>\n",
              "      <td>51.5904</td>\n",
              "      <td>342.7220</td>\n",
              "      <td>h</td>\n",
              "    </tr>\n",
              "    <tr>\n",
              "      <th>2998</th>\n",
              "      <td>82.9946</td>\n",
              "      <td>23.8627</td>\n",
              "      <td>3.1989</td>\n",
              "      <td>0.2258</td>\n",
              "      <td>0.1135</td>\n",
              "      <td>-5.5819</td>\n",
              "      <td>62.1140</td>\n",
              "      <td>17.4201</td>\n",
              "      <td>2.9285</td>\n",
              "      <td>325.0760</td>\n",
              "      <td>g</td>\n",
              "    </tr>\n",
              "    <tr>\n",
              "      <th>2999</th>\n",
              "      <td>27.8065</td>\n",
              "      <td>11.0411</td>\n",
              "      <td>2.5658</td>\n",
              "      <td>0.4620</td>\n",
              "      <td>0.2894</td>\n",
              "      <td>18.3687</td>\n",
              "      <td>-15.6257</td>\n",
              "      <td>8.0266</td>\n",
              "      <td>9.2000</td>\n",
              "      <td>177.6200</td>\n",
              "      <td>g</td>\n",
              "    </tr>\n",
              "  </tbody>\n",
              "</table>\n",
              "<p>3000 rows × 11 columns</p>\n",
              "</div>"
            ],
            "text/plain": [
              "      fLength   fwidth   fSize   fConc  ...  fM3Trans   fAlpha     fDist  class\n",
              "0     52.1790   6.0128  3.0017  0.3246  ...    5.4896  89.1295  182.6925      h\n",
              "1     30.6744  15.2889  2.7775  0.4846  ...   -8.8896  27.3278   65.2747      h\n",
              "2     84.9403  33.2071  3.5457  0.1307  ...   30.8090   4.5847  172.0970      g\n",
              "3     38.2386  15.0661  2.7443  0.2919  ...   12.2243   1.6390  211.5020      g\n",
              "4     46.5070  11.2989  2.3847  0.5526  ...    8.4745  13.3338  105.4530      g\n",
              "...       ...      ...     ...     ...  ...       ...      ...       ...    ...\n",
              "2995  96.0320  39.9332  3.0166  0.3118  ...  -32.1138  69.8492  264.6740      h\n",
              "2996  24.2132   9.5469  2.5270  0.5527  ...    6.2053  72.5221  197.4810      h\n",
              "2997  77.6804  42.2710  3.4374  0.2429  ...  -34.9058  51.5904  342.7220      h\n",
              "2998  82.9946  23.8627  3.1989  0.2258  ...   17.4201   2.9285  325.0760      g\n",
              "2999  27.8065  11.0411  2.5658  0.4620  ...    8.0266   9.2000  177.6200      g\n",
              "\n",
              "[3000 rows x 11 columns]"
            ]
          },
          "metadata": {
            "tags": []
          },
          "execution_count": 9
        }
      ]
    },
    {
      "cell_type": "code",
      "metadata": {
        "id": "aYNB8jqWIsPa"
      },
      "source": [
        "#De los DataFrame Entrenamiento, validacion y prueba, guardamos y eliminamos la columna 'class':\n",
        "\n",
        "#Guardar\n",
        "classentrenamiento=entrenamiento[\"class\"]\n",
        "classvalidacion=validacion[\"class\"]\n",
        "classprueba=prueba[\"class\"]\n",
        "#print(classentrenamiento)\n",
        "#print(classvalidacion)\n",
        "#print(classprueba)\n",
        "\n",
        "#Eliminar\n",
        "entrenamiento=entrenamiento.drop(['class'], axis=1)\n",
        "validacion=validacion.drop(['class'], axis=1)\n",
        "prueba=prueba.drop(['class'], axis=1)\n",
        "#print(entrenamiento)\n",
        "#print(validacion)\n",
        "#print(prueba)"
      ],
      "execution_count": null,
      "outputs": []
    },
    {
      "cell_type": "code",
      "metadata": {
        "colab": {
          "base_uri": "https://localhost:8080/"
        },
        "id": "2sHcVvA0742Q",
        "outputId": "2e80cf35-6e5e-4db7-f272-bebd82a14126"
      },
      "source": [
        "#Escalamiento:\n",
        "entrenamiento = pd.DataFrame(scaler.transform(entrenamiento))\n",
        "validacion = pd.DataFrame(scaler.transform(validacion))\n",
        "prueba = pd.DataFrame(scaler.transform(prueba))\n",
        "\n",
        "#Volvemos a insertar nombre de columnas, producto de que scaler entrega un array, perdiendose la información del nombre de las columnas:\n",
        "entrenamiento.set_axis(['fLength', 'fwidth', 'fSize', 'fConc','fconc1','fAsym','fM3Long','fM3Trans','fAlpha','fDist'], axis=1, inplace=True)\n",
        "validacion.set_axis(['fLength', 'fwidth', 'fSize', 'fConc','fconc1','fAsym','fM3Long','fM3Trans','fAlpha','fDist'], axis=1, inplace=True)\n",
        "prueba.set_axis(['fLength', 'fwidth', 'fSize', 'fConc','fconc1','fAsym','fM3Long','fM3Trans','fAlpha','fDist'], axis=1, inplace=True)\n",
        "print(\"entrenamiento\")\n",
        "print(entrenamiento)\n",
        "print(\"validacion\")\n",
        "print(validacion)\n",
        "print(\"prueba\")\n",
        "print(prueba)"
      ],
      "execution_count": null,
      "outputs": [
        {
          "output_type": "stream",
          "text": [
            "entrenamiento\n",
            "       fLength    fwidth     fSize  ...  fM3Trans    fAlpha     fDist\n",
            "0    -0.138905 -0.879250  0.290053  ...  0.228407  2.206503 -0.201748\n",
            "1    -0.587738 -0.430982 -0.175330  ... -0.389675 -0.113254 -1.731402\n",
            "2     0.544871  0.434915  1.419262  ...  1.316748 -0.966928 -0.339780\n",
            "3    -0.429862 -0.441749 -0.244245  ...  0.517894 -1.077496  0.173566\n",
            "4    -0.257288 -0.623799 -0.990685  ...  0.356711 -0.638526 -1.207981\n",
            "...        ...       ...       ...  ...       ...       ...       ...\n",
            "2995  0.776371  0.759954  0.320982  ... -1.387955  1.482808  0.866262\n",
            "2996 -0.722592 -0.708464 -0.695306  ...  0.259171  1.583136 -0.009092\n",
            "2997  0.393347  0.872928  1.194458  ... -1.507967  0.797455  1.883028\n",
            "2998  0.504262 -0.016653  0.699391  ...  0.741233 -1.029094  1.653146\n",
            "2999 -0.647595 -0.636257 -0.614767  ...  0.337459 -0.793690 -0.267830\n",
            "\n",
            "[3000 rows x 10 columns]\n",
            "validacion\n",
            "      fLength    fwidth     fSize  ...  fM3Trans    fAlpha     fDist\n",
            "0    0.673909  0.379027  1.657973  ... -0.884302 -1.096489  2.177018\n",
            "1   -0.600515 -0.648184 -0.523849  ...  0.339088  0.578259  0.168981\n",
            "2   -0.225572 -0.320158 -0.781450  ... -0.184330  1.080667 -0.733001\n",
            "3    0.200104 -0.217506 -0.218714  ... -0.474428 -0.631015  1.150885\n",
            "4   -0.767220 -1.169683 -1.598881  ... -0.007556 -0.805063 -0.393245\n",
            "..        ...       ...       ...  ...       ...       ...       ...\n",
            "995 -0.804530 -0.721609 -1.326957  ... -0.117291 -0.695948  0.215189\n",
            "996 -0.629170 -0.228341 -0.473201  ...  0.684137  0.501521 -1.395122\n",
            "997 -0.662353 -0.652944 -0.757786  ...  0.310593 -1.079046 -0.687261\n",
            "998 -0.583490 -0.657530 -1.064167  ...  0.200562  0.382128 -0.715883\n",
            "999  2.628441  1.879461  1.191552  ...  2.308089  1.437416  0.785834\n",
            "\n",
            "[1000 rows x 10 columns]\n",
            "prueba\n",
            "       fLength    fwidth     fSize  ...  fM3Trans    fAlpha     fDist\n",
            "0     1.668435  3.817023  1.836072  ...  2.510628 -0.873261  0.015515\n",
            "1    -0.863141 -0.809082 -1.287310  ...  0.177406  1.058623  0.047695\n",
            "2    -0.615511 -0.562131 -0.763391  ... -0.184609  0.067506  0.538139\n",
            "3    -0.755252 -0.226625 -0.372319  ...  0.491248  1.955605 -0.886725\n",
            "4     0.700502  0.380540  1.543599  ... -0.890014 -1.027326  1.850954\n",
            "...        ...       ...       ...  ...       ...       ...       ...\n",
            "1995 -0.794751 -0.650136 -1.137649  ...  0.356393  1.423457 -0.779769\n",
            "1996  0.049558 -0.449761  0.036189  ...  0.610057  0.904228 -0.662014\n",
            "1997 -0.148973 -0.397102 -0.704855  ... -0.355765 -0.713379 -0.785215\n",
            "1998 -0.556178 -0.441159 -0.403663  ...  0.427623 -0.808817 -2.507511\n",
            "1999  0.456564  1.115355  1.404524  ... -1.096752  0.015688  1.075912\n",
            "\n",
            "[2000 rows x 10 columns]\n"
          ],
          "name": "stdout"
        }
      ]
    },
    {
      "cell_type": "code",
      "metadata": {
        "colab": {
          "base_uri": "https://localhost:8080/"
        },
        "id": "AvORFluh9L5Q",
        "outputId": "532f98b6-b397-4849-e5f2-b347ebe7ea31"
      },
      "source": [
        "#Se reincorporan las columnas 'class' de cada DataFrame:\n",
        "entrenamiento['class']=classentrenamiento\n",
        "validacion['class']=classvalidacion\n",
        "prueba['class']=classprueba\n",
        "print(\"entrenamiento\")\n",
        "print(entrenamiento)\n",
        "print(\"validacion\")\n",
        "print(validacion)\n",
        "print(\"prueba\")\n",
        "print(prueba)"
      ],
      "execution_count": null,
      "outputs": [
        {
          "output_type": "stream",
          "text": [
            "entrenamiento\n",
            "       fLength    fwidth     fSize  ...    fAlpha     fDist  class\n",
            "0    -0.138905 -0.879250  0.290053  ...  2.206503 -0.201748      h\n",
            "1    -0.587738 -0.430982 -0.175330  ... -0.113254 -1.731402      h\n",
            "2     0.544871  0.434915  1.419262  ... -0.966928 -0.339780      g\n",
            "3    -0.429862 -0.441749 -0.244245  ... -1.077496  0.173566      g\n",
            "4    -0.257288 -0.623799 -0.990685  ... -0.638526 -1.207981      g\n",
            "...        ...       ...       ...  ...       ...       ...    ...\n",
            "2995  0.776371  0.759954  0.320982  ...  1.482808  0.866262      h\n",
            "2996 -0.722592 -0.708464 -0.695306  ...  1.583136 -0.009092      h\n",
            "2997  0.393347  0.872928  1.194458  ...  0.797455  1.883028      h\n",
            "2998  0.504262 -0.016653  0.699391  ... -1.029094  1.653146      g\n",
            "2999 -0.647595 -0.636257 -0.614767  ... -0.793690 -0.267830      g\n",
            "\n",
            "[3000 rows x 11 columns]\n",
            "validacion\n",
            "      fLength    fwidth     fSize     fConc  ...  fM3Trans    fAlpha     fDist  class\n",
            "0    0.673909  0.379027  1.657973 -0.757590  ... -0.884302 -1.096489  2.177018      g\n",
            "1   -0.600515 -0.648184 -0.523849  0.307175  ...  0.339088  0.578259  0.168981      h\n",
            "2   -0.225572 -0.320158 -0.781450  0.325148  ... -0.184330  1.080667 -0.733001      h\n",
            "3    0.200104 -0.217506 -0.218714  0.020151  ... -0.474428 -0.631015  1.150885      g\n",
            "4   -0.767220 -1.169683 -1.598881  2.035852  ... -0.007556 -0.805063 -0.393245      g\n",
            "..        ...       ...       ...       ...  ...       ...       ...       ...    ...\n",
            "995 -0.804530 -0.721609 -1.326957  1.338173  ... -0.117291 -0.695948  0.215189      g\n",
            "996 -0.629170 -0.228341 -0.473201 -0.490174  ...  0.684137  0.501521 -1.395122      g\n",
            "997 -0.662353 -0.652944 -0.757786  0.615439  ...  0.310593 -1.079046 -0.687261      g\n",
            "998 -0.583490 -0.657530 -1.064167  0.635046  ...  0.200562  0.382128 -0.715883      g\n",
            "999  2.628441  1.879461  1.191552 -1.364861  ...  2.308089  1.437416  0.785834      h\n",
            "\n",
            "[1000 rows x 11 columns]\n",
            "prueba\n",
            "       fLength    fwidth     fSize  ...    fAlpha     fDist  class\n",
            "0     1.668435  3.817023  1.836072  ... -0.873261  0.015515      h\n",
            "1    -0.863141 -0.809082 -1.287310  ...  1.058623  0.047695      h\n",
            "2    -0.615511 -0.562131 -0.763391  ...  0.067506  0.538139      h\n",
            "3    -0.755252 -0.226625 -0.372319  ...  1.955605 -0.886725      g\n",
            "4     0.700502  0.380540  1.543599  ... -1.027326  1.850954      g\n",
            "...        ...       ...       ...  ...       ...       ...    ...\n",
            "1995 -0.794751 -0.650136 -1.137649  ...  1.423457 -0.779769      h\n",
            "1996  0.049558 -0.449761  0.036189  ...  0.904228 -0.662014      h\n",
            "1997 -0.148973 -0.397102 -0.704855  ... -0.713379 -0.785215      g\n",
            "1998 -0.556178 -0.441159 -0.403663  ... -0.808817 -2.507511      h\n",
            "1999  0.456564  1.115355  1.404524  ...  0.015688  1.075912      g\n",
            "\n",
            "[2000 rows x 11 columns]\n"
          ],
          "name": "stdout"
        }
      ]
    },
    {
      "cell_type": "markdown",
      "metadata": {
        "id": "uH6RfjIEg-G4"
      },
      "source": [
        "**5)** Entrenar un clasificador SVM lineal que permita discriminar hadrones de no-hadrones. Para obtener \n",
        "un buen clasificador, se debe usar una grilla para buscar los mejores hiper parámetros para el \n",
        "clasificador. Se debe usar la función GridSearchCV( ) con 5 folds, considerando distintos valores del \n",
        "parámetro C (5 valores distintos). El clasificador base SVM a usar se puede construir de la siguiente \n",
        "manera: svm.SVC(kernel=’linear’, probability=False):"
      ]
    },
    {
      "cell_type": "code",
      "metadata": {
        "colab": {
          "base_uri": "https://localhost:8080/"
        },
        "id": "rKn-eQyoPTEW",
        "outputId": "f227f034-5486-4722-f347-8371479b5433"
      },
      "source": [
        "# Conjunto de features:\n",
        "x=entrenamiento[['fLength', 'fwidth', 'fSize', 'fConc','fconc1','fAsym','fM3Long','fM3Trans','fAlpha','fDist']]\n",
        "#Clasificación true del conjunto de feature:\n",
        "y=entrenamiento['class']\n",
        "print(x,y)"
      ],
      "execution_count": null,
      "outputs": [
        {
          "output_type": "stream",
          "text": [
            "       fLength    fwidth     fSize  ...  fM3Trans    fAlpha     fDist\n",
            "0    -0.138905 -0.879250  0.290053  ...  0.228407  2.206503 -0.201748\n",
            "1    -0.587738 -0.430982 -0.175330  ... -0.389675 -0.113254 -1.731402\n",
            "2     0.544871  0.434915  1.419262  ...  1.316748 -0.966928 -0.339780\n",
            "3    -0.429862 -0.441749 -0.244245  ...  0.517894 -1.077496  0.173566\n",
            "4    -0.257288 -0.623799 -0.990685  ...  0.356711 -0.638526 -1.207981\n",
            "...        ...       ...       ...  ...       ...       ...       ...\n",
            "2995  0.776371  0.759954  0.320982  ... -1.387955  1.482808  0.866262\n",
            "2996 -0.722592 -0.708464 -0.695306  ...  0.259171  1.583136 -0.009092\n",
            "2997  0.393347  0.872928  1.194458  ... -1.507967  0.797455  1.883028\n",
            "2998  0.504262 -0.016653  0.699391  ...  0.741233 -1.029094  1.653146\n",
            "2999 -0.647595 -0.636257 -0.614767  ...  0.337459 -0.793690 -0.267830\n",
            "\n",
            "[3000 rows x 10 columns] 0       h\n",
            "1       h\n",
            "2       g\n",
            "3       g\n",
            "4       g\n",
            "       ..\n",
            "2995    h\n",
            "2996    h\n",
            "2997    h\n",
            "2998    g\n",
            "2999    g\n",
            "Name: class, Length: 3000, dtype: object\n"
          ],
          "name": "stdout"
        }
      ]
    },
    {
      "cell_type": "code",
      "metadata": {
        "colab": {
          "base_uri": "https://localhost:8080/"
        },
        "id": "e-KEwW_xL3nI",
        "outputId": "fcb1daef-ec7d-4e14-9e21-7a00ccad50ca"
      },
      "source": [
        "#Modelo a mejorar:\n",
        "C=[8.9, 15, 0.5, 0.005, 50]\n",
        "model=svm.SVC(kernel='linear', probability=False)\n",
        "clf = GridSearchCV(model,{'C':C},cv=5) #return_train_score=True\n",
        "\n",
        "#Entrenamiento del clasificador\n",
        "clf.fit(x,y) \n",
        "df=pd.DataFrame(clf.cv_results_)\n",
        "print('Tabla Resumen')\n",
        "print(df[['param_C','mean_test_score']])\n",
        "print('Mejor Parámetro')\n",
        "print(clf.best_params_)\n"
      ],
      "execution_count": null,
      "outputs": [
        {
          "output_type": "stream",
          "text": [
            "Tabla Resumen\n",
            "  param_C  mean_test_score\n",
            "0     8.9         0.778333\n",
            "1      15         0.778333\n",
            "2     0.5         0.778667\n",
            "3   0.005         0.764333\n",
            "4      50         0.778333\n",
            "Mejor Parámetro\n",
            "{'C': 0.5}\n"
          ],
          "name": "stdout"
        }
      ]
    },
    {
      "cell_type": "markdown",
      "metadata": {
        "id": "zUFxASjOhA5R"
      },
      "source": [
        "**6)** Evaluar sobre el conjunto de validación y generar la matriz de confusión, tanto en su versión \n",
        "normalizada como no normalizada. Se recomienda usar metrics.confusión_matrix( ):"
      ]
    },
    {
      "cell_type": "code",
      "metadata": {
        "id": "nEym0P1qjERf",
        "colab": {
          "base_uri": "https://localhost:8080/",
          "height": 862
        },
        "outputId": "054d3900-8faa-439a-a3ea-ab3b69c5bf51"
      },
      "source": [
        "#Clasificación del conjunto de validación con clasificador SVM lineal con mejor rendmiento:\n",
        "clasi6=pd.DataFrame(clf.predict(validacion[['fLength', 'fwidth', 'fSize', 'fConc','fconc1','fAsym','fM3Long','fM3Trans','fAlpha','fDist']]))\n",
        "validacion['clasificacion']=clasi6\n",
        "print('Clasificación conjunto de validación')\n",
        "print(validacion)\n",
        "\n",
        "\n",
        "#Matrices de confusion:\n",
        "print('Matrices de Confusión')\n",
        "matrix=plot_confusion_matrix(clf, validacion[['fLength', 'fwidth', 'fSize', 'fConc','fconc1','fAsym','fM3Long','fM3Trans','fAlpha','fDist']], validacion['class'],cmap=plt.cm.Reds)\n",
        "matrix.ax_.set_title('Matriz de Confusión')\n",
        "\n",
        "matrixNorm=plot_confusion_matrix(clf, validacion[['fLength', 'fwidth', 'fSize', 'fConc','fconc1','fAsym','fM3Long','fM3Trans','fAlpha','fDist']], validacion['class'],cmap=plt.cm.Reds,normalize='true')\n",
        "matrixNorm.ax_.set_title('Matriz de Confusión Normalizada')\n"
      ],
      "execution_count": null,
      "outputs": [
        {
          "output_type": "stream",
          "text": [
            "Clasificación conjunto de validación\n",
            "      fLength    fwidth     fSize  ...     fDist  class  clasificacion\n",
            "0    0.673909  0.379027  1.657973  ...  2.177018      g              h\n",
            "1   -0.600515 -0.648184 -0.523849  ...  0.168981      h              g\n",
            "2   -0.225572 -0.320158 -0.781450  ... -0.733001      h              h\n",
            "3    0.200104 -0.217506 -0.218714  ...  1.150885      g              g\n",
            "4   -0.767220 -1.169683 -1.598881  ... -0.393245      g              g\n",
            "..        ...       ...       ...  ...       ...    ...            ...\n",
            "995 -0.804530 -0.721609 -1.326957  ...  0.215189      g              g\n",
            "996 -0.629170 -0.228341 -0.473201  ... -1.395122      g              g\n",
            "997 -0.662353 -0.652944 -0.757786  ... -0.687261      g              g\n",
            "998 -0.583490 -0.657530 -1.064167  ... -0.715883      g              g\n",
            "999  2.628441  1.879461  1.191552  ...  0.785834      h              h\n",
            "\n",
            "[1000 rows x 12 columns]\n",
            "Matrices de Confusión\n"
          ],
          "name": "stdout"
        },
        {
          "output_type": "execute_result",
          "data": {
            "text/plain": [
              "Text(0.5, 1.0, 'Matriz de Confusión Normalizada')"
            ]
          },
          "metadata": {
            "tags": []
          },
          "execution_count": 15
        },
        {
          "output_type": "display_data",
          "data": {
            "image/png": "[encoded data removed]",
            "text/plain": [
              "<Figure size 432x288 with 2 Axes>"
            ]
          },
          "metadata": {
            "tags": [],
            "needs_background": "light"
          }
        },
        {
          "output_type": "display_data",
          "data": {
            "image/png": "[encoded data removed]",
            "text/plain": [
              "<Figure size 432x288 with 2 Axes>"
            ]
          },
          "metadata": {
            "tags": [],
            "needs_background": "light"
          }
        }
      ]
    },
    {
      "cell_type": "markdown",
      "metadata": {
        "id": "7v7A1VHdhCq7"
      },
      "source": [
        "**7)** Generar una curva ROC que muestre el desempeño del clasificador y calcular el área bajo la curva. \n",
        "Se debe usar las funciones decision_function( ), metrics.roc_curve( ) y metrics.auc( ):"
      ]
    },
    {
      "cell_type": "code",
      "metadata": {
        "id": "Kf8LRmp3jEso",
        "colab": {
          "base_uri": "https://localhost:8080/",
          "height": 329
        },
        "outputId": "32cc71e6-47d8-4255-9383-7d0aa12f9112"
      },
      "source": [
        "#Calculo de \"Scores\" mediante \"decision_function()\", y \"Trues\" (clasificación real del conjunto de validación),  input's para \"roc_curve()\":\n",
        "scores=clf.decision_function(validacion[['fLength', 'fwidth', 'fSize', 'fConc','fconc1','fAsym','fM3Long','fM3Trans','fAlpha','fDist']])\n",
        "trues=validacion['class'] #Se usa de aqui en adelante\n",
        "\n",
        "#Uso de \"roc_curves()\" para obtener \"fpr\",\"tpr\":\n",
        "fpr, tpr, thresholds = metrics.roc_curve(trues, scores, pos_label='h') #Pos_label: indica la etiqueta de la clase positiva\n",
        "\n",
        "#Gráfico de curva ROC:\n",
        "print('Gráfico de curva ROC')\n",
        "plt.plot(fpr,tpr)\n",
        "plt.legend([\"Clasificador Best SVM lineal\"], loc =\"lower right\")\n",
        "plt.title('Curva ROC')\n",
        "plt.xlabel('FPR')\n",
        "plt.ylabel('TPR')\n",
        "plt.show()\n",
        "\n",
        "#Calculo del área bajo la curva:\n",
        "arearoc=metrics.auc(fpr, tpr)\n",
        "print('Área bajo la curva: {}'.format(arearoc))"
      ],
      "execution_count": null,
      "outputs": [
        {
          "output_type": "stream",
          "text": [
            "Gráfico de curva ROC\n"
          ],
          "name": "stdout"
        },
        {
          "output_type": "display_data",
          "data": {
            "image/png": "[encoded data removed]",
            "text/plain": [
              "<Figure size 432x288 with 1 Axes>"
            ]
          },
          "metadata": {
            "tags": [],
            "needs_background": "light"
          }
        },
        {
          "output_type": "stream",
          "text": [
            "Área bajo la curva: 0.8524789796466097\n"
          ],
          "name": "stdout"
        }
      ]
    },
    {
      "cell_type": "markdown",
      "metadata": {
        "id": "9pVyx-RlhE3Q"
      },
      "source": [
        "**8)** Generar una curva precisión-recall y calcular el average precision. Se debe usar las funciones\n",
        "decision_function( ), metrics.precision_recall_curve( ) y metrics.average_precision_score( ):\n"
      ]
    },
    {
      "cell_type": "code",
      "metadata": {
        "id": "igzvEsPCjFHf",
        "colab": {
          "base_uri": "https://localhost:8080/",
          "height": 329
        },
        "outputId": "faf8c6a4-448b-426f-94f1-78059e0cc2b5"
      },
      "source": [
        "#Función \"decision_function()\" es usada para obtener \"scores\":\n",
        "#Uso de \"precision_recall_curve\" para obtener \"precision\",\"recall\":\n",
        "\n",
        "scores=clf.decision_function(validacion[['fLength', 'fwidth', 'fSize', 'fConc','fconc1','fAsym','fM3Long','fM3Trans','fAlpha','fDist']])\n",
        "precision, recall, thresholds = precision_recall_curve(trues, scores,pos_label='h')\n",
        "\n",
        "#Grafico de curva Precision - Recall:\n",
        "print('Gráfico de curva Precision - Recall')\n",
        "plt.plot(recall,precision)\n",
        "plt.legend([\"Clasificador Best SVM lineal\"], loc =\"lower left\")\n",
        "plt.title('Curva Precision - Recall')\n",
        "plt.ylabel('Precision')\n",
        "plt.xlabel('Recall')\n",
        "plt.show()\n",
        "\n",
        "#Calculo de average precision:\n",
        "precisionscore=average_precision_score(trues,scores,pos_label='h')\n",
        "print('average precision: {}'.format(precisionscore))"
      ],
      "execution_count": null,
      "outputs": [
        {
          "output_type": "stream",
          "text": [
            "Gráfico de curva Precision - Recall\n"
          ],
          "name": "stdout"
        },
        {
          "output_type": "display_data",
          "data": {
            "image/png": "[encoded data removed]",
            "text/plain": [
              "<Figure size 432x288 with 1 Axes>"
            ]
          },
          "metadata": {
            "tags": [],
            "needs_background": "light"
          }
        },
        {
          "output_type": "stream",
          "text": [
            "average precision: 0.8674509923072248\n"
          ],
          "name": "stdout"
        }
      ]
    },
    {
      "cell_type": "markdown",
      "metadata": {
        "id": "7wKukZyBhG8a"
      },
      "source": [
        "**9)** Repetir los pasos (5), (6), (7), (8) para el caso de un SVM con kernel polinomial. Usar dos grados \n",
        "distintos del polinomio y 4 valores de C y 4 valores de gamma (parámetro del kernel) para la grilla de \n",
        "búsqueda (de parámetros)."
      ]
    },
    {
      "cell_type": "markdown",
      "metadata": {
        "id": "MqYxJH1m9I6Z"
      },
      "source": [
        "**Paso 5:** Entrenar clasificador"
      ]
    },
    {
      "cell_type": "code",
      "metadata": {
        "id": "bPERApvvjFcI",
        "colab": {
          "base_uri": "https://localhost:8080/"
        },
        "outputId": "7478895c-d1a2-4100-bdc5-d51bfc82b231"
      },
      "source": [
        "#Modelo a mejorar:\n",
        "modelp=svm.SVC(kernel='poly', probability=False)\n",
        "clfp = GridSearchCV(modelp,{'C':[1,0.9,1.1,4],'degree':[2],'gamma':[1,0.5,1.1,0.9]},cv=5)\n",
        "\n",
        "#Entrenamiento del clasificador:\n",
        "clfp.fit(x,y) \n",
        "dfp=pd.DataFrame(clfp.cv_results_)\n",
        "print('Tabla Resumen')\n",
        "print(dfp[['param_C','param_degree','param_gamma','mean_test_score']])\n",
        "print('Mejor Parametro')\n",
        "print(clfp.best_params_)"
      ],
      "execution_count": null,
      "outputs": [
        {
          "output_type": "stream",
          "text": [
            "Tabla Resumen\n",
            "   param_C param_degree param_gamma  mean_test_score\n",
            "0        1            2           1         0.820000\n",
            "1        1            2         0.5         0.819000\n",
            "2        1            2         1.1         0.820667\n",
            "3        1            2         0.9         0.821667\n",
            "4      0.9            2           1         0.820667\n",
            "5      0.9            2         0.5         0.819667\n",
            "6      0.9            2         1.1         0.820333\n",
            "7      0.9            2         0.9         0.822333\n",
            "8      1.1            2           1         0.820667\n",
            "9      1.1            2         0.5         0.819667\n",
            "10     1.1            2         1.1         0.820667\n",
            "11     1.1            2         0.9         0.821000\n",
            "12       4            2           1         0.822333\n",
            "13       4            2         0.5         0.820000\n",
            "14       4            2         1.1         0.822000\n",
            "15       4            2         0.9         0.821333\n",
            "Mejor Parametro\n",
            "{'C': 0.9, 'degree': 2, 'gamma': 0.9}\n"
          ],
          "name": "stdout"
        }
      ]
    },
    {
      "cell_type": "code",
      "metadata": {
        "colab": {
          "base_uri": "https://localhost:8080/"
        },
        "id": "UBLBrbwb2b_Q",
        "outputId": "e8c6dfd6-5326-4a0c-cf75-f60a7366f3e2"
      },
      "source": [
        "#Modelo a mejorar:\n",
        "modelp2=svm.SVC(kernel='poly', probability=False)\n",
        "clfp2 = GridSearchCV(modelp2,{'C':[1,0.9,1.1,4],'degree':[3],'gamma':[1,0.5,1.1,0.9]},cv=5) \n",
        "\n",
        "#Entrenamiento del clasificador:\n",
        "clfp2.fit(x,y) \n",
        "dfp2=pd.DataFrame(clfp.cv_results_)\n",
        "print(clfp2.best_params_)"
      ],
      "execution_count": null,
      "outputs": [
        {
          "output_type": "stream",
          "text": [
            "{'C': 1.1, 'degree': 3, 'gamma': 0.5}\n"
          ],
          "name": "stdout"
        }
      ]
    },
    {
      "cell_type": "code",
      "metadata": {
        "colab": {
          "base_uri": "https://localhost:8080/"
        },
        "id": "JFCG0Lb99e8i",
        "outputId": "ca726e6c-876e-44be-fc05-5d36ef13878f"
      },
      "source": [
        "dfp2=pd.DataFrame(clfp2.cv_results_)\n",
        "print('Tabla Resumen')\n",
        "print(dfp2[['param_C','param_degree','param_gamma','mean_test_score']])\n",
        "print('Mejor Parametro')\n",
        "print(clfp2.best_params_)"
      ],
      "execution_count": null,
      "outputs": [
        {
          "output_type": "stream",
          "text": [
            "Tabla Resumen\n",
            "   param_C param_degree param_gamma  mean_test_score\n",
            "0        1            3           1         0.810000\n",
            "1        1            3         0.5         0.810667\n",
            "2        1            3         1.1         0.808333\n",
            "3        1            3         0.9         0.811667\n",
            "4      0.9            3           1         0.811333\n",
            "5      0.9            3         0.5         0.811333\n",
            "6      0.9            3         1.1         0.809667\n",
            "7      0.9            3         0.9         0.812000\n",
            "8      1.1            3           1         0.810000\n",
            "9      1.1            3         0.5         0.812000\n",
            "10     1.1            3         1.1         0.807667\n",
            "11     1.1            3         0.9         0.811333\n",
            "12       4            3           1         0.809667\n",
            "13       4            3         0.5         0.810667\n",
            "14       4            3         1.1         0.807000\n",
            "15       4            3         0.9         0.810667\n",
            "Mejor Parametro\n",
            "{'C': 1.1, 'degree': 3, 'gamma': 0.5}\n"
          ],
          "name": "stdout"
        }
      ]
    },
    {
      "cell_type": "markdown",
      "metadata": {
        "id": "JsXxqDqD-ABx"
      },
      "source": [
        "**Paso 6:** Clasificar conjunto de validación y entregar matrices de confusión:"
      ]
    },
    {
      "cell_type": "code",
      "metadata": {
        "colab": {
          "base_uri": "https://localhost:8080/",
          "height": 845
        },
        "id": "UH7O02zgDVEp",
        "outputId": "5e60e194-ed80-460d-a00b-f5d0bb5a41db"
      },
      "source": [
        "#Clasificación del conjunto de validación con clasificador SVM polinomial grado 2:\n",
        "clasi6=pd.DataFrame(clfp.predict(validacion[['fLength', 'fwidth', 'fSize', 'fConc','fconc1','fAsym','fM3Long','fM3Trans','fAlpha','fDist']]))\n",
        "validacion['clasificacion']=clasi6\n",
        "print('Clasificación conjunto de validación')\n",
        "print(validacion)\n",
        "\n",
        "#Matrices de confusion:\n",
        "print('Matrices de Confusion')\n",
        "matrix=plot_confusion_matrix(clfp, validacion[['fLength', 'fwidth', 'fSize', 'fConc','fconc1','fAsym','fM3Long','fM3Trans','fAlpha','fDist']], validacion['class'],cmap=plt.cm.Reds)\n",
        "matrix.ax_.set_title('Matriz de Confusión grado 2')\n",
        "\n",
        "matrixNorm=plot_confusion_matrix(clfp, validacion[['fLength', 'fwidth', 'fSize', 'fConc','fconc1','fAsym','fM3Long','fM3Trans','fAlpha','fDist']], validacion['class'],cmap=plt.cm.Reds,normalize='true')\n",
        "matrixNorm.ax_.set_title('Matriz de Confusión Normalizada grado 2')\n",
        "plt.show()"
      ],
      "execution_count": null,
      "outputs": [
        {
          "output_type": "stream",
          "text": [
            "Clasificación conjunto de validación\n",
            "      fLength    fwidth     fSize  ...     fDist  class  clasificacion\n",
            "0    0.673909  0.379027  1.657973  ...  2.177018      g              g\n",
            "1   -0.600515 -0.648184 -0.523849  ...  0.168981      h              h\n",
            "2   -0.225572 -0.320158 -0.781450  ... -0.733001      h              g\n",
            "3    0.200104 -0.217506 -0.218714  ...  1.150885      g              g\n",
            "4   -0.767220 -1.169683 -1.598881  ... -0.393245      g              g\n",
            "..        ...       ...       ...  ...       ...    ...            ...\n",
            "995 -0.804530 -0.721609 -1.326957  ...  0.215189      g              g\n",
            "996 -0.629170 -0.228341 -0.473201  ... -1.395122      g              g\n",
            "997 -0.662353 -0.652944 -0.757786  ... -0.687261      g              g\n",
            "998 -0.583490 -0.657530 -1.064167  ... -0.715883      g              g\n",
            "999  2.628441  1.879461  1.191552  ...  0.785834      h              h\n",
            "\n",
            "[1000 rows x 12 columns]\n",
            "Matrices de Confusion\n"
          ],
          "name": "stdout"
        },
        {
          "output_type": "display_data",
          "data": {
            "image/png": "[encoded data removed]",
            "text/plain": [
              "<Figure size 432x288 with 2 Axes>"
            ]
          },
          "metadata": {
            "tags": [],
            "needs_background": "light"
          }
        },
        {
          "output_type": "display_data",
          "data": {
            "image/png": "[encoded data removed]",
            "text/plain": [
              "<Figure size 432x288 with 2 Axes>"
            ]
          },
          "metadata": {
            "tags": [],
            "needs_background": "light"
          }
        }
      ]
    },
    {
      "cell_type": "code",
      "metadata": {
        "colab": {
          "base_uri": "https://localhost:8080/",
          "height": 845
        },
        "id": "itYXOMmZAGQp",
        "outputId": "048144ed-4666-42e7-a4c2-1ee985657145"
      },
      "source": [
        "#Clasificación del conjunto de validación con clasificador SVM polinomial grado 3:\n",
        "clasi6=pd.DataFrame(clfp2.predict(validacion[['fLength', 'fwidth', 'fSize', 'fConc','fconc1','fAsym','fM3Long','fM3Trans','fAlpha','fDist']]))\n",
        "validacion['clasificacion']=clasi6\n",
        "print('Clasificación conjunto de validación')\n",
        "print(validacion)\n",
        "\n",
        "#Matrices de confusion:\n",
        "print('Matrices de Confusion')\n",
        "matrix=plot_confusion_matrix(clfp2, validacion[['fLength', 'fwidth', 'fSize', 'fConc','fconc1','fAsym','fM3Long','fM3Trans','fAlpha','fDist']], validacion['class'],cmap=plt.cm.Reds)\n",
        "matrix.ax_.set_title('Matriz de Confusión grado 3')\n",
        "\n",
        "matrixNorm=plot_confusion_matrix(clfp2, validacion[['fLength', 'fwidth', 'fSize', 'fConc','fconc1','fAsym','fM3Long','fM3Trans','fAlpha','fDist']], validacion['class'],cmap=plt.cm.Reds,normalize='true')\n",
        "matrixNorm.ax_.set_title('Matriz de Confusión Normalizada grado 3')\n",
        "plt.show()"
      ],
      "execution_count": null,
      "outputs": [
        {
          "output_type": "stream",
          "text": [
            "Clasificación conjunto de validación\n",
            "      fLength    fwidth     fSize  ...     fDist  class  clasificacion\n",
            "0    0.673909  0.379027  1.657973  ...  2.177018      g              h\n",
            "1   -0.600515 -0.648184 -0.523849  ...  0.168981      h              h\n",
            "2   -0.225572 -0.320158 -0.781450  ... -0.733001      h              h\n",
            "3    0.200104 -0.217506 -0.218714  ...  1.150885      g              g\n",
            "4   -0.767220 -1.169683 -1.598881  ... -0.393245      g              g\n",
            "..        ...       ...       ...  ...       ...    ...            ...\n",
            "995 -0.804530 -0.721609 -1.326957  ...  0.215189      g              g\n",
            "996 -0.629170 -0.228341 -0.473201  ... -1.395122      g              g\n",
            "997 -0.662353 -0.652944 -0.757786  ... -0.687261      g              g\n",
            "998 -0.583490 -0.657530 -1.064167  ... -0.715883      g              g\n",
            "999  2.628441  1.879461  1.191552  ...  0.785834      h              h\n",
            "\n",
            "[1000 rows x 12 columns]\n",
            "Matrices de Confusion\n"
          ],
          "name": "stdout"
        },
        {
          "output_type": "display_data",
          "data": {
            "image/png": "[encoded data removed]",
            "text/plain": [
              "<Figure size 432x288 with 2 Axes>"
            ]
          },
          "metadata": {
            "tags": [],
            "needs_background": "light"
          }
        },
        {
          "output_type": "display_data",
          "data": {
            "image/png": "[encoded data removed]",
            "text/plain": [
              "<Figure size 432x288 with 2 Axes>"
            ]
          },
          "metadata": {
            "tags": [],
            "needs_background": "light"
          }
        }
      ]
    },
    {
      "cell_type": "markdown",
      "metadata": {
        "id": "NhaGSBT1-HTZ"
      },
      "source": [
        " **Paso 7:** Generar curva ROC y y área bajo la curva:"
      ]
    },
    {
      "cell_type": "code",
      "metadata": {
        "colab": {
          "base_uri": "https://localhost:8080/",
          "height": 346
        },
        "id": "OEVZXaH5-Htp",
        "outputId": "6090b449-8eef-45bd-c8a5-b82296fda32f"
      },
      "source": [
        "#Calculo de \"Scores\" mediante \"decision_function()\":\n",
        "scores=clfp.decision_function(validacion[['fLength', 'fwidth', 'fSize', 'fConc','fconc1','fAsym','fM3Long','fM3Trans','fAlpha','fDist']])\n",
        "scores2=clfp2.decision_function(validacion[['fLength', 'fwidth', 'fSize', 'fConc','fconc1','fAsym','fM3Long','fM3Trans','fAlpha','fDist']])\n",
        "\n",
        "\n",
        "#Uso de \"roc_curves()\" para obtener \"fpr\",\"tpr\":\n",
        "fpr1, tpr1, thresholds1 = metrics.roc_curve(trues, scores, pos_label='h') #Pos_label: indica la etiqueta de la clase positiva\n",
        "fpr2, tpr2, thresholds2 = metrics.roc_curve(trues, scores2, pos_label='h')\n",
        "#Grafico de curva ROC:\n",
        "print('Grafico de curva ROC')\n",
        "plt.plot(fpr1,tpr1,fpr2,tpr2)\n",
        "plt.legend([\"Clasificador Best SVM polinomial grado 2\",\"Clasificador Best SVM polinomial grado 3\"], loc =\"lower right\")\n",
        "plt.title('Curva ROC')\n",
        "plt.xlabel('FPR')\n",
        "plt.ylabel('TPR')\n",
        "plt.show()\n",
        "\n",
        "#Calculo del area bajo la curva:\n",
        "arearoc=metrics.auc(fpr1, tpr1)\n",
        "print('Area bajo la curva grado 2: {}'.format(arearoc))\n",
        "arearoc2=metrics.auc(fpr2, tpr2)\n",
        "print('Area bajo la curva grado 3: {}'.format(arearoc2))"
      ],
      "execution_count": null,
      "outputs": [
        {
          "output_type": "stream",
          "text": [
            "Grafico de curva ROC\n"
          ],
          "name": "stdout"
        },
        {
          "output_type": "display_data",
          "data": {
            "image/png": "[encoded data removed]",
            "text/plain": [
              "<Figure size 432x288 with 1 Axes>"
            ]
          },
          "metadata": {
            "tags": [],
            "needs_background": "light"
          }
        },
        {
          "output_type": "stream",
          "text": [
            "Area bajo la curva grado 2: 0.882506339153738\n",
            "Area bajo la curva grado 3: 0.8759048065406446\n"
          ],
          "name": "stdout"
        }
      ]
    },
    {
      "cell_type": "markdown",
      "metadata": {
        "id": "_-u8D1gn-Lqx"
      },
      "source": [
        "**Paso 8:** Generar una curva precisión-recall y calcular el average precision\n",
        "\n"
      ]
    },
    {
      "cell_type": "code",
      "metadata": {
        "colab": {
          "base_uri": "https://localhost:8080/",
          "height": 346
        },
        "id": "bvHJ_1kX-MQC",
        "outputId": "71b3d3d1-c91c-40c1-9b1d-3126fa131d49"
      },
      "source": [
        "#Funcion \"decision_function()\" es usada para obtener \"scores\".\n",
        "##Uso de \"precision_recall_curve\" para obtener \"precision\",\"recall\":\n",
        "\n",
        "scores=clfp.decision_function(validacion[['fLength', 'fwidth', 'fSize', 'fConc','fconc1','fAsym','fM3Long','fM3Trans','fAlpha','fDist']])\n",
        "precision1, recall1, thresholds1 = precision_recall_curve(trues, scores,pos_label='h')\n",
        "\n",
        "scores2=clfp2.decision_function(validacion[['fLength', 'fwidth', 'fSize', 'fConc','fconc1','fAsym','fM3Long','fM3Trans','fAlpha','fDist']])\n",
        "precision2, recall2, thresholds2 = precision_recall_curve(trues, scores2,pos_label='h')\n",
        "\n",
        "#Grafico de curva Precision - Recall:\n",
        "print('Grafico de curva Precision - Recall')\n",
        "plt.plot(recall1,precision1,recall2,precision2)\n",
        "plt.legend([\"Clasificador Best SVM polinomial grado 2\",\"Clasificador Best SVM polinomial grado 3\"], loc =\"lower left\")\n",
        "plt.title('Curva Precision - Recall')\n",
        "plt.ylabel('Precision')\n",
        "plt.xlabel('Recall')\n",
        "plt.show()\n",
        "\n",
        "#Calculo de average precision:\n",
        "precisionscore=average_precision_score(trues,scores,pos_label='h')\n",
        "print('average precision grado 2: {}'.format(precisionscore))\n",
        "precisionscore=average_precision_score(trues,scores2,pos_label='h')\n",
        "print('average precision grado 3: {}'.format(precisionscore))"
      ],
      "execution_count": null,
      "outputs": [
        {
          "output_type": "stream",
          "text": [
            "Grafico de curva Precision - Recall\n"
          ],
          "name": "stdout"
        },
        {
          "output_type": "display_data",
          "data": {
            "image/png": "[encoded data removed]",
            "text/plain": [
              "<Figure size 432x288 with 1 Axes>"
            ]
          },
          "metadata": {
            "tags": [],
            "needs_background": "light"
          }
        },
        {
          "output_type": "stream",
          "text": [
            "average precision grado 2: 0.9043215025909843\n",
            "average precision grado 3: 0.8980195885923941\n"
          ],
          "name": "stdout"
        }
      ]
    },
    {
      "cell_type": "markdown",
      "metadata": {
        "id": "ragJKLFEhIr5"
      },
      "source": [
        "**10)** Repetir los pasos (5), (6), (7), (8) para el caso de un SVM con kernel RBF. Usar 5 valores de C y 4 \n",
        "valores de gamma (parámetro del kernel) para la grilla de búsqueda (de parámetros):"
      ]
    },
    {
      "cell_type": "markdown",
      "metadata": {
        "id": "13P6rK50vJhu"
      },
      "source": [
        "**Paso 5:** Entrenar clasificador"
      ]
    },
    {
      "cell_type": "code",
      "metadata": {
        "id": "QmeCF-mYjF7w",
        "colab": {
          "base_uri": "https://localhost:8080/"
        },
        "outputId": "bd28090b-3d2d-4c4b-c66f-9cdf423a284f"
      },
      "source": [
        "#Modelo a mejorar:\n",
        "modelr=svm.SVC(kernel='rbf', probability=False)\n",
        "clfr = GridSearchCV(modelr,{'C':[0.6,0.8,1,1.2,2],'gamma':[0.12,0.149,0.15,0.151,0.17]},cv=5) \n",
        "\n",
        "#Entrenamiento del clasificador:\n",
        "clfr.fit(x,y) \n",
        "dfr=pd.DataFrame(clfr.cv_results_)\n",
        "print('Tabla Resumen')\n",
        "print(dfr[['param_C','param_gamma','mean_test_score']])\n",
        "print('Mejor Parametro')\n",
        "print(clfr.best_params_)"
      ],
      "execution_count": null,
      "outputs": [
        {
          "output_type": "stream",
          "text": [
            "Tabla Resumen\n",
            "   param_C param_gamma  mean_test_score\n",
            "0      0.6        0.12         0.836333\n",
            "1      0.6       0.149         0.834667\n",
            "2      0.6        0.15         0.834667\n",
            "3      0.6       0.151         0.835000\n",
            "4      0.6        0.17         0.834667\n",
            "5      0.8        0.12         0.837000\n",
            "6      0.8       0.149         0.836000\n",
            "7      0.8        0.15         0.836000\n",
            "8      0.8       0.151         0.836000\n",
            "9      0.8        0.17         0.837333\n",
            "10       1        0.12         0.836667\n",
            "11       1       0.149         0.838667\n",
            "12       1        0.15         0.838667\n",
            "13       1       0.151         0.838333\n",
            "14       1        0.17         0.838667\n",
            "15     1.2        0.12         0.840333\n",
            "16     1.2       0.149         0.840000\n",
            "17     1.2        0.15         0.840000\n",
            "18     1.2       0.151         0.840000\n",
            "19     1.2        0.17         0.839000\n",
            "20       2        0.12         0.841667\n",
            "21       2       0.149         0.841000\n",
            "22       2        0.15         0.840667\n",
            "23       2       0.151         0.840333\n",
            "24       2        0.17         0.840333\n",
            "Mejor Parametro\n",
            "{'C': 2, 'gamma': 0.12}\n"
          ],
          "name": "stdout"
        }
      ]
    },
    {
      "cell_type": "markdown",
      "metadata": {
        "id": "Z6JC1TSmDhaM"
      },
      "source": [
        "**Paso 6:** Clasificar conjunto de validación y entregar matrices de confusión"
      ]
    },
    {
      "cell_type": "code",
      "metadata": {
        "colab": {
          "base_uri": "https://localhost:8080/",
          "height": 845
        },
        "id": "n998219WDijU",
        "outputId": "ec316a01-98ae-47db-97a8-f063edd75e68"
      },
      "source": [
        "#Clasificación del conjunto de validación con clasificador SVM polinomial con mejor rendmiento:\n",
        "clasi6=pd.DataFrame(clfr.predict(validacion[['fLength', 'fwidth', 'fSize', 'fConc','fconc1','fAsym','fM3Long','fM3Trans','fAlpha','fDist']]))\n",
        "validacion['clasificacion']=clasi6\n",
        "print('Clasificación conjunto de validación')\n",
        "print(validacion)\n",
        "\n",
        "#Matrices de confusion:\n",
        "print('Matrices de Confusion')\n",
        "matrix=plot_confusion_matrix(clfr, validacion[['fLength', 'fwidth', 'fSize', 'fConc','fconc1','fAsym','fM3Long','fM3Trans','fAlpha','fDist']], validacion['class'],cmap=plt.cm.Reds)\n",
        "matrix.ax_.set_title('Matriz de Confusión')\n",
        "\n",
        "matrixNorm=plot_confusion_matrix(clfr, validacion[['fLength', 'fwidth', 'fSize', 'fConc','fconc1','fAsym','fM3Long','fM3Trans','fAlpha','fDist']], validacion['class'],cmap=plt.cm.Reds,normalize='true')\n",
        "matrixNorm.ax_.set_title('Matriz de Confusión Normalizada')\n",
        "plt.show()"
      ],
      "execution_count": null,
      "outputs": [
        {
          "output_type": "stream",
          "text": [
            "Clasificación conjunto de validación\n",
            "      fLength    fwidth     fSize  ...     fDist  class  clasificacion\n",
            "0    0.673909  0.379027  1.657973  ...  2.177018      g              g\n",
            "1   -0.600515 -0.648184 -0.523849  ...  0.168981      h              h\n",
            "2   -0.225572 -0.320158 -0.781450  ... -0.733001      h              h\n",
            "3    0.200104 -0.217506 -0.218714  ...  1.150885      g              g\n",
            "4   -0.767220 -1.169683 -1.598881  ... -0.393245      g              g\n",
            "..        ...       ...       ...  ...       ...    ...            ...\n",
            "995 -0.804530 -0.721609 -1.326957  ...  0.215189      g              g\n",
            "996 -0.629170 -0.228341 -0.473201  ... -1.395122      g              g\n",
            "997 -0.662353 -0.652944 -0.757786  ... -0.687261      g              g\n",
            "998 -0.583490 -0.657530 -1.064167  ... -0.715883      g              g\n",
            "999  2.628441  1.879461  1.191552  ...  0.785834      h              h\n",
            "\n",
            "[1000 rows x 12 columns]\n",
            "Matrices de Confusion\n"
          ],
          "name": "stdout"
        },
        {
          "output_type": "display_data",
          "data": {
            "image/png": "[encoded data removed]",
            "text/plain": [
              "<Figure size 432x288 with 2 Axes>"
            ]
          },
          "metadata": {
            "tags": [],
            "needs_background": "light"
          }
        },
        {
          "output_type": "display_data",
          "data": {
            "image/png": "[encoded data removed]",
            "text/plain": [
              "<Figure size 432x288 with 2 Axes>"
            ]
          },
          "metadata": {
            "tags": [],
            "needs_background": "light"
          }
        }
      ]
    },
    {
      "cell_type": "markdown",
      "metadata": {
        "id": "ZXhaiu-rELY0"
      },
      "source": [
        " **Paso 7:** Generar curva ROC y y área bajo la curva"
      ]
    },
    {
      "cell_type": "code",
      "metadata": {
        "colab": {
          "base_uri": "https://localhost:8080/",
          "height": 329
        },
        "id": "KlTHh6qxEMUG",
        "outputId": "f9f64105-f8f8-4a7e-a549-8135a0829ceb"
      },
      "source": [
        "#Calculo de \"Scores\" mediante \"decision_function()\":\n",
        "scores=clfr.decision_function(validacion[['fLength', 'fwidth', 'fSize', 'fConc','fconc1','fAsym','fM3Long','fM3Trans','fAlpha','fDist']])\n",
        "\n",
        "\n",
        "#Uso de \"roc_curves()\" para obtener \"fpr\",\"tpr\":\n",
        "fpr2, tpr2, thresholds2 = metrics.roc_curve(trues, scores, pos_label='h') #Pos_label: indica la etiqueta de la clase positiva\n",
        "\n",
        "#Grafico de curva ROC:\n",
        "print('Grafico de curva ROC')\n",
        "plt.plot(fpr2,tpr2)\n",
        "plt.legend([\"Clasificador Best SVM RBF\"], loc =\"lower right\")\n",
        "plt.title('Curva ROC')\n",
        "plt.xlabel('FPR')\n",
        "plt.ylabel('TPR')\n",
        "plt.show()\n",
        "\n",
        "#Calculo del area bajo la curva:\n",
        "arearoc=metrics.auc(fpr2, tpr2)\n",
        "print('Area bajo la curva: {}'.format(arearoc))"
      ],
      "execution_count": null,
      "outputs": [
        {
          "output_type": "stream",
          "text": [
            "Grafico de curva ROC\n"
          ],
          "name": "stdout"
        },
        {
          "output_type": "display_data",
          "data": {
            "image/png": "[encoded data removed]",
            "text/plain": [
              "<Figure size 432x288 with 1 Axes>"
            ]
          },
          "metadata": {
            "tags": [],
            "needs_background": "light"
          }
        },
        {
          "output_type": "stream",
          "text": [
            "Area bajo la curva: 0.9133588902375029\n"
          ],
          "name": "stdout"
        }
      ]
    },
    {
      "cell_type": "markdown",
      "metadata": {
        "id": "HaBybcd8FS6M"
      },
      "source": [
        "**Paso 8:** Generar una curva precisión-recall y calcular el average precision"
      ]
    },
    {
      "cell_type": "code",
      "metadata": {
        "colab": {
          "base_uri": "https://localhost:8080/",
          "height": 329
        },
        "id": "P10aTkVPFR5t",
        "outputId": "240ff09f-abc5-4a02-d634-d06071a95219"
      },
      "source": [
        "#Funcion \"decision_function()\" es usada para obtener \"scores\":\n",
        "##Uso de \"precision_recall_curve\" para obtener \"precision1\",\"recall1\":\n",
        "\n",
        "scores=clfr.decision_function(validacion[['fLength', 'fwidth', 'fSize', 'fConc','fconc1','fAsym','fM3Long','fM3Trans','fAlpha','fDist']])\n",
        "precision2, recall2, thresholds2 = precision_recall_curve(trues, scores,pos_label='h')\n",
        "\n",
        "#Grafico de curva Precision - Recall:\n",
        "print('Grafico de curva Precision - Recall')\n",
        "plt.plot(recall2,precision2)\n",
        "plt.legend([\"Clasificador Best SVM RBF\"], loc =\"lower left\")\n",
        "plt.title('Curva Precision - Recall')\n",
        "plt.ylabel('Precision')\n",
        "plt.xlabel('Recall')\n",
        "plt.show()\n",
        "\n",
        "#Calculo de average precision:\n",
        "precisionscore=average_precision_score(trues,scores,pos_label='h')\n",
        "print('average precision: {}'.format(precisionscore))"
      ],
      "execution_count": null,
      "outputs": [
        {
          "output_type": "stream",
          "text": [
            "Grafico de curva Precision - Recall\n"
          ],
          "name": "stdout"
        },
        {
          "output_type": "display_data",
          "data": {
            "image/png": "[encoded data removed]",
            "text/plain": [
              "<Figure size 432x288 with 1 Axes>"
            ]
          },
          "metadata": {
            "tags": [],
            "needs_background": "light"
          }
        },
        {
          "output_type": "stream",
          "text": [
            "average precision: 0.9300494062039736\n"
          ],
          "name": "stdout"
        }
      ]
    },
    {
      "cell_type": "markdown",
      "metadata": {
        "id": "zqRpvvaZhKvR"
      },
      "source": [
        "**11)** Evaluar el mejor clasificador obtenido sobre el conjunto de prueba, reportando las métricas indicadas \n",
        "en (6), (7) y (8). Considerar los casos de SVM lineal, SVM con kernel polinomial (2 grados distintos \n",
        "de polinomio) y SVM con kernel RBF:"
      ]
    },
    {
      "cell_type": "markdown",
      "metadata": {
        "id": "HPQpVTip3kY6"
      },
      "source": [
        "**Paso 6:** Clasificar conjunto de prueba y entregar matrices de confusión"
      ]
    },
    {
      "cell_type": "code",
      "metadata": {
        "colab": {
          "base_uri": "https://localhost:8080/",
          "height": 1000
        },
        "id": "SYjqR9QU5mdi",
        "outputId": "970aafbb-0fd8-454b-af32-a1ee137179b4"
      },
      "source": [
        "#Clasificación del conjunto de prueba con clasificadores SVM en esta parte no se printean por espacio.\n",
        "#Matrices de confusion lineal:\n",
        "matrix=plot_confusion_matrix(clf, prueba[['fLength', 'fwidth', 'fSize', 'fConc','fconc1','fAsym','fM3Long','fM3Trans','fAlpha','fDist']], prueba['class'],cmap=plt.cm.Reds)\n",
        "matrix.ax_.set_title('Matriz de Confusión lineal')\n",
        "matrixNorm=plot_confusion_matrix(clf, prueba[['fLength', 'fwidth', 'fSize', 'fConc','fconc1','fAsym','fM3Long','fM3Trans','fAlpha','fDist']], prueba['class'],cmap=plt.cm.Reds,normalize='true')\n",
        "matrixNorm.ax_.set_title('Matriz de Confusión lineal Normalizada')\n",
        "\n",
        "#Matrices de confusion best polinomial:\n",
        "matrix=plot_confusion_matrix(clfp, prueba[['fLength', 'fwidth', 'fSize', 'fConc','fconc1','fAsym','fM3Long','fM3Trans','fAlpha','fDist']], prueba['class'],cmap=plt.cm.Reds)\n",
        "matrix.ax_.set_title('Matriz de Confusión best polinomial grado 2')\n",
        "matrixNorm=plot_confusion_matrix(clfp, prueba[['fLength', 'fwidth', 'fSize', 'fConc','fconc1','fAsym','fM3Long','fM3Trans','fAlpha','fDist']], prueba['class'],cmap=plt.cm.Reds,normalize='true')\n",
        "matrixNorm.ax_.set_title('Matriz de Confusión best polinomial grado 2 Normalizada')\n",
        "\n",
        "#Matrices de confusion polinomial:\n",
        "matrix=plot_confusion_matrix(clfp2, prueba[['fLength', 'fwidth', 'fSize', 'fConc','fconc1','fAsym','fM3Long','fM3Trans','fAlpha','fDist']], prueba['class'],cmap=plt.cm.Reds)\n",
        "matrix.ax_.set_title('Matriz de Confusión best polinomial grado 3')\n",
        "matrixNorm=plot_confusion_matrix(clfp2, prueba[['fLength', 'fwidth', 'fSize', 'fConc','fconc1','fAsym','fM3Long','fM3Trans','fAlpha','fDist']], prueba['class'],cmap=plt.cm.Reds,normalize='true')\n",
        "matrixNorm.ax_.set_title('Matriz de Confusión best polinomial grado 3 Normalizada')\n",
        "\n",
        "#Matrices de confusion RBF:\n",
        "matrix=plot_confusion_matrix(clfr, prueba[['fLength', 'fwidth', 'fSize', 'fConc','fconc1','fAsym','fM3Long','fM3Trans','fAlpha','fDist']], prueba['class'],cmap=plt.cm.Reds)\n",
        "matrix.ax_.set_title('Matriz de Confusión RBF')\n",
        "matrixNorm=plot_confusion_matrix(clfr, prueba[['fLength', 'fwidth', 'fSize', 'fConc','fconc1','fAsym','fM3Long','fM3Trans','fAlpha','fDist']], prueba['class'],cmap=plt.cm.Reds,normalize='true')\n",
        "matrixNorm.ax_.set_title('Matriz de Confusión RBF Normalizada')\n",
        "plt.show()"
      ],
      "execution_count": null,
      "outputs": [
        {
          "output_type": "display_data",
          "data": {
            "image/png": "[encoded data removed]",
            "text/plain": [
              "<Figure size 432x288 with 2 Axes>"
            ]
          },
          "metadata": {
            "tags": [],
            "needs_background": "light"
          }
        },
        {
          "output_type": "display_data",
          "data": {
            "image/png": "[encoded data removed]",
            "text/plain": [
              "<Figure size 432x288 with 2 Axes>"
            ]
          },
          "metadata": {
            "tags": [],
            "needs_background": "light"
          }
        },
        {
          "output_type": "display_data",
          "data": {
            "image/png": "[encoded data removed]",
            "text/plain": [
              "<Figure size 432x288 with 2 Axes>"
            ]
          },
          "metadata": {
            "tags": [],
            "needs_background": "light"
          }
        },
        {
          "output_type": "display_data",
          "data": {
            "image/png": "[encoded data removed]",
            "text/plain": [
              "<Figure size 432x288 with 2 Axes>"
            ]
          },
          "metadata": {
            "tags": [],
            "needs_background": "light"
          }
        },
        {
          "output_type": "display_data",
          "data": {
            "image/png": "[encoded data removed]",
            "text/plain": [
              "<Figure size 432x288 with 2 Axes>"
            ]
          },
          "metadata": {
            "tags": [],
            "needs_background": "light"
          }
        },
        {
          "output_type": "display_data",
          "data": {
            "image/png": "[encoded data removed]",
            "text/plain": [
              "<Figure size 432x288 with 2 Axes>"
            ]
          },
          "metadata": {
            "tags": [],
            "needs_background": "light"
          }
        },
        {
          "output_type": "display_data",
          "data": {
            "image/png": "[encoded data removed]",
            "text/plain": [
              "<Figure size 432x288 with 2 Axes>"
            ]
          },
          "metadata": {
            "tags": [],
            "needs_background": "light"
          }
        },
        {
          "output_type": "display_data",
          "data": {
            "image/png": "[encoded data removed]",
            "text/plain": [
              "<Figure size 432x288 with 2 Axes>"
            ]
          },
          "metadata": {
            "tags": [],
            "needs_background": "light"
          }
        }
      ]
    },
    {
      "cell_type": "markdown",
      "metadata": {
        "id": "vKNdpzjfw0e1"
      },
      "source": [
        "**Paso 7:** Curvas ROC"
      ]
    },
    {
      "cell_type": "code",
      "metadata": {
        "colab": {
          "base_uri": "https://localhost:8080/",
          "height": 349
        },
        "id": "FFjrpXkGwzWh",
        "outputId": "8e06e14f-a8e1-4fc3-c19d-39724de29462"
      },
      "source": [
        "#Calculo de \"Scores\" mediante \"decision_function()\":\n",
        "scores_lineal=clf.decision_function(prueba[['fLength', 'fwidth', 'fSize', 'fConc','fconc1','fAsym','fM3Long','fM3Trans','fAlpha','fDist']])\n",
        "scores_polinomial1=clfp.decision_function(prueba[['fLength', 'fwidth', 'fSize', 'fConc','fconc1','fAsym','fM3Long','fM3Trans','fAlpha','fDist']])\n",
        "scores_polinomial2=clfp2.decision_function(prueba[['fLength', 'fwidth', 'fSize', 'fConc','fconc1','fAsym','fM3Long','fM3Trans','fAlpha','fDist']])\n",
        "scores_rbf=clfr.decision_function(prueba[['fLength', 'fwidth', 'fSize', 'fConc','fconc1','fAsym','fM3Long','fM3Trans','fAlpha','fDist']])\n",
        "\n",
        "#trues:\n",
        "trues=prueba['class']\n",
        "\n",
        "#Uso de \"roc_curves()\" para obtener \"fpr\",\"tpr\":\n",
        "fpr1, tpr1, thresholds1 = metrics.roc_curve(trues, scores_lineal, pos_label='h') #Pos_label: indica la etiqueta de la clase positiva\n",
        "fpr2, tpr2, thresholds2 = metrics.roc_curve(trues, scores_polinomial1, pos_label='h')\n",
        "fpr3, tpr3, thresholds3 = metrics.roc_curve(trues, scores_polinomial2, pos_label='h')\n",
        "fpr4, tpr4, thresholds4 = metrics.roc_curve(trues, scores_rbf, pos_label='h')\n",
        "\n",
        "#Grafico de curva ROC:\n",
        "print('Grafico de curva ROC')\n",
        "plt.plot(fpr1,tpr1,fpr2,tpr2,fpr3,tpr3,fpr4,tpr4)\n",
        "plt.legend([\"Clasificador Best SVM lineal\",\"Clasificador Best SVM polinomial grado 2\",\"Clasificador best SVM polinomial grado 3\",\"Clasificador Best SVM RBF\"], loc =\"lower right\")\n",
        "plt.title('Curvas ROC')\n",
        "plt.xlabel('FPR')\n",
        "plt.ylabel('TPR')\n",
        "plt.show()\n",
        "\n",
        "#Calculo del area bajo la curva:\n",
        "arearoc1=metrics.auc(fpr1, tpr1)\n",
        "arearoc2=metrics.auc(fpr2, tpr2)\n",
        "arearoc3=metrics.auc(fpr3, tpr3)\n",
        "arearoc4=metrics.auc(fpr4, tpr4)\n",
        "print('Áreas bajo la curva: Clasificador Best SVM lineal: {},Clasificador Best SVM polinomial grado 2: {},Clasificador best SVM polinomial grado 3: {}, Clasificador Best SVM RBF: {}'.format(arearoc1,arearoc2,arearoc3,arearoc4))"
      ],
      "execution_count": null,
      "outputs": [
        {
          "output_type": "stream",
          "text": [
            "Grafico de curva ROC\n"
          ],
          "name": "stdout"
        },
        {
          "output_type": "display_data",
          "data": {
            "image/png": "[encoded data removed]",
            "text/plain": [
              "<Figure size 432x288 with 1 Axes>"
            ]
          },
          "metadata": {
            "tags": [],
            "needs_background": "light"
          }
        },
        {
          "output_type": "stream",
          "text": [
            "Áreas bajo la curva: Clasificador Best SVM lineal: 0.8265553864945245,Clasificador Best SVM polinomial grado 2: 0.9017105174968163,Clasificador best SVM polinomial grado 3: 0.8834429228951651, Clasificador Best SVM RBF: 0.9138098853686181\n"
          ],
          "name": "stdout"
        }
      ]
    },
    {
      "cell_type": "markdown",
      "metadata": {
        "id": "j0kWdS8G3a3z"
      },
      "source": [
        "**Paso 8:** Generar una curva precisión-recall y calcular el average precision"
      ]
    },
    {
      "cell_type": "code",
      "metadata": {
        "colab": {
          "base_uri": "https://localhost:8080/",
          "height": 349
        },
        "id": "oEltm3Ku-Hon",
        "outputId": "c49dbd01-1972-4ed6-f9fd-0858f9feaaa9"
      },
      "source": [
        "#Funcion \"decision_function()\" es usada para obtener \"scores\" en la parte anterior.\n",
        "##Uso de \"precision_recall_curve\" para obtener \"precision\",\"recall\":\n",
        "\n",
        "precision1, recall1, thresholds1 = precision_recall_curve(trues, scores_lineal,pos_label='h')\n",
        "precision2, recall2, thresholds2 = precision_recall_curve(trues, scores_polinomial1,pos_label='h')\n",
        "precision3, recall3, thresholds3 = precision_recall_curve(trues, scores_polinomial2,pos_label='h')\n",
        "precision4, recall4, thresholds4 = precision_recall_curve(trues, scores_rbf,pos_label='h')\n",
        "\n",
        "#Grafico de curva Precision - Recall:\n",
        "print('Graficos de curva Precision - Recall')\n",
        "plt.plot(recall1,precision1,recall2,precision2,recall3,precision3,recall4,precision4)\n",
        "plt.legend([\"Clasificador Best SVM lineal\",\"Clasificador Best SVM polinomial grado 2\",\"Clasificador best SVM polinomial grado 3\",\"Clasificador Best SVM RBF\"], loc =\"lower left\")\n",
        "plt.title('Curvas Precision - Recall')\n",
        "plt.ylabel('Precision')\n",
        "plt.xlabel('Recall')\n",
        "plt.show()\n",
        "\n",
        "#Calculo de average precision:\n",
        "precisionscore1=average_precision_score(trues,scores_lineal,pos_label='h')\n",
        "precisionscore2=average_precision_score(trues,scores_polinomial1,pos_label='h')\n",
        "precisionscore3=average_precision_score(trues,scores_polinomial2,pos_label='h')\n",
        "precisionscore4=average_precision_score(trues,scores_rbf,pos_label='h')\n",
        "print('average precision: Clasificador Best SVM lineal: {},Clasificador Best SVM polinomial grado 2: {},Clasificador best SVM polinomial grado 3: {}, Clasificador Best SVM RBF: {}'.format(precisionscore1,precisionscore2,precisionscore3,precisionscore4))"
      ],
      "execution_count": null,
      "outputs": [
        {
          "output_type": "stream",
          "text": [
            "Graficos de curva Precision - Recall\n"
          ],
          "name": "stdout"
        },
        {
          "output_type": "display_data",
          "data": {
            "image/png": "[encoded data removed]",
            "text/plain": [
              "<Figure size 432x288 with 1 Axes>"
            ]
          },
          "metadata": {
            "tags": [],
            "needs_background": "light"
          }
        },
        {
          "output_type": "stream",
          "text": [
            "average precision: Clasificador Best SVM lineal: 0.8480014818534003,Clasificador Best SVM polinomial grado 2: 0.9141845487016309,Clasificador best SVM polinomial grado 3: 0.900906960226003, Clasificador Best SVM RBF: 0.9256353323486556\n"
          ],
          "name": "stdout"
        }
      ]
    },
    {
      "cell_type": "code",
      "metadata": {
        "colab": {
          "base_uri": "https://localhost:8080/",
          "height": 173
        },
        "id": "8Hw4MpcMPcqH",
        "outputId": "6f06d92e-8cb7-483a-afa8-5304f3d03adf"
      },
      "source": [
        "M={'Clasificador':{},'Área Bajo la Curva':{},'Average precision':{}}\n",
        "M=pd.DataFrame(M)\n",
        "M['Clasificador']=['Clasificador Best SVM lineal','Clasificador Best SVM polinomial grado 2','Clasificador best SVM polinomial grado 3','Clasificador Best SVM RBF']\n",
        "M['Área Bajo la Curva']=[arearoc1,arearoc2,arearoc3,arearoc4]\n",
        "M['Average precision']=[precisionscore1,precisionscore2,precisionscore3,precisionscore4]\n",
        "M['Tasa de detección g']=[0.84,0.89,0.84,0.89]\n",
        "M['Tasa de detección h']=[0.72,0.74,0.78,0.79]\n",
        "\n",
        "M.head()"
      ],
      "execution_count": null,
      "outputs": [
        {
          "output_type": "execute_result",
          "data": {
            "text/html": [
              "<div>\n",
              "<style scoped>\n",
              "    .dataframe tbody tr th:only-of-type {\n",
              "        vertical-align: middle;\n",
              "    }\n",
              "\n",
              "    .dataframe tbody tr th {\n",
              "        vertical-align: top;\n",
              "    }\n",
              "\n",
              "    .dataframe thead th {\n",
              "        text-align: right;\n",
              "    }\n",
              "</style>\n",
              "<table border=\"1\" class=\"dataframe\">\n",
              "  <thead>\n",
              "    <tr style=\"text-align: right;\">\n",
              "      <th></th>\n",
              "      <th>Clasificador</th>\n",
              "      <th>Área Bajo la Curva</th>\n",
              "      <th>Average precision</th>\n",
              "      <th>Tasa de detección g</th>\n",
              "      <th>Tasa de detección h</th>\n",
              "    </tr>\n",
              "  </thead>\n",
              "  <tbody>\n",
              "    <tr>\n",
              "      <th>0</th>\n",
              "      <td>Clasificador Best SVM lineal</td>\n",
              "      <td>0.826555</td>\n",
              "      <td>0.848001</td>\n",
              "      <td>0.84</td>\n",
              "      <td>0.72</td>\n",
              "    </tr>\n",
              "    <tr>\n",
              "      <th>1</th>\n",
              "      <td>Clasificador Best SVM polinomial grado 2</td>\n",
              "      <td>0.901711</td>\n",
              "      <td>0.914185</td>\n",
              "      <td>0.89</td>\n",
              "      <td>0.74</td>\n",
              "    </tr>\n",
              "    <tr>\n",
              "      <th>2</th>\n",
              "      <td>Clasificador best SVM polinomial grado 3</td>\n",
              "      <td>0.883443</td>\n",
              "      <td>0.900907</td>\n",
              "      <td>0.84</td>\n",
              "      <td>0.78</td>\n",
              "    </tr>\n",
              "    <tr>\n",
              "      <th>3</th>\n",
              "      <td>Clasificador Best SVM RBF</td>\n",
              "      <td>0.913810</td>\n",
              "      <td>0.925635</td>\n",
              "      <td>0.89</td>\n",
              "      <td>0.79</td>\n",
              "    </tr>\n",
              "  </tbody>\n",
              "</table>\n",
              "</div>"
            ],
            "text/plain": [
              "                               Clasificador  ...  Tasa de detección h\n",
              "0              Clasificador Best SVM lineal  ...                 0.72\n",
              "1  Clasificador Best SVM polinomial grado 2  ...                 0.74\n",
              "2  Clasificador best SVM polinomial grado 3  ...                 0.78\n",
              "3                 Clasificador Best SVM RBF  ...                 0.79\n",
              "\n",
              "[4 rows x 5 columns]"
            ]
          },
          "metadata": {
            "tags": []
          },
          "execution_count": 33
        }
      ]
    },
    {
      "cell_type": "markdown",
      "metadata": {
        "id": "6w8_YiiyXobA"
      },
      "source": [
        "A partir de la tabla anterior, se puede observar que el \"**Clasificador Best SVM RBF**\" posee la mayor área bajo la curva, el mayor Average precision, y las mayores tasas de detección 'g' y 'h'. Por lo mencionado anteriomente, el mejor clasificador es el \"**Clasificador Best SVM RBF**\"."
      ]
    },
    {
      "cell_type": "markdown",
      "metadata": {
        "id": "hEEzI7qCEivF"
      },
      "source": [
        "# **Conclusiones:**\n",
        "\n",
        "En esta tarea se aprendio a separar el Dataset en los conjuntos de entrenamiento, validación y de prueba comprendiendo la función de cada uno de ellos:\n",
        "\n",
        "**Conjunto de entrenamiento**: Sirve para entrenar el clasificador y  obtener los mejores parámetros de este.\n",
        "\n",
        "**Conjunto de validación**: Se usa para obtener el desempeño preliminar del clasificador mediante curvas ROC, curvas precisión-recall y matrices de confusión.\n",
        "\n",
        "**Conjunto de prueba**:  Este conjunto permite evaluar el desempeño final del clasificador al compararlo con otros clasificadores. En este caso para comparar el clasificador lineal, polinomial y RBF.\n",
        "\n",
        "También, se aprendio a normalizar el dataset y  entrenar a los distintos clasificadores SVM utilizando la librería de Python “Scikit-learn”.\n",
        "\n",
        "Por otro lado, se reafirmaron los conocimientos en cuanto a métricas para medir el desempeño de un clasificador, es decir, curvas ROC, curvas precisión-recall y matrices de confusión.\n",
        "\n",
        "Se observo a partir del desempeño de estos clasificadores, que un clasificador RBF tiende a tener mejor desempeño que un polinomial y un polinomial mejor desempeño que uno lineal. Esto se asocia a que en la medida que se aumenta más la dimensión, el conjunto de datos tiende a ser “más separable linealmente\" mediante un hiperplano. \n",
        "\n",
        "Otro punto a tener en consideración son los tiempos de entrenamiento,el clasificador lineal fue el más rapido para entrenar y el más lento fue el clasificador polinomial.Y en la medida que el grado del polinomio aumenta, el tiempo de entrenamiento aumenta exponencialmente.\n",
        "\n",
        "En cuanto dificultades, la mayor fue encontrar en primera instancia el orden de los parámetros (decimales, unidades, centenas etc.) y luego encontrar el parámetro óptimo iterando sobre los mejores parámetros en cada entrenamiento.\n",
        "\n",
        "Finalmente, en este caso no hay modo de mejorar el desempeño de los algoritmos, ya que se utilizo una librería en donde los códigos de programación esta predefinidos.\n",
        "\n",
        "  "
      ]
    },
    {
      "cell_type": "code",
      "metadata": {
        "colab": {
          "base_uri": "https://localhost:8080/"
        },
        "id": "8-1p2226hEK6",
        "outputId": "2198c1e1-ab17-4b29-cc01-5987de43599c"
      },
      "source": [
        "!pwd"
      ],
      "execution_count": null,
      "outputs": [
        {
          "output_type": "stream",
          "text": [
            "/content\n"
          ],
          "name": "stdout"
        }
      ]
    },
    {
      "cell_type": "code",
      "metadata": {
        "colab": {
          "base_uri": "https://localhost:8080/"
        },
        "id": "a8M-1bdChVco",
        "outputId": "4ab4540e-6cf3-4f38-e114-2f06d5aae199"
      },
      "source": [
        "%cd /content/My Drive/"
      ],
      "execution_count": null,
      "outputs": [
        {
          "output_type": "stream",
          "text": [
            "[Errno 2] No such file or directory: '/content/My Drive/'\n",
            "/content\n"
          ],
          "name": "stdout"
        }
      ]
    },
    {
      "cell_type": "code",
      "metadata": {
        "colab": {
          "base_uri": "https://localhost:8080/"
        },
        "id": "qt3xSsX9efjW",
        "outputId": "efd2ae33-e332-40da-ebbe-dac687a8af2a"
      },
      "source": [
        "%cd /content/drive/My Drive/Colab "
      ],
      "execution_count": null,
      "outputs": [
        {
          "output_type": "stream",
          "text": [
            "[Errno 2] No such file or directory: '/content/drive/My Drive/Colab'\n",
            "/content\n"
          ],
          "name": "stdout"
        }
      ]
    },
    {
      "cell_type": "code",
      "metadata": {
        "colab": {
          "base_uri": "https://localhost:8080/"
        },
        "id": "mBQZoTa1YI1G",
        "outputId": "e903f3d2-36fa-4031-f11c-cc55eae97fac"
      },
      "source": [
        "!jupyter nbconvert --to pdf tarea2Inteligenciacomputacional.ipynb"
      ],
      "execution_count": null,
      "outputs": [
        {
          "output_type": "stream",
          "text": [
            "[NbConvertApp] WARNING | pattern u'tarea2Inteligenciacomputacional.ipynb' matched no files\n",
            "This application is used to convert notebook files (*.ipynb) to various other\n",
            "formats.\n",
            "\n",
            "WARNING: THE COMMANDLINE INTERFACE MAY CHANGE IN FUTURE RELEASES.\n",
            "\n",
            "Options\n",
            "-------\n",
            "\n",
            "Arguments that take values are actually convenience aliases to full\n",
            "Configurables, whose aliases are listed on the help line. For more information\n",
            "on full configurables, see '--help-all'.\n",
            "\n",
            "--execute\n",
            "    Execute the notebook prior to export.\n",
            "--allow-errors\n",
            "    Continue notebook execution even if one of the cells throws an error and include the error message in the cell output (the default behaviour is to abort conversion). This flag is only relevant if '--execute' was specified, too.\n",
            "--no-input\n",
            "    Exclude input cells and output prompts from converted document. \n",
            "    This mode is ideal for generating code-free reports.\n",
            "--stdout\n",
            "    Write notebook output to stdout instead of files.\n",
            "--stdin\n",
            "    read a single notebook file from stdin. Write the resulting notebook with default basename 'notebook.*'\n",
            "--inplace\n",
            "    Run nbconvert in place, overwriting the existing notebook (only \n",
            "    relevant when converting to notebook format)\n",
            "-y\n",
            "    Answer yes to any questions instead of prompting.\n",
            "--clear-output\n",
            "    Clear output of current file and save in place, \n",
            "    overwriting the existing notebook.\n",
            "--debug\n",
            "    set log level to logging.DEBUG (maximize logging output)\n",
            "--no-prompt\n",
            "    Exclude input and output prompts from converted document.\n",
            "--generate-config\n",
            "    generate default config file\n",
            "--nbformat=<Enum> (NotebookExporter.nbformat_version)\n",
            "    Default: 4\n",
            "    Choices: [1, 2, 3, 4]\n",
            "    The nbformat version to write. Use this to downgrade notebooks.\n",
            "--output-dir=<Unicode> (FilesWriter.build_directory)\n",
            "    Default: ''\n",
            "    Directory to write output(s) to. Defaults to output to the directory of each\n",
            "    notebook. To recover previous default behaviour (outputting to the current\n",
            "    working directory) use . as the flag value.\n",
            "--writer=<DottedObjectName> (NbConvertApp.writer_class)\n",
            "    Default: 'FilesWriter'\n",
            "    Writer class used to write the  results of the conversion\n",
            "--log-level=<Enum> (Application.log_level)\n",
            "    Default: 30\n",
            "    Choices: (0, 10, 20, 30, 40, 50, 'DEBUG', 'INFO', 'WARN', 'ERROR', 'CRITICAL')\n",
            "    Set the log level by value or name.\n",
            "--reveal-prefix=<Unicode> (SlidesExporter.reveal_url_prefix)\n",
            "    Default: u''\n",
            "    The URL prefix for reveal.js (version 3.x). This defaults to the reveal CDN,\n",
            "    but can be any url pointing to a copy  of reveal.js.\n",
            "    For speaker notes to work, this must be a relative path to a local  copy of\n",
            "    reveal.js: e.g., \"reveal.js\".\n",
            "    If a relative path is given, it must be a subdirectory of the current\n",
            "    directory (from which the server is run).\n",
            "    See the usage documentation\n",
            "    (https://nbconvert.readthedocs.io/en/latest/usage.html#reveal-js-html-\n",
            "    slideshow) for more details.\n",
            "--to=<Unicode> (NbConvertApp.export_format)\n",
            "    Default: 'html'\n",
            "    The export format to be used, either one of the built-in formats\n",
            "    ['asciidoc', 'custom', 'html', 'latex', 'markdown', 'notebook', 'pdf',\n",
            "    'python', 'rst', 'script', 'slides'] or a dotted object name that represents\n",
            "    the import path for an `Exporter` class\n",
            "--template=<Unicode> (TemplateExporter.template_file)\n",
            "    Default: u''\n",
            "    Name of the template file to use\n",
            "--output=<Unicode> (NbConvertApp.output_base)\n",
            "    Default: ''\n",
            "    overwrite base name use for output files. can only be used when converting\n",
            "    one notebook at a time.\n",
            "--post=<DottedOrNone> (NbConvertApp.postprocessor_class)\n",
            "    Default: u''\n",
            "    PostProcessor class used to write the results of the conversion\n",
            "--config=<Unicode> (JupyterApp.config_file)\n",
            "    Default: u''\n",
            "    Full path of a config file.\n",
            "\n",
            "To see all available configurables, use `--help-all`\n",
            "\n",
            "Examples\n",
            "--------\n",
            "\n",
            "    The simplest way to use nbconvert is\n",
            "    \n",
            "    > jupyter nbconvert mynotebook.ipynb\n",
            "    \n",
            "    which will convert mynotebook.ipynb to the default format (probably HTML).\n",
            "    \n",
            "    You can specify the export format with `--to`.\n",
            "    Options include ['asciidoc', 'custom', 'html', 'latex', 'markdown', 'notebook', 'pdf', 'python', 'rst', 'script', 'slides'].\n",
            "    \n",
            "    > jupyter nbconvert --to latex mynotebook.ipynb\n",
            "    \n",
            "    Both HTML and LaTeX support multiple output templates. LaTeX includes\n",
            "    'base', 'article' and 'report'.  HTML includes 'basic' and 'full'. You\n",
            "    can specify the flavor of the format used.\n",
            "    \n",
            "    > jupyter nbconvert --to html --template basic mynotebook.ipynb\n",
            "    \n",
            "    You can also pipe the output to stdout, rather than a file\n",
            "    \n",
            "    > jupyter nbconvert mynotebook.ipynb --stdout\n",
            "    \n",
            "    PDF is generated via latex\n",
            "    \n",
            "    > jupyter nbconvert mynotebook.ipynb --to pdf\n",
            "    \n",
            "    You can get (and serve) a Reveal.js-powered slideshow\n",
            "    \n",
            "    > jupyter nbconvert myslides.ipynb --to slides --post serve\n",
            "    \n",
            "    Multiple notebooks can be given at the command line in a couple of \n",
            "    different ways:\n",
            "    \n",
            "    > jupyter nbconvert notebook*.ipynb\n",
            "    > jupyter nbconvert notebook1.ipynb notebook2.ipynb\n",
            "    \n",
            "    or you can specify the notebooks list in a config file, containing::\n",
            "    \n",
            "        c.NbConvertApp.notebooks = [\"my_notebook.ipynb\"]\n",
            "    \n",
            "    > jupyter nbconvert --config mycfg.py\n",
            "\n"
          ],
          "name": "stdout"
        }
      ]
    }
  ]
}