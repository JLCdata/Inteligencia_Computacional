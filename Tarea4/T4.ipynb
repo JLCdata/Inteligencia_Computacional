{
  "nbformat": 4,
  "nbformat_minor": 0,
  "metadata": {
    "accelerator": "GPU",
    "colab": {
      "name": "tarea4ic.ipynb",
      "provenance": [],
      "collapsed_sections": []
    },
    "kernelspec": {
      "display_name": "Python 3",
      "name": "python3"
    },
    "language_info": {
      "name": "python"
    }
  },
  "cells": [
    {
      "cell_type": "markdown",
      "metadata": {
        "id": "i50TvQIr90uz"
      },
      "source": [
        "# **Tarea 4: Redes Neuronales Artificiales**\n",
        "**Nombre:** José Luis Cádiz\n",
        "\n",
        "**ReadMe:** Ejecutar todo el código, si se ejecuta solo una parte aislada pueden existir errores producto de que hay variables que se sobreescriben. "
      ]
    },
    {
      "cell_type": "markdown",
      "metadata": {
        "id": "_kmoJlzA-Zh0"
      },
      "source": [
        "# **Introducción:**"
      ]
    },
    {
      "cell_type": "markdown",
      "metadata": {
        "id": "ft56PQPo0XZP"
      },
      "source": [
        "**En el contexto del curso ''Inteligencia Computacional'', se presentará a continuación el desarrollo de la ''Tarea 4'' del curso. Esta tarea pretende implementar un clasificador de fallas de motores basado en análisis de \n",
        "señales de corriente, mediante redes neuronales artificiales. Se utilizará la base de datos Dataset for Sensorless Drive Diagnosis Data Set, que es una base de datos tomadas del UC Irvine Machine Learning Repository. Contiene 48 características extraídas de la señal de corriente que alimenta a un \n",
        "motor síncrono y hay 11 clases. Se usará pytorch para entrenar y validar la red neuronal que implementa el clasificador de fallas y también se usaran las librerías pandas, numpy, matplotlib, seaborn y scikit-learn para manipular, procesar y graficar los datos.**\n",
        "\n",
        "**A continuación se explica a grandes razgos lo que se realizará en la tarea: En la parte 1, se ejecutará el código base entregado, este código carga los\n",
        "archivos “sensorless_tarea4_train.txt” y “sensorless_tarea4_test.txt” en dos DataFrames, los cuales \n",
        "son usados a continuación para generar dos objetos Dataset. Los conjuntos de entrenamiento, \n",
        "validación y prueba tendrán DataLoaders, los cuales permiten acceder a los elementos de los \n",
        "Datasets mediante batches. Además, los datos se normalizaran. Finalmente, el código base permite \n",
        "entrenar una red neuronal, pero se deberá implementar la funcionalidad que evite el \n",
        "sobreajuste (overfitting) de la misma.**\n",
        "\n",
        "**En la parte 2, se entrenará una red neuronal para diversos escenarios considerando una capa de entrada de dimensionalidad 48 (correspondiente a los datos de entrada), capas ocultas (una o dos) y capa de salida con 11 neuronas. Además se deberá evitar el sobreajuste (overfitting) de la red y se mostraran los Loss en función de las epocas de entrenamiento, matrices de confusión y accuracies para el conjunto de entrenamiento y validación.** \n",
        "\n",
        "**En la parte 3, usando la mejor red encontrada en validación (aquella con mayor accuracy en validación), se calculará la \n",
        "matriz de confusión normalizada y el accuracy normalizado, usando el conjunto de prueba.**\n",
        "\n",
        "**En la parte 4, se análizaran de los resultados obtenidos explicando los efectos de variar la cantidad de neuronas en la capa oculta, la cantidad de capas ocultas y la función de activación en el desempeño de la red. Luego se análizaran los tiempos de entrenamiento, matrices de confusión y accuracies de \n",
        "las arquitecturas probadas en el conjunto de validación y prueba.**\n",
        "\n",
        "\n",
        "**Finalmente, se termina el documento con las conclusiones principales de esta experiencia.**"
      ]
    },
    {
      "cell_type": "markdown",
      "metadata": {
        "id": "v60NkqEK2MK6"
      },
      "source": [
        "# **Importando librerias:**"
      ]
    },
    {
      "cell_type": "code",
      "metadata": {
        "id": "ngqPb48j_xSk"
      },
      "source": [
        "# Importando librerias:\n",
        "import numpy as np\n",
        "from matplotlib import pyplot as plt\n",
        "import pandas as pd\n",
        "\n",
        "# Libreria sklearn:\n",
        "from sklearn import metrics\n",
        "from sklearn.metrics import plot_confusion_matrix\n",
        "from sklearn.metrics import confusion_matrix\n",
        "\n",
        "# Seaborn:\n",
        "import seaborn as sns\n",
        "\n",
        "# Para el calculo de tiempos de entrenamiento:\n",
        "import time\n"
      ],
      "execution_count": null,
      "outputs": []
    },
    {
      "cell_type": "markdown",
      "metadata": {
        "id": "rFCfZAbs-3Up"
      },
      "source": [
        "**Parte 1**"
      ]
    },
    {
      "cell_type": "markdown",
      "metadata": {
        "id": "HQs8QTH0zn_Z"
      },
      "source": [
        "**1)** Ejecute el código base entregado e indique si se ejecutó adecuadamente. Este código carga los\n",
        "archivos “sensorless_tarea4_train.txt” y “sensorless_tarea4_test.txt” en dos DataFrames, los cuales \n",
        "son usados a continuación para generar dos objetos Dataset. Los conjuntos de entrenamiento, \n",
        "validación y prueba tienen DataLoaders, los cuales permiten acceder a los elementos de los \n",
        "Datasets mediante batches. Además, los datos se normalizan. Finalmente, el código base permite \n",
        "entrenar una red neuronal, aunque se deberán implementar las funcionalidades que eviten el \n",
        "sobreajuste (overfitting) de la misma."
      ]
    },
    {
      "cell_type": "markdown",
      "metadata": {
        "id": "E2vAHSOvi7Hn"
      },
      "source": [
        "**Código Base:**"
      ]
    },
    {
      "cell_type": "code",
      "metadata": {
        "id": "faY-0NzYioZQ"
      },
      "source": [
        "import pandas as pd\n",
        "import torch\n",
        "import torch.nn as nn\n",
        "\n",
        "import numpy as np\n",
        "\n",
        "from torch.utils.data import random_split\n",
        "\n",
        "import sys"
      ],
      "execution_count": null,
      "outputs": []
    },
    {
      "cell_type": "markdown",
      "metadata": {
        "id": "fi3AQdmgVwtd"
      },
      "source": [
        "## Subir datasets de fallas de corriente"
      ]
    },
    {
      "cell_type": "code",
      "metadata": {
        "colab": {
          "resources": {
            "http://localhost:8080/nbextensions/google.colab/files.js": {
              "data": "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",
              "ok": true,
              "headers": [
                [
                  "content-type",
                  "application/javascript"
                ]
              ],
              "status": 200,
              "status_text": "OK"
            }
          },
          "base_uri": "https://localhost:8080/",
          "height": 74
        },
        "id": "kSYyW_bVVQuz",
        "outputId": "4bd4e6e1-225a-44bd-d833-65c801d44dad"
      },
      "source": [
        "# Se sube el conjunto train, que será posteriormente divido en conjunto de entrenamiento y validación:\n",
        "from google.colab import files\n",
        "uploaded = files.upload()  # sensorless_tarea4_train.txt"
      ],
      "execution_count": null,
      "outputs": [
        {
          "output_type": "display_data",
          "data": {
            "text/html": [
              "\n",
              "     <input type=\"file\" id=\"files-63f428d2-15eb-4df8-9331-482acecfa2e0\" name=\"files[]\" multiple disabled\n",
              "        style=\"border:none\" />\n",
              "     <output id=\"result-63f428d2-15eb-4df8-9331-482acecfa2e0\">\n",
              "      Upload widget is only available when the cell has been executed in the\n",
              "      current browser session. Please rerun this cell to enable.\n",
              "      </output>\n",
              "      <script src=\"/nbextensions/google.colab/files.js\"></script> "
            ],
            "text/plain": [
              "<IPython.core.display.HTML object>"
            ]
          },
          "metadata": {
            "tags": []
          }
        },
        {
          "output_type": "stream",
          "text": [
            "Saving sensorless_tarea4_train.txt to sensorless_tarea4_train.txt\n"
          ],
          "name": "stdout"
        }
      ]
    },
    {
      "cell_type": "code",
      "metadata": {
        "colab": {
          "resources": {
            "http://localhost:8080/nbextensions/google.colab/files.js": {
              "data": "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",
              "ok": true,
              "headers": [
                [
                  "content-type",
                  "application/javascript"
                ]
              ],
              "status": 200,
              "status_text": "OK"
            }
          },
          "base_uri": "https://localhost:8080/",
          "height": 74
        },
        "id": "Rh7_NhV2VdNO",
        "outputId": "c8b4c924-9f1c-4cea-8725-86e8296f7fe7"
      },
      "source": [
        "# Se sube el conjunto test:\n",
        "from google.colab import files\n",
        "uploaded = files.upload()  # sensorless_tarea4_test.txt"
      ],
      "execution_count": null,
      "outputs": [
        {
          "output_type": "display_data",
          "data": {
            "text/html": [
              "\n",
              "     <input type=\"file\" id=\"files-870be171-6834-43bc-be07-e0da02f079e7\" name=\"files[]\" multiple disabled\n",
              "        style=\"border:none\" />\n",
              "     <output id=\"result-870be171-6834-43bc-be07-e0da02f079e7\">\n",
              "      Upload widget is only available when the cell has been executed in the\n",
              "      current browser session. Please rerun this cell to enable.\n",
              "      </output>\n",
              "      <script src=\"/nbextensions/google.colab/files.js\"></script> "
            ],
            "text/plain": [
              "<IPython.core.display.HTML object>"
            ]
          },
          "metadata": {
            "tags": []
          }
        },
        {
          "output_type": "stream",
          "text": [
            "Saving sensorless_tarea4_test.txt to sensorless_tarea4_test.txt\n"
          ],
          "name": "stdout"
        }
      ]
    },
    {
      "cell_type": "markdown",
      "metadata": {
        "id": "rKJ_qwMmV9As"
      },
      "source": [
        "## Leer datasets de fallas de corriente"
      ]
    },
    {
      "cell_type": "code",
      "metadata": {
        "colab": {
          "base_uri": "https://localhost:8080/"
        },
        "id": "yMFbT5x8MChJ",
        "outputId": "11d9f951-9938-4552-82df-2c059bfde2a1"
      },
      "source": [
        "# Se muestran los conjuntos disponibles:\n",
        "!ls"
      ],
      "execution_count": null,
      "outputs": [
        {
          "output_type": "stream",
          "text": [
            "sample_data  sensorless_tarea4_test.txt  sensorless_tarea4_train.txt\n"
          ],
          "name": "stdout"
        }
      ]
    },
    {
      "cell_type": "code",
      "metadata": {
        "id": "-PY8i4KEZnnN"
      },
      "source": [
        "# Nombre de las columnas y se agregar el nombre de la columna 'class':\n",
        "column_names = [\"feat\" + str(i) for i in range(48)]\n",
        "column_names.append(\"class\")"
      ],
      "execution_count": null,
      "outputs": []
    },
    {
      "cell_type": "code",
      "metadata": {
        "id": "-Ps17buyVt-3"
      },
      "source": [
        "# Se lee el conjunto train como DataFrame:\n",
        "df_train_val = pd.read_csv('sensorless_tarea4_train.txt', names = column_names)\n",
        "df_train_val[\"class\"] = df_train_val[\"class\"] - 1   \n"
      ],
      "execution_count": null,
      "outputs": []
    },
    {
      "cell_type": "code",
      "metadata": {
        "id": "E7sXIE9mWOko"
      },
      "source": [
        "# Se lee el conjunto test como DataFrame:\n",
        "df_test = pd.read_csv('sensorless_tarea4_test.txt', names = column_names)\n",
        "df_test[\"class\"] = df_test[\"class\"] - 1"
      ],
      "execution_count": null,
      "outputs": []
    },
    {
      "cell_type": "markdown",
      "metadata": {
        "id": "s-3-bU2IxSA4"
      },
      "source": [
        "## Crear modelo"
      ]
    },
    {
      "cell_type": "code",
      "metadata": {
        "id": "SVqQYb9wcb27"
      },
      "source": [
        "# Implementación de red lineal:\n",
        "model = nn.Sequential(\n",
        "          nn.Linear(48, 11)\n",
        "        )"
      ],
      "execution_count": null,
      "outputs": []
    },
    {
      "cell_type": "code",
      "metadata": {
        "id": "CLBTy_3JdKhs"
      },
      "source": [
        "device = torch.device('cuda')  #Uso de GPU\n",
        "\n",
        "model = model.to(device)\n",
        "\n",
        "criterion = nn.CrossEntropyLoss()  #Función de perdida\n",
        "optimizer = torch.optim.Adam(model.parameters(), lr=1e-3)  #Optimizador"
      ],
      "execution_count": null,
      "outputs": []
    },
    {
      "cell_type": "markdown",
      "metadata": {
        "id": "KdHaG51qxcuI"
      },
      "source": [
        "## Crear datasets y dataloaders para pytorch"
      ]
    },
    {
      "cell_type": "code",
      "metadata": {
        "id": "htP8BlaJe41j"
      },
      "source": [
        "# Se crean los datasets:\n",
        "\n",
        "feats_train_val = df_train_val.to_numpy()[:,0:48].astype(np.float32)\n",
        "labels_train_val = df_train_val.to_numpy()[:,48].astype(int)\n",
        "dataset_train_val = [ {\"features\":feats_train_val[i,:], \"labels\":labels_train_val[i]} for i in range(feats_train_val.shape[0]) ]\n",
        "\n",
        "feats_test = df_test.to_numpy()[:,0:48].astype(np.float32)\n",
        "labels_test = df_test.to_numpy()[:,48].astype(int)\n",
        "dataset_test = [ {\"features\":feats_test[i,:], \"labels\":labels_test[i]} for i in range(feats_test.shape[0]) ]\n",
        "\n",
        "n_train = int(df_train_val.shape[0]*0.85)\n",
        "n_val = df_train_val.shape[0] - n_train\n",
        "\n",
        "dataset_train, dataset_val = random_split(dataset_train_val, [n_train, n_val])"
      ],
      "execution_count": null,
      "outputs": []
    },
    {
      "cell_type": "code",
      "metadata": {
        "id": "xBBrpwyNIADU"
      },
      "source": [
        "# Se normalizan los datos:\n",
        "\n",
        "fdata = []\n",
        "i = 0\n",
        "\n",
        "for x in dataset_train:\n",
        "  fdata.append(x['features'])\n",
        "\n",
        "fdata = np.array(fdata)\n",
        "\n",
        "fmean= np.mean(fdata, axis=0)\n",
        "fstd = np.std(fdata, axis=0)\n",
        "\n",
        "for x in dataset_train:\n",
        "  x['features'] = (x['features']-fmean) / fstd\n",
        "\n",
        "for x in dataset_val:\n",
        "  x['features'] = (x['features']-fmean) / fstd\n",
        "\n",
        "for x in dataset_test:\n",
        "  x['features'] = (x['features']-fmean) / fstd\n"
      ],
      "execution_count": null,
      "outputs": []
    },
    {
      "cell_type": "code",
      "metadata": {
        "id": "NBbi9klod9IE"
      },
      "source": [
        "# Se crean dataloaders:\n",
        "dataloader_train = torch.utils.data.DataLoader(dataset_train, batch_size=128, shuffle=True, num_workers=0)\n",
        "dataloader_val = torch.utils.data.DataLoader(dataset_val, batch_size=128, shuffle=True, num_workers=0)\n",
        "dataloader_test = torch.utils.data.DataLoader(dataset_test, batch_size=128, shuffle=True, num_workers=0)"
      ],
      "execution_count": null,
      "outputs": []
    },
    {
      "cell_type": "markdown",
      "metadata": {
        "id": "x-nVLEmvxlAQ"
      },
      "source": [
        "## Entrenamiento\n",
        "Se puede interrumpir con: Entorno de Ejecución -> interrumpir la ejecución"
      ]
    },
    {
      "cell_type": "code",
      "metadata": {
        "colab": {
          "base_uri": "https://localhost:8080/"
        },
        "id": "FeWnOtyOdijh",
        "outputId": "8f04db9c-06d1-4b6b-f16f-2796b3469da7"
      },
      "source": [
        "# Se entrena sobre 1000 épocas:\n",
        "\n",
        "for epoch in range(1000):\n",
        "    try:\n",
        "      sys.stdout.write(\"\\rÉpoca %d  \"  %(epoch)) # Se muestra la época actual\n",
        "      model.train()\n",
        "\n",
        "      # Entrenamiento de la epoca actual\n",
        "      for i, data in enumerate(dataloader_train, 0):\n",
        "          inputs = data[\"features\"].to(device)\n",
        "          labels = data[\"labels\"].to(device)\n",
        "\n",
        "          # zero the parameter gradients\n",
        "          optimizer.zero_grad()\n",
        "\n",
        "          # Etapa forward + backward + optimize\n",
        "          outputs = model(inputs)\n",
        "\n",
        "          loss = criterion(outputs, labels) # Se Calcula el Loss\n",
        "          loss.backward()\n",
        "          optimizer.step()\n",
        "\n",
        "      # Compute validation loss and accuracy for current epoch\n",
        "      model.eval()\n",
        "\n",
        "      with torch.no_grad():  \n",
        "        for i, data in enumerate(dataloader_val, 0):\n",
        "            inputs = data[\"features\"].to(device)\n",
        "            labels = data[\"labels\"].to(device)\n",
        "\n",
        "            outputs = model(inputs)\n",
        "            # Calcular loss de validación\n",
        "            \n",
        "      # Imprimir: numero de época, loss de entrenamiento y loss de validación\n",
        "      # Se debe usar sys.stdout.write() para que la línea de texto se sobreescriba en vez de imprimirse línea por línea\n",
        "      # No se debe guardar checkpoints en cada época (guardarlos cada 50 épocas)\n",
        "\n",
        "    except KeyboardInterrupt:\n",
        "      print(\"\\nEntrenamiento interrumpido\")\n",
        "      break\n",
        "\n",
        "print('\\nEntrenamiento finalizado')"
      ],
      "execution_count": null,
      "outputs": [
        {
          "output_type": "stream",
          "text": [
            "Época 999  \n",
            "Entrenamiento finalizado\n"
          ],
          "name": "stdout"
        }
      ]
    },
    {
      "cell_type": "markdown",
      "metadata": {
        "id": "Ak3aL3o7WA1f"
      },
      "source": [
        "**Código ejecutado correctamente**"
      ]
    },
    {
      "cell_type": "markdown",
      "metadata": {
        "id": "lf2N53ibzLlw"
      },
      "source": [
        "**Parte 2**"
      ]
    },
    {
      "cell_type": "markdown",
      "metadata": {
        "id": "E_KFREyBz8ax"
      },
      "source": [
        "Entrene una red neuronal para cada uno de los siguientes casos:\n",
        "\n",
        "a) 10 neuronas en la capa oculta, usando función de activación ReLU y 1000 épocas. \n",
        "\n",
        "b) 40 neuronas en la capa oculta y función de activación ReLU, y 1000 épocas.\n",
        "\n",
        "c) 10 neuronas en la capa oculta y función de activación Tanh, y 1000 épocas.\n",
        "\n",
        "d) 40 neuronas en la capa oculta y función de activación Tanh, y 1000 épocas.\n",
        "\n",
        "e) 2 capas ocultas con 10 y 10 neuronas cada una y función de activación ReLU, y 1000 épocas.\n",
        "\n",
        "f) 2 capas ocultas con 40 y 40 neuronas cada una y función de activación ReLU, y 1000 épocas.\n",
        "\n",
        "Para cada red a ser entrenada:\n",
        "\n",
        "i) Calcule el loss de entrenamiento y el de validación, así como el tiempo de procesamiento \n",
        "requerido. El entrenamiento se debe finalizar cuando el loss de validación comience a subir, \n",
        "para evitar sobreajuste de la red.\n",
        "\n",
        "ii) Grafique el loss de entrenamiento y el de validación en función del tiempo. Ambas curvas deben mostrarse en un mismo gráfico, colocando las leyendas adecuadas.\n",
        "\n",
        "iii) Genere la matriz de confusión normalizada y el accuracy normalizado, usando el conjunto de \n",
        "entrenamiento. Se debe mostrar la matriz de confusión con distintos colores o tonos de gris\n",
        "según el valor del accuracy. La matriz se debe calcular usando scikit-learn, usando la opción \n",
        "normalize = \"true\".\n",
        "\n",
        "iv) Genere la matriz de confusión normalizada y el accuracy normalizado, usando el conjunto de \n",
        "validación. Se debe mostrar la matriz de confusión con distintos colores según el valor del \n",
        "accuracy.\n"
      ]
    },
    {
      "cell_type": "markdown",
      "metadata": {
        "id": "mOkzzbkHzxQF"
      },
      "source": [
        " **a)**"
      ]
    },
    {
      "cell_type": "code",
      "metadata": {
        "id": "ZLRkPlxVz0kK"
      },
      "source": [
        "# Diseño del modelo de red:\n",
        "model_a = nn.Sequential(\n",
        "          nn.Linear(48, 10),\n",
        "          nn.ReLU(),\n",
        "          nn.Linear(10, 11)\n",
        ")"
      ],
      "execution_count": null,
      "outputs": []
    },
    {
      "cell_type": "code",
      "metadata": {
        "id": "2Jfp_KLxTuG2"
      },
      "source": [
        "device = torch.device('cuda')\n",
        "\n",
        "model_a = model_a.to(device)\n",
        "\n",
        "criterion = nn.CrossEntropyLoss()\n",
        "optimizer = torch.optim.Adam(model_a.parameters(), lr=1e-3)"
      ],
      "execution_count": null,
      "outputs": []
    },
    {
      "cell_type": "code",
      "metadata": {
        "colab": {
          "base_uri": "https://localhost:8080/"
        },
        "id": "UnLGzUKuAI8H",
        "outputId": "37a0a99c-d04f-4f01-bb5b-cfa4fe0c46de"
      },
      "source": [
        "# Entrenamiento:\n",
        "lista_loss_epoca_train=[] # Listas de Loss por época para el conjunto de entrenamiento\n",
        "lista_loss_epoca_val=[] # Listas de Loss por época para el conjunto de validación\n",
        "T1=time.time() # Tiempo Inicial\n",
        "for epoch in range(1000):\n",
        "    try:\n",
        "      model_a.train()\n",
        "      # Train on the current epoch\n",
        "      lista_loss_train=[] # Lista para guardar los Loss de cada batch\n",
        "      for i, data in enumerate(dataloader_train, 0): #Se itera sobre cada batch\n",
        "          inputs = data[\"features\"].to(device)\n",
        "          labels = data[\"labels\"].to(device)\n",
        "\n",
        "          # zero the parameter gradients\n",
        "          optimizer.zero_grad()\n",
        "\n",
        "          # forward + backward + optimize\n",
        "          outputs = model_a(inputs) # Clasificación\n",
        "\n",
        "          loss_train = criterion(outputs, labels) # Loss entrenamiento\n",
        "          lista_loss_train.append(loss_train.item()) # Se guardan loss de cada batch\n",
        "          loss_train.backward()\n",
        "          optimizer.step()\n",
        "      \n",
        "      # Compute validation loss and accuracy for current epoch\n",
        "      model_a.eval()\n",
        "\n",
        "      with torch.no_grad():  \n",
        "        lista_loss_val=[] #Lista para guardar los Loss de cada batch\n",
        "        for i, data in enumerate(dataloader_val, 0):\n",
        "            inputs = data[\"features\"].to(device)\n",
        "            labels = data[\"labels\"].to(device)\n",
        "\n",
        "            outputs = model_a(inputs) # Clasificación\n",
        "            loss_val = criterion(outputs, labels) #Loss validación\n",
        "            lista_loss_val.append(loss_val.item())\n",
        "                 \n",
        "      lista_loss_epoca_train.append(np.mean(lista_loss_train))  # Se promedian los Loss de los batch de cada epoca para obtener el Loss por época\n",
        "      lista_loss_epoca_val.append(np.mean(lista_loss_val))\n",
        "\n",
        "      # Imprimir: numero de época, loss de entrenamiento y loss de validación:\n",
        "      sys.stdout.write(\"\\rÉpoca %d , loss train: %.2f, loss validacion:%.2f\"  %(epoch,lista_loss_epoca_train[epoch],lista_loss_epoca_val[epoch]))\n",
        "      \n",
        "      #Check Point pesos sinapticos cada 50 épocas:\n",
        "      if epoch%50==0:\n",
        "        name=\"epoch_a_\"+str(epoch)\n",
        "        torch.save(model_a,name)\n",
        "        modelo_check_a=name  #Se guarda el último modelo guardado\n",
        "        epoca_check=epoch  #Se guarda la última epoca en donde se hizo check point para el grafico de Loss\n",
        "      \n",
        "      #Frenado overfitting:\n",
        "      if epoch>=50:\n",
        "        inicial_lista=lista_loss_epoca_val[epoch-50:epoch] # Lista con los Loss anteriores para época i-1\n",
        "        final_lista=lista_loss_epoca_val[epoch-49:epoch+1] # Lista con los Loss anteriores para época i\n",
        "        inicial=np.mean(inicial_lista) # Se obtiene el promedio de las 50 épocas de i-1\n",
        "        final=np.mean(final_lista) # Se obtiene el promedio de las 50 épocas de i\n",
        "        if final-inicial>0: # Si el promedio de i es mayor a i-1, el Loss efectivamente estará creciendo, por lo que se deja de entrenar\n",
        "          #Fin de Entrenamiento\n",
        "          break\n",
        "      \n",
        "      \n",
        "    except KeyboardInterrupt:\n",
        "      print(\"\\nEntrenamiento interrumpido\")\n",
        "\n",
        "      break\n",
        "    \n",
        "\n",
        "print('\\nEntrenamiento finalizado')\n",
        "\n",
        "#Tiempo de entrenamiento:\n",
        "T2=time.time()\n",
        "Ta=T2-T1\n",
        "print('Tiempo de entrenamiento: ' + str(round(Ta,1))+'[s]')"
      ],
      "execution_count": null,
      "outputs": [
        {
          "output_type": "stream",
          "text": [
            "Época 269 , loss train: 0.14, loss validacion:0.17\n",
            "Entrenamiento finalizado\n",
            "Tiempo de entrenamiento: 13.9[s]\n"
          ],
          "name": "stdout"
        }
      ]
    },
    {
      "cell_type": "markdown",
      "metadata": {
        "id": "YQ9s6yv-s7rC"
      },
      "source": [
        "**Para las siguientes partes de entrenamiento no se vuelve a enfatizar en la explicación del código ya que es analogo al anteriormente explicado.**"
      ]
    },
    {
      "cell_type": "code",
      "metadata": {
        "colab": {
          "base_uri": "https://localhost:8080/"
        },
        "id": "hVsq1IfFGfWe",
        "outputId": "f9cdf2ed-37e5-4f4f-aee9-6475abc72e79"
      },
      "source": [
        "# i)\n",
        "print('Epoca ultimo Check Point: '+str(epoca_check))\n",
        "print('Loss train ultimo Check Point: {:.2f} '.format(lista_loss_epoca_train[epoca_check]))  \n",
        "print('Loss validacion ultimo Check Point: {:.2f} '.format(lista_loss_epoca_val[epoca_check]))\n",
        "print('Tiempo de entrenamiento: '+str(round(Ta,1))+'[s]')\n"
      ],
      "execution_count": null,
      "outputs": [
        {
          "output_type": "stream",
          "text": [
            "Epoca ultimo Check Point: 250\n",
            "Loss train ultimo Check Point: 0.15 \n",
            "Loss validacion ultimo Check Point: 0.17 \n",
            "Tiempo de entrenamiento: 13.9[s]\n"
          ],
          "name": "stdout"
        }
      ]
    },
    {
      "cell_type": "code",
      "metadata": {
        "colab": {
          "base_uri": "https://localhost:8080/",
          "height": 295
        },
        "id": "1zsizrg1rQXp",
        "outputId": "49ffea6f-3055-4a46-cc81-59022a713b16"
      },
      "source": [
        "# ii)\n",
        "epocas=[i for i in range(0,epoca_check)]  # Lista con épocas hasta el ultimo Check Point para poder graficar\n",
        "plt.plot(epocas,lista_loss_epoca_train[0:epoca_check]) # Plot entrenamiento\n",
        "plt.plot(epocas,lista_loss_epoca_val[0:epoca_check]) # Plot validación\n",
        "plt.legend([\"Loss Entrenamiento\",\"Loss Validación\"], loc =\"upper right\")\n",
        "plt.title('Curvas Loss')\n",
        "plt.xlabel('# Epoch')\n",
        "plt.ylabel('Loss')\n",
        "plt.show()"
      ],
      "execution_count": null,
      "outputs": [
        {
          "output_type": "display_data",
          "data": {
            "image/png": "[encoded data removed]",
            "text/plain": [
              "<Figure size 432x288 with 1 Axes>"
            ]
          },
          "metadata": {
            "tags": [],
            "needs_background": "light"
          }
        }
      ]
    },
    {
      "cell_type": "markdown",
      "metadata": {
        "id": "KloAmF_Y1iTq"
      },
      "source": [
        "**Curva Loss de validación es mayor a la curva Loss de entrenamiento, lo cual concuerda con la teoría.**"
      ]
    },
    {
      "cell_type": "code",
      "metadata": {
        "id": "fGPIKF9b4ojc"
      },
      "source": [
        "# iii)\n",
        "# Conjunto de entrenamiento:\n",
        "model_a_check = torch.load(modelo_check_a) #Carga el modelo del último Check Point\n",
        "y_pred=[] # Lista para guardar predicción de clasificación\n",
        "y_true=[] # Lista para guardar clasificación verdadera\n",
        "model_a_check.eval()\n",
        "with torch.no_grad():\n",
        "  for i, data in enumerate(dataloader_train, 0): # Iteración sobre batch conjunto de entrenamiento\n",
        "    inputs = data[\"features\"].to(device) # Features\n",
        "    labels = data[\"labels\"].to(device)   # Labels\n",
        "    true=labels.cpu().tolist()    # Guardamos los labels como listas en la variable \"true\"\n",
        "    y_true.extend(true)  # Luego esta se incorpora a la lista \"y_true\"\n",
        "    outputs = model_a_check(inputs) # Se obtiene la salida de la red neuronal\n",
        "    output=outputs.cpu().numpy()  # outputs se transforman de tensor a numpy\n",
        "    list=[] # Lista para guardar clasificaciones de la red neuronal\n",
        "    for i in range(len(output)): # Para cada fila de la matriz clasificacion, se obtiene el indice asociado al valor máximo de la salida\n",
        "        list.append(np.argmax(output[i])) # Se obtiene la clasificacion, la cual se guarda en \"list\"\n",
        "    y_pred.extend(list) # Una vez que la lista es llenada con el batch completo, esta es concatenada en \"y_pred\""
      ],
      "execution_count": null,
      "outputs": []
    },
    {
      "cell_type": "code",
      "metadata": {
        "colab": {
          "base_uri": "https://localhost:8080/",
          "height": 331
        },
        "id": "C_bcj-OMhdiz",
        "outputId": "0f069fc6-dfc5-44d4-b594-305918d872eb"
      },
      "source": [
        "# Datos de la matriz de confusión:\n",
        "Confusion=confusion_matrix(y_true, y_pred,normalize='true') \n",
        "\n",
        "# Matriz de confusión:\n",
        "ax=sns.heatmap(Confusion, annot=True,fmt=\".2f\")\n",
        "ax.set_title('Matriz de confusion normalizada - conjunto de entrenamiento - item a)')\n",
        "plt.xlabel('Predict Label')\n",
        "plt.ylabel('True Label')\n",
        "\n",
        "# Accuracy:\n",
        "Accuracy_a= metrics.accuracy_score(y_true, y_pred)\n",
        "print('Accuracy: '+str(Accuracy_a))\n",
        "print('')"
      ],
      "execution_count": null,
      "outputs": [
        {
          "output_type": "stream",
          "text": [
            "Accuracy: 0.9551361386138614\n",
            "\n"
          ],
          "name": "stdout"
        },
        {
          "output_type": "display_data",
          "data": {
            "image/png": "[encoded data removed]",
            "text/plain": [
              "<Figure size 432x288 with 2 Axes>"
            ]
          },
          "metadata": {
            "tags": [],
            "needs_background": "light"
          }
        }
      ]
    },
    {
      "cell_type": "code",
      "metadata": {
        "id": "nYWDTxnrGkUy"
      },
      "source": [
        "# iv)\n",
        "# Conjunto de validación:\n",
        "model_a_check = torch.load(modelo_check_a) #Carga el modelo\n",
        "y_pred=[]\n",
        "y_true=[]\n",
        "model_a_check.eval()\n",
        "with torch.no_grad():\n",
        "  for i, data in enumerate(dataloader_val, 0):\n",
        "    inputs = data[\"features\"].to(device) # Features\n",
        "    labels = data[\"labels\"].to(device)   # Labels\n",
        "    true=labels.cpu().tolist()    # Guardamos los labels como listas en la variable \"true\"\n",
        "    y_true.extend(true)  # Luego esta se incorpora a la lista \"y_true\"\n",
        "    outputs = model_a_check(inputs) # Se obtiene la salida de la red neuronal\n",
        "    output=outputs.cpu().numpy()  # outputs se transforman de tensor a numpy\n",
        "    list=[]\n",
        "    for i in range(len(output)): # Para cada fila de la matriz clasificacion, se obtiene el indice asociado al valor maximo de la salida\n",
        "        list.append(np.argmax(output[i])) # Se obtiene la clasificacion, la cual se guarda en \"list\"\n",
        "    y_pred.extend(list) # Una vez que la lista es llenada con el batch completo, esta es concatenada en \"y_pred\""
      ],
      "execution_count": null,
      "outputs": []
    },
    {
      "cell_type": "code",
      "metadata": {
        "colab": {
          "base_uri": "https://localhost:8080/",
          "height": 331
        },
        "id": "Mv3-JXdGPI5P",
        "outputId": "2abc0843-f520-4280-cc4d-b3ce5f903685"
      },
      "source": [
        "# Datos de la matriz de confusión:\n",
        "Confusion=confusion_matrix(y_true, y_pred,normalize='true') \n",
        "\n",
        "# Matriz de confusión:\n",
        "ax=sns.heatmap(Confusion, annot=True,fmt=\".2f\")\n",
        "ax.set_title('Matriz de confusion normalizada - conjunto de validación - item a)')\n",
        "plt.xlabel('Predict Label')\n",
        "plt.ylabel('True Label')\n",
        "\n",
        "# Accuracy:\n",
        "Accuracy_a= metrics.accuracy_score(y_true, y_pred)\n",
        "print('Accuracy: '+str(Accuracy_a))\n",
        "print('')"
      ],
      "execution_count": null,
      "outputs": [
        {
          "output_type": "stream",
          "text": [
            "Accuracy: 0.9422066549912435\n",
            "\n"
          ],
          "name": "stdout"
        },
        {
          "output_type": "display_data",
          "data": {
            "image/png": "[encoded data removed]",
            "text/plain": [
              "<Figure size 432x288 with 2 Axes>"
            ]
          },
          "metadata": {
            "tags": [],
            "needs_background": "light"
          }
        }
      ]
    },
    {
      "cell_type": "markdown",
      "metadata": {
        "id": "d1lxmv6-xP5I"
      },
      "source": [
        "**Accuracy para el conjunto de validación disminuye respecto al calculado para el conjunto de entrenamiento y el desempeño de la matriz de confusión para validación también disminuye respecto al de entrenamiento, lo cual concuerda con la teoría al clasificar datos nuevos con los cuales no se entreno.**"
      ]
    },
    {
      "cell_type": "markdown",
      "metadata": {
        "id": "i2XmxCHgw0By"
      },
      "source": [
        "**El código explicado para los requerimientos i al iv no se explicarán con tanto enfasis en las proximas partes, ya que el código es análogo.**"
      ]
    },
    {
      "cell_type": "markdown",
      "metadata": {
        "id": "eUD5tnxiX_mf"
      },
      "source": [
        "**b)**"
      ]
    },
    {
      "cell_type": "code",
      "metadata": {
        "id": "5GSdhq_PZ_TU"
      },
      "source": [
        "# Diseño del modelo:\n",
        "model_b = nn.Sequential(\n",
        "          nn.Linear(48, 40),\n",
        "          nn.ReLU(),\n",
        "          nn.Linear(40, 11)\n",
        ")"
      ],
      "execution_count": null,
      "outputs": []
    },
    {
      "cell_type": "code",
      "metadata": {
        "id": "cdYCi-U-Z_TV"
      },
      "source": [
        "device = torch.device('cuda')\n",
        "\n",
        "model_b = model_b.to(device)\n",
        "\n",
        "criterion = nn.CrossEntropyLoss()\n",
        "optimizer = torch.optim.Adam(model_b.parameters(), lr=1e-3)"
      ],
      "execution_count": null,
      "outputs": []
    },
    {
      "cell_type": "code",
      "metadata": {
        "colab": {
          "base_uri": "https://localhost:8080/"
        },
        "id": "8zlHwQQvZ_TW",
        "outputId": "71da805d-c292-4c2e-f2f2-7939bd4fb298"
      },
      "source": [
        "# Código explicado en item a)\n",
        "lista_loss_epoca_train=[]\n",
        "lista_loss_epoca_val=[]\n",
        "T1=time.time()\n",
        "for epoch in range(1000):\n",
        "    try:\n",
        "      model_b.train()\n",
        "      # Train on the current epoch\n",
        "      lista_loss_train=[]\n",
        "      for i, data in enumerate(dataloader_train, 0):\n",
        "          inputs = data[\"features\"].to(device)\n",
        "          labels = data[\"labels\"].to(device)\n",
        "\n",
        "          # zero the parameter gradients\n",
        "          optimizer.zero_grad()\n",
        "\n",
        "          # forward + backward + optimize\n",
        "          outputs = model_b(inputs)\n",
        "\n",
        "          loss_train = criterion(outputs, labels) #Loss entrenamiento\n",
        "          lista_loss_train.append(loss_train.item())\n",
        "          loss_train.backward()\n",
        "          optimizer.step()\n",
        "      \n",
        "      # Compute validation loss and accuracy for current epoch\n",
        "      model_b.eval()\n",
        "\n",
        "      with torch.no_grad():  \n",
        "        lista_loss_val=[]\n",
        "        for i, data in enumerate(dataloader_val, 0):\n",
        "            inputs = data[\"features\"].to(device)\n",
        "            labels = data[\"labels\"].to(device)\n",
        "\n",
        "            outputs = model_b(inputs)\n",
        "            loss_val = criterion(outputs, labels) #Loss validación\n",
        "            lista_loss_val.append(loss_val.item())\n",
        "                 \n",
        "      lista_loss_epoca_train.append(np.mean(lista_loss_train))\n",
        "      lista_loss_epoca_val.append(np.mean(lista_loss_val))\n",
        "\n",
        "      # Imprimir: numero de época, loss de entrenamiento y loss de validación:\n",
        "      sys.stdout.write(\"\\rÉpoca %d , loss train: %.2f, loss validacion:%.2f\"  %(epoch,lista_loss_epoca_train[epoch],lista_loss_epoca_val[epoch]))\n",
        "      \n",
        "      #Check Point pesos sinapticos cada 50 épocas:\n",
        "      if epoch%50==0:\n",
        "        name=\"epoch_b_\"+str(epoch)\n",
        "        torch.save(model_b,name)\n",
        "        modelo_check_b=name  #Se guarda el ultimo modelo guardado\n",
        "        epoca_check=epoch  #Se guarda la ultima epoca en donde se hizo check point para el grafico de Loss\n",
        "      \n",
        "      #Frenado overfitting:\n",
        "      if epoch>=50:\n",
        "        inicial_lista=lista_loss_epoca_val[epoch-50:epoch]\n",
        "        final_lista=lista_loss_epoca_val[epoch-49:epoch+1]\n",
        "        inicial=np.mean(inicial_lista)\n",
        "        final=np.mean(final_lista)\n",
        "        if final-inicial>0:\n",
        "          #Fin de Entrenamiento\n",
        "          break\n",
        "      \n",
        "      \n",
        "    except KeyboardInterrupt:\n",
        "      print(\"\\nEntrenamiento interrumpido\")\n",
        "\n",
        "      break\n",
        "    \n",
        "\n",
        "print('\\nEntrenamiento finalizado')\n",
        "\n",
        "#Tiempo de entrenamiento:\n",
        "T2=time.time()\n",
        "Tb=T2-T1\n",
        "print('Tiempo de entrenamiento: ' + str(round(Tb,1))+'[s]')"
      ],
      "execution_count": null,
      "outputs": [
        {
          "output_type": "stream",
          "text": [
            "Época 161 , loss train: 0.05, loss validacion:0.14\n",
            "Entrenamiento finalizado\n",
            "Tiempo de entrenamiento: 8.5[s]\n"
          ],
          "name": "stdout"
        }
      ]
    },
    {
      "cell_type": "code",
      "metadata": {
        "colab": {
          "base_uri": "https://localhost:8080/"
        },
        "id": "MsVGnarEZ_TX",
        "outputId": "48253fea-d5af-4980-86b2-58f96a3fb722"
      },
      "source": [
        "# i)\n",
        "print('Epoca ultimo Check Point: '+str(epoca_check))\n",
        "print('Loss train ultimo Check Point: {:.2f} '.format(lista_loss_epoca_train[epoca_check]))  \n",
        "print('Loss validacion ultimo Check Point: {:.2f} '.format(lista_loss_epoca_val[epoca_check]))\n",
        "print('Tiempo de entrenamiento: '+str(round(Tb,1))+'[s]')\n"
      ],
      "execution_count": null,
      "outputs": [
        {
          "output_type": "stream",
          "text": [
            "Epoca ultimo Check Point: 150\n",
            "Loss train ultimo Check Point: 0.05 \n",
            "Loss validacion ultimo Check Point: 0.12 \n",
            "Tiempo de entrenamiento: 8.5[s]\n"
          ],
          "name": "stdout"
        }
      ]
    },
    {
      "cell_type": "code",
      "metadata": {
        "colab": {
          "base_uri": "https://localhost:8080/",
          "height": 295
        },
        "id": "NOiJr9G4Z_TY",
        "outputId": "96bc266f-647f-4cb8-8854-60b4daa17ea9"
      },
      "source": [
        "# ii)\n",
        "epocas=[i for i in range(0,epoca_check)]\n",
        "plt.plot(epocas,lista_loss_epoca_train[0:epoca_check])\n",
        "plt.plot(epocas,lista_loss_epoca_val[0:epoca_check])\n",
        "plt.legend([\"Loss Entrenamiento\",\"Loss Validación\"], loc =\"upper right\")\n",
        "plt.title('Curvas Loss')\n",
        "plt.xlabel('# Epoch')\n",
        "plt.ylabel('Loss')\n",
        "plt.show()"
      ],
      "execution_count": null,
      "outputs": [
        {
          "output_type": "display_data",
          "data": {
            "image/png": "[encoded data removed]",
            "text/plain": [
              "<Figure size 432x288 with 1 Axes>"
            ]
          },
          "metadata": {
            "tags": [],
            "needs_background": "light"
          }
        }
      ]
    },
    {
      "cell_type": "markdown",
      "metadata": {
        "id": "52eMJ1Ac15qc"
      },
      "source": [
        "**Curva Loss de validación es mayor a la curva Loss de entrenamiento, lo cual concuerda con la teoría.**"
      ]
    },
    {
      "cell_type": "code",
      "metadata": {
        "id": "I8LfHX1uZ_TY"
      },
      "source": [
        "# iii)\n",
        "# Conjunto de entrenamiento:\n",
        "model_b_check = torch.load(modelo_check_b) #Carga el modelo\n",
        "y_pred=[]\n",
        "y_true=[]\n",
        "model_b_check.eval()\n",
        "with torch.no_grad():\n",
        "  for i, data in enumerate(dataloader_train, 0):\n",
        "    inputs = data[\"features\"].to(device) # Features\n",
        "    labels = data[\"labels\"].to(device)   # Labels\n",
        "    true=labels.cpu().tolist()    # Guardamos los labels como listas en la variable \"true\"\n",
        "    y_true.extend(true)  # Luego esta se incorpora a la lista \"y_true\"\n",
        "    outputs = model_b_check(inputs) # Se obtiene la salida de la red neuronal\n",
        "    output=outputs.cpu().numpy()  # outputs se transforman de tensor a numpy\n",
        "    list=[]\n",
        "    for i in range(len(output)): # Para cada fila de la matriz clasificacion, se obtiene el indice asociado al valor maximo de la salida\n",
        "        list.append(np.argmax(output[i])) # Se obtiene la clasificacion, la cual se guarda en \"list\"\n",
        "    y_pred.extend(list) # Una vez que la lista es llenada con el batch completo, esta es concatenada en \"y_pred\""
      ],
      "execution_count": null,
      "outputs": []
    },
    {
      "cell_type": "code",
      "metadata": {
        "colab": {
          "base_uri": "https://localhost:8080/",
          "height": 331
        },
        "id": "ZTWQQ3yjZ_TZ",
        "outputId": "8ffc52cb-a0a0-49ce-9a21-a80b909b81de"
      },
      "source": [
        "# Datos de la matriz de confusión:\n",
        "Confusion=confusion_matrix(y_true, y_pred,normalize='true') \n",
        "\n",
        "# Matriz de confusión:\n",
        "ax=sns.heatmap(Confusion, annot=True,fmt=\".2f\")\n",
        "ax.set_title('Matriz de confusion normalizada - conjunto de entrenamiento - item b)')\n",
        "plt.xlabel('Predict Label')\n",
        "plt.ylabel('True Label')\n",
        "\n",
        "# Accuracy:\n",
        "Accuracy_b= metrics.accuracy_score(y_true, y_pred)\n",
        "print('Accuracy: '+str(Accuracy_b))\n",
        "print('')"
      ],
      "execution_count": null,
      "outputs": [
        {
          "output_type": "stream",
          "text": [
            "Accuracy: 0.9938118811881188\n",
            "\n"
          ],
          "name": "stdout"
        },
        {
          "output_type": "display_data",
          "data": {
            "image/png": "[encoded data removed]",
            "text/plain": [
              "<Figure size 432x288 with 2 Axes>"
            ]
          },
          "metadata": {
            "tags": [],
            "needs_background": "light"
          }
        }
      ]
    },
    {
      "cell_type": "code",
      "metadata": {
        "id": "QlfQ3Ke2Z_TZ"
      },
      "source": [
        "# iv)\n",
        "# Conjunto de validación:\n",
        "model_b_check = torch.load(modelo_check_b) #Carga el modelo\n",
        "y_pred=[]\n",
        "y_true=[]\n",
        "model_b_check.eval()\n",
        "with torch.no_grad():\n",
        "  for i, data in enumerate(dataloader_val, 0):\n",
        "    inputs = data[\"features\"].to(device) # Features\n",
        "    labels = data[\"labels\"].to(device)   # Labels\n",
        "    true=labels.cpu().tolist()    # Guardamos los labels como listas en la variable \"true\"\n",
        "    y_true.extend(true)  # Luego esta se incorpora a la lista \"y_true\"\n",
        "    outputs = model_b_check(inputs) # Se obtiene la salida de la red neuronal\n",
        "    output=outputs.cpu().numpy()  # outputs se transforman de tensor a numpy\n",
        "    list=[]\n",
        "    for i in range(len(output)): # Para cada fila de la matriz clasificacion, se obtiene el indice asociado al valor maximo de la salida\n",
        "        list.append(np.argmax(output[i])) # Se obtiene la clasificacion, la cual se guarda en \"list\"\n",
        "    y_pred.extend(list) # Una vez que la lista es llenada con el batch completo, esta es concatenada en \"y_pred\""
      ],
      "execution_count": null,
      "outputs": []
    },
    {
      "cell_type": "code",
      "metadata": {
        "colab": {
          "base_uri": "https://localhost:8080/",
          "height": 331
        },
        "id": "cdTFg_OtZ_Ta",
        "outputId": "f2f8648f-f12a-4900-80c0-377f0561a726"
      },
      "source": [
        "# Datos de la matriz de confusión:\n",
        "Confusion=confusion_matrix(y_true, y_pred,normalize='true') \n",
        "\n",
        "# Matriz de confusión:\n",
        "ax=sns.heatmap(Confusion, annot=True,fmt=\".2f\")\n",
        "ax.set_title('Matriz de confusion normalizada - conjunto de validación - item b)')\n",
        "plt.xlabel('Predict Label')\n",
        "plt.ylabel('True Label')\n",
        "\n",
        "# Accuracy:\n",
        "Accuracy_b= metrics.accuracy_score(y_true, y_pred)\n",
        "print('Accuracy: '+str(Accuracy_b))\n",
        "print('')"
      ],
      "execution_count": null,
      "outputs": [
        {
          "output_type": "stream",
          "text": [
            "Accuracy: 0.9667250437828371\n",
            "\n"
          ],
          "name": "stdout"
        },
        {
          "output_type": "display_data",
          "data": {
            "image/png": "[encoded data removed]",
            "text/plain": [
              "<Figure size 432x288 with 2 Axes>"
            ]
          },
          "metadata": {
            "tags": [],
            "needs_background": "light"
          }
        }
      ]
    },
    {
      "cell_type": "markdown",
      "metadata": {
        "id": "qKymt3Vs0qja"
      },
      "source": [
        "**Accuracy para el conjunto de validación disminuye respecto al calculado para el conjunto de entrenamiento y el desempeño de la matriz de confusión para validación también disminuye respecto al de entrenamiento, lo cual concuerda con la teoría al clasificar datos nuevos con los cuales no se entreno.**"
      ]
    },
    {
      "cell_type": "markdown",
      "metadata": {
        "id": "sf094B3PYCv-"
      },
      "source": [
        "**c)**"
      ]
    },
    {
      "cell_type": "code",
      "metadata": {
        "id": "teZjcZHlaD0K"
      },
      "source": [
        "# Diseño de la red:\n",
        "model_c = nn.Sequential(\n",
        "          nn.Linear(48, 10),\n",
        "          nn.Tanh(),\n",
        "          nn.Linear(10, 11)\n",
        ")"
      ],
      "execution_count": null,
      "outputs": []
    },
    {
      "cell_type": "code",
      "metadata": {
        "id": "dp8FqRoaaD0L"
      },
      "source": [
        "device = torch.device('cuda')\n",
        "\n",
        "model_c = model_c.to(device)\n",
        "\n",
        "criterion = nn.CrossEntropyLoss()\n",
        "optimizer = torch.optim.Adam(model_c.parameters(), lr=1e-3)"
      ],
      "execution_count": null,
      "outputs": []
    },
    {
      "cell_type": "code",
      "metadata": {
        "colab": {
          "base_uri": "https://localhost:8080/"
        },
        "id": "PkaumYnKaD0L",
        "outputId": "73619384-4d21-41ee-e9a8-bb56112af956"
      },
      "source": [
        "lista_loss_epoca_train=[]\n",
        "lista_loss_epoca_val=[]\n",
        "T1=time.time()\n",
        "for epoch in range(1000):\n",
        "    try:\n",
        "      model_c.train()\n",
        "      # Train on the current epoch\n",
        "      lista_loss_train=[]\n",
        "      for i, data in enumerate(dataloader_train, 0):\n",
        "          inputs = data[\"features\"].to(device)\n",
        "          labels = data[\"labels\"].to(device)\n",
        "\n",
        "          # zero the parameter gradients\n",
        "          optimizer.zero_grad()\n",
        "\n",
        "          # forward + backward + optimize\n",
        "          outputs = model_c(inputs)\n",
        "\n",
        "          loss_train = criterion(outputs, labels) #Loss entrenamiento\n",
        "          lista_loss_train.append(loss_train.item())\n",
        "          loss_train.backward()\n",
        "          optimizer.step()\n",
        "      \n",
        "      # Compute validation loss and accuracy for current epoch\n",
        "      model_c.eval()\n",
        "\n",
        "      with torch.no_grad():  \n",
        "        lista_loss_val=[]\n",
        "        for i, data in enumerate(dataloader_val, 0):\n",
        "            inputs = data[\"features\"].to(device)\n",
        "            labels = data[\"labels\"].to(device)\n",
        "\n",
        "            outputs = model_c(inputs)\n",
        "            loss_val = criterion(outputs, labels) #Loss validación\n",
        "            lista_loss_val.append(loss_val.item())\n",
        "                 \n",
        "      lista_loss_epoca_train.append(np.mean(lista_loss_train))\n",
        "      lista_loss_epoca_val.append(np.mean(lista_loss_val))\n",
        "\n",
        "      # Imprimir: numero de época, loss de entrenamiento y loss de validación:\n",
        "      sys.stdout.write(\"\\rÉpoca %d , loss train: %.2f, loss validacion:%.2f\"  %(epoch,lista_loss_epoca_train[epoch],lista_loss_epoca_val[epoch]))\n",
        "      \n",
        "      #Check Point pesos sinapticos cada 50 épocas:\n",
        "      if epoch%50==0:\n",
        "        name=\"epoch_c_\"+str(epoch)\n",
        "        torch.save(model_c,name)\n",
        "        modelo_check_c=name  #Se guarda el ultimo modelo guardado\n",
        "        epoca_check=epoch  #Se guarda la ultima epoca en donde se hizo check pointcorta para el grafico de Loss\n",
        "      \n",
        "      #Frenado overfitting:\n",
        "      if epoch>=50:\n",
        "        inicial_lista=lista_loss_epoca_val[epoch-50:epoch]\n",
        "        final_lista=lista_loss_epoca_val[epoch-49:epoch+1]\n",
        "        inicial=np.mean(inicial_lista)\n",
        "        final=np.mean(final_lista)\n",
        "        if final-inicial>0:\n",
        "          #Fin de Entrenamiento\n",
        "          break\n",
        "      \n",
        "      \n",
        "    except KeyboardInterrupt:\n",
        "      print(\"\\nEntrenamiento interrumpido\")\n",
        "\n",
        "      break\n",
        "    \n",
        "\n",
        "print('\\nEntrenamiento finalizado')\n",
        "\n",
        "#Tiempo de entrenamiento:\n",
        "T2=time.time()\n",
        "Tc=T2-T1\n",
        "print('Tiempo de entrenamiento: ' + str(round(Tc,1))+'[s]')"
      ],
      "execution_count": null,
      "outputs": [
        {
          "output_type": "stream",
          "text": [
            "Época 267 , loss train: 0.20, loss validacion:0.21\n",
            "Entrenamiento finalizado\n",
            "Tiempo de entrenamiento: 14.1[s]\n"
          ],
          "name": "stdout"
        }
      ]
    },
    {
      "cell_type": "code",
      "metadata": {
        "colab": {
          "base_uri": "https://localhost:8080/"
        },
        "id": "FEfDZyznaD0M",
        "outputId": "d9262448-f98a-47ab-fefd-e729bded2927"
      },
      "source": [
        "# i)\n",
        "print('Epoca ultimo Check Point: '+str(epoca_check))\n",
        "print('Loss train ultimo Check Point: {:.2f} '.format(lista_loss_epoca_train[epoca_check]))  \n",
        "print('Loss validacion ultimo Check Point: {:.2f} '.format(lista_loss_epoca_val[epoca_check]))\n",
        "print('Tiempo de entrenamiento: '+str(round(T2-T1,1))+'[s]')\n"
      ],
      "execution_count": null,
      "outputs": [
        {
          "output_type": "stream",
          "text": [
            "Epoca ultimo Check Point: 250\n",
            "Loss train ultimo Check Point: 0.20 \n",
            "Loss validacion ultimo Check Point: 0.21 \n",
            "Tiempo de entrenamiento: 14.1[s]\n"
          ],
          "name": "stdout"
        }
      ]
    },
    {
      "cell_type": "code",
      "metadata": {
        "colab": {
          "base_uri": "https://localhost:8080/",
          "height": 295
        },
        "id": "sUZY52mRaD0N",
        "outputId": "13f394a5-bb9e-45e7-aa69-d1e59f64b4b3"
      },
      "source": [
        "# ii)\n",
        "epocas=[i for i in range(0,epoca_check)]\n",
        "plt.plot(epocas,lista_loss_epoca_train[0:epoca_check])\n",
        "plt.plot(epocas,lista_loss_epoca_val[0:epoca_check])\n",
        "plt.legend([\"Loss Entrenamiento\",\"Loss Validación\"], loc =\"upper right\")\n",
        "plt.title('Curvas Loss')\n",
        "plt.xlabel('# Epoch')\n",
        "plt.ylabel('Loss')\n",
        "plt.show()"
      ],
      "execution_count": null,
      "outputs": [
        {
          "output_type": "display_data",
          "data": {
            "image/png": "[encoded data removed]",
            "text/plain": [
              "<Figure size 432x288 with 1 Axes>"
            ]
          },
          "metadata": {
            "tags": [],
            "needs_background": "light"
          }
        }
      ]
    },
    {
      "cell_type": "markdown",
      "metadata": {
        "id": "qtpkZN451947"
      },
      "source": [
        "**Curva Loss de validación es mayor a la curva Loss de entrenamiento, lo cual concuerda con la teoría.**"
      ]
    },
    {
      "cell_type": "code",
      "metadata": {
        "id": "oHIjVfACaD0N"
      },
      "source": [
        "# iii)\n",
        "# Conjunto de entrenamiento:\n",
        "model_c_check = torch.load(modelo_check_c) #Carga el modelo\n",
        "y_pred=[]\n",
        "y_true=[]\n",
        "model_c_check.eval()\n",
        "with torch.no_grad():\n",
        "  for i, data in enumerate(dataloader_train, 0):\n",
        "    inputs = data[\"features\"].to(device) # Features\n",
        "    labels = data[\"labels\"].to(device)   # Labels\n",
        "    true=labels.cpu().tolist()    # Guardamos los labels como listas en la variable \"true\"\n",
        "    y_true.extend(true)  # Luego esta se incorpora a la lista \"y_true\"\n",
        "    outputs = model_c_check(inputs) # Se obtiene la salida de la red neuronal\n",
        "    output=outputs.cpu().numpy()  # outputs se transforman de tensor a numpy\n",
        "    list=[]\n",
        "    for i in range(len(output)): # Para cada fila de la matriz clasificacion, se obtiene el indice asociado al valor maximo de la salida\n",
        "        list.append(np.argmax(output[i])) # Se obtiene la clasificacion, la cual se guarda en \"list\"\n",
        "    y_pred.extend(list) # Una vez que la lista es llenada con el batch completo, esta es concatenada en \"y_pred\""
      ],
      "execution_count": null,
      "outputs": []
    },
    {
      "cell_type": "code",
      "metadata": {
        "colab": {
          "base_uri": "https://localhost:8080/",
          "height": 331
        },
        "id": "JGjn1n3raD0O",
        "outputId": "2c2a25c3-5651-4c8c-ff9a-5b99a6cb30c9"
      },
      "source": [
        "# Datos de la matriz de confusión:\n",
        "Confusion=confusion_matrix(y_true, y_pred,normalize='true') \n",
        "\n",
        "# Matriz de confusión:\n",
        "ax=sns.heatmap(Confusion, annot=True,fmt=\".2f\")\n",
        "ax.set_title('Matriz de confusion normalizada - conjunto de entrenamiento - item c)')\n",
        "plt.xlabel('Predict Label')\n",
        "plt.ylabel('True Label')\n",
        "\n",
        "# Accuracy:\n",
        "Accuracy_c= metrics.accuracy_score(y_true, y_pred)\n",
        "print('Accuracy: '+str(Accuracy_c))\n",
        "print('')"
      ],
      "execution_count": null,
      "outputs": [
        {
          "output_type": "stream",
          "text": [
            "Accuracy: 0.9334777227722773\n",
            "\n"
          ],
          "name": "stdout"
        },
        {
          "output_type": "display_data",
          "data": {
            "image/png": "[encoded data removed]",
            "text/plain": [
              "<Figure size 432x288 with 2 Axes>"
            ]
          },
          "metadata": {
            "tags": [],
            "needs_background": "light"
          }
        }
      ]
    },
    {
      "cell_type": "code",
      "metadata": {
        "id": "Xi4QqhdAaD0O"
      },
      "source": [
        "# iv)\n",
        "# Conjunto de validación:\n",
        "model_c_check = torch.load(modelo_check_c) #Carga el modelo\n",
        "y_pred=[]\n",
        "y_true=[]\n",
        "model_c_check.eval()\n",
        "with torch.no_grad():\n",
        "  for i, data in enumerate(dataloader_val, 0):\n",
        "    inputs = data[\"features\"].to(device) # Features\n",
        "    labels = data[\"labels\"].to(device)   # Labels\n",
        "    true=labels.cpu().tolist()    # Guardamos los labels como listas en la variable \"true\"\n",
        "    y_true.extend(true)  # Luego esta se incorpora a la lista \"y_true\"\n",
        "    outputs = model_c_check(inputs) # Se obtiene la salida de la red neuronal\n",
        "    output=outputs.cpu().numpy()  # outputs se transforman de tensor a numpy\n",
        "    list=[]\n",
        "    for i in range(len(output)): # Para cada fila de la matriz clasificacion, se obtiene el indice asociado al valor maximo de la salida\n",
        "        list.append(np.argmax(output[i])) # Se obtiene la clasificacion, la cual se guarda en \"list\"\n",
        "    y_pred.extend(list) # Una vez que la lista es llenada con el batch completo, esta es concatenada en \"y_pred\""
      ],
      "execution_count": null,
      "outputs": []
    },
    {
      "cell_type": "code",
      "metadata": {
        "colab": {
          "base_uri": "https://localhost:8080/",
          "height": 331
        },
        "id": "gzWwgqH1aD0P",
        "outputId": "ab9d959e-59ca-413b-8d0b-eb37ad44cf96"
      },
      "source": [
        "# Datos de la matriz de confusión:\n",
        "Confusion=confusion_matrix(y_true, y_pred,normalize='true') \n",
        "\n",
        "# Matriz de confusión:\n",
        "ax=sns.heatmap(Confusion, annot=True,fmt=\".2f\")\n",
        "ax.set_title('Matriz de confusion normalizada - conjunto de validación - item c)')\n",
        "plt.xlabel('Predict Label')\n",
        "plt.ylabel('True Label')\n",
        "\n",
        "# Accuracy:\n",
        "Accuracy_c= metrics.accuracy_score(y_true, y_pred)\n",
        "print('Accuracy: '+str(Accuracy_c))\n",
        "print('')"
      ],
      "execution_count": null,
      "outputs": [
        {
          "output_type": "stream",
          "text": [
            "Accuracy: 0.9316987740805605\n",
            "\n"
          ],
          "name": "stdout"
        },
        {
          "output_type": "display_data",
          "data": {
            "image/png": "[encoded data removed]",
            "text/plain": [
              "<Figure size 432x288 with 2 Axes>"
            ]
          },
          "metadata": {
            "tags": [],
            "needs_background": "light"
          }
        }
      ]
    },
    {
      "cell_type": "markdown",
      "metadata": {
        "id": "lWgOaNub1N4g"
      },
      "source": [
        "**Accuracy para el conjunto de validación disminuye respecto al calculado para el conjunto de entrenamiento y el desempeño de la matriz de confusión para validación también disminuye respecto al de entrenamiento, lo cual concuerda con la teoría al clasificar datos nuevos con los cuales no se entreno.**"
      ]
    },
    {
      "cell_type": "markdown",
      "metadata": {
        "id": "XDEmPuU-YFYG"
      },
      "source": [
        "**d)**"
      ]
    },
    {
      "cell_type": "code",
      "metadata": {
        "id": "mzNBfWTRaKQo"
      },
      "source": [
        "# Diseño de la red:\n",
        "model_d = nn.Sequential(\n",
        "          nn.Linear(48, 40),\n",
        "          nn.Tanh(),\n",
        "          nn.Linear(40, 11)\n",
        ")"
      ],
      "execution_count": null,
      "outputs": []
    },
    {
      "cell_type": "code",
      "metadata": {
        "id": "Li7_NwAwaKQp"
      },
      "source": [
        "device = torch.device('cuda')\n",
        "\n",
        "model_d = model_d.to(device)\n",
        "\n",
        "criterion = nn.CrossEntropyLoss()\n",
        "optimizer = torch.optim.Adam(model_d.parameters(), lr=1e-3)"
      ],
      "execution_count": null,
      "outputs": []
    },
    {
      "cell_type": "code",
      "metadata": {
        "colab": {
          "base_uri": "https://localhost:8080/"
        },
        "id": "9ImIV9hIaKQp",
        "outputId": "8b47491a-2537-49a5-fe85-721bbb88bfc8"
      },
      "source": [
        "lista_loss_epoca_train=[]\n",
        "lista_loss_epoca_val=[]\n",
        "T1=time.time()\n",
        "for epoch in range(1000):\n",
        "    try:\n",
        "      model_d.train()\n",
        "      # Train on the current epoch\n",
        "      lista_loss_train=[]\n",
        "      for i, data in enumerate(dataloader_train, 0):\n",
        "          inputs = data[\"features\"].to(device)\n",
        "          labels = data[\"labels\"].to(device)\n",
        "\n",
        "          # zero the parameter gradients\n",
        "          optimizer.zero_grad()\n",
        "\n",
        "          # forward + backward + optimize\n",
        "          outputs = model_d(inputs)\n",
        "\n",
        "          loss_train = criterion(outputs, labels) #Loss entrenamiento\n",
        "          lista_loss_train.append(loss_train.item())\n",
        "          loss_train.backward()\n",
        "          optimizer.step()\n",
        "      \n",
        "      # Compute validation loss and accuracy for current epoch\n",
        "      model_d.eval()\n",
        "\n",
        "      with torch.no_grad():  \n",
        "        lista_loss_val=[]\n",
        "        for i, data in enumerate(dataloader_val, 0):\n",
        "            inputs = data[\"features\"].to(device)\n",
        "            labels = data[\"labels\"].to(device)\n",
        "\n",
        "            outputs = model_d(inputs)\n",
        "            loss_val = criterion(outputs, labels) #Loss validación\n",
        "            lista_loss_val.append(loss_val.item())\n",
        "                 \n",
        "      lista_loss_epoca_train.append(np.mean(lista_loss_train))\n",
        "      lista_loss_epoca_val.append(np.mean(lista_loss_val))\n",
        "\n",
        "      # Imprimir: numero de época, loss de entrenamiento y loss de validación:\n",
        "      sys.stdout.write(\"\\rÉpoca %d , loss train: %.2f, loss validacion:%.2f\"  %(epoch,lista_loss_epoca_train[epoch],lista_loss_epoca_val[epoch]))\n",
        "      \n",
        "      #Check Point pesos sinapticos cada 50 épocas:\n",
        "      if epoch%50==0:\n",
        "        name=\"epoch_d_\"+str(epoch)\n",
        "        torch.save(model_d,name)\n",
        "        modelo_check_d=name  #Se guarda el ultimo modelo guardado\n",
        "        epoca_check=epoch  #Se guarda la ultima epoca en donde se hizo check pointcorta para el grafico de Loss\n",
        "      \n",
        "      #Frenado overfitting:\n",
        "      if epoch>=50:\n",
        "        inicial_lista=lista_loss_epoca_val[epoch-50:epoch]\n",
        "        final_lista=lista_loss_epoca_val[epoch-49:epoch+1]\n",
        "        inicial=np.mean(inicial_lista)\n",
        "        final=np.mean(final_lista)\n",
        "        if final-inicial>0:\n",
        "          #Fin de Entrenamiento\n",
        "          break\n",
        "      \n",
        "      \n",
        "    except KeyboardInterrupt:\n",
        "      print(\"\\nEntrenamiento interrumpido\")\n",
        "\n",
        "      break\n",
        "    \n",
        "\n",
        "print('\\nEntrenamiento finalizado')\n",
        "\n",
        "#Tiempo de entrenamiento:\n",
        "T2=time.time()\n",
        "Td=T2-T1\n",
        "print('Tiempo de entrenamiento: ' + str(round(Td,1))+'[s]')"
      ],
      "execution_count": null,
      "outputs": [
        {
          "output_type": "stream",
          "text": [
            "Época 203 , loss train: 0.04, loss validacion:0.10\n",
            "Entrenamiento finalizado\n",
            "Tiempo de entrenamiento: 10.6[s]\n"
          ],
          "name": "stdout"
        }
      ]
    },
    {
      "cell_type": "code",
      "metadata": {
        "colab": {
          "base_uri": "https://localhost:8080/"
        },
        "id": "SnCuruq3aKQq",
        "outputId": "f9ce3883-6882-41a3-eeca-604fa8768b60"
      },
      "source": [
        "# i)\n",
        "print('Epoca ultimo Check Point: '+str(epoca_check))\n",
        "print('Loss train ultimo Check Point: {:.2f} '.format(lista_loss_epoca_train[epoca_check]))  \n",
        "print('Loss validacion ultimo Check Point: {:.2f} '.format(lista_loss_epoca_val[epoca_check]))\n",
        "print('Tiempo de entrenamiento: '+str(round(Td,1))+'[s]')\n"
      ],
      "execution_count": null,
      "outputs": [
        {
          "output_type": "stream",
          "text": [
            "Epoca ultimo Check Point: 200\n",
            "Loss train ultimo Check Point: 0.04 \n",
            "Loss validacion ultimo Check Point: 0.10 \n",
            "Tiempo de entrenamiento: 10.6[s]\n"
          ],
          "name": "stdout"
        }
      ]
    },
    {
      "cell_type": "code",
      "metadata": {
        "colab": {
          "base_uri": "https://localhost:8080/",
          "height": 295
        },
        "id": "1MvIXrDyaKQr",
        "outputId": "c7cec643-2f53-4996-e19c-2795c71ef524"
      },
      "source": [
        "# ii)\n",
        "epocas=[i for i in range(0,epoca_check)]\n",
        "plt.plot(epocas,lista_loss_epoca_train[0:epoca_check])\n",
        "plt.plot(epocas,lista_loss_epoca_val[0:epoca_check])\n",
        "plt.legend([\"Loss Entrenamiento\",\"Loss Validación\"], loc =\"upper right\")\n",
        "plt.title('Curvas Loss')\n",
        "plt.xlabel('# Epoch')\n",
        "plt.ylabel('Loss')\n",
        "plt.show()"
      ],
      "execution_count": null,
      "outputs": [
        {
          "output_type": "display_data",
          "data": {
            "image/png": "[encoded data removed]",
            "text/plain": [
              "<Figure size 432x288 with 1 Axes>"
            ]
          },
          "metadata": {
            "tags": [],
            "needs_background": "light"
          }
        }
      ]
    },
    {
      "cell_type": "markdown",
      "metadata": {
        "id": "TXbC0L7d2CXD"
      },
      "source": [
        "**Curva Loss de validación es mayor a la curva Loss de entrenamiento, lo cual concuerda con la teoría.**"
      ]
    },
    {
      "cell_type": "code",
      "metadata": {
        "id": "qYxT9ohGaKQs"
      },
      "source": [
        "# iii)\n",
        "# Conjunto de entrenamiento:\n",
        "model_d_check = torch.load(modelo_check_d) #Carga el modelo\n",
        "y_pred=[]\n",
        "y_true=[]\n",
        "model_d_check.eval()\n",
        "with torch.no_grad():\n",
        "  for i, data in enumerate(dataloader_train, 0):\n",
        "    inputs = data[\"features\"].to(device) # Features\n",
        "    labels = data[\"labels\"].to(device)   # Labels\n",
        "    true=labels.cpu().tolist()    # Guardamos los labels como listas en la variable \"true\"\n",
        "    y_true.extend(true)  # Luego esta se incorpora a la lista \"y_true\"\n",
        "    outputs = model_d_check(inputs) # Se obtiene la salida de la red neuronal\n",
        "    output=outputs.cpu().numpy()  # outputs se transforman de tensor a numpy\n",
        "    list=[]\n",
        "    for i in range(len(output)): # Para cada fila de la matriz clasificacion, se obtiene el indice asociado al valor maximo de la salida\n",
        "        list.append(np.argmax(output[i])) # Se obtiene la clasificacion, la cual se guarda en \"list\"\n",
        "    y_pred.extend(list) # Una vez que la lista es llenada con el batch completo, esta es concatenada en \"y_pred\""
      ],
      "execution_count": null,
      "outputs": []
    },
    {
      "cell_type": "code",
      "metadata": {
        "colab": {
          "base_uri": "https://localhost:8080/",
          "height": 331
        },
        "id": "nm2prYgEaKQs",
        "outputId": "b5746551-cd7c-4674-a58e-d0456af53c27"
      },
      "source": [
        "# Datos de la matriz de confusión:\n",
        "Confusion=confusion_matrix(y_true, y_pred,normalize='true') \n",
        "\n",
        "# Matriz de confusión:\n",
        "ax=sns.heatmap(Confusion, annot=True,fmt=\".2f\")\n",
        "ax.set_title('Matriz de confusion normalizada - conjunto de entrenamiento - item d)')\n",
        "plt.xlabel('Predict Label')\n",
        "plt.ylabel('True Label')\n",
        "\n",
        "# Accuracy:\n",
        "Accuracy_d= metrics.accuracy_score(y_true, y_pred)\n",
        "print('Accuracy: '+str(Accuracy_d))\n",
        "print('')"
      ],
      "execution_count": null,
      "outputs": [
        {
          "output_type": "stream",
          "text": [
            "Accuracy: 0.9975247524752475\n",
            "\n"
          ],
          "name": "stdout"
        },
        {
          "output_type": "display_data",
          "data": {
            "image/png": "[encoded data removed]",
            "text/plain": [
              "<Figure size 432x288 with 2 Axes>"
            ]
          },
          "metadata": {
            "tags": [],
            "needs_background": "light"
          }
        }
      ]
    },
    {
      "cell_type": "code",
      "metadata": {
        "id": "pnpuBOvMaKQs"
      },
      "source": [
        "# iv)\n",
        "# Conjunto de validación:\n",
        "model_d_check = torch.load(modelo_check_d) #Carga el modelo\n",
        "y_pred=[]\n",
        "y_true=[]\n",
        "model_d_check.eval()\n",
        "with torch.no_grad():\n",
        "  for i, data in enumerate(dataloader_val, 0):\n",
        "    inputs = data[\"features\"].to(device) # Features\n",
        "    labels = data[\"labels\"].to(device)   # Labels\n",
        "    true=labels.cpu().tolist()    # Guardamos los labels como listas en la variable \"true\"\n",
        "    y_true.extend(true)  # Luego esta se incorpora a la lista \"y_true\"\n",
        "    outputs = model_d_check(inputs) # Se obtiene la salida de la red neuronal\n",
        "    output=outputs.cpu().numpy()  # outputs se transforman de tensor a numpy\n",
        "    list=[]\n",
        "    for i in range(len(output)): # Para cada fila de la matriz clasificacion, se obtiene el indice asociado al valor maximo de la salida\n",
        "        list.append(np.argmax(output[i])) # Se obtiene la clasificacion, la cual se guarda en \"list\"\n",
        "    y_pred.extend(list) # Una vez que la lista es llenada con el batch completo, esta es concatenada en \"y_pred\""
      ],
      "execution_count": null,
      "outputs": []
    },
    {
      "cell_type": "code",
      "metadata": {
        "colab": {
          "base_uri": "https://localhost:8080/",
          "height": 331
        },
        "id": "DV3PG4SfaKQt",
        "outputId": "2c7a4f34-d11f-4bfa-9a7f-2e7e174163d7"
      },
      "source": [
        "# Datos de la matriz de confusión:\n",
        "Confusion=confusion_matrix(y_true, y_pred,normalize='true') \n",
        "\n",
        "# Matriz de confusión:\n",
        "ax=sns.heatmap(Confusion, annot=True,fmt=\".2f\")\n",
        "ax.set_title('Matriz de confusion normalizada - conjunto de validación - item d)')\n",
        "plt.xlabel('Predict Label')\n",
        "plt.ylabel('True Label')\n",
        "\n",
        "# Accuracy:\n",
        "Accuracy_d= metrics.accuracy_score(y_true, y_pred)\n",
        "print('Accuracy: '+str(Accuracy_d))\n",
        "print('')"
      ],
      "execution_count": null,
      "outputs": [
        {
          "output_type": "stream",
          "text": [
            "Accuracy: 0.9702276707530648\n",
            "\n"
          ],
          "name": "stdout"
        },
        {
          "output_type": "display_data",
          "data": {
            "image/png": "[encoded data removed]",
            "text/plain": [
              "<Figure size 432x288 with 2 Axes>"
            ]
          },
          "metadata": {
            "tags": [],
            "needs_background": "light"
          }
        }
      ]
    },
    {
      "cell_type": "markdown",
      "metadata": {
        "id": "_Qg-c0Rv2bDE"
      },
      "source": [
        "**Accuracy para el conjunto de validación disminuye respecto al calculado para el conjunto de entrenamiento y el desempeño de la matriz de confusión para validación también disminuye respecto al de entrenamiento, lo cual concuerda con la teoría al clasificar datos nuevos con los cuales no se entreno.**"
      ]
    },
    {
      "cell_type": "markdown",
      "metadata": {
        "id": "48cp6KT3YHU3"
      },
      "source": [
        "**e)**"
      ]
    },
    {
      "cell_type": "code",
      "metadata": {
        "id": "AIOdJq5kaLXN"
      },
      "source": [
        "# Diseño de la red:\n",
        "model_e = nn.Sequential(\n",
        "          nn.Linear(48, 10),\n",
        "          nn.ReLU(),\n",
        "          nn.Linear(10, 10),\n",
        "          nn.ReLU(),\n",
        "          nn.Linear(10, 11)\n",
        ")"
      ],
      "execution_count": null,
      "outputs": []
    },
    {
      "cell_type": "code",
      "metadata": {
        "id": "JI3DUxdMaLXO"
      },
      "source": [
        "device = torch.device('cuda')\n",
        "\n",
        "model_e = model_e.to(device)\n",
        "\n",
        "criterion = nn.CrossEntropyLoss()\n",
        "optimizer = torch.optim.Adam(model_e.parameters(), lr=1e-3)"
      ],
      "execution_count": null,
      "outputs": []
    },
    {
      "cell_type": "code",
      "metadata": {
        "colab": {
          "base_uri": "https://localhost:8080/"
        },
        "id": "sGYRl7cIaLXO",
        "outputId": "5ebc837c-c8e6-47f2-e156-80f4ad2e08b7"
      },
      "source": [
        "lista_loss_epoca_train=[]\n",
        "lista_loss_epoca_val=[]\n",
        "T1=time.time()\n",
        "for epoch in range(1000):\n",
        "    try:\n",
        "      model_e.train()\n",
        "      # Train on the current epoch\n",
        "      lista_loss_train=[]\n",
        "      for i, data in enumerate(dataloader_train, 0):\n",
        "          inputs = data[\"features\"].to(device)\n",
        "          labels = data[\"labels\"].to(device)\n",
        "\n",
        "          # zero the parameter gradients\n",
        "          optimizer.zero_grad()\n",
        "\n",
        "          # forward + backward + optimize\n",
        "          outputs = model_e(inputs)\n",
        "\n",
        "          loss_train = criterion(outputs, labels) #Loss entrenamiento\n",
        "          lista_loss_train.append(loss_train.item())\n",
        "          loss_train.backward()\n",
        "          optimizer.step()\n",
        "      \n",
        "      # Compute validation loss and accuracy for current epoch\n",
        "      model_e.eval()\n",
        "\n",
        "      with torch.no_grad():  \n",
        "        lista_loss_val=[]\n",
        "        for i, data in enumerate(dataloader_val, 0):\n",
        "            inputs = data[\"features\"].to(device)\n",
        "            labels = data[\"labels\"].to(device)\n",
        "\n",
        "            outputs = model_e(inputs)\n",
        "            loss_val = criterion(outputs, labels) #Loss validación\n",
        "            lista_loss_val.append(loss_val.item())\n",
        "                 \n",
        "      lista_loss_epoca_train.append(np.mean(lista_loss_train))\n",
        "      lista_loss_epoca_val.append(np.mean(lista_loss_val))\n",
        "\n",
        "      # Imprimir: numero de época, loss de entrenamiento y loss de validación:\n",
        "      sys.stdout.write(\"\\rÉpoca %d , loss train: %.2f, loss validacion:%.2f\"  %(epoch,lista_loss_epoca_train[epoch],lista_loss_epoca_val[epoch]))\n",
        "      \n",
        "      #Check Point pesos sinapticos cada 50 épocas:\n",
        "      if epoch%50==0:\n",
        "        name=\"epoch_e_\"+str(epoch)\n",
        "        torch.save(model_e,name)\n",
        "        modelo_check_e=name  #Se guarda el ultimo modelo guardado\n",
        "        epoca_check=epoch  #Se guarda la ultima epoca en donde se hizo check pointcorta para el grafico de Loss\n",
        "      \n",
        "      #Frenado overfitting:\n",
        "      if epoch>=50:\n",
        "        inicial_lista=lista_loss_epoca_val[epoch-50:epoch]\n",
        "        final_lista=lista_loss_epoca_val[epoch-49:epoch+1]\n",
        "        inicial=np.mean(inicial_lista)\n",
        "        final=np.mean(final_lista)\n",
        "        if final-inicial>0:\n",
        "          #Fin de Entrenamiento\n",
        "          break\n",
        "      \n",
        "      \n",
        "    except KeyboardInterrupt:\n",
        "      print(\"\\nEntrenamiento interrumpido\")\n",
        "\n",
        "      break\n",
        "    \n",
        "\n",
        "print('\\nEntrenamiento finalizado')\n",
        "\n",
        "#Tiempo de entrenamiento:\n",
        "T2=time.time()\n",
        "Te=T2-T1\n",
        "print('Tiempo de entrenamiento: ' + str(round(Te,1))+'[s]')"
      ],
      "execution_count": null,
      "outputs": [
        {
          "output_type": "stream",
          "text": [
            "Época 162 , loss train: 0.14, loss validacion:0.16\n",
            "Entrenamiento finalizado\n",
            "Tiempo de entrenamiento: 10.1[s]\n"
          ],
          "name": "stdout"
        }
      ]
    },
    {
      "cell_type": "code",
      "metadata": {
        "colab": {
          "base_uri": "https://localhost:8080/"
        },
        "id": "tB0qNJnhaLXP",
        "outputId": "8fdfa76e-9a54-4a29-ec2c-49a197b5f17d"
      },
      "source": [
        "# i)\n",
        "print('Epoca ultimo Check Point: '+str(epoca_check))\n",
        "print('Loss train ultimo Check Point: {:.2f} '.format(lista_loss_epoca_train[epoca_check]))  \n",
        "print('Loss validacion ultimo Check Point: {:.2f} '.format(lista_loss_epoca_val[epoca_check]))\n",
        "print('Tiempo de entrenamiento: '+str(round(Te,1))+'[s]')\n"
      ],
      "execution_count": null,
      "outputs": [
        {
          "output_type": "stream",
          "text": [
            "Epoca ultimo Check Point: 150\n",
            "Loss train ultimo Check Point: 0.14 \n",
            "Loss validacion ultimo Check Point: 0.16 \n",
            "Tiempo de entrenamiento: 10.1[s]\n"
          ],
          "name": "stdout"
        }
      ]
    },
    {
      "cell_type": "code",
      "metadata": {
        "colab": {
          "base_uri": "https://localhost:8080/",
          "height": 295
        },
        "id": "--TSXH85aLXP",
        "outputId": "f0358a1e-9e97-45d6-d5e4-124c2807dcb8"
      },
      "source": [
        "# ii)\n",
        "epocas=[i for i in range(0,epoca_check)]\n",
        "plt.plot(epocas,lista_loss_epoca_train[0:epoca_check])\n",
        "plt.plot(epocas,lista_loss_epoca_val[0:epoca_check])\n",
        "plt.legend([\"Loss Entrenamiento\",\"Loss Validación\"], loc =\"upper right\")\n",
        "plt.title('Curvas Loss')\n",
        "plt.xlabel('# Epoch')\n",
        "plt.ylabel('Loss')\n",
        "plt.show()"
      ],
      "execution_count": null,
      "outputs": [
        {
          "output_type": "display_data",
          "data": {
            "image/png": "[encoded data removed]",
            "text/plain": [
              "<Figure size 432x288 with 1 Axes>"
            ]
          },
          "metadata": {
            "tags": [],
            "needs_background": "light"
          }
        }
      ]
    },
    {
      "cell_type": "markdown",
      "metadata": {
        "id": "JVoSTWvB2IOi"
      },
      "source": [
        "**Curva Loss de validación es mayor a la curva Loss de entrenamiento, lo cual concuerda con la teoría.**"
      ]
    },
    {
      "cell_type": "code",
      "metadata": {
        "id": "_af9QX8caLXQ"
      },
      "source": [
        "# iii)\n",
        "# Conjunto de entrenamiento:\n",
        "model_e_check = torch.load(modelo_check_e) #Carga el modelo\n",
        "y_pred=[]\n",
        "y_true=[]\n",
        "model_e_check.eval()\n",
        "with torch.no_grad():\n",
        "  for i, data in enumerate(dataloader_train, 0):\n",
        "    inputs = data[\"features\"].to(device) # Features\n",
        "    labels = data[\"labels\"].to(device)   # Labels\n",
        "    true=labels.cpu().tolist()    # Guardamos los labels como listas en la variable \"true\"\n",
        "    y_true.extend(true)  # Luego esta se incorpora a la lista \"y_true\"\n",
        "    outputs = model_e_check(inputs) # Se obtiene la salida de la red neuronal\n",
        "    output=outputs.cpu().numpy()  # outputs se transforman de tensor a numpy\n",
        "    list=[]\n",
        "    for i in range(len(output)): # Para cada fila de la matriz clasificacion, se obtiene el indice asociado al valor maximo de la salida\n",
        "        list.append(np.argmax(output[i])) # Se obtiene la clasificacion, la cual se guarda en \"list\"\n",
        "    y_pred.extend(list) # Una vez que la lista es llenada con el batch completo, esta es concatenada en \"y_pred\""
      ],
      "execution_count": null,
      "outputs": []
    },
    {
      "cell_type": "code",
      "metadata": {
        "colab": {
          "base_uri": "https://localhost:8080/",
          "height": 331
        },
        "id": "_cT2h_bNaLXQ",
        "outputId": "be909b12-1ffa-4277-b4cc-b4eff0186bfd"
      },
      "source": [
        "# Datos de la matriz de confusión:\n",
        "Confusion=confusion_matrix(y_true, y_pred,normalize='true') \n",
        "\n",
        "# Matriz de confusión:\n",
        "ax=sns.heatmap(Confusion, annot=True,fmt=\".2f\")\n",
        "ax.set_title('Matriz de confusion normalizada - conjunto de entrenamiento - item e)')\n",
        "plt.xlabel('Predict Label')\n",
        "plt.ylabel('True Label')\n",
        "\n",
        "# Accuracy:\n",
        "Accuracy_e= metrics.accuracy_score(y_true, y_pred)\n",
        "print('Accuracy: '+str(Accuracy_e))\n",
        "print('')"
      ],
      "execution_count": null,
      "outputs": [
        {
          "output_type": "stream",
          "text": [
            "Accuracy: 0.9545173267326733\n",
            "\n"
          ],
          "name": "stdout"
        },
        {
          "output_type": "display_data",
          "data": {
            "image/png": "[encoded data removed]",
            "text/plain": [
              "<Figure size 432x288 with 2 Axes>"
            ]
          },
          "metadata": {
            "tags": [],
            "needs_background": "light"
          }
        }
      ]
    },
    {
      "cell_type": "code",
      "metadata": {
        "id": "kOrUWH4iaLXR"
      },
      "source": [
        "# iv)\n",
        "# Conjunto de validación:\n",
        "model_e_check = torch.load(modelo_check_e) #Carga el modelo\n",
        "y_pred=[]\n",
        "y_true=[]\n",
        "model_e_check.eval()\n",
        "with torch.no_grad():\n",
        "  for i, data in enumerate(dataloader_val, 0):\n",
        "    inputs = data[\"features\"].to(device) # Features\n",
        "    labels = data[\"labels\"].to(device)   # Labels\n",
        "    true=labels.cpu().tolist()    # Guardamos los labels como listas en la variable \"true\"\n",
        "    y_true.extend(true)  # Luego esta se incorpora a la lista \"y_true\"\n",
        "    outputs = model_e_check(inputs) # Se obtiene la salida de la red neuronal\n",
        "    output=outputs.cpu().numpy()  # outputs se transforman de tensor a numpy\n",
        "    list=[]\n",
        "    for i in range(len(output)): # Para cada fila de la matriz clasificacion, se obtiene el indice asociado al valor maximo de la salida\n",
        "        list.append(np.argmax(output[i])) # Se obtiene la clasificacion, la cual se guarda en \"list\"\n",
        "    y_pred.extend(list) # Una vez que la lista es llenada con el batch completo, esta es concatenada en \"y_pred\""
      ],
      "execution_count": null,
      "outputs": []
    },
    {
      "cell_type": "code",
      "metadata": {
        "colab": {
          "base_uri": "https://localhost:8080/",
          "height": 331
        },
        "id": "HPYgNQ9saLXR",
        "outputId": "84ecc7bd-5606-4641-9d49-3cfb141d070f"
      },
      "source": [
        "# Datos de la matriz de confusión:\n",
        "Confusion=confusion_matrix(y_true, y_pred,normalize='true') \n",
        "\n",
        "# Matriz de confusión:\n",
        "ax=sns.heatmap(Confusion, annot=True,fmt=\".2f\")\n",
        "ax.set_title('Matriz de confusion normalizada - conjunto de validación - item e)')\n",
        "plt.xlabel('Predict Label')\n",
        "plt.ylabel('True Label')\n",
        "\n",
        "# Accuracy:\n",
        "Accuracy_e= metrics.accuracy_score(y_true, y_pred)\n",
        "print('Accuracy: '+str(Accuracy_e))\n",
        "print('')"
      ],
      "execution_count": null,
      "outputs": [
        {
          "output_type": "stream",
          "text": [
            "Accuracy: 0.9422066549912435\n",
            "\n"
          ],
          "name": "stdout"
        },
        {
          "output_type": "display_data",
          "data": {
            "image/png": "[encoded data removed]",
            "text/plain": [
              "<Figure size 432x288 with 2 Axes>"
            ]
          },
          "metadata": {
            "tags": [],
            "needs_background": "light"
          }
        }
      ]
    },
    {
      "cell_type": "markdown",
      "metadata": {
        "id": "MHBXQSr82hV8"
      },
      "source": [
        "**Accuracy para el conjunto de validación disminuye respecto al calculado para el conjunto de entrenamiento y el desempeño de la matriz de confusión para validación también disminuye respecto al de entrenamiento, lo cual concuerda con la teoría al clasificar datos nuevos con los cuales no se entreno.**"
      ]
    },
    {
      "cell_type": "markdown",
      "metadata": {
        "id": "1wR8UFxEYJFG"
      },
      "source": [
        "**f)**"
      ]
    },
    {
      "cell_type": "code",
      "metadata": {
        "id": "t6t7b_Q5aMbC"
      },
      "source": [
        "# Diseño de la red:\n",
        "model_f = nn.Sequential(\n",
        "          nn.Linear(48, 40),\n",
        "          nn.ReLU(),\n",
        "          nn.Linear(40, 40),\n",
        "          nn.ReLU(),\n",
        "          nn.Linear(40, 11)\n",
        ")"
      ],
      "execution_count": null,
      "outputs": []
    },
    {
      "cell_type": "code",
      "metadata": {
        "id": "-4ae5RU0aMbD"
      },
      "source": [
        "device = torch.device('cuda')\n",
        "\n",
        "model_f = model_f.to(device)\n",
        "\n",
        "criterion = nn.CrossEntropyLoss()\n",
        "optimizer = torch.optim.Adam(model_f.parameters(), lr=1e-3)"
      ],
      "execution_count": null,
      "outputs": []
    },
    {
      "cell_type": "code",
      "metadata": {
        "colab": {
          "base_uri": "https://localhost:8080/"
        },
        "id": "DIMdSbEfaMbE",
        "outputId": "f52d6eb3-4031-43d4-f126-eee21fcd5483"
      },
      "source": [
        "lista_loss_epoca_train=[]\n",
        "lista_loss_epoca_val=[]\n",
        "T1=time.time()\n",
        "for epoch in range(1000):\n",
        "    try:\n",
        "      model_f.train()\n",
        "      # Train on the current epoch\n",
        "      lista_loss_train=[]\n",
        "      for i, data in enumerate(dataloader_train, 0):\n",
        "          inputs = data[\"features\"].to(device)\n",
        "          labels = data[\"labels\"].to(device)\n",
        "\n",
        "          # zero the parameter gradients\n",
        "          optimizer.zero_grad()\n",
        "\n",
        "          # forward + backward + optimize\n",
        "          outputs = model_f(inputs)\n",
        "\n",
        "          loss_train = criterion(outputs, labels) #Loss entrenamiento\n",
        "          lista_loss_train.append(loss_train.item())\n",
        "          loss_train.backward()\n",
        "          optimizer.step()\n",
        "      \n",
        "      # Compute validation loss and accuracy for current epoch\n",
        "      model_f.eval()\n",
        "\n",
        "      with torch.no_grad():  \n",
        "        lista_loss_val=[]\n",
        "        for i, data in enumerate(dataloader_val, 0):\n",
        "            inputs = data[\"features\"].to(device)\n",
        "            labels = data[\"labels\"].to(device)\n",
        "\n",
        "            outputs = model_f(inputs)\n",
        "            loss_val = criterion(outputs, labels) #Loss validación\n",
        "            lista_loss_val.append(loss_val.item())\n",
        "                 \n",
        "      lista_loss_epoca_train.append(np.mean(lista_loss_train))\n",
        "      lista_loss_epoca_val.append(np.mean(lista_loss_val))\n",
        "\n",
        "      # Imprimir: numero de época, loss de entrenamiento y loss de validación:\n",
        "      sys.stdout.write(\"\\rÉpoca %d , loss train: %.2f, loss validacion:%.2f\"  %(epoch,lista_loss_epoca_train[epoch],lista_loss_epoca_val[epoch]))\n",
        "      \n",
        "      #Check Point pesos sinapticos cada 50 épocas:\n",
        "      if epoch%50==0:\n",
        "        name=\"epoch_f_\"+str(epoch)\n",
        "        torch.save(model_f,name)\n",
        "        modelo_check_f=name  #Se guarda el ultimo modelo guardado\n",
        "        epoca_check=epoch  #Se guarda la ultima epoca en donde se hizo check pointcorta para el grafico de Loss\n",
        "      \n",
        "      #Frenado overfitting:\n",
        "      if epoch>=50:\n",
        "        inicial_lista=lista_loss_epoca_val[epoch-50:epoch]\n",
        "        final_lista=lista_loss_epoca_val[epoch-49:epoch+1]\n",
        "        inicial=np.mean(inicial_lista)\n",
        "        final=np.mean(final_lista)\n",
        "        if final-inicial>0:\n",
        "          #Fin de Entrenamiento\n",
        "          break\n",
        "      \n",
        "      \n",
        "    except KeyboardInterrupt:\n",
        "      print(\"\\nEntrenamiento interrumpido\")\n",
        "\n",
        "      break\n",
        "    \n",
        "\n",
        "print('\\nEntrenamiento finalizado')\n",
        "\n",
        "#Tiempo de entrenamiento:\n",
        "T2=time.time()\n",
        "Tf=T2-T1\n",
        "print('Tiempo de entrenamiento: ' + str(round(Tf,1))+'[s]')"
      ],
      "execution_count": null,
      "outputs": [
        {
          "output_type": "stream",
          "text": [
            "Época 91 , loss train: 0.02, loss validacion:0.16\n",
            "Entrenamiento finalizado\n",
            "Tiempo de entrenamiento: 5.4[s]\n"
          ],
          "name": "stdout"
        }
      ]
    },
    {
      "cell_type": "code",
      "metadata": {
        "colab": {
          "base_uri": "https://localhost:8080/"
        },
        "id": "cntYe9igaMbE",
        "outputId": "f955278d-5b61-4b6b-d63d-1e6f80dc93c5"
      },
      "source": [
        "# i)\n",
        "print('Epoca ultimo Check Point: '+str(epoca_check))\n",
        "print('Loss train ultimo Check Point: {:.2f} '.format(lista_loss_epoca_train[epoca_check]))  \n",
        "print('Loss validacion ultimo Check Point: {:.2f} '.format(lista_loss_epoca_val[epoca_check]))\n",
        "print('Tiempo de entrenamiento: '+str(round(Tf,1))+'[s]')\n"
      ],
      "execution_count": null,
      "outputs": [
        {
          "output_type": "stream",
          "text": [
            "Epoca ultimo Check Point: 50\n",
            "Loss train ultimo Check Point: 0.07 \n",
            "Loss validacion ultimo Check Point: 0.13 \n",
            "Tiempo de entrenamiento: 5.4[s]\n"
          ],
          "name": "stdout"
        }
      ]
    },
    {
      "cell_type": "code",
      "metadata": {
        "colab": {
          "base_uri": "https://localhost:8080/",
          "height": 295
        },
        "id": "-5Dbr5pPaMbF",
        "outputId": "2cebdd6c-ab29-4eec-adc1-14a33384872b"
      },
      "source": [
        "# ii)\n",
        "epocas=[i for i in range(0,epoca_check)]\n",
        "plt.plot(epocas,lista_loss_epoca_train[0:epoca_check])\n",
        "plt.plot(epocas,lista_loss_epoca_val[0:epoca_check])\n",
        "plt.legend([\"Loss Entrenamiento\",\"Loss Validación\"], loc =\"upper right\")\n",
        "plt.title('Curvas Loss')\n",
        "plt.xlabel('# Epoch')\n",
        "plt.ylabel('Loss')\n",
        "plt.show()"
      ],
      "execution_count": null,
      "outputs": [
        {
          "output_type": "display_data",
          "data": {
            "image/png": "[encoded data removed]",
            "text/plain": [
              "<Figure size 432x288 with 1 Axes>"
            ]
          },
          "metadata": {
            "tags": [],
            "needs_background": "light"
          }
        }
      ]
    },
    {
      "cell_type": "markdown",
      "metadata": {
        "id": "BsAEfy292MyP"
      },
      "source": [
        "**Curva Loss de validación es mayor a la curva Loss de entrenamiento, lo cual concuerda con la teoría.**"
      ]
    },
    {
      "cell_type": "code",
      "metadata": {
        "id": "uL4JVk0laMbG"
      },
      "source": [
        "# iii)\n",
        "# Conjunto de entrenamiento:\n",
        "model_f_check = torch.load(modelo_check_f) #Carga el modelo\n",
        "y_pred=[]\n",
        "y_true=[]\n",
        "model_f_check.eval()\n",
        "with torch.no_grad():\n",
        "  for i, data in enumerate(dataloader_train, 0):\n",
        "    inputs = data[\"features\"].to(device) # Features\n",
        "    labels = data[\"labels\"].to(device)   # Labels\n",
        "    true=labels.cpu().tolist()    # Guardamos los labels como listas en la variable \"true\"\n",
        "    y_true.extend(true)  # Luego esta se incorpora a la lista \"y_true\"\n",
        "    outputs = model_f_check(inputs) # Se obtiene la salida de la red neuronal\n",
        "    output=outputs.cpu().numpy()  # outputs se transforman de tensor a numpy\n",
        "    list=[]\n",
        "    for i in range(len(output)): # Para cada fila de la matriz clasificacion, se obtiene el indice asociado al valor maximo de la salida\n",
        "        list.append(np.argmax(output[i])) # Se obtiene la clasificacion, la cual se guarda en \"list\"\n",
        "    y_pred.extend(list) # Una vez que la lista es llenada con el batch completo, esta es concatenada en \"y_pred\""
      ],
      "execution_count": null,
      "outputs": []
    },
    {
      "cell_type": "code",
      "metadata": {
        "colab": {
          "base_uri": "https://localhost:8080/",
          "height": 331
        },
        "id": "7KGZDRgRaMbG",
        "outputId": "e97e4671-cb0a-41dd-bc15-7623c9f96e92"
      },
      "source": [
        "# Datos de la matriz de confusión:\n",
        "Confusion=confusion_matrix(y_true, y_pred,normalize='true') \n",
        "\n",
        "# Matriz de confusión:\n",
        "ax=sns.heatmap(Confusion, annot=True,fmt=\".2f\")\n",
        "ax.set_title('Matriz de confusion normalizada - conjunto de entrenamiento - item f)')\n",
        "plt.xlabel('Predict Label')\n",
        "plt.ylabel('True Label')\n",
        "\n",
        "# Accuracy:\n",
        "Accuracy_f= metrics.accuracy_score(y_true, y_pred)\n",
        "print('Accuracy: '+str(Accuracy_f))\n",
        "print('')"
      ],
      "execution_count": null,
      "outputs": [
        {
          "output_type": "stream",
          "text": [
            "Accuracy: 0.9845297029702971\n",
            "\n"
          ],
          "name": "stdout"
        },
        {
          "output_type": "display_data",
          "data": {
            "image/png": "[encoded data removed]",
            "text/plain": [
              "<Figure size 432x288 with 2 Axes>"
            ]
          },
          "metadata": {
            "tags": [],
            "needs_background": "light"
          }
        }
      ]
    },
    {
      "cell_type": "code",
      "metadata": {
        "id": "GHarr03maMbH"
      },
      "source": [
        "# iv)\n",
        "# Conjunto de validación:\n",
        "model_f_check = torch.load(modelo_check_f) #Carga el modelo\n",
        "y_pred=[]\n",
        "y_true=[]\n",
        "model_f_check.eval()\n",
        "with torch.no_grad():\n",
        "  for i, data in enumerate(dataloader_val, 0):\n",
        "    inputs = data[\"features\"].to(device) # Features\n",
        "    labels = data[\"labels\"].to(device)   # Labels\n",
        "    true=labels.cpu().tolist()    # Guardamos los labels como listas en la variable \"true\"\n",
        "    y_true.extend(true)  # Luego esta se incorpora a la lista \"y_true\"\n",
        "    outputs = model_f_check(inputs) # Se obtiene la salida de la red neuronal\n",
        "    output=outputs.cpu().numpy()  # outputs se transforman de tensor a numpy\n",
        "    list=[]\n",
        "    for i in range(len(output)): # Para cada fila de la matriz clasificacion, se obtiene el indice asociado al valor maximo de la salida\n",
        "        list.append(np.argmax(output[i])) # Se obtiene la clasificacion, la cual se guarda en \"list\"\n",
        "    y_pred.extend(list) # Una vez que la lista es llenada con el batch completo, esta es concatenada en \"y_pred\""
      ],
      "execution_count": null,
      "outputs": []
    },
    {
      "cell_type": "code",
      "metadata": {
        "colab": {
          "base_uri": "https://localhost:8080/",
          "height": 331
        },
        "id": "aa1caLrKaMbI",
        "outputId": "df47143a-9ceb-4a99-d989-08b7815c58ae"
      },
      "source": [
        "# Datos de la matriz de confusión:\n",
        "Confusion=confusion_matrix(y_true, y_pred,normalize='true') \n",
        "\n",
        "# Matriz de confusión:\n",
        "ax=sns.heatmap(Confusion, annot=True,fmt=\".2f\")\n",
        "ax.set_title('Matriz de confusion normalizada - conjunto de validación - item f)')\n",
        "plt.xlabel('Predict Label')\n",
        "plt.ylabel('True Label')\n",
        "\n",
        "# Accuracy:\n",
        "Accuracy_f= metrics.accuracy_score(y_true, y_pred)\n",
        "print('Accuracy: '+str(Accuracy_f))\n",
        "print('')"
      ],
      "execution_count": null,
      "outputs": [
        {
          "output_type": "stream",
          "text": [
            "Accuracy: 0.9614711033274956\n",
            "\n"
          ],
          "name": "stdout"
        },
        {
          "output_type": "display_data",
          "data": {
            "image/png": "[encoded data removed]",
            "text/plain": [
              "<Figure size 432x288 with 2 Axes>"
            ]
          },
          "metadata": {
            "tags": [],
            "needs_background": "light"
          }
        }
      ]
    },
    {
      "cell_type": "markdown",
      "metadata": {
        "id": "C8F__gri2oUb"
      },
      "source": [
        "**Accuracy para el conjunto de validación disminuye respecto al calculado para el conjunto de entrenamiento y el desempeño de la matriz de confusión para validación también disminuye respecto al de entrenamiento, lo cual concuerda con la teoría al clasificar datos nuevos con los cuales no se entreno.**"
      ]
    },
    {
      "cell_type": "markdown",
      "metadata": {
        "id": "0C58JrxozLu-"
      },
      "source": [
        "**Parte 3**"
      ]
    },
    {
      "cell_type": "markdown",
      "metadata": {
        "id": "fnEANEVS1BRZ"
      },
      "source": [
        "Usando la mejor red encontrada en validación (aquella con mayor accuracy en validación), calcule la \n",
        "matriz de confusión normalizada y el accuracy normalizado, usando el conjunto de prueba."
      ]
    },
    {
      "cell_type": "code",
      "metadata": {
        "id": "JAAnl-iNsbKc"
      },
      "source": [
        "# Tabla Acurracies validación:\n",
        "M={'Red Neuronal':{},'Accuracy':{}}\n",
        "M=pd.DataFrame(M)\n",
        "M['Red Neuronal']=['Red Neuronal '+i for i in ['a)','b)','c)','d)','e)','f)']]\n",
        "M['Accuracy']=[Accuracy_a,Accuracy_b,Accuracy_c,Accuracy_d,Accuracy_e,Accuracy_f]\n"
      ],
      "execution_count": null,
      "outputs": []
    },
    {
      "cell_type": "code",
      "metadata": {
        "colab": {
          "base_uri": "https://localhost:8080/",
          "height": 237
        },
        "id": "OzweFUx82KpP",
        "outputId": "e76c3556-8d72-446e-bbc5-0f13a1a43f78"
      },
      "source": [
        "M"
      ],
      "execution_count": null,
      "outputs": [
        {
          "output_type": "execute_result",
          "data": {
            "text/html": [
              "<div>\n",
              "<style scoped>\n",
              "    .dataframe tbody tr th:only-of-type {\n",
              "        vertical-align: middle;\n",
              "    }\n",
              "\n",
              "    .dataframe tbody tr th {\n",
              "        vertical-align: top;\n",
              "    }\n",
              "\n",
              "    .dataframe thead th {\n",
              "        text-align: right;\n",
              "    }\n",
              "</style>\n",
              "<table border=\"1\" class=\"dataframe\">\n",
              "  <thead>\n",
              "    <tr style=\"text-align: right;\">\n",
              "      <th></th>\n",
              "      <th>Red Neuronal</th>\n",
              "      <th>Accuracy</th>\n",
              "    </tr>\n",
              "  </thead>\n",
              "  <tbody>\n",
              "    <tr>\n",
              "      <th>0</th>\n",
              "      <td>Red Neuronal a)</td>\n",
              "      <td>0.942207</td>\n",
              "    </tr>\n",
              "    <tr>\n",
              "      <th>1</th>\n",
              "      <td>Red Neuronal b)</td>\n",
              "      <td>0.966725</td>\n",
              "    </tr>\n",
              "    <tr>\n",
              "      <th>2</th>\n",
              "      <td>Red Neuronal c)</td>\n",
              "      <td>0.931699</td>\n",
              "    </tr>\n",
              "    <tr>\n",
              "      <th>3</th>\n",
              "      <td>Red Neuronal d)</td>\n",
              "      <td>0.970228</td>\n",
              "    </tr>\n",
              "    <tr>\n",
              "      <th>4</th>\n",
              "      <td>Red Neuronal e)</td>\n",
              "      <td>0.942207</td>\n",
              "    </tr>\n",
              "    <tr>\n",
              "      <th>5</th>\n",
              "      <td>Red Neuronal f)</td>\n",
              "      <td>0.961471</td>\n",
              "    </tr>\n",
              "  </tbody>\n",
              "</table>\n",
              "</div>"
            ],
            "text/plain": [
              "      Red Neuronal  Accuracy\n",
              "0  Red Neuronal a)  0.942207\n",
              "1  Red Neuronal b)  0.966725\n",
              "2  Red Neuronal c)  0.931699\n",
              "3  Red Neuronal d)  0.970228\n",
              "4  Red Neuronal e)  0.942207\n",
              "5  Red Neuronal f)  0.961471"
            ]
          },
          "metadata": {
            "tags": []
          },
          "execution_count": 70
        }
      ]
    },
    {
      "cell_type": "code",
      "metadata": {
        "colab": {
          "base_uri": "https://localhost:8080/"
        },
        "id": "rdYbJfIpTvJo",
        "outputId": "c0452f6c-80b7-4677-ef22-473022d9ff4a"
      },
      "source": [
        "# Discriminación del mejor modelo según Accuracy:\n",
        "modelos=[model_a_check,model_b_check ,model_c_check ,model_d_check ,model_e_check ,model_f_check] #Lista de los modelos de su ultimo Check Point\n",
        "best_indice=np.argmax(M['Accuracy'])  #Indice del modelo con mayor Accuracy\n",
        "model_final=modelos[best_indice] #Definición del mejor modelo\n",
        "# Print mejor red:\n",
        "print('La mejor Red Neuronal fue: '+M['Red Neuronal'][best_indice])"
      ],
      "execution_count": null,
      "outputs": [
        {
          "output_type": "stream",
          "text": [
            "La mejor Red Neuronal fue: Red Neuronal d)\n"
          ],
          "name": "stdout"
        }
      ]
    },
    {
      "cell_type": "code",
      "metadata": {
        "id": "hBq4ESqRuuwh"
      },
      "source": [
        "# Conjunto de test:\n",
        "y_pred=[]\n",
        "y_true=[]\n",
        "model_final.eval()\n",
        "with torch.no_grad():\n",
        "  for i, data in enumerate(dataloader_test, 0):\n",
        "    inputs = data[\"features\"].to(device) # Features\n",
        "    labels = data[\"labels\"].to(device)   # Labels\n",
        "    true=labels.cpu().tolist()    # Guardamos los labels como listas en la variable \"true\"\n",
        "    y_true.extend(true)  # Luego esta se incorpora a la lista \"y_true\"\n",
        "    outputs = model_final(inputs) # Se obtiene la salida de la red neuronal\n",
        "    output=outputs.cpu().numpy()  # outputs se transforman de tensor a numpy\n",
        "    list=[]\n",
        "    for i in range(len(output)): # Para cada fila de la matriz clasificacion, se obtiene el indice asociado al valor maximo de la salida\n",
        "        list.append(np.argmax(output[i])) # Se obtiene la clasificacion, la cual se guarda en \"list\"\n",
        "    y_pred.extend(list) # Una vez que la lista es llenada con el batch completo, esta es concatenada en \"y_pred\""
      ],
      "execution_count": null,
      "outputs": []
    },
    {
      "cell_type": "code",
      "metadata": {
        "colab": {
          "base_uri": "https://localhost:8080/",
          "height": 331
        },
        "id": "lhS_HYYcuqO9",
        "outputId": "c5c60450-e485-4fcf-c6cb-1ba02ff8ea8a"
      },
      "source": [
        "# Datos de la matriz de confusión:\n",
        "Confusion=confusion_matrix(y_true, y_pred,normalize='true') \n",
        "\n",
        "# Matriz de confusión:\n",
        "ax=sns.heatmap(Confusion, annot=True,fmt=\".2f\")\n",
        "ax.set_title('Matriz de confusion normalizada - conjunto de test - Mejor modelo')\n",
        "plt.xlabel('Predict Label')\n",
        "plt.ylabel('True Label')\n",
        "\n",
        "# Accuracy:\n",
        "Accuracy_test= metrics.accuracy_score(y_true, y_pred)\n",
        "print('Accuracy: '+str(Accuracy_test))\n",
        "print('')"
      ],
      "execution_count": null,
      "outputs": [
        {
          "output_type": "stream",
          "text": [
            "Accuracy: 0.9581614614024749\n",
            "\n"
          ],
          "name": "stdout"
        },
        {
          "output_type": "display_data",
          "data": {
            "image/png": "[encoded data removed]",
            "text/plain": [
              "<Figure size 432x288 with 2 Axes>"
            ]
          },
          "metadata": {
            "tags": [],
            "needs_background": "light"
          }
        }
      ]
    },
    {
      "cell_type": "markdown",
      "metadata": {
        "id": "Dh-Hxh4GzL3s"
      },
      "source": [
        "**Parte 4**"
      ]
    },
    {
      "cell_type": "markdown",
      "metadata": {
        "id": "JHo8776d1QD5"
      },
      "source": [
        "Análisis de los resultados obtenidos:\n",
        "\n",
        "a) Explique los efectos de variar la cantidad de neuronas en la capa oculta y como esto afecta el \n",
        "desempeño de la red.  \n",
        "\n",
        "b) Explique los efectos de variar la cantidad de capas ocultas y como esto afecta el desempeño de \n",
        "la red. \n",
        "\n",
        "c) Explique el efecto de la función de activación y como esto afecta el desempeño de la red. \n",
        "\n",
        "d) Analice los siguientes puntos: tiempos de entrenamiento, matrices de confusión y accuracies de \n",
        "las arquitecturas probadas en validación. \n",
        "\n",
        "e) Analice la matriz de confusión y el accuracy en el conjunto de prueba, respecto a los obtenidos \n",
        "en el conjunto de validación.\n"
      ]
    },
    {
      "cell_type": "code",
      "metadata": {
        "id": "UPFK7zrhu3iW"
      },
      "source": [
        "# Tabla Resumen:\n",
        "M1={'Item':{},'Función de Activación':{},'# Neuronas en la Capa Oculta':{},'# Capas Ocultas':{},'Tiempo de Entrenamiento':{},'Accuracy Validación':{}}\n",
        "M1=pd.DataFrame(M1)\n",
        "M1['Item']=['a)','b)','c)','d)','e)','f)']\n",
        "M1['Función de Activación']=['ReLU','ReLU','Tanh','Tanh','ReLU','ReLU']\n",
        "M1['# Neuronas en la Capa Oculta']=[10,40,10,40,10,40]\n",
        "M1['# Capas Ocultas']=[1,1,1,1,2,2]\n",
        "M1['Accuracy Validación']=[Accuracy_a,Accuracy_b,Accuracy_c,Accuracy_d,Accuracy_e,Accuracy_f]\n",
        "M1['Tiempo de Entrenamiento']=[Ta,Tb,Tc,Td,Te,Tf]\n"
      ],
      "execution_count": null,
      "outputs": []
    },
    {
      "cell_type": "code",
      "metadata": {
        "colab": {
          "base_uri": "https://localhost:8080/",
          "height": 237
        },
        "id": "VMLJqhp4wRY2",
        "outputId": "36739ae2-674b-48e0-b310-050ec0c9a8e1"
      },
      "source": [
        "M1"
      ],
      "execution_count": null,
      "outputs": [
        {
          "output_type": "execute_result",
          "data": {
            "text/html": [
              "<div>\n",
              "<style scoped>\n",
              "    .dataframe tbody tr th:only-of-type {\n",
              "        vertical-align: middle;\n",
              "    }\n",
              "\n",
              "    .dataframe tbody tr th {\n",
              "        vertical-align: top;\n",
              "    }\n",
              "\n",
              "    .dataframe thead th {\n",
              "        text-align: right;\n",
              "    }\n",
              "</style>\n",
              "<table border=\"1\" class=\"dataframe\">\n",
              "  <thead>\n",
              "    <tr style=\"text-align: right;\">\n",
              "      <th></th>\n",
              "      <th>Item</th>\n",
              "      <th>Función de Activación</th>\n",
              "      <th># Neuronas en la Capa Oculta</th>\n",
              "      <th># Capas Ocultas</th>\n",
              "      <th>Tiempo de Entrenamiento</th>\n",
              "      <th>Accuracy Validación</th>\n",
              "    </tr>\n",
              "  </thead>\n",
              "  <tbody>\n",
              "    <tr>\n",
              "      <th>0</th>\n",
              "      <td>a)</td>\n",
              "      <td>ReLU</td>\n",
              "      <td>10</td>\n",
              "      <td>1</td>\n",
              "      <td>13.866658</td>\n",
              "      <td>0.942207</td>\n",
              "    </tr>\n",
              "    <tr>\n",
              "      <th>1</th>\n",
              "      <td>b)</td>\n",
              "      <td>ReLU</td>\n",
              "      <td>40</td>\n",
              "      <td>1</td>\n",
              "      <td>8.459074</td>\n",
              "      <td>0.966725</td>\n",
              "    </tr>\n",
              "    <tr>\n",
              "      <th>2</th>\n",
              "      <td>c)</td>\n",
              "      <td>Tanh</td>\n",
              "      <td>10</td>\n",
              "      <td>1</td>\n",
              "      <td>14.059775</td>\n",
              "      <td>0.931699</td>\n",
              "    </tr>\n",
              "    <tr>\n",
              "      <th>3</th>\n",
              "      <td>d)</td>\n",
              "      <td>Tanh</td>\n",
              "      <td>40</td>\n",
              "      <td>1</td>\n",
              "      <td>10.646480</td>\n",
              "      <td>0.970228</td>\n",
              "    </tr>\n",
              "    <tr>\n",
              "      <th>4</th>\n",
              "      <td>e)</td>\n",
              "      <td>ReLU</td>\n",
              "      <td>10</td>\n",
              "      <td>2</td>\n",
              "      <td>10.130429</td>\n",
              "      <td>0.942207</td>\n",
              "    </tr>\n",
              "    <tr>\n",
              "      <th>5</th>\n",
              "      <td>f)</td>\n",
              "      <td>ReLU</td>\n",
              "      <td>40</td>\n",
              "      <td>2</td>\n",
              "      <td>5.449395</td>\n",
              "      <td>0.961471</td>\n",
              "    </tr>\n",
              "  </tbody>\n",
              "</table>\n",
              "</div>"
            ],
            "text/plain": [
              "  Item Función de Activación  ...  Tiempo de Entrenamiento  Accuracy Validación\n",
              "0   a)                  ReLU  ...                13.866658             0.942207\n",
              "1   b)                  ReLU  ...                 8.459074             0.966725\n",
              "2   c)                  Tanh  ...                14.059775             0.931699\n",
              "3   d)                  Tanh  ...                10.646480             0.970228\n",
              "4   e)                  ReLU  ...                10.130429             0.942207\n",
              "5   f)                  ReLU  ...                 5.449395             0.961471\n",
              "\n",
              "[6 rows x 6 columns]"
            ]
          },
          "metadata": {
            "tags": []
          },
          "execution_count": 75
        }
      ]
    },
    {
      "cell_type": "markdown",
      "metadata": {
        "id": "K4FNDLkU5d6p"
      },
      "source": [
        "**a)** **A partir de la tabla anterior, se puede apreciar que el efecto que tiene aumentar el número de neuronas por capa es reducir el tiempo de aprendizaje y aumentar el desempeño de la red en terminos de Accuracy. Esto se asocia a la analogía con redes neuronales biológicas en donde mientras hayan más neuronas y por tanto mayores conexiones sinápticas la capacidad de aprendizaje mejorará.**"
      ]
    },
    {
      "cell_type": "markdown",
      "metadata": {
        "id": "itRTjYyc6ARx"
      },
      "source": [
        "**b)** **Comparando los items a) y b) con los items e) y f) se observa que el efecto que tiene el aumentar el número de capas ocultas es que los tiempos de entrenamiento disminuyen al igual que el desempeño de la red pero en un pequeño porcentaje.**"
      ]
    },
    {
      "cell_type": "markdown",
      "metadata": {
        "id": "TNKwPs1C6B2f"
      },
      "source": [
        "**c)** **Comparando los desempeños de ReLU y Tanh, se observa  un leve aumento en el desempeño de la red cuando se utiliza la función Tanh en el item d, sin embargo disminuye en el item c). Esta variabilidad de los desempeños se asocia al valor inicial de los pesos sinápticos que afecta el resultado final del entrenamiento.** "
      ]
    },
    {
      "cell_type": "markdown",
      "metadata": {
        "id": "atOvMa_56Dbn"
      },
      "source": [
        "**d)** **A partir de la tabla anterior, respecto a los tiempos de entrenamiento se observa que al cambiar la función de activación de ReLU a Tanh aumentan los tiempos de entrenamiento, lo cual se asocia a que las derivadas de la función ReLU son más sencillas ya que tienen 2 valores posibles, 0 o el valor de la pendiente. Por otro lado, al aumentar el número de neuronas o de capas el tiempo de entrenamiento disminuye, lo cual se asocia a que hay mayores conexiones sinapticas que permiten un proceso de aprendizaje más óptimo y por tanto más rápido.**\n",
        "\n",
        "**Respecto a las matrices de confusión, las que presentan mejores desempeños son las de los item b), d) y f), y las que presentan peores desempeños son a),  c) y e), en donde se observa por ejemplo que el item e) presenta problemas para clasificar la clase 4 y 7. Y se observa que la falla clase 10 es detectada con 100% de exito.**\n",
        "\n",
        "**Finalmente, en cuanto a Acuracies, se observa que mejora al aumentar el número de capas o número de neuronas, lo cual se asocia a que el proceso de aprendizaje mejora al aumentar el número de conexiones sinápticas. Por otro lado, al variar las funciones de activación no es claro el efecto de la función Tanh, pero si el número de neuronas o capas aumentará se esperaría que el desempeño disminuya con Tanh producto de fenómeno \"Desvanecimiento del Gradiente\".** "
      ]
    },
    {
      "cell_type": "markdown",
      "metadata": {
        "id": "_v-Gnx446E9W"
      },
      "source": [
        "**e)** **A partir de la Parte 3, se observa que la matriz de confusión para el conjunto de test tuvo un muy buen desempeño, ya que los elementos de su diagonal, son todos mayores a 0.9. Además la matriz presenta un desempeño de clasificación muy similar al del conjunto de validación, lo cual tiene sentido ya que ambos conjuntos no fueron usados para su entrenamiento.**\n",
        "\n",
        "**Finalmente, respecto a el Accuracy, presentan valores muy similares, lo cual al igual que lo mencionado anteriormente, tiene sentido ya que ambos conjuntos no fueron usados en el proceso de entrenamiento.** "
      ]
    },
    {
      "cell_type": "markdown",
      "metadata": {
        "id": "WXXJfvfR-uLh"
      },
      "source": [
        "# **Conclusiones:**"
      ]
    },
    {
      "cell_type": "markdown",
      "metadata": {
        "id": "9xYcGSuM0cxW"
      },
      "source": [
        "**En esta tarea se aprendio a entrenar una red neuronal y a implementar un código que evite el Overfitting. También se comprendio el efecto que tiene el número de neuronas,número de capas ocultas y funciones de activación en los tiempos de entrenamiento y desempeño de la red neuronal. Por otro lado, se logro corroborar el poder las redes neuronales observando los altos valores de las matrices de confusión en su diagonal y accuracies en general.**\n",
        "\n",
        "**En cuanto a objetivos y resultados, se puede decir que se cumplio a cabalidad con todos los requerimientos de la tarea y los resultados obtenidos concuerdan con la teoría, como por ejemplo el hecho de que disminuyan los tiempos de entrenamiento al aumentar el número de capas o de neuronas o usar la función de activación ReLU debido a sus derivadas constantes.**\n",
        "\n",
        "**En cuanto a dificultades, la mayor dificultad fue entender el código base para agregarle nuevo código para implementar otras funcionalidades.**\n",
        "\n",
        "**Finalmente la mejor solución fue la arquitectura del item d) de la parte 1, sin embargo este podría cambiar al ejecutar el código y se podria obtener como mejor modelo el item d) o incluso el item b). Esto se asocia a que los pesos sinápticos iniciales al ser elegidos de forma aleatoria afectan el desempeño final de cada modelo.**\n",
        "\n",
        "**En este caso no hay modo de mejorar el desempeño de los algoritmos, ya que se utilizaron librerias en donde los códigos de programación estan predefinidos.**"
      ]
    },
    {
      "cell_type": "code",
      "metadata": {
        "id": "pPjFmkKNL50r",
        "colab": {
          "base_uri": "https://localhost:8080/"
        },
        "outputId": "81a57143-9507-4a51-de09-46f8bcd54c7b"
      },
      "source": [
        "!pwd"
      ],
      "execution_count": null,
      "outputs": [
        {
          "output_type": "stream",
          "text": [
            "/content\n"
          ],
          "name": "stdout"
        }
      ]
    },
    {
      "cell_type": "code",
      "metadata": {
        "id": "oiUzbyIROD5p",
        "colab": {
          "base_uri": "https://localhost:8080/"
        },
        "outputId": "2762a52b-191b-4f83-a7e9-2065457ba3c6"
      },
      "source": [
        "%cd ../"
      ],
      "execution_count": null,
      "outputs": [
        {
          "output_type": "stream",
          "text": [
            "/\n"
          ],
          "name": "stdout"
        }
      ]
    },
    {
      "cell_type": "code",
      "metadata": {
        "id": "uS8lzGOH424q"
      },
      "source": [
        "from google.colab import drive  #Se uso para no subir el archivo cada vez que se avanzaba en la tarea\n",
        "drive.mount('/content/drive')"
      ],
      "execution_count": null,
      "outputs": []
    },
    {
      "cell_type": "code",
      "metadata": {
        "id": "b56AGSfA4Q_3"
      },
      "source": [
        "#Carpeta:\n",
        "%cd /content/drive/MyDrive/Colab Notebooks "
      ],
      "execution_count": null,
      "outputs": []
    },
    {
      "cell_type": "code",
      "metadata": {
        "id": "Vagm-mzULVpS"
      },
      "source": [
        "#Install:\n",
        "!sudo apt-get install texlive-xetex texlive-fonts-recommended texlive-generic-recommended"
      ],
      "execution_count": null,
      "outputs": []
    },
    {
      "cell_type": "code",
      "metadata": {
        "id": "BClZ9doAKe8S"
      },
      "source": [
        "#A PDF:\n",
        "!jupyter nbconvert --to pdf tarea4ic.ipynb"
      ],
      "execution_count": null,
      "outputs": []
    },
    {
      "cell_type": "code",
      "metadata": {
        "id": "O6zqQ0Lj38mu"
      },
      "source": [
        ""
      ],
      "execution_count": null,
      "outputs": []
    }
  ]
}