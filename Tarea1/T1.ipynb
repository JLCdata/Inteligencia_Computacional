{
  "nbformat": 4,
  "nbformat_minor": 0,
  "metadata": {
    "colab": {
      "name": "Tarea 1 Inteligencia Computacional.ipynb",
      "provenance": [],
      "collapsed_sections": []
    },
    "kernelspec": {
      "name": "python3",
      "display_name": "Python 3"
    },
    "language_info": {
      "name": "python"
    }
  },
  "cells": [
    {
      "cell_type": "markdown",
      "metadata": {
        "id": "5OePxXybW47U"
      },
      "source": [
        "\n",
        "\n",
        "\n",
        "\n",
        "\n",
        "\n",
        "\n",
        "\n",
        "\n",
        "# ***Parte 1: Visualización y análisis de datos*** \n",
        "\n",
        "\n"
      ]
    },
    {
      "cell_type": "markdown",
      "metadata": {
        "id": "lDXk2KhH1j2z"
      },
      "source": [
        "**README:** Para el correcto funcionamiento del código y la entrega de los resultados correctos, el codigo debe ser ejecutado desde el principio hasta el final."
      ]
    },
    {
      "cell_type": "code",
      "metadata": {
        "id": "nteRgtbGdwaw"
      },
      "source": [
        "#Importando librerias a utilizar\n",
        "import cv2\n",
        "import numpy as np\n",
        "from matplotlib import pyplot as plt\n",
        "import pandas as pd\n",
        "import seaborn as sb\n",
        "#Libreria para saber el % de avance de las iteraciones\n",
        "from tqdm import tqdm\n",
        "#Para calcular tiempos de entrenamiento\n",
        "import time"
      ],
      "execution_count": null,
      "outputs": []
    },
    {
      "cell_type": "code",
      "metadata": {
        "colab": {
          "base_uri": "https://localhost:8080/"
        },
        "id": "9f_0gEPz4Uwl",
        "outputId": "5b6ce7aa-07c3-4c60-9e9a-35f52e7081b1"
      },
      "source": [
        "#Importar datos desde google drive\n",
        "from google.colab import drive\n",
        "drive.mount('/content/drive')"
      ],
      "execution_count": null,
      "outputs": [
        {
          "output_type": "stream",
          "text": [
            "Drive already mounted at /content/drive; to attempt to forcibly remount, call drive.mount(\"/content/drive\", force_remount=True).\n"
          ],
          "name": "stdout"
        }
      ]
    },
    {
      "cell_type": "markdown",
      "metadata": {
        "id": "9gxlTQ6miEzg"
      },
      "source": [
        "**1.** Lectura de datos:"
      ]
    },
    {
      "cell_type": "code",
      "metadata": {
        "id": "BhQSbKS-3Pdl"
      },
      "source": [
        "#Se define la ubicación de los datos:\n",
        "path = 'drive/My Drive/Inteligencia Computacional/Material_tarea_1_v02/magic04.data'"
      ],
      "execution_count": null,
      "outputs": []
    },
    {
      "cell_type": "code",
      "metadata": {
        "colab": {
          "base_uri": "https://localhost:8080/",
          "height": 959
        },
        "id": "Cl0LvT3Ngr02",
        "outputId": "27af718c-35b6-4a9f-95d0-f888fa9d75a4"
      },
      "source": [
        "#Lectura de datos sin cabecera:\n",
        "datos=pd.read_csv(path,header=None)\n",
        "print(\"Datos sin cabecera\")\n",
        "print(datos)\n",
        "#Se agrega nombre a las columnas de las features:\n",
        "datos.set_axis(['fLength', 'fwidth', 'fSize', 'fConc','fconc1','fAsym','fM3Long','fM3Trans','fAlpha','fDist','class'], axis=1, inplace=True)\n",
        "#Se muestran los datos con cabecera\n",
        "print(\"Datos con cabecera\")\n",
        "print(datos)\n",
        "#Verficiando dimensión de los datos y sus tipos:\n",
        "print(\"Dimensión y tipos\")\n",
        "print(len(datos))\n",
        "print(datos.dtypes)\n",
        "datos.head()"
      ],
      "execution_count": null,
      "outputs": [
        {
          "output_type": "stream",
          "text": [
            "Datos sin cabecera\n",
            "             0         1       2       3   ...       7        8         9   10\n",
            "0       28.7967   16.0021  2.6449  0.3918  ...  -8.2027  40.0920   81.8828   g\n",
            "1       31.6036   11.7235  2.5185  0.5303  ...  -9.9574   6.3609  205.2610   g\n",
            "2      162.0520  136.0310  4.0612  0.0374  ... -45.2160  76.9600  256.7880   g\n",
            "3       23.8172    9.5728  2.3385  0.6147  ...  -7.1513  10.4490  116.7370   g\n",
            "4       75.1362   30.9205  3.1611  0.3168  ...  21.8393   4.6480  356.4620   g\n",
            "...         ...       ...     ...     ...  ...      ...      ...       ...  ..\n",
            "19015   21.3846   10.9170  2.6161  0.5857  ...   2.8766   2.4229  106.8258   h\n",
            "19016   28.9452    6.7020  2.2672  0.5351  ...  -2.9632  86.7975  247.4560   h\n",
            "19017   75.4455   47.5305  3.4483  0.1417  ...  -9.4662  30.2987  256.5166   h\n",
            "19018  120.5135   76.9018  3.9939  0.0944  ... -63.8389  84.6874  408.3166   h\n",
            "19019  187.1814   53.0014  3.2093  0.2876  ...  31.4755  52.7310  272.3174   h\n",
            "\n",
            "[19020 rows x 11 columns]\n",
            "Datos con cabecera\n",
            "        fLength    fwidth   fSize   fConc  ...  fM3Trans   fAlpha     fDist  class\n",
            "0       28.7967   16.0021  2.6449  0.3918  ...   -8.2027  40.0920   81.8828      g\n",
            "1       31.6036   11.7235  2.5185  0.5303  ...   -9.9574   6.3609  205.2610      g\n",
            "2      162.0520  136.0310  4.0612  0.0374  ...  -45.2160  76.9600  256.7880      g\n",
            "3       23.8172    9.5728  2.3385  0.6147  ...   -7.1513  10.4490  116.7370      g\n",
            "4       75.1362   30.9205  3.1611  0.3168  ...   21.8393   4.6480  356.4620      g\n",
            "...         ...       ...     ...     ...  ...       ...      ...       ...    ...\n",
            "19015   21.3846   10.9170  2.6161  0.5857  ...    2.8766   2.4229  106.8258      h\n",
            "19016   28.9452    6.7020  2.2672  0.5351  ...   -2.9632  86.7975  247.4560      h\n",
            "19017   75.4455   47.5305  3.4483  0.1417  ...   -9.4662  30.2987  256.5166      h\n",
            "19018  120.5135   76.9018  3.9939  0.0944  ...  -63.8389  84.6874  408.3166      h\n",
            "19019  187.1814   53.0014  3.2093  0.2876  ...   31.4755  52.7310  272.3174      h\n",
            "\n",
            "[19020 rows x 11 columns]\n",
            "Dimensión y tipos\n",
            "19020\n",
            "fLength     float64\n",
            "fwidth      float64\n",
            "fSize       float64\n",
            "fConc       float64\n",
            "fconc1      float64\n",
            "fAsym       float64\n",
            "fM3Long     float64\n",
            "fM3Trans    float64\n",
            "fAlpha      float64\n",
            "fDist       float64\n",
            "class        object\n",
            "dtype: object\n"
          ],
          "name": "stdout"
        },
        {
          "output_type": "execute_result",
          "data": {
            "text/html": [
              "<div>\n",
              "<style scoped>\n",
              "    .dataframe tbody tr th:only-of-type {\n",
              "        vertical-align: middle;\n",
              "    }\n",
              "\n",
              "    .dataframe tbody tr th {\n",
              "        vertical-align: top;\n",
              "    }\n",
              "\n",
              "    .dataframe thead th {\n",
              "        text-align: right;\n",
              "    }\n",
              "</style>\n",
              "<table border=\"1\" class=\"dataframe\">\n",
              "  <thead>\n",
              "    <tr style=\"text-align: right;\">\n",
              "      <th></th>\n",
              "      <th>fLength</th>\n",
              "      <th>fwidth</th>\n",
              "      <th>fSize</th>\n",
              "      <th>fConc</th>\n",
              "      <th>fconc1</th>\n",
              "      <th>fAsym</th>\n",
              "      <th>fM3Long</th>\n",
              "      <th>fM3Trans</th>\n",
              "      <th>fAlpha</th>\n",
              "      <th>fDist</th>\n",
              "      <th>class</th>\n",
              "    </tr>\n",
              "  </thead>\n",
              "  <tbody>\n",
              "    <tr>\n",
              "      <th>0</th>\n",
              "      <td>28.7967</td>\n",
              "      <td>16.0021</td>\n",
              "      <td>2.6449</td>\n",
              "      <td>0.3918</td>\n",
              "      <td>0.1982</td>\n",
              "      <td>27.7004</td>\n",
              "      <td>22.0110</td>\n",
              "      <td>-8.2027</td>\n",
              "      <td>40.0920</td>\n",
              "      <td>81.8828</td>\n",
              "      <td>g</td>\n",
              "    </tr>\n",
              "    <tr>\n",
              "      <th>1</th>\n",
              "      <td>31.6036</td>\n",
              "      <td>11.7235</td>\n",
              "      <td>2.5185</td>\n",
              "      <td>0.5303</td>\n",
              "      <td>0.3773</td>\n",
              "      <td>26.2722</td>\n",
              "      <td>23.8238</td>\n",
              "      <td>-9.9574</td>\n",
              "      <td>6.3609</td>\n",
              "      <td>205.2610</td>\n",
              "      <td>g</td>\n",
              "    </tr>\n",
              "    <tr>\n",
              "      <th>2</th>\n",
              "      <td>162.0520</td>\n",
              "      <td>136.0310</td>\n",
              "      <td>4.0612</td>\n",
              "      <td>0.0374</td>\n",
              "      <td>0.0187</td>\n",
              "      <td>116.7410</td>\n",
              "      <td>-64.8580</td>\n",
              "      <td>-45.2160</td>\n",
              "      <td>76.9600</td>\n",
              "      <td>256.7880</td>\n",
              "      <td>g</td>\n",
              "    </tr>\n",
              "    <tr>\n",
              "      <th>3</th>\n",
              "      <td>23.8172</td>\n",
              "      <td>9.5728</td>\n",
              "      <td>2.3385</td>\n",
              "      <td>0.6147</td>\n",
              "      <td>0.3922</td>\n",
              "      <td>27.2107</td>\n",
              "      <td>-6.4633</td>\n",
              "      <td>-7.1513</td>\n",
              "      <td>10.4490</td>\n",
              "      <td>116.7370</td>\n",
              "      <td>g</td>\n",
              "    </tr>\n",
              "    <tr>\n",
              "      <th>4</th>\n",
              "      <td>75.1362</td>\n",
              "      <td>30.9205</td>\n",
              "      <td>3.1611</td>\n",
              "      <td>0.3168</td>\n",
              "      <td>0.1832</td>\n",
              "      <td>-5.5277</td>\n",
              "      <td>28.5525</td>\n",
              "      <td>21.8393</td>\n",
              "      <td>4.6480</td>\n",
              "      <td>356.4620</td>\n",
              "      <td>g</td>\n",
              "    </tr>\n",
              "  </tbody>\n",
              "</table>\n",
              "</div>"
            ],
            "text/plain": [
              "    fLength    fwidth   fSize   fConc  ...  fM3Trans   fAlpha     fDist  class\n",
              "0   28.7967   16.0021  2.6449  0.3918  ...   -8.2027  40.0920   81.8828      g\n",
              "1   31.6036   11.7235  2.5185  0.5303  ...   -9.9574   6.3609  205.2610      g\n",
              "2  162.0520  136.0310  4.0612  0.0374  ...  -45.2160  76.9600  256.7880      g\n",
              "3   23.8172    9.5728  2.3385  0.6147  ...   -7.1513  10.4490  116.7370      g\n",
              "4   75.1362   30.9205  3.1611  0.3168  ...   21.8393   4.6480  356.4620      g\n",
              "\n",
              "[5 rows x 11 columns]"
            ]
          },
          "metadata": {
            "tags": []
          },
          "execution_count": 233
        }
      ]
    },
    {
      "cell_type": "code",
      "metadata": {
        "colab": {
          "base_uri": "https://localhost:8080/",
          "height": 408
        },
        "id": "h3IpZwTCuwET",
        "outputId": "a63b03c5-c94b-4ddc-82dc-4f5a0cbd6eed"
      },
      "source": [
        "datos"
      ],
      "execution_count": null,
      "outputs": [
        {
          "output_type": "execute_result",
          "data": {
            "text/html": [
              "<div>\n",
              "<style scoped>\n",
              "    .dataframe tbody tr th:only-of-type {\n",
              "        vertical-align: middle;\n",
              "    }\n",
              "\n",
              "    .dataframe tbody tr th {\n",
              "        vertical-align: top;\n",
              "    }\n",
              "\n",
              "    .dataframe thead th {\n",
              "        text-align: right;\n",
              "    }\n",
              "</style>\n",
              "<table border=\"1\" class=\"dataframe\">\n",
              "  <thead>\n",
              "    <tr style=\"text-align: right;\">\n",
              "      <th></th>\n",
              "      <th>fLength</th>\n",
              "      <th>fwidth</th>\n",
              "      <th>fSize</th>\n",
              "      <th>fConc</th>\n",
              "      <th>fconc1</th>\n",
              "      <th>fAsym</th>\n",
              "      <th>fM3Long</th>\n",
              "      <th>fM3Trans</th>\n",
              "      <th>fAlpha</th>\n",
              "      <th>fDist</th>\n",
              "      <th>class</th>\n",
              "    </tr>\n",
              "  </thead>\n",
              "  <tbody>\n",
              "    <tr>\n",
              "      <th>0</th>\n",
              "      <td>28.7967</td>\n",
              "      <td>16.0021</td>\n",
              "      <td>2.6449</td>\n",
              "      <td>0.3918</td>\n",
              "      <td>0.1982</td>\n",
              "      <td>27.7004</td>\n",
              "      <td>22.0110</td>\n",
              "      <td>-8.2027</td>\n",
              "      <td>40.0920</td>\n",
              "      <td>81.8828</td>\n",
              "      <td>g</td>\n",
              "    </tr>\n",
              "    <tr>\n",
              "      <th>1</th>\n",
              "      <td>31.6036</td>\n",
              "      <td>11.7235</td>\n",
              "      <td>2.5185</td>\n",
              "      <td>0.5303</td>\n",
              "      <td>0.3773</td>\n",
              "      <td>26.2722</td>\n",
              "      <td>23.8238</td>\n",
              "      <td>-9.9574</td>\n",
              "      <td>6.3609</td>\n",
              "      <td>205.2610</td>\n",
              "      <td>g</td>\n",
              "    </tr>\n",
              "    <tr>\n",
              "      <th>2</th>\n",
              "      <td>162.0520</td>\n",
              "      <td>136.0310</td>\n",
              "      <td>4.0612</td>\n",
              "      <td>0.0374</td>\n",
              "      <td>0.0187</td>\n",
              "      <td>116.7410</td>\n",
              "      <td>-64.8580</td>\n",
              "      <td>-45.2160</td>\n",
              "      <td>76.9600</td>\n",
              "      <td>256.7880</td>\n",
              "      <td>g</td>\n",
              "    </tr>\n",
              "    <tr>\n",
              "      <th>3</th>\n",
              "      <td>23.8172</td>\n",
              "      <td>9.5728</td>\n",
              "      <td>2.3385</td>\n",
              "      <td>0.6147</td>\n",
              "      <td>0.3922</td>\n",
              "      <td>27.2107</td>\n",
              "      <td>-6.4633</td>\n",
              "      <td>-7.1513</td>\n",
              "      <td>10.4490</td>\n",
              "      <td>116.7370</td>\n",
              "      <td>g</td>\n",
              "    </tr>\n",
              "    <tr>\n",
              "      <th>4</th>\n",
              "      <td>75.1362</td>\n",
              "      <td>30.9205</td>\n",
              "      <td>3.1611</td>\n",
              "      <td>0.3168</td>\n",
              "      <td>0.1832</td>\n",
              "      <td>-5.5277</td>\n",
              "      <td>28.5525</td>\n",
              "      <td>21.8393</td>\n",
              "      <td>4.6480</td>\n",
              "      <td>356.4620</td>\n",
              "      <td>g</td>\n",
              "    </tr>\n",
              "    <tr>\n",
              "      <th>...</th>\n",
              "      <td>...</td>\n",
              "      <td>...</td>\n",
              "      <td>...</td>\n",
              "      <td>...</td>\n",
              "      <td>...</td>\n",
              "      <td>...</td>\n",
              "      <td>...</td>\n",
              "      <td>...</td>\n",
              "      <td>...</td>\n",
              "      <td>...</td>\n",
              "      <td>...</td>\n",
              "    </tr>\n",
              "    <tr>\n",
              "      <th>19015</th>\n",
              "      <td>21.3846</td>\n",
              "      <td>10.9170</td>\n",
              "      <td>2.6161</td>\n",
              "      <td>0.5857</td>\n",
              "      <td>0.3934</td>\n",
              "      <td>15.2618</td>\n",
              "      <td>11.5245</td>\n",
              "      <td>2.8766</td>\n",
              "      <td>2.4229</td>\n",
              "      <td>106.8258</td>\n",
              "      <td>h</td>\n",
              "    </tr>\n",
              "    <tr>\n",
              "      <th>19016</th>\n",
              "      <td>28.9452</td>\n",
              "      <td>6.7020</td>\n",
              "      <td>2.2672</td>\n",
              "      <td>0.5351</td>\n",
              "      <td>0.2784</td>\n",
              "      <td>37.0816</td>\n",
              "      <td>13.1853</td>\n",
              "      <td>-2.9632</td>\n",
              "      <td>86.7975</td>\n",
              "      <td>247.4560</td>\n",
              "      <td>h</td>\n",
              "    </tr>\n",
              "    <tr>\n",
              "      <th>19017</th>\n",
              "      <td>75.4455</td>\n",
              "      <td>47.5305</td>\n",
              "      <td>3.4483</td>\n",
              "      <td>0.1417</td>\n",
              "      <td>0.0549</td>\n",
              "      <td>-9.3561</td>\n",
              "      <td>41.0562</td>\n",
              "      <td>-9.4662</td>\n",
              "      <td>30.2987</td>\n",
              "      <td>256.5166</td>\n",
              "      <td>h</td>\n",
              "    </tr>\n",
              "    <tr>\n",
              "      <th>19018</th>\n",
              "      <td>120.5135</td>\n",
              "      <td>76.9018</td>\n",
              "      <td>3.9939</td>\n",
              "      <td>0.0944</td>\n",
              "      <td>0.0683</td>\n",
              "      <td>5.8043</td>\n",
              "      <td>-93.5224</td>\n",
              "      <td>-63.8389</td>\n",
              "      <td>84.6874</td>\n",
              "      <td>408.3166</td>\n",
              "      <td>h</td>\n",
              "    </tr>\n",
              "    <tr>\n",
              "      <th>19019</th>\n",
              "      <td>187.1814</td>\n",
              "      <td>53.0014</td>\n",
              "      <td>3.2093</td>\n",
              "      <td>0.2876</td>\n",
              "      <td>0.1539</td>\n",
              "      <td>-167.3125</td>\n",
              "      <td>-168.4558</td>\n",
              "      <td>31.4755</td>\n",
              "      <td>52.7310</td>\n",
              "      <td>272.3174</td>\n",
              "      <td>h</td>\n",
              "    </tr>\n",
              "  </tbody>\n",
              "</table>\n",
              "<p>19020 rows × 11 columns</p>\n",
              "</div>"
            ],
            "text/plain": [
              "        fLength    fwidth   fSize   fConc  ...  fM3Trans   fAlpha     fDist  class\n",
              "0       28.7967   16.0021  2.6449  0.3918  ...   -8.2027  40.0920   81.8828      g\n",
              "1       31.6036   11.7235  2.5185  0.5303  ...   -9.9574   6.3609  205.2610      g\n",
              "2      162.0520  136.0310  4.0612  0.0374  ...  -45.2160  76.9600  256.7880      g\n",
              "3       23.8172    9.5728  2.3385  0.6147  ...   -7.1513  10.4490  116.7370      g\n",
              "4       75.1362   30.9205  3.1611  0.3168  ...   21.8393   4.6480  356.4620      g\n",
              "...         ...       ...     ...     ...  ...       ...      ...       ...    ...\n",
              "19015   21.3846   10.9170  2.6161  0.5857  ...    2.8766   2.4229  106.8258      h\n",
              "19016   28.9452    6.7020  2.2672  0.5351  ...   -2.9632  86.7975  247.4560      h\n",
              "19017   75.4455   47.5305  3.4483  0.1417  ...   -9.4662  30.2987  256.5166      h\n",
              "19018  120.5135   76.9018  3.9939  0.0944  ...  -63.8389  84.6874  408.3166      h\n",
              "19019  187.1814   53.0014  3.2093  0.2876  ...   31.4755  52.7310  272.3174      h\n",
              "\n",
              "[19020 rows x 11 columns]"
            ]
          },
          "metadata": {
            "tags": []
          },
          "execution_count": 234
        }
      ]
    },
    {
      "cell_type": "markdown",
      "metadata": {
        "id": "V-qdnDDCiD93"
      },
      "source": [
        "**2.** Separación de datos hadrón (h) y no-hadrón (g)"
      ]
    },
    {
      "cell_type": "code",
      "metadata": {
        "id": "8XMOScQrq4WI"
      },
      "source": [
        "#Se crean DataFrame vacios, en donde se almacenaran las clases g y h:\n",
        "datosg = pd.DataFrame(columns=['fLength', 'fwidth', 'fSize', 'fConc','fconc1','fAsym','fM3Long','fM3Trans','fAlpha','fDist','class'])  \n",
        "datosh= pd.DataFrame(columns=['fLength', 'fwidth', 'fSize', 'fConc','fconc1','fAsym','fM3Long','fM3Trans','fAlpha','fDist','class'])\n",
        "print(\"DataFrame datosg\")\n",
        "print(datosg)\n",
        "print(\"DataFrame datosh\")\n",
        "print(datosh)  \n",
        "#Se itera sobre todas las columnas para extraer filas e incorporarlas en el DataFrame correspondiente:\n",
        "for i in tqdm(range(len(datos))):\n",
        "  if datos.iloc[(i,10)]=='g':\n",
        "    datosg.loc[i]=datos.iloc[(i)]\n",
        "  else:\n",
        "    datosh.loc[i]=datos.iloc[(i)]\n",
        "#Se resetean los indices de los DataFrame    \n",
        "datosg=datosg.reset_index(drop=True)\n",
        "datosh=datosh.reset_index(drop=True)\n",
        "print(\"DataFrame datosg\")\n",
        "print(datosg)\n",
        "print(\"DataFrame datosh\")\n",
        "print(datosh)\n",
        "\n",
        "\n"
      ],
      "execution_count": null,
      "outputs": []
    },
    {
      "cell_type": "markdown",
      "metadata": {
        "id": "gnzNiG2siNvM"
      },
      "source": [
        "**3.** Histogramas para cada feature"
      ]
    },
    {
      "cell_type": "code",
      "metadata": {
        "colab": {
          "base_uri": "https://localhost:8080/",
          "height": 1000
        },
        "id": "bsrw3zQNyu54",
        "outputId": "05fa4163-1409-4da3-a068-2b5452bb85e4"
      },
      "source": [
        "#Se crea un vector con las features de los datos con el objetivo se usarlo para los titulos de cada histograma:\n",
        "feature=['fLength', 'fwidth', 'fSize', 'fConc','fconc1','fAsym','fM3Long','fM3Trans','fAlpha','fDist','class']\n",
        "#Se itera sobre las features X0 hasta X9, graficando sobrepuestas ambas clases:\n",
        "for i in range(10):\n",
        "  plt.hist(datosg.iloc[:,i], bins=25,alpha=0.8)\n",
        "  plt.hist(datosh.iloc[:,i], bins=25, alpha=0.8)\n",
        "  plt.title(feature[i])\n",
        "  plt.legend((\"No-Hadrón\",\"Hadrón\"))\n",
        "  plt.savefig(feature[i])\n",
        "  plt.show()\n",
        "  \n",
        "\n"
      ],
      "execution_count": null,
      "outputs": [
        {
          "output_type": "display_data",
          "data": {
            "image/png": "[encoded data removed]",
            "text/plain": [
              "<Figure size 432x288 with 1 Axes>"
            ]
          },
          "metadata": {
            "tags": [],
            "needs_background": "light"
          }
        },
        {
          "output_type": "display_data",
          "data": {
            "image/png": "[encoded data removed]",
            "text/plain": [
              "<Figure size 432x288 with 1 Axes>"
            ]
          },
          "metadata": {
            "tags": [],
            "needs_background": "light"
          }
        },
        {
          "output_type": "display_data",
          "data": {
            "image/png": "[encoded data removed]",
            "text/plain": [
              "<Figure size 432x288 with 1 Axes>"
            ]
          },
          "metadata": {
            "tags": [],
            "needs_background": "light"
          }
        },
        {
          "output_type": "display_data",
          "data": {
            "image/png": "[encoded data removed]",
            "text/plain": [
              "<Figure size 432x288 with 1 Axes>"
            ]
          },
          "metadata": {
            "tags": [],
            "needs_background": "light"
          }
        },
        {
          "output_type": "display_data",
          "data": {
            "image/png": "[encoded data removed]",
            "text/plain": [
              "<Figure size 432x288 with 1 Axes>"
            ]
          },
          "metadata": {
            "tags": [],
            "needs_background": "light"
          }
        },
        {
          "output_type": "display_data",
          "data": {
            "image/png": "[encoded data removed]",
            "text/plain": [
              "<Figure size 432x288 with 1 Axes>"
            ]
          },
          "metadata": {
            "tags": [],
            "needs_background": "light"
          }
        },
        {
          "output_type": "display_data",
          "data": {
            "image/png": "[encoded data removed]",
            "text/plain": [
              "<Figure size 432x288 with 1 Axes>"
            ]
          },
          "metadata": {
            "tags": [],
            "needs_background": "light"
          }
        },
        {
          "output_type": "display_data",
          "data": {
            "image/png": "[encoded data removed]",
            "text/plain": [
              "<Figure size 432x288 with 1 Axes>"
            ]
          },
          "metadata": {
            "tags": [],
            "needs_background": "light"
          }
        },
        {
          "output_type": "display_data",
          "data": {
            "image/png": "[encoded data removed]",
            "text/plain": [
              "<Figure size 432x288 with 1 Axes>"
            ]
          },
          "metadata": {
            "tags": [],
            "needs_background": "light"
          }
        },
        {
          "output_type": "display_data",
          "data": {
            "image/png": "[encoded data removed]",
            "text/plain": [
              "<Figure size 432x288 with 1 Axes>"
            ]
          },
          "metadata": {
            "tags": [],
            "needs_background": "light"
          }
        }
      ]
    },
    {
      "cell_type": "markdown",
      "metadata": {
        "id": "1nIMztnrtTZ2"
      },
      "source": [
        "**4**. Matrices de correlación entre features"
      ]
    },
    {
      "cell_type": "code",
      "metadata": {
        "colab": {
          "base_uri": "https://localhost:8080/",
          "height": 638
        },
        "id": "N3mOzuObOCMp",
        "outputId": "d134ad29-f306-431e-fde3-d4073796ea67"
      },
      "source": [
        "#Primero se procede reemplazar \"g\" por 0 y \"h\" por 1:\n",
        "datos=datos.replace('g',0)\n",
        "datos=datos.replace('h', 1) \n",
        "#Verificando el correcto reemplazo:\n",
        "print(datos)\n",
        "#Se procede a calcular la matrices de correlación en valor absoluto:\n",
        "print(\"Matriz de Correlación\")\n",
        "abs(datos.corr())\n"
      ],
      "execution_count": null,
      "outputs": [
        {
          "output_type": "stream",
          "text": [
            "        fLength    fwidth   fSize   fConc  ...  fM3Trans   fAlpha     fDist  class\n",
            "0       28.7967   16.0021  2.6449  0.3918  ...   -8.2027  40.0920   81.8828      0\n",
            "1       31.6036   11.7235  2.5185  0.5303  ...   -9.9574   6.3609  205.2610      0\n",
            "2      162.0520  136.0310  4.0612  0.0374  ...  -45.2160  76.9600  256.7880      0\n",
            "3       23.8172    9.5728  2.3385  0.6147  ...   -7.1513  10.4490  116.7370      0\n",
            "4       75.1362   30.9205  3.1611  0.3168  ...   21.8393   4.6480  356.4620      0\n",
            "...         ...       ...     ...     ...  ...       ...      ...       ...    ...\n",
            "19015   21.3846   10.9170  2.6161  0.5857  ...    2.8766   2.4229  106.8258      1\n",
            "19016   28.9452    6.7020  2.2672  0.5351  ...   -2.9632  86.7975  247.4560      1\n",
            "19017   75.4455   47.5305  3.4483  0.1417  ...   -9.4662  30.2987  256.5166      1\n",
            "19018  120.5135   76.9018  3.9939  0.0944  ...  -63.8389  84.6874  408.3166      1\n",
            "19019  187.1814   53.0014  3.2093  0.2876  ...   31.4755  52.7310  272.3174      1\n",
            "\n",
            "[19020 rows x 11 columns]\n",
            "Matriz de Correlación\n"
          ],
          "name": "stdout"
        },
        {
          "output_type": "execute_result",
          "data": {
            "text/html": [
              "<div>\n",
              "<style scoped>\n",
              "    .dataframe tbody tr th:only-of-type {\n",
              "        vertical-align: middle;\n",
              "    }\n",
              "\n",
              "    .dataframe tbody tr th {\n",
              "        vertical-align: top;\n",
              "    }\n",
              "\n",
              "    .dataframe thead th {\n",
              "        text-align: right;\n",
              "    }\n",
              "</style>\n",
              "<table border=\"1\" class=\"dataframe\">\n",
              "  <thead>\n",
              "    <tr style=\"text-align: right;\">\n",
              "      <th></th>\n",
              "      <th>fLength</th>\n",
              "      <th>fwidth</th>\n",
              "      <th>fSize</th>\n",
              "      <th>fConc</th>\n",
              "      <th>fconc1</th>\n",
              "      <th>fAsym</th>\n",
              "      <th>fM3Long</th>\n",
              "      <th>fM3Trans</th>\n",
              "      <th>fAlpha</th>\n",
              "      <th>fDist</th>\n",
              "      <th>class</th>\n",
              "    </tr>\n",
              "  </thead>\n",
              "  <tbody>\n",
              "    <tr>\n",
              "      <th>fLength</th>\n",
              "      <td>1.000000</td>\n",
              "      <td>0.770512</td>\n",
              "      <td>0.702454</td>\n",
              "      <td>0.630999</td>\n",
              "      <td>0.598145</td>\n",
              "      <td>0.368556</td>\n",
              "      <td>0.119747</td>\n",
              "      <td>0.013389</td>\n",
              "      <td>0.008777</td>\n",
              "      <td>0.418466</td>\n",
              "      <td>0.307572</td>\n",
              "    </tr>\n",
              "    <tr>\n",
              "      <th>fwidth</th>\n",
              "      <td>0.770512</td>\n",
              "      <td>1.000000</td>\n",
              "      <td>0.717517</td>\n",
              "      <td>0.609779</td>\n",
              "      <td>0.581141</td>\n",
              "      <td>0.266961</td>\n",
              "      <td>0.176234</td>\n",
              "      <td>0.039744</td>\n",
              "      <td>0.066061</td>\n",
              "      <td>0.336816</td>\n",
              "      <td>0.265596</td>\n",
              "    </tr>\n",
              "    <tr>\n",
              "      <th>fSize</th>\n",
              "      <td>0.702454</td>\n",
              "      <td>0.717517</td>\n",
              "      <td>1.000000</td>\n",
              "      <td>0.850850</td>\n",
              "      <td>0.808835</td>\n",
              "      <td>0.159863</td>\n",
              "      <td>0.095157</td>\n",
              "      <td>0.015455</td>\n",
              "      <td>0.186675</td>\n",
              "      <td>0.437041</td>\n",
              "      <td>0.117795</td>\n",
              "    </tr>\n",
              "    <tr>\n",
              "      <th>fConc</th>\n",
              "      <td>0.630999</td>\n",
              "      <td>0.609779</td>\n",
              "      <td>0.850850</td>\n",
              "      <td>1.000000</td>\n",
              "      <td>0.976412</td>\n",
              "      <td>0.112272</td>\n",
              "      <td>0.121899</td>\n",
              "      <td>0.011294</td>\n",
              "      <td>0.235272</td>\n",
              "      <td>0.328332</td>\n",
              "      <td>0.024615</td>\n",
              "    </tr>\n",
              "    <tr>\n",
              "      <th>fconc1</th>\n",
              "      <td>0.598145</td>\n",
              "      <td>0.581141</td>\n",
              "      <td>0.808835</td>\n",
              "      <td>0.976412</td>\n",
              "      <td>1.000000</td>\n",
              "      <td>0.100159</td>\n",
              "      <td>0.118769</td>\n",
              "      <td>0.010966</td>\n",
              "      <td>0.229799</td>\n",
              "      <td>0.304625</td>\n",
              "      <td>0.004797</td>\n",
              "    </tr>\n",
              "    <tr>\n",
              "      <th>fAsym</th>\n",
              "      <td>0.368556</td>\n",
              "      <td>0.266961</td>\n",
              "      <td>0.159863</td>\n",
              "      <td>0.112272</td>\n",
              "      <td>0.100159</td>\n",
              "      <td>1.000000</td>\n",
              "      <td>0.274045</td>\n",
              "      <td>0.002553</td>\n",
              "      <td>0.055689</td>\n",
              "      <td>0.206730</td>\n",
              "      <td>0.173587</td>\n",
              "    </tr>\n",
              "    <tr>\n",
              "      <th>fM3Long</th>\n",
              "      <td>0.119747</td>\n",
              "      <td>0.176234</td>\n",
              "      <td>0.095157</td>\n",
              "      <td>0.121899</td>\n",
              "      <td>0.118769</td>\n",
              "      <td>0.274045</td>\n",
              "      <td>1.000000</td>\n",
              "      <td>0.017197</td>\n",
              "      <td>0.186275</td>\n",
              "      <td>0.037025</td>\n",
              "      <td>0.193409</td>\n",
              "    </tr>\n",
              "    <tr>\n",
              "      <th>fM3Trans</th>\n",
              "      <td>0.013389</td>\n",
              "      <td>0.039744</td>\n",
              "      <td>0.015455</td>\n",
              "      <td>0.011294</td>\n",
              "      <td>0.010966</td>\n",
              "      <td>0.002553</td>\n",
              "      <td>0.017197</td>\n",
              "      <td>1.000000</td>\n",
              "      <td>0.004659</td>\n",
              "      <td>0.011427</td>\n",
              "      <td>0.003837</td>\n",
              "    </tr>\n",
              "    <tr>\n",
              "      <th>fAlpha</th>\n",
              "      <td>0.008777</td>\n",
              "      <td>0.066061</td>\n",
              "      <td>0.186675</td>\n",
              "      <td>0.235272</td>\n",
              "      <td>0.229799</td>\n",
              "      <td>0.055689</td>\n",
              "      <td>0.186275</td>\n",
              "      <td>0.004659</td>\n",
              "      <td>1.000000</td>\n",
              "      <td>0.220556</td>\n",
              "      <td>0.460979</td>\n",
              "    </tr>\n",
              "    <tr>\n",
              "      <th>fDist</th>\n",
              "      <td>0.418466</td>\n",
              "      <td>0.336816</td>\n",
              "      <td>0.437041</td>\n",
              "      <td>0.328332</td>\n",
              "      <td>0.304625</td>\n",
              "      <td>0.206730</td>\n",
              "      <td>0.037025</td>\n",
              "      <td>0.011427</td>\n",
              "      <td>0.220556</td>\n",
              "      <td>1.000000</td>\n",
              "      <td>0.065203</td>\n",
              "    </tr>\n",
              "    <tr>\n",
              "      <th>class</th>\n",
              "      <td>0.307572</td>\n",
              "      <td>0.265596</td>\n",
              "      <td>0.117795</td>\n",
              "      <td>0.024615</td>\n",
              "      <td>0.004797</td>\n",
              "      <td>0.173587</td>\n",
              "      <td>0.193409</td>\n",
              "      <td>0.003837</td>\n",
              "      <td>0.460979</td>\n",
              "      <td>0.065203</td>\n",
              "      <td>1.000000</td>\n",
              "    </tr>\n",
              "  </tbody>\n",
              "</table>\n",
              "</div>"
            ],
            "text/plain": [
              "           fLength    fwidth     fSize  ...    fAlpha     fDist     class\n",
              "fLength   1.000000  0.770512  0.702454  ...  0.008777  0.418466  0.307572\n",
              "fwidth    0.770512  1.000000  0.717517  ...  0.066061  0.336816  0.265596\n",
              "fSize     0.702454  0.717517  1.000000  ...  0.186675  0.437041  0.117795\n",
              "fConc     0.630999  0.609779  0.850850  ...  0.235272  0.328332  0.024615\n",
              "fconc1    0.598145  0.581141  0.808835  ...  0.229799  0.304625  0.004797\n",
              "fAsym     0.368556  0.266961  0.159863  ...  0.055689  0.206730  0.173587\n",
              "fM3Long   0.119747  0.176234  0.095157  ...  0.186275  0.037025  0.193409\n",
              "fM3Trans  0.013389  0.039744  0.015455  ...  0.004659  0.011427  0.003837\n",
              "fAlpha    0.008777  0.066061  0.186675  ...  1.000000  0.220556  0.460979\n",
              "fDist     0.418466  0.336816  0.437041  ...  0.220556  1.000000  0.065203\n",
              "class     0.307572  0.265596  0.117795  ...  0.460979  0.065203  1.000000\n",
              "\n",
              "[11 rows x 11 columns]"
            ]
          },
          "metadata": {
            "tags": []
          },
          "execution_count": 237
        }
      ]
    },
    {
      "cell_type": "markdown",
      "metadata": {
        "id": "2oDlAmuWQpxw"
      },
      "source": [
        "**5**. Indicar por orden cuáles son las características más correlacionadas con la clase:\n",
        "\n",
        "\n",
        "\n",
        "\n",
        "\n",
        "\n",
        "\n"
      ]
    },
    {
      "cell_type": "code",
      "metadata": {
        "colab": {
          "base_uri": "https://localhost:8080/"
        },
        "id": "XHOKwjeuc9xI",
        "outputId": "51149428-0efe-4b06-a027-4885b3c9dd4f"
      },
      "source": [
        "#Se ordenan en orden descendente las features correlacionadas con la clase:\n",
        "a=abs(datos.corr())\n",
        "a['class'].sort_values(ascending=False)"
      ],
      "execution_count": null,
      "outputs": [
        {
          "output_type": "execute_result",
          "data": {
            "text/plain": [
              "class       1.000000\n",
              "fAlpha      0.460979\n",
              "fLength     0.307572\n",
              "fwidth      0.265596\n",
              "fM3Long     0.193409\n",
              "fAsym       0.173587\n",
              "fSize       0.117795\n",
              "fDist       0.065203\n",
              "fConc       0.024615\n",
              "fconc1      0.004797\n",
              "fM3Trans    0.003837\n",
              "Name: class, dtype: float64"
            ]
          },
          "metadata": {
            "tags": []
          },
          "execution_count": 238
        }
      ]
    },
    {
      "cell_type": "markdown",
      "metadata": {
        "id": "4x5zZuxqgrV2"
      },
      "source": [
        "**Respuesta:**\n",
        "1. fAlpha      \n",
        "2. fLength     \n",
        "3. fwidth      \n",
        "4. fM3Long     \n",
        "5. fAsym       \n",
        "6. fSize       \n",
        "7. fDist       \n",
        "8. fConc       \n",
        "9. fconc1      \n",
        "10. fM3Trans    "
      ]
    },
    {
      "cell_type": "markdown",
      "metadata": {
        "id": "KKFVzoYvQywe"
      },
      "source": [
        "**6.** Indicar por orden cuáles son los 5 pares de características más correlacionadas entre sí.\n"
      ]
    },
    {
      "cell_type": "code",
      "metadata": {
        "colab": {
          "base_uri": "https://localhost:8080/"
        },
        "id": "R8of6e-h2Z2h",
        "outputId": "0d07b16f-ad83-4b60-f830-0ed846590358"
      },
      "source": [
        "#Nuevo DataFrame sin columna \"class\":\n",
        "datos1=pd.read_csv(path,header=None)\n",
        "datos1.set_axis(['fLength', 'fwidth', 'fSize', 'fConc','fconc1','fAsym','fM3Long','fM3Trans','fAlpha','fDist','class'], axis=1, inplace=True)\n",
        "datos1.drop(['class'], axis=1,inplace=True)\n",
        "print(datos1)"
      ],
      "execution_count": null,
      "outputs": [
        {
          "output_type": "stream",
          "text": [
            "        fLength    fwidth   fSize  ...  fM3Trans   fAlpha     fDist\n",
            "0       28.7967   16.0021  2.6449  ...   -8.2027  40.0920   81.8828\n",
            "1       31.6036   11.7235  2.5185  ...   -9.9574   6.3609  205.2610\n",
            "2      162.0520  136.0310  4.0612  ...  -45.2160  76.9600  256.7880\n",
            "3       23.8172    9.5728  2.3385  ...   -7.1513  10.4490  116.7370\n",
            "4       75.1362   30.9205  3.1611  ...   21.8393   4.6480  356.4620\n",
            "...         ...       ...     ...  ...       ...      ...       ...\n",
            "19015   21.3846   10.9170  2.6161  ...    2.8766   2.4229  106.8258\n",
            "19016   28.9452    6.7020  2.2672  ...   -2.9632  86.7975  247.4560\n",
            "19017   75.4455   47.5305  3.4483  ...   -9.4662  30.2987  256.5166\n",
            "19018  120.5135   76.9018  3.9939  ...  -63.8389  84.6874  408.3166\n",
            "19019  187.1814   53.0014  3.2093  ...   31.4755  52.7310  272.3174\n",
            "\n",
            "[19020 rows x 10 columns]\n"
          ],
          "name": "stdout"
        }
      ]
    },
    {
      "cell_type": "code",
      "metadata": {
        "colab": {
          "base_uri": "https://localhost:8080/"
        },
        "id": "ua1HnMNCnPBR",
        "outputId": "b0a7914e-bebd-4131-a1b6-d0d0615c5697"
      },
      "source": [
        "# Vector a utilizar para retornar features más y menos correlacionadas entre si:\n",
        "feature=['fLength', 'fwidth', 'fSize', 'fConc','fconc1','fAsym','fM3Long','fM3Trans','fAlpha','fDist','class']\n",
        "corr=abs(datos1.corr())\n",
        "#Matriz de corr a array:\n",
        "nmp=np.array(corr)\n",
        "\n",
        "#Corr lo reescribimos como una lista de vectores:\n",
        "vector=nmp.tolist()\n",
        "\n",
        "#Concatenamos los vectores contenidos en \"vector\" en  lista \"Z\":\n",
        "Z=[]\n",
        "for i in range(10):\n",
        "  Z.extend(vector[i])\n",
        "print(\"Dimensión de Z y su contenido\")\n",
        "print(len(Z))\n",
        "print(Z)\n",
        "\n",
        "#Reemplazamos 1's de la diagonal por 0 para no interferir en el calculo de máximos:\n",
        "for i in range(len(Z)):\n",
        "  if Z[i]==1:\n",
        "    Z[i]=0\n",
        "print(\"Z sin 1's\")\n",
        "print(Z)\n",
        "\n"
      ],
      "execution_count": null,
      "outputs": [
        {
          "output_type": "stream",
          "text": [
            "Dimensión de Z y su contenido\n",
            "100\n",
            "[1.0, 0.7705120396837211, 0.7024537576802136, 0.6309990789441371, 0.5981451310343256, 0.36855648667770613, 0.11974712839849563, 0.013389231720797553, 0.008777491115616104, 0.4184660710290949, 0.7705120396837211, 1.0, 0.7175168553176411, 0.6097786682086167, 0.5811407280368901, 0.2669609165340795, 0.17623422360754665, 0.03974360775459556, 0.06606137710396848, 0.33681611468448225, 0.7024537576802136, 0.7175168553176411, 1.0, 0.8508497973208023, 0.8088350117321321, 0.15986295426380667, 0.09515719422738414, 0.015454743012780273, 0.18667516391283426, 0.43704075700982004, 0.6309990789441371, 0.6097786682086167, 0.8508497973208023, 1.0, 0.9764118508094787, 0.11227222630884263, 0.12189933746198144, 0.011294068519778324, 0.23527190115015098, 0.32833230192791163, 0.5981451310343256, 0.5811407280368901, 0.8088350117321321, 0.9764118508094787, 1.0, 0.10015922010503664, 0.11876890875676853, 0.010965602436160038, 0.2297985354481817, 0.3046246782032224, 0.36855648667770613, 0.2669609165340795, 0.15986295426380667, 0.11227222630884263, 0.10015922010503664, 1.0, 0.27404481585390233, 0.0025528373198593904, 0.05568862071046052, 0.2067296317956613, 0.11974712839849563, 0.17623422360754665, 0.09515719422738414, 0.12189933746198144, 0.11876890875676853, 0.27404481585390233, 1.0, 0.017196694477804374, 0.18627459341684421, 0.03702517412368082, 0.013389231720797553, 0.03974360775459556, 0.015454743012780273, 0.011294068519778324, 0.010965602436160038, 0.0025528373198593904, 0.017196694477804374, 1.0, 0.004659125870348445, 0.011426611571946773, 0.008777491115616104, 0.06606137710396848, 0.18667516391283426, 0.23527190115015098, 0.2297985354481817, 0.05568862071046052, 0.18627459341684421, 0.004659125870348445, 1.0, 0.22055557614035393, 0.4184660710290949, 0.33681611468448225, 0.43704075700982004, 0.32833230192791163, 0.3046246782032224, 0.2067296317956613, 0.03702517412368082, 0.011426611571946773, 0.22055557614035393, 1.0]\n",
            "Z sin 1's\n",
            "[0, 0.7705120396837211, 0.7024537576802136, 0.6309990789441371, 0.5981451310343256, 0.36855648667770613, 0.11974712839849563, 0.013389231720797553, 0.008777491115616104, 0.4184660710290949, 0.7705120396837211, 0, 0.7175168553176411, 0.6097786682086167, 0.5811407280368901, 0.2669609165340795, 0.17623422360754665, 0.03974360775459556, 0.06606137710396848, 0.33681611468448225, 0.7024537576802136, 0.7175168553176411, 0, 0.8508497973208023, 0.8088350117321321, 0.15986295426380667, 0.09515719422738414, 0.015454743012780273, 0.18667516391283426, 0.43704075700982004, 0.6309990789441371, 0.6097786682086167, 0.8508497973208023, 0, 0.9764118508094787, 0.11227222630884263, 0.12189933746198144, 0.011294068519778324, 0.23527190115015098, 0.32833230192791163, 0.5981451310343256, 0.5811407280368901, 0.8088350117321321, 0.9764118508094787, 0, 0.10015922010503664, 0.11876890875676853, 0.010965602436160038, 0.2297985354481817, 0.3046246782032224, 0.36855648667770613, 0.2669609165340795, 0.15986295426380667, 0.11227222630884263, 0.10015922010503664, 0, 0.27404481585390233, 0.0025528373198593904, 0.05568862071046052, 0.2067296317956613, 0.11974712839849563, 0.17623422360754665, 0.09515719422738414, 0.12189933746198144, 0.11876890875676853, 0.27404481585390233, 0, 0.017196694477804374, 0.18627459341684421, 0.03702517412368082, 0.013389231720797553, 0.03974360775459556, 0.015454743012780273, 0.011294068519778324, 0.010965602436160038, 0.0025528373198593904, 0.017196694477804374, 0, 0.004659125870348445, 0.011426611571946773, 0.008777491115616104, 0.06606137710396848, 0.18667516391283426, 0.23527190115015098, 0.2297985354481817, 0.05568862071046052, 0.18627459341684421, 0.004659125870348445, 0, 0.22055557614035393, 0.4184660710290949, 0.33681611468448225, 0.43704075700982004, 0.32833230192791163, 0.3046246782032224, 0.2067296317956613, 0.03702517412368082, 0.011426611571946773, 0.22055557614035393, 0]\n"
          ],
          "name": "stdout"
        }
      ]
    },
    {
      "cell_type": "code",
      "metadata": {
        "colab": {
          "base_uri": "https://localhost:8080/"
        },
        "id": "sH-x2fyrydlC",
        "outputId": "83c7387d-b67d-440e-d5ab-4d454dbd5689"
      },
      "source": [
        "#Calculo de las 5 primeros máximos dentro del vector Z, con sus respectivas features asociadas:\n",
        "print(\"5 features más correlacionadas\")\n",
        "for i in range(5):\n",
        "  x=max(Z)\n",
        "  print(x)\n",
        "  for i in range(len(Z)):\n",
        "    if Z[i]==x:\n",
        "      col=i%10\n",
        "      fil=i//10\n",
        "      Z[i]=0 #Para \"eliminar\" este máximo\n",
        "  print(feature[col],feature[fil])\n",
        "      \n",
        "\n",
        "  \n"
      ],
      "execution_count": null,
      "outputs": [
        {
          "output_type": "stream",
          "text": [
            "5 features más correlacionadas\n",
            "0.9764118508094787\n",
            "fConc fconc1\n",
            "0.8508497973208023\n",
            "fSize fConc\n",
            "0.8088350117321321\n",
            "fSize fconc1\n",
            "0.7705120396837211\n",
            "fLength fwidth\n",
            "0.7175168553176411\n",
            "fwidth fSize\n"
          ],
          "name": "stdout"
        }
      ]
    },
    {
      "cell_type": "markdown",
      "metadata": {
        "id": "h8eiEyVw6L79"
      },
      "source": [
        "**Respuesta:**\n",
        "1. fConc - fconc1 \n",
        "2. fSize - fConc\n",
        "3. fSize - fconc1\n",
        "4. fLength - fwidth\n",
        "5. fwidth - *fSize*"
      ]
    },
    {
      "cell_type": "markdown",
      "metadata": {
        "id": "bvYWm7WqVuN2"
      },
      "source": [
        "**7.** Graficar las dos características distintas más correlacionadas en un scatter plot\n",
        "\n"
      ]
    },
    {
      "cell_type": "code",
      "metadata": {
        "colab": {
          "base_uri": "https://localhost:8080/",
          "height": 295
        },
        "id": "apgnoU9-hCok",
        "outputId": "e5007006-9e32-4bba-feb2-c3fcac2fb4f1"
      },
      "source": [
        "# Grafico de las 2 features más correlacionadas:\n",
        "plt.scatter(datos.iloc[:,3], datos.iloc[:,4], marker='o',color = 'red');\n",
        "plt.xlabel('fConc')\n",
        "plt.ylabel('fconc1')\n",
        "plt.title('Grafico de dispersión')\n",
        "plt.savefig(\"Dispersion +\")\n",
        "plt.show()"
      ],
      "execution_count": null,
      "outputs": [
        {
          "output_type": "display_data",
          "data": {
            "image/png": "[encoded data removed]",
            "text/plain": [
              "<Figure size 432x288 with 1 Axes>"
            ]
          },
          "metadata": {
            "tags": [],
            "needs_background": "light"
          }
        }
      ]
    },
    {
      "cell_type": "markdown",
      "metadata": {
        "id": "I1-ftv3nWPFh"
      },
      "source": [
        "**8.** Indicar por orden cuáles son los 5 pares de características distintas menos correlacionadas entre sí.\n",
        "\n",
        " "
      ]
    },
    {
      "cell_type": "code",
      "metadata": {
        "colab": {
          "base_uri": "https://localhost:8080/"
        },
        "id": "v7p35MmM7xVO",
        "outputId": "b129d40d-ff84-4be1-a84a-ac5c28468d78"
      },
      "source": [
        "#Matriz de corr a array:\n",
        "corr=abs(datos1.corr())\n",
        "nmp=np.array(corr)\n",
        "\n",
        "#Corr lo reescribimos como una lista de vectores:\n",
        "vector=nmp.tolist()\n",
        "\n",
        "#Concatenamos los vectores contenidos en \"vector\" en  lista \"Z\":\n",
        "Z=[]\n",
        "for i in range(10):\n",
        "  Z.extend(vector[i])\n",
        "print(\"Dimensión de Z y su contenido\")\n",
        "print(len(Z))\n",
        "print(Z)\n"
      ],
      "execution_count": null,
      "outputs": [
        {
          "output_type": "stream",
          "text": [
            "Dimensión de Z y su contenido\n",
            "100\n",
            "[1.0, 0.7705120396837211, 0.7024537576802136, 0.6309990789441371, 0.5981451310343256, 0.36855648667770613, 0.11974712839849563, 0.013389231720797553, 0.008777491115616104, 0.4184660710290949, 0.7705120396837211, 1.0, 0.7175168553176411, 0.6097786682086167, 0.5811407280368901, 0.2669609165340795, 0.17623422360754665, 0.03974360775459556, 0.06606137710396848, 0.33681611468448225, 0.7024537576802136, 0.7175168553176411, 1.0, 0.8508497973208023, 0.8088350117321321, 0.15986295426380667, 0.09515719422738414, 0.015454743012780273, 0.18667516391283426, 0.43704075700982004, 0.6309990789441371, 0.6097786682086167, 0.8508497973208023, 1.0, 0.9764118508094787, 0.11227222630884263, 0.12189933746198144, 0.011294068519778324, 0.23527190115015098, 0.32833230192791163, 0.5981451310343256, 0.5811407280368901, 0.8088350117321321, 0.9764118508094787, 1.0, 0.10015922010503664, 0.11876890875676853, 0.010965602436160038, 0.2297985354481817, 0.3046246782032224, 0.36855648667770613, 0.2669609165340795, 0.15986295426380667, 0.11227222630884263, 0.10015922010503664, 1.0, 0.27404481585390233, 0.0025528373198593904, 0.05568862071046052, 0.2067296317956613, 0.11974712839849563, 0.17623422360754665, 0.09515719422738414, 0.12189933746198144, 0.11876890875676853, 0.27404481585390233, 1.0, 0.017196694477804374, 0.18627459341684421, 0.03702517412368082, 0.013389231720797553, 0.03974360775459556, 0.015454743012780273, 0.011294068519778324, 0.010965602436160038, 0.0025528373198593904, 0.017196694477804374, 1.0, 0.004659125870348445, 0.011426611571946773, 0.008777491115616104, 0.06606137710396848, 0.18667516391283426, 0.23527190115015098, 0.2297985354481817, 0.05568862071046052, 0.18627459341684421, 0.004659125870348445, 1.0, 0.22055557614035393, 0.4184660710290949, 0.33681611468448225, 0.43704075700982004, 0.32833230192791163, 0.3046246782032224, 0.2067296317956613, 0.03702517412368082, 0.011426611571946773, 0.22055557614035393, 1.0]\n"
          ],
          "name": "stdout"
        }
      ]
    },
    {
      "cell_type": "code",
      "metadata": {
        "colab": {
          "base_uri": "https://localhost:8080/"
        },
        "id": "tlzP3GWS7ygX",
        "outputId": "933fe16c-2b24-4ba0-fe29-c0e9c3ca2b87"
      },
      "source": [
        "#Calculo de las 5 primeros mínimos dentro del vector Z, con sus respectivas features asociadas:\n",
        "print(\"5 features menos correlacionadas\")\n",
        "for i in range(5):\n",
        "  x=min(Z)\n",
        "  print(x)\n",
        "  for i in range(len(Z)):\n",
        "    if Z[i]==x:\n",
        "      col=i%10\n",
        "      fil=i//10\n",
        "      Z[i]=1 #Para \"eliminar\" este mínimo\n",
        "  print(feature[col],feature[fil])\n",
        "      "
      ],
      "execution_count": null,
      "outputs": [
        {
          "output_type": "stream",
          "text": [
            "5 features menos correlacionadas\n",
            "0.0025528373198593904\n",
            "fAsym fM3Trans\n",
            "0.004659125870348445\n",
            "fM3Trans fAlpha\n",
            "0.008777491115616104\n",
            "fLength fAlpha\n",
            "0.010965602436160038\n",
            "fconc1 fM3Trans\n",
            "0.011294068519778324\n",
            "fConc fM3Trans\n"
          ],
          "name": "stdout"
        }
      ]
    },
    {
      "cell_type": "markdown",
      "metadata": {
        "id": "Js02AYkQ7V_7"
      },
      "source": [
        "**Respuesta:**\n",
        "\n",
        "1. fAsym - fM3Trans\n",
        "2. fM3Trans - fAlpha\n",
        "3. fLength - fAlpha\n",
        "4. fconc1 - fM3Trans\n",
        "5. fConc - fM3Trans\n"
      ]
    },
    {
      "cell_type": "markdown",
      "metadata": {
        "id": "hfRXvKV6WdNB"
      },
      "source": [
        "**9.** Graficar las dos características distintas menos correlacionadas en un scatter plot.\n"
      ]
    },
    {
      "cell_type": "code",
      "metadata": {
        "colab": {
          "base_uri": "https://localhost:8080/",
          "height": 295
        },
        "id": "b5xyum6-nvQ4",
        "outputId": "c7af0fd9-7b61-42cc-c8a4-ae22a059d449"
      },
      "source": [
        "# Grafico de las 2 features menos correlacionadas:\n",
        "plt.scatter(datos.iloc[:,5], datos.iloc[:,7], marker='o',color = 'red');\n",
        "plt.xlabel('fAsym')\n",
        "plt.ylabel('fM3Trans')\n",
        "plt.title('Grafico de dispersión')\n",
        "plt.savefig(\"Dispersion -\")\n",
        "plt.show()"
      ],
      "execution_count": null,
      "outputs": [
        {
          "output_type": "display_data",
          "data": {
            "image/png": "[encoded data removed]",
            "text/plain": [
              "<Figure size 432x288 with 1 Axes>"
            ]
          },
          "metadata": {
            "tags": [],
            "needs_background": "light"
          }
        }
      ]
    },
    {
      "cell_type": "markdown",
      "metadata": {
        "id": "i5MwWbTSWhUa"
      },
      "source": [
        "10. Graficar la matriz de correlación de los datos, usando el valor absoluto de éstas."
      ]
    },
    {
      "cell_type": "code",
      "metadata": {
        "colab": {
          "base_uri": "https://localhost:8080/",
          "height": 316
        },
        "id": "zDNnSxdRzIqT",
        "outputId": "c929ed87-3882-4f3e-a069-ef64adaeeda0"
      },
      "source": [
        "# Grafico de la matriz de correlación en su valor absoluto\n",
        "sb.heatmap(abs(datos.corr()))\n",
        "plt.title(\"Matriz de Correlación\")\n",
        "plt.savefig(\"matriz\")"
      ],
      "execution_count": null,
      "outputs": [
        {
          "output_type": "display_data",
          "data": {
            "image/png": "[encoded data removed]",
            "text/plain": [
              "<Figure size 432x288 with 2 Axes>"
            ]
          },
          "metadata": {
            "tags": [],
            "needs_background": "light"
          }
        }
      ]
    },
    {
      "cell_type": "markdown",
      "metadata": {
        "id": "V6cQnkiR0JYH"
      },
      "source": [
        "# ***Parte 2: Clasificación usando naive Bayes e histogramas***"
      ]
    },
    {
      "cell_type": "markdown",
      "metadata": {
        "id": "iVnO-COkMxwc"
      },
      "source": [
        "**11.** Creando matriz de entrenamiento y de prueba\n",
        "\n",
        "\n",
        "\n"
      ]
    },
    {
      "cell_type": "code",
      "metadata": {
        "colab": {
          "base_uri": "https://localhost:8080/"
        },
        "id": "6q0Xo-feM-NY",
        "outputId": "8e984aeb-cdd8-434c-8996-05fa650b0591"
      },
      "source": [
        "# 80% de la muestra:\n",
        "19020*80/100 "
      ],
      "execution_count": null,
      "outputs": [
        {
          "output_type": "execute_result",
          "data": {
            "text/plain": [
              "15216.0"
            ]
          },
          "metadata": {
            "tags": []
          },
          "execution_count": 247
        }
      ]
    },
    {
      "cell_type": "code",
      "metadata": {
        "colab": {
          "base_uri": "https://localhost:8080/"
        },
        "id": "DAXV7gkfPviT",
        "outputId": "6f4eb393-d58b-479e-a3ee-638c66398a8d"
      },
      "source": [
        " #Proporción clase g/clase h:\n",
        " 12332/6688 "
      ],
      "execution_count": null,
      "outputs": [
        {
          "output_type": "execute_result",
          "data": {
            "text/plain": [
              "1.8438995215311005"
            ]
          },
          "metadata": {
            "tags": []
          },
          "execution_count": 248
        }
      ]
    },
    {
      "cell_type": "code",
      "metadata": {
        "id": "pBdXAp1VSnsa"
      },
      "source": [
        "#Definimos nuevo DataFrame, \"Desorden\" con las filas desordenadas de \"datos\":\n",
        "Desorden=datos.iloc[np.random.permutation(datos.index)].reset_index(drop=True)\n",
        "print('Datos Desordenados')\n",
        "print(Desorden)\n",
        "\n",
        "#Se define matriz de entrenamiento:\n",
        "Entrenamiento= Desorden.iloc[0:15216,:].reset_index(drop=True)\n",
        "print('Datos de Entrenamiento')\n",
        "print(Entrenamiento)\n",
        "\n",
        "#Se define matriz de prueba:\n",
        "prueba=Desorden.iloc[15216:,:].reset_index(drop=True)\n",
        "print('Datos de Prueba')\n",
        "print(prueba)\n",
        "\n",
        "#Se separan los datos de entrenamiento en clase \"g\" y \"h\":\n",
        "\n",
        "#Creación de matrices auxiliares:\n",
        "\n",
        "datosgentrenamiento = pd.DataFrame(columns=['fLength', 'fwidth', 'fSize', 'fConc','fconc1','fAsym','fM3Long','fM3Trans','fAlpha','fDist','class'])  \n",
        "datoshentrenamiento= pd.DataFrame(columns=['fLength', 'fwidth', 'fSize', 'fConc','fconc1','fAsym','fM3Long','fM3Trans','fAlpha','fDist','class'])  \n",
        "\n",
        "#Se itera sobre todas las filas almacenando las filas correspondientes según su clase:\n",
        "for i in tqdm(range(len(Entrenamiento))):\n",
        "  if Entrenamiento.iloc[(i,10)]==0:\n",
        "    datosgentrenamiento.loc[i]=Entrenamiento.iloc[(i)]\n",
        "  else:\n",
        "    datoshentrenamiento.loc[i]=Entrenamiento.iloc[(i)]\n",
        "\n",
        "#Creación de matriz \"Ge\" y \"He\" que contienen las clases, las cuales serán usadas posteriormente:\n",
        "Ge=datosgentrenamiento.reset_index(drop=True)\n",
        "He=datoshentrenamiento.reset_index(drop=True)\n",
        "\n",
        "#Se corrige un problema de formato:\n",
        "Ge['class']=pd.to_numeric(Ge['class'])\n",
        "He['class']=pd.to_numeric(He['class'])\n",
        "\n",
        "print('Clase g entrenamiento')\n",
        "print(Ge)\n",
        "print('Clase h entrenamiento')\n",
        "print(He)\n",
        "print('Verificando proporción g y h, debe ser 1.84 aprox')\n",
        "print(len(Ge)/len(He)) #Proporción g y h"
      ],
      "execution_count": null,
      "outputs": []
    },
    {
      "cell_type": "markdown",
      "metadata": {
        "id": "Dgu3aUcvgI7Y"
      },
      "source": [
        "**12.** Histogramas separados para cada clase"
      ]
    },
    {
      "cell_type": "code",
      "metadata": {
        "colab": {
          "base_uri": "https://localhost:8080/",
          "height": 1000
        },
        "id": "28jsjs7egskb",
        "outputId": "cdd31f3e-edac-42df-fa5b-e4bffbdf2554"
      },
      "source": [
        "#Histogramas de cada feature por clase:\n",
        "feature=['fLength', 'fwidth', 'fSize', 'fConc','fconc1','fAsym','fM3Long','fM3Trans','fAlpha','fDist','class']\n",
        "print('Histogramas clase No-Hadrón')\n",
        "for i in range(10):\n",
        "  plt.hist(Ge.iloc[:,i], bins=25)\n",
        "  plt.title(feature[i])\n",
        "  plt.legend(['Clase g'])\n",
        "  plt.show()\n",
        "print('Histogramas clase Hadrón')\n",
        "for i in range(10):\n",
        "  plt.hist(He.iloc[:,i], bins=25,color='red')\n",
        "  plt.title(feature[i])\n",
        "  plt.legend(['Clase h'])\n",
        "  plt.show()\n"
      ],
      "execution_count": null,
      "outputs": [
        {
          "output_type": "stream",
          "text": [
            "Histogramas clase No-Hadrón\n"
          ],
          "name": "stdout"
        },
        {
          "output_type": "display_data",
          "data": {
            "image/png": "[encoded data removed]",
            "text/plain": [
              "<Figure size 432x288 with 1 Axes>"
            ]
          },
          "metadata": {
            "tags": [],
            "needs_background": "light"
          }
        },
        {
          "output_type": "display_data",
          "data": {
            "image/png": "[encoded data removed]",
            "text/plain": [
              "<Figure size 432x288 with 1 Axes>"
            ]
          },
          "metadata": {
            "tags": [],
            "needs_background": "light"
          }
        },
        {
          "output_type": "display_data",
          "data": {
            "image/png": "[encoded data removed]",
            "text/plain": [
              "<Figure size 432x288 with 1 Axes>"
            ]
          },
          "metadata": {
            "tags": [],
            "needs_background": "light"
          }
        },
        {
          "output_type": "display_data",
          "data": {
            "image/png": "[encoded data removed]",
            "text/plain": [
              "<Figure size 432x288 with 1 Axes>"
            ]
          },
          "metadata": {
            "tags": [],
            "needs_background": "light"
          }
        },
        {
          "output_type": "display_data",
          "data": {
            "image/png": "[encoded data removed]",
            "text/plain": [
              "<Figure size 432x288 with 1 Axes>"
            ]
          },
          "metadata": {
            "tags": [],
            "needs_background": "light"
          }
        },
        {
          "output_type": "display_data",
          "data": {
            "image/png": "[encoded data removed]",
            "text/plain": [
              "<Figure size 432x288 with 1 Axes>"
            ]
          },
          "metadata": {
            "tags": [],
            "needs_background": "light"
          }
        },
        {
          "output_type": "display_data",
          "data": {
            "image/png": "[encoded data removed]",
            "text/plain": [
              "<Figure size 432x288 with 1 Axes>"
            ]
          },
          "metadata": {
            "tags": [],
            "needs_background": "light"
          }
        },
        {
          "output_type": "display_data",
          "data": {
            "image/png": "[encoded data removed]",
            "text/plain": [
              "<Figure size 432x288 with 1 Axes>"
            ]
          },
          "metadata": {
            "tags": [],
            "needs_background": "light"
          }
        },
        {
          "output_type": "display_data",
          "data": {
            "image/png": "[encoded data removed]",
            "text/plain": [
              "<Figure size 432x288 with 1 Axes>"
            ]
          },
          "metadata": {
            "tags": [],
            "needs_background": "light"
          }
        },
        {
          "output_type": "display_data",
          "data": {
            "image/png": "[encoded data removed]",
            "text/plain": [
              "<Figure size 432x288 with 1 Axes>"
            ]
          },
          "metadata": {
            "tags": [],
            "needs_background": "light"
          }
        },
        {
          "output_type": "stream",
          "text": [
            "Histogramas clase Hadrón\n"
          ],
          "name": "stdout"
        },
        {
          "output_type": "display_data",
          "data": {
            "image/png": "[encoded data removed]",
            "text/plain": [
              "<Figure size 432x288 with 1 Axes>"
            ]
          },
          "metadata": {
            "tags": [],
            "needs_background": "light"
          }
        },
        {
          "output_type": "display_data",
          "data": {
            "image/png": "[encoded data removed]",
            "text/plain": [
              "<Figure size 432x288 with 1 Axes>"
            ]
          },
          "metadata": {
            "tags": [],
            "needs_background": "light"
          }
        },
        {
          "output_type": "display_data",
          "data": {
            "image/png": "[encoded data removed]",
            "text/plain": [
              "<Figure size 432x288 with 1 Axes>"
            ]
          },
          "metadata": {
            "tags": [],
            "needs_background": "light"
          }
        },
        {
          "output_type": "display_data",
          "data": {
            "image/png": "[encoded data removed]",
            "text/plain": [
              "<Figure size 432x288 with 1 Axes>"
            ]
          },
          "metadata": {
            "tags": [],
            "needs_background": "light"
          }
        },
        {
          "output_type": "display_data",
          "data": {
            "image/png": "[encoded data removed]",
            "text/plain": [
              "<Figure size 432x288 with 1 Axes>"
            ]
          },
          "metadata": {
            "tags": [],
            "needs_background": "light"
          }
        },
        {
          "output_type": "display_data",
          "data": {
            "image/png": "[encoded data removed]",
            "text/plain": [
              "<Figure size 432x288 with 1 Axes>"
            ]
          },
          "metadata": {
            "tags": [],
            "needs_background": "light"
          }
        },
        {
          "output_type": "display_data",
          "data": {
            "image/png": "[encoded data removed]",
            "text/plain": [
              "<Figure size 432x288 with 1 Axes>"
            ]
          },
          "metadata": {
            "tags": [],
            "needs_background": "light"
          }
        },
        {
          "output_type": "display_data",
          "data": {
            "image/png": "[encoded data removed]",
            "text/plain": [
              "<Figure size 432x288 with 1 Axes>"
            ]
          },
          "metadata": {
            "tags": [],
            "needs_background": "light"
          }
        },
        {
          "output_type": "display_data",
          "data": {
            "image/png": "[encoded data removed]",
            "text/plain": [
              "<Figure size 432x288 with 1 Axes>"
            ]
          },
          "metadata": {
            "tags": [],
            "needs_background": "light"
          }
        },
        {
          "output_type": "display_data",
          "data": {
            "image/png": "[encoded data removed]",
            "text/plain": [
              "<Figure size 432x288 with 1 Axes>"
            ]
          },
          "metadata": {
            "tags": [],
            "needs_background": "light"
          }
        }
      ]
    },
    {
      "cell_type": "code",
      "metadata": {
        "colab": {
          "base_uri": "https://localhost:8080/",
          "height": 265
        },
        "id": "ywWoTg56bT6D",
        "outputId": "b95ff212-3e12-4276-f3b2-72a033d3a0bf"
      },
      "source": [
        "#Entrenamiento:\n",
        "#Se procede a guardar Counts y Bins para cada feature de la clase No-Hadrón:\n",
        "CountsClaseG=[]\n",
        "BinsClaseG=[]\n",
        "for i in range(0,10):\n",
        "  counts, bins, bars=plt.hist(Ge.iloc[:,i], bins=25)\n",
        "  counts=counts/np.sum(counts)\n",
        "  CountsClaseG.append(counts)\n",
        "  BinsClaseG.append(bins)\n",
        "#Se procede a guardar Counts y Bins para cada feature de la clase Hadrón:\n",
        "CountsClaseH=[]\n",
        "BinsClaseH=[]\n",
        "for i in range(0,10):\n",
        "  counts, bins, bars=plt.hist(He.iloc[:,i], bins=25)\n",
        "  counts=counts/np.sum(counts)\n",
        "  CountsClaseH.append(counts)\n",
        "  BinsClaseH.append(bins)\n"
      ],
      "execution_count": null,
      "outputs": [
        {
          "output_type": "display_data",
          "data": {
            "image/png": "[encoded data removed]",
            "text/plain": [
              "<Figure size 432x288 with 1 Axes>"
            ]
          },
          "metadata": {
            "tags": [],
            "needs_background": "light"
          }
        }
      ]
    },
    {
      "cell_type": "code",
      "metadata": {
        "id": "8XNTlKNDeMtZ"
      },
      "source": [
        ""
      ],
      "execution_count": null,
      "outputs": []
    },
    {
      "cell_type": "markdown",
      "metadata": {
        "id": "GRcJqCiZmtbd"
      },
      "source": [
        "**13.** Verosimilitudes en ambas clases usando histogramas."
      ]
    },
    {
      "cell_type": "code",
      "metadata": {
        "id": "4xuDmQonyGHX"
      },
      "source": [
        "#Funciones para calcular la probabilidad de obtener feature xi en la clase correspondiente: \n",
        "def verosimilitudG(xi,Columnai): \n",
        "  i=Columnai\n",
        "  #Clase G:\n",
        "  for j in range(len(CountsClaseG[i])):\n",
        "    if BinsClaseG[i][j]<=xi and xi<=BinsClaseG[i][j+1]:\n",
        "      PG=CountsClaseG[i][j]\n",
        "      break\n",
        "    else:\n",
        "      PG=0\n",
        "  return PG\n",
        "\n",
        "def verosimilitudH(xi,Columnai):\n",
        "  i=Columnai\n",
        "  #Clase H:\n",
        "  for j in range(len(CountsClaseH[i])):\n",
        "    if BinsClaseH[i][j]<=xi and xi<=BinsClaseH[i][j+1]:\n",
        "      PH=CountsClaseH[i][j]\n",
        "      break\n",
        "    else:\n",
        "      PH=0\n",
        "  return PH\n",
        "\n",
        "\n"
      ],
      "execution_count": null,
      "outputs": []
    },
    {
      "cell_type": "code",
      "metadata": {
        "id": "ARg4AwwL1L4o"
      },
      "source": [
        "#Función que multiplica las probabilidades de cada feature de tal modo de obtener la verosimilitud para el caso Hadrón y No-Hadrón:\n",
        "def ProbabilidadTotal(x0,x1,x2,x3,x4,x5,x6,x7,x8,x9):\n",
        "  a=[x0,x1,x2,x3,x4,x5,x6,x7,x8,x9]\n",
        "  B=[]\n",
        "  C=[]\n",
        "  #Clase G:\n",
        "  for i in range(0,10):\n",
        "    B.append(verosimilitudG(a[i],i))\n",
        "  PG=B[0]*B[1]*B[2]*B[3]*B[4]*B[5]*B[6]*B[7]*B[8]*B[9]\n",
        "  #Clase H:\n",
        "  for i in range(0,10):\n",
        "    C.append(verosimilitudH(a[i],i))\n",
        "  PH=C[0]*C[1]*C[2]*C[3]*C[4]*C[5]*C[6]*C[7]*C[8]*C[9]\n",
        "\n",
        "  return [PG, PH]\n",
        "    \n"
      ],
      "execution_count": null,
      "outputs": []
    },
    {
      "cell_type": "code",
      "metadata": {
        "colab": {
          "base_uri": "https://localhost:8080/"
        },
        "id": "wlFdYxdrDbAZ",
        "outputId": "82692f82-5a8e-466f-fe88-20a7e304358d"
      },
      "source": [
        "#Generamos 2 columnas vacias para ingresas verosimilitudes:\n",
        "prueba[\"verosimilitud No-Hadrón\"] = \"\"\n",
        "prueba[\"verosimilitud Hadrón\"] = \"\"\n",
        "print(prueba)"
      ],
      "execution_count": null,
      "outputs": [
        {
          "output_type": "stream",
          "text": [
            "       fLength   fwidth  ...  verosimilitud No-Hadrón  verosimilitud Hadrón\n",
            "0      35.1147  17.8008  ...                                               \n",
            "1      66.2943  23.1329  ...                                               \n",
            "2     138.8380  32.8249  ...                                               \n",
            "3      43.3510  17.7081  ...                                               \n",
            "4      19.5014  12.4493  ...                                               \n",
            "...        ...      ...  ...                      ...                   ...\n",
            "3799   91.7079  37.8589  ...                                               \n",
            "3800   21.9678  11.1386  ...                                               \n",
            "3801   29.5321  13.4738  ...                                               \n",
            "3802   27.5203  11.1225  ...                                               \n",
            "3803   22.3636  10.3991  ...                                               \n",
            "\n",
            "[3804 rows x 13 columns]\n"
          ],
          "name": "stdout"
        }
      ]
    },
    {
      "cell_type": "code",
      "metadata": {
        "id": "y2nHSUJ0DQLF",
        "colab": {
          "base_uri": "https://localhost:8080/"
        },
        "outputId": "9557985f-d6bc-483a-b11e-010f68970cb6"
      },
      "source": [
        "#Calculo de verosimilitud para cada fila de la matriz de prueba:\n",
        "for i in tqdm(range(len(prueba))):\n",
        "    y=[]\n",
        "    for j in range(0,10):\n",
        "      y.append(prueba.iloc[i,j])\n",
        "    prueba.iloc[(i,11)]= ProbabilidadTotal(y[0],y[1],y[2],y[3],y[4],y[5],y[6],y[7],y[8],y[9])[0]\n",
        "    prueba.iloc[(i,12)]= ProbabilidadTotal(y[0],y[1],y[2],y[3],y[4],y[5],y[6],y[7],y[8],y[9])[1]\n",
        "  \n",
        "print(prueba)"
      ],
      "execution_count": null,
      "outputs": [
        {
          "output_type": "stream",
          "text": [
            "\n",
            "\n",
            "\n",
            "  0%|          | 0/3804 [00:00<?, ?it/s]\u001b[A\u001b[A\u001b[A\n",
            "\n",
            "\n",
            "  2%|▏         | 70/3804 [00:00<00:05, 695.48it/s]\u001b[A\u001b[A\u001b[A\n",
            "\n",
            "\n",
            "  4%|▎         | 134/3804 [00:00<00:05, 674.96it/s]\u001b[A\u001b[A\u001b[A\n",
            "\n",
            "\n",
            "  5%|▌         | 207/3804 [00:00<00:05, 690.28it/s]\u001b[A\u001b[A\u001b[A\n",
            "\n",
            "\n",
            "  8%|▊         | 287/3804 [00:00<00:04, 718.94it/s]\u001b[A\u001b[A\u001b[A\n",
            "\n",
            "\n",
            "  9%|▉         | 353/3804 [00:00<00:04, 698.47it/s]\u001b[A\u001b[A\u001b[A\n",
            "\n",
            "\n",
            " 11%|█         | 420/3804 [00:00<00:04, 689.00it/s]\u001b[A\u001b[A\u001b[A\n",
            "\n",
            "\n",
            " 13%|█▎        | 485/3804 [00:00<00:04, 676.11it/s]\u001b[A\u001b[A\u001b[A\n",
            "\n",
            "\n",
            " 14%|█▍        | 549/3804 [00:00<00:04, 662.29it/s]\u001b[A\u001b[A\u001b[A\n",
            "\n",
            "\n",
            " 16%|█▌        | 615/3804 [00:00<00:04, 657.31it/s]\u001b[A\u001b[A\u001b[A\n",
            "\n",
            "\n",
            " 18%|█▊        | 679/3804 [00:01<00:04, 639.86it/s]\u001b[A\u001b[A\u001b[A\n",
            "\n",
            "\n",
            " 20%|█▉        | 742/3804 [00:01<00:04, 620.76it/s]\u001b[A\u001b[A\u001b[A\n",
            "\n",
            "\n",
            " 22%|██▏       | 819/3804 [00:01<00:04, 658.30it/s]\u001b[A\u001b[A\u001b[A\n",
            "\n",
            "\n",
            " 23%|██▎       | 886/3804 [00:01<00:04, 660.27it/s]\u001b[A\u001b[A\u001b[A\n",
            "\n",
            "\n",
            " 25%|██▌       | 953/3804 [00:01<00:04, 663.10it/s]\u001b[A\u001b[A\u001b[A\n",
            "\n",
            "\n",
            " 27%|██▋       | 1020/3804 [00:01<00:04, 645.84it/s]\u001b[A\u001b[A\u001b[A\n",
            "\n",
            "\n",
            " 29%|██▊       | 1085/3804 [00:01<00:04, 636.07it/s]\u001b[A\u001b[A\u001b[A\n",
            "\n",
            "\n",
            " 30%|███       | 1149/3804 [00:01<00:04, 617.41it/s]\u001b[A\u001b[A\u001b[A\n",
            "\n",
            "\n",
            " 32%|███▏      | 1212/3804 [00:01<00:04, 618.67it/s]\u001b[A\u001b[A\u001b[A\n",
            "\n",
            "\n",
            " 34%|███▎      | 1280/3804 [00:01<00:03, 635.71it/s]\u001b[A\u001b[A\u001b[A\n",
            "\n",
            "\n",
            " 35%|███▌      | 1344/3804 [00:02<00:03, 633.73it/s]\u001b[A\u001b[A\u001b[A\n",
            "\n",
            "\n",
            " 37%|███▋      | 1410/3804 [00:02<00:03, 640.62it/s]\u001b[A\u001b[A\u001b[A\n",
            "\n",
            "\n",
            " 39%|███▉      | 1485/3804 [00:02<00:03, 667.51it/s]\u001b[A\u001b[A\u001b[A\n",
            "\n",
            "\n",
            " 41%|████      | 1553/3804 [00:02<00:03, 667.94it/s]\u001b[A\u001b[A\u001b[A\n",
            "\n",
            "\n",
            " 43%|████▎     | 1621/3804 [00:02<00:03, 660.07it/s]\u001b[A\u001b[A\u001b[A\n",
            "\n",
            "\n",
            " 44%|████▍     | 1689/3804 [00:02<00:03, 664.97it/s]\u001b[A\u001b[A\u001b[A\n",
            "\n",
            "\n",
            " 46%|████▋     | 1764/3804 [00:02<00:02, 686.17it/s]\u001b[A\u001b[A\u001b[A\n",
            "\n",
            "\n",
            " 48%|████▊     | 1833/3804 [00:02<00:02, 674.76it/s]\u001b[A\u001b[A\u001b[A\n",
            "\n",
            "\n",
            " 50%|████▉     | 1901/3804 [00:02<00:02, 674.39it/s]\u001b[A\u001b[A\u001b[A\n",
            "\n",
            "\n",
            " 52%|█████▏    | 1969/3804 [00:02<00:02, 651.12it/s]\u001b[A\u001b[A\u001b[A\n",
            "\n",
            "\n",
            " 53%|█████▎    | 2035/3804 [00:03<00:02, 641.12it/s]\u001b[A\u001b[A\u001b[A\n",
            "\n",
            "\n",
            " 55%|█████▌    | 2100/3804 [00:03<00:02, 617.88it/s]\u001b[A\u001b[A\u001b[A\n",
            "\n",
            "\n",
            " 57%|█████▋    | 2179/3804 [00:03<00:02, 659.71it/s]\u001b[A\u001b[A\u001b[A\n",
            "\n",
            "\n",
            " 59%|█████▉    | 2263/3804 [00:03<00:02, 704.86it/s]\u001b[A\u001b[A\u001b[A\n",
            "\n",
            "\n",
            " 62%|██████▏   | 2344/3804 [00:03<00:01, 732.12it/s]\u001b[A\u001b[A\u001b[A\n",
            "\n",
            "\n",
            " 64%|██████▎   | 2419/3804 [00:03<00:01, 720.81it/s]\u001b[A\u001b[A\u001b[A\n",
            "\n",
            "\n",
            " 66%|██████▌   | 2493/3804 [00:03<00:01, 680.97it/s]\u001b[A\u001b[A\u001b[A\n",
            "\n",
            "\n",
            " 67%|██████▋   | 2563/3804 [00:03<00:01, 680.07it/s]\u001b[A\u001b[A\u001b[A\n",
            "\n",
            "\n",
            " 69%|██████▉   | 2632/3804 [00:03<00:01, 665.72it/s]\u001b[A\u001b[A\u001b[A\n",
            "\n",
            "\n",
            " 71%|███████   | 2701/3804 [00:04<00:01, 672.41it/s]\u001b[A\u001b[A\u001b[A\n",
            "\n",
            "\n",
            " 73%|███████▎  | 2772/3804 [00:04<00:01, 681.70it/s]\u001b[A\u001b[A\u001b[A\n",
            "\n",
            "\n",
            " 75%|███████▍  | 2841/3804 [00:04<00:01, 664.50it/s]\u001b[A\u001b[A\u001b[A\n",
            "\n",
            "\n",
            " 76%|███████▋  | 2908/3804 [00:04<00:01, 650.69it/s]\u001b[A\u001b[A\u001b[A\n",
            "\n",
            "\n",
            " 78%|███████▊  | 2976/3804 [00:04<00:01, 658.20it/s]\u001b[A\u001b[A\u001b[A\n",
            "\n",
            "\n",
            " 80%|███████▉  | 3043/3804 [00:04<00:01, 654.19it/s]\u001b[A\u001b[A\u001b[A\n",
            "\n",
            "\n",
            " 82%|████████▏ | 3109/3804 [00:04<00:01, 652.65it/s]\u001b[A\u001b[A\u001b[A\n",
            "\n",
            "\n",
            " 83%|████████▎ | 3175/3804 [00:04<00:00, 646.58it/s]\u001b[A\u001b[A\u001b[A\n",
            "\n",
            "\n",
            " 85%|████████▌ | 3240/3804 [00:04<00:00, 635.74it/s]\u001b[A\u001b[A\u001b[A\n",
            "\n",
            "\n",
            " 87%|████████▋ | 3304/3804 [00:04<00:00, 628.92it/s]\u001b[A\u001b[A\u001b[A\n",
            "\n",
            "\n",
            " 89%|████████▊ | 3371/3804 [00:05<00:00, 639.92it/s]\u001b[A\u001b[A\u001b[A\n",
            "\n",
            "\n",
            " 90%|█████████ | 3436/3804 [00:05<00:00, 633.44it/s]\u001b[A\u001b[A\u001b[A\n",
            "\n",
            "\n",
            " 92%|█████████▏| 3500/3804 [00:05<00:00, 627.38it/s]\u001b[A\u001b[A\u001b[A\n",
            "\n",
            "\n",
            " 94%|█████████▍| 3567/3804 [00:05<00:00, 639.58it/s]\u001b[A\u001b[A\u001b[A\n",
            "\n",
            "\n",
            " 96%|█████████▌| 3641/3804 [00:05<00:00, 665.00it/s]\u001b[A\u001b[A\u001b[A\n",
            "\n",
            "\n",
            " 97%|█████████▋| 3708/3804 [00:05<00:00, 645.96it/s]\u001b[A\u001b[A\u001b[A\n",
            "\n",
            "\n",
            "100%|██████████| 3804/3804 [00:05<00:00, 658.87it/s]"
          ],
          "name": "stderr"
        },
        {
          "output_type": "stream",
          "text": [
            "       fLength   fwidth  ...  verosimilitud No-Hadrón  verosimilitud Hadrón\n",
            "0      35.1147  17.8008  ...              2.09306e-10           1.00119e-09\n",
            "1      66.2943  23.1329  ...              4.78286e-10           4.53339e-11\n",
            "2     138.8380  32.8249  ...              2.36026e-16           1.71943e-13\n",
            "3      43.3510  17.7081  ...              3.11726e-10           2.24542e-09\n",
            "4      19.5014  12.4493  ...              3.01338e-10           1.38547e-09\n",
            "...        ...      ...  ...                      ...                   ...\n",
            "3799   91.7079  37.8589  ...              9.56082e-13           4.14986e-12\n",
            "3800   21.9678  11.1386  ...              6.20276e-11           5.87243e-10\n",
            "3801   29.5321  13.4738  ...              2.62871e-10           1.81717e-09\n",
            "3802   27.5203  11.1225  ...              2.74106e-10           1.73505e-09\n",
            "3803   22.3636  10.3991  ...              1.70698e-09             3.852e-10\n",
            "\n",
            "[3804 rows x 13 columns]\n"
          ],
          "name": "stdout"
        },
        {
          "output_type": "stream",
          "text": [
            "\n"
          ],
          "name": "stderr"
        }
      ]
    },
    {
      "cell_type": "markdown",
      "metadata": {
        "id": "6bx5PLy4Gi5N"
      },
      "source": [
        "**14.** ) Mover Θ, clasificar el conjunto de prueba y calcular la Tasa de Verdaderos Positivos y Tasa de\n",
        "Falsos Positivos cada vez para luego generar la curva ROC (TVP vs TFP)"
      ]
    },
    {
      "cell_type": "code",
      "metadata": {
        "id": "Lqo0_9cgH6Fo"
      },
      "source": [
        "#Reemplazamos 0's de verosimilitud No-Hadrón por 10^-30 para no generar Nan's al dividir por cero:\n",
        "prueba[\"verosimilitud No-Hadrón\"].replace(0,10**(-30),inplace=True)"
      ],
      "execution_count": null,
      "outputs": []
    },
    {
      "cell_type": "code",
      "metadata": {
        "id": "mzMn3W0L4YJa"
      },
      "source": [
        "#Generamos 3 nuevas columnas:\n",
        "prueba[\"p(X|Hadron)/p(X|No-Hadron)\"] = prueba[\"verosimilitud Hadrón\"]/prueba[\"verosimilitud No-Hadrón\"] #División de verosimilitudes\n",
        "prueba[\"clasificación\"]=\"\" #Clasificación del detector\n",
        "prueba[\"detección\"]=\"\" #Caso según la clasificación, FN, TP etc.\n"
      ],
      "execution_count": null,
      "outputs": []
    },
    {
      "cell_type": "code",
      "metadata": {
        "colab": {
          "base_uri": "https://localhost:8080/",
          "height": 445
        },
        "id": "dpg70m0fKmpi",
        "outputId": "9973a11b-5eca-4e84-8357-4ca4357607ce"
      },
      "source": [
        "prueba"
      ],
      "execution_count": null,
      "outputs": [
        {
          "output_type": "execute_result",
          "data": {
            "text/html": [
              "<div>\n",
              "<style scoped>\n",
              "    .dataframe tbody tr th:only-of-type {\n",
              "        vertical-align: middle;\n",
              "    }\n",
              "\n",
              "    .dataframe tbody tr th {\n",
              "        vertical-align: top;\n",
              "    }\n",
              "\n",
              "    .dataframe thead th {\n",
              "        text-align: right;\n",
              "    }\n",
              "</style>\n",
              "<table border=\"1\" class=\"dataframe\">\n",
              "  <thead>\n",
              "    <tr style=\"text-align: right;\">\n",
              "      <th></th>\n",
              "      <th>fLength</th>\n",
              "      <th>fwidth</th>\n",
              "      <th>fSize</th>\n",
              "      <th>fConc</th>\n",
              "      <th>fconc1</th>\n",
              "      <th>fAsym</th>\n",
              "      <th>fM3Long</th>\n",
              "      <th>fM3Trans</th>\n",
              "      <th>fAlpha</th>\n",
              "      <th>fDist</th>\n",
              "      <th>class</th>\n",
              "      <th>verosimilitud No-Hadrón</th>\n",
              "      <th>verosimilitud Hadrón</th>\n",
              "      <th>p(X|Hadron)/p(X|No-Hadron)</th>\n",
              "      <th>clasificación</th>\n",
              "      <th>detección</th>\n",
              "    </tr>\n",
              "  </thead>\n",
              "  <tbody>\n",
              "    <tr>\n",
              "      <th>0</th>\n",
              "      <td>35.1147</td>\n",
              "      <td>17.8008</td>\n",
              "      <td>2.9096</td>\n",
              "      <td>0.3842</td>\n",
              "      <td>0.2063</td>\n",
              "      <td>37.0454</td>\n",
              "      <td>35.0040</td>\n",
              "      <td>8.3877</td>\n",
              "      <td>16.6113</td>\n",
              "      <td>142.507</td>\n",
              "      <td>0</td>\n",
              "      <td>2.093057e-10</td>\n",
              "      <td>1.00119e-09</td>\n",
              "      <td>4.78338</td>\n",
              "      <td></td>\n",
              "      <td></td>\n",
              "    </tr>\n",
              "    <tr>\n",
              "      <th>1</th>\n",
              "      <td>66.2943</td>\n",
              "      <td>23.1329</td>\n",
              "      <td>3.1339</td>\n",
              "      <td>0.2131</td>\n",
              "      <td>0.1128</td>\n",
              "      <td>12.4525</td>\n",
              "      <td>71.7250</td>\n",
              "      <td>14.0150</td>\n",
              "      <td>2.3140</td>\n",
              "      <td>179.632</td>\n",
              "      <td>0</td>\n",
              "      <td>4.782857e-10</td>\n",
              "      <td>4.53339e-11</td>\n",
              "      <td>0.0947842</td>\n",
              "      <td></td>\n",
              "      <td></td>\n",
              "    </tr>\n",
              "    <tr>\n",
              "      <th>2</th>\n",
              "      <td>138.8380</td>\n",
              "      <td>32.8249</td>\n",
              "      <td>3.2464</td>\n",
              "      <td>0.1713</td>\n",
              "      <td>0.1035</td>\n",
              "      <td>-122.6340</td>\n",
              "      <td>95.0450</td>\n",
              "      <td>-27.8132</td>\n",
              "      <td>3.4990</td>\n",
              "      <td>297.614</td>\n",
              "      <td>0</td>\n",
              "      <td>2.360259e-16</td>\n",
              "      <td>1.71943e-13</td>\n",
              "      <td>728.494</td>\n",
              "      <td></td>\n",
              "      <td></td>\n",
              "    </tr>\n",
              "    <tr>\n",
              "      <th>3</th>\n",
              "      <td>43.3510</td>\n",
              "      <td>17.7081</td>\n",
              "      <td>2.9287</td>\n",
              "      <td>0.3477</td>\n",
              "      <td>0.2210</td>\n",
              "      <td>37.3736</td>\n",
              "      <td>31.5782</td>\n",
              "      <td>-12.4757</td>\n",
              "      <td>20.6640</td>\n",
              "      <td>140.190</td>\n",
              "      <td>0</td>\n",
              "      <td>3.117255e-10</td>\n",
              "      <td>2.24542e-09</td>\n",
              "      <td>7.2032</td>\n",
              "      <td></td>\n",
              "      <td></td>\n",
              "    </tr>\n",
              "    <tr>\n",
              "      <th>4</th>\n",
              "      <td>19.5014</td>\n",
              "      <td>12.4493</td>\n",
              "      <td>2.3531</td>\n",
              "      <td>0.5322</td>\n",
              "      <td>0.2993</td>\n",
              "      <td>3.1483</td>\n",
              "      <td>-12.5260</td>\n",
              "      <td>-10.1548</td>\n",
              "      <td>27.6440</td>\n",
              "      <td>214.814</td>\n",
              "      <td>0</td>\n",
              "      <td>3.013382e-10</td>\n",
              "      <td>1.38547e-09</td>\n",
              "      <td>4.59772</td>\n",
              "      <td></td>\n",
              "      <td></td>\n",
              "    </tr>\n",
              "    <tr>\n",
              "      <th>...</th>\n",
              "      <td>...</td>\n",
              "      <td>...</td>\n",
              "      <td>...</td>\n",
              "      <td>...</td>\n",
              "      <td>...</td>\n",
              "      <td>...</td>\n",
              "      <td>...</td>\n",
              "      <td>...</td>\n",
              "      <td>...</td>\n",
              "      <td>...</td>\n",
              "      <td>...</td>\n",
              "      <td>...</td>\n",
              "      <td>...</td>\n",
              "      <td>...</td>\n",
              "      <td>...</td>\n",
              "      <td>...</td>\n",
              "    </tr>\n",
              "    <tr>\n",
              "      <th>3799</th>\n",
              "      <td>91.7079</td>\n",
              "      <td>37.8589</td>\n",
              "      <td>3.1148</td>\n",
              "      <td>0.2226</td>\n",
              "      <td>0.1263</td>\n",
              "      <td>68.2425</td>\n",
              "      <td>78.7615</td>\n",
              "      <td>-15.9738</td>\n",
              "      <td>3.5523</td>\n",
              "      <td>199.296</td>\n",
              "      <td>1</td>\n",
              "      <td>9.560817e-13</td>\n",
              "      <td>4.14986e-12</td>\n",
              "      <td>4.34049</td>\n",
              "      <td></td>\n",
              "      <td></td>\n",
              "    </tr>\n",
              "    <tr>\n",
              "      <th>3800</th>\n",
              "      <td>21.9678</td>\n",
              "      <td>11.1386</td>\n",
              "      <td>2.2041</td>\n",
              "      <td>0.5687</td>\n",
              "      <td>0.3344</td>\n",
              "      <td>15.0071</td>\n",
              "      <td>19.0468</td>\n",
              "      <td>3.2381</td>\n",
              "      <td>44.1080</td>\n",
              "      <td>170.345</td>\n",
              "      <td>1</td>\n",
              "      <td>6.202756e-11</td>\n",
              "      <td>5.87243e-10</td>\n",
              "      <td>9.46745</td>\n",
              "      <td></td>\n",
              "      <td></td>\n",
              "    </tr>\n",
              "    <tr>\n",
              "      <th>3801</th>\n",
              "      <td>29.5321</td>\n",
              "      <td>13.4738</td>\n",
              "      <td>2.5676</td>\n",
              "      <td>0.3978</td>\n",
              "      <td>0.2152</td>\n",
              "      <td>38.6563</td>\n",
              "      <td>13.5948</td>\n",
              "      <td>7.3248</td>\n",
              "      <td>79.3750</td>\n",
              "      <td>196.192</td>\n",
              "      <td>1</td>\n",
              "      <td>2.628706e-10</td>\n",
              "      <td>1.81717e-09</td>\n",
              "      <td>6.91278</td>\n",
              "      <td></td>\n",
              "      <td></td>\n",
              "    </tr>\n",
              "    <tr>\n",
              "      <th>3802</th>\n",
              "      <td>27.5203</td>\n",
              "      <td>11.1225</td>\n",
              "      <td>2.3598</td>\n",
              "      <td>0.4629</td>\n",
              "      <td>0.2467</td>\n",
              "      <td>19.2496</td>\n",
              "      <td>-17.6584</td>\n",
              "      <td>10.0941</td>\n",
              "      <td>57.6127</td>\n",
              "      <td>151.036</td>\n",
              "      <td>0</td>\n",
              "      <td>2.741059e-10</td>\n",
              "      <td>1.73505e-09</td>\n",
              "      <td>6.32985</td>\n",
              "      <td></td>\n",
              "      <td></td>\n",
              "    </tr>\n",
              "    <tr>\n",
              "      <th>3803</th>\n",
              "      <td>22.3636</td>\n",
              "      <td>10.3991</td>\n",
              "      <td>2.1399</td>\n",
              "      <td>0.5362</td>\n",
              "      <td>0.2717</td>\n",
              "      <td>-3.5835</td>\n",
              "      <td>16.6461</td>\n",
              "      <td>-8.5049</td>\n",
              "      <td>5.6931</td>\n",
              "      <td>163.934</td>\n",
              "      <td>0</td>\n",
              "      <td>1.706984e-09</td>\n",
              "      <td>3.852e-10</td>\n",
              "      <td>0.225661</td>\n",
              "      <td></td>\n",
              "      <td></td>\n",
              "    </tr>\n",
              "  </tbody>\n",
              "</table>\n",
              "<p>3804 rows × 16 columns</p>\n",
              "</div>"
            ],
            "text/plain": [
              "       fLength   fwidth  ...  clasificación  detección\n",
              "0      35.1147  17.8008  ...                          \n",
              "1      66.2943  23.1329  ...                          \n",
              "2     138.8380  32.8249  ...                          \n",
              "3      43.3510  17.7081  ...                          \n",
              "4      19.5014  12.4493  ...                          \n",
              "...        ...      ...  ...            ...        ...\n",
              "3799   91.7079  37.8589  ...                          \n",
              "3800   21.9678  11.1386  ...                          \n",
              "3801   29.5321  13.4738  ...                          \n",
              "3802   27.5203  11.1225  ...                          \n",
              "3803   22.3636  10.3991  ...                          \n",
              "\n",
              "[3804 rows x 16 columns]"
            ]
          },
          "metadata": {
            "tags": []
          },
          "execution_count": 258
        }
      ]
    },
    {
      "cell_type": "code",
      "metadata": {
        "colab": {
          "base_uri": "https://localhost:8080/",
          "height": 1000
        },
        "id": "7Cb50rhr7MQz",
        "outputId": "6301623c-4736-438e-a238-7862342a3c38"
      },
      "source": [
        "#Iteración de theta para valores pequeños, en donde se clasifica y se define la detección para cada fila \n",
        "#(Cuva ROC incompleta):\n",
        "FPRv1=[] #Listas vacías que almacenaran cada par (FPR,TPR) para cada valor de theta: \n",
        "TPRv1=[]     \n",
        "for theta in tqdm(np.logspace(-6,6,100)):\n",
        "  #Se clasifica la fila dado un valor de theta:\n",
        "  prueba.loc[prueba[\"p(X|Hadron)/p(X|No-Hadron)\"]>theta,[\"clasificación\"]]=1\n",
        "  prueba.loc[prueba[\"p(X|Hadron)/p(X|No-Hadron)\"]<=theta,[\"clasificación\"]]=0\n",
        "  #Luego se procede a identificar cada tipo de de detección para cada fila:\n",
        "  for i in range(len(prueba)):\n",
        "    if prueba.iloc[i,10]==1 and prueba.iloc[i,14]==1:\n",
        "       prueba.iloc[i,15]=\"TP\"\n",
        "    if prueba.iloc[i,10]==0 and prueba.iloc[i,14]==1:\n",
        "       prueba.iloc[i,15]=\"FP\"\n",
        "    if prueba.iloc[i,10]==1 and prueba.iloc[i,14]==0:\n",
        "       prueba.iloc[i,15]=\"FN\"\n",
        "    if prueba.iloc[i,10]==0 and prueba.iloc[i,14]==0:\n",
        "       prueba.iloc[i,15]=\"TN\"\n",
        "  #Para ciertos ordenes del conjunto de prueba (es al azar), se da la posbilidad de que no exista algún\n",
        "  #\"TP\", \"FP\", \"FN\" o \"TN\", para evitar ese error, se incorporan a las primeras 4 filas cada tipo de \n",
        "  #detección, de modo que siempre se puedan encontrar. \n",
        "  #(Notar que estos son despreciables en cuanto a los resultados, dado que es un 1 v/s 3000 datos)\n",
        "  prueba.iloc[1,15]=\"TP\"\n",
        "  prueba.iloc[2,15]=\"FP\"\n",
        "  prueba.iloc[3,15]=\"FN\"\n",
        "  prueba.iloc[4,15]=\"TN\"\n",
        "  #DT cuenta la cantidad de \"TP\",\"FP\",\"FN\" y \"TN\":\n",
        "  DT=prueba['detección'].value_counts()\n",
        "  FPR=DT[\"FP\"]/(DT[\"FP\"] + DT[\"TN\"])\n",
        "  TPR=DT[\"TP\"]/(DT[\"TP\"] + DT[\"FN\"])\n",
        "  FPRv1.append(FPR)\n",
        "  TPRv1.append(TPR)\n",
        "plt.plot(FPRv1, TPRv1,color = 'red')\n",
        "plt.xlabel('FPR')\n",
        "plt.ylabel('TPR')\n",
        "plt.title('Curva ROC')\n",
        "x=np.arange(0, 1, 0.01)\n",
        "plt.plot(x,x,\"b--\")\n",
        "plt.legend([\"Clasificador de Bayes\", \"Clasificador Random\"], loc =\"lower right\")\n",
        "plt.show() "
      ],
      "execution_count": null,
      "outputs": [
        {
          "output_type": "stream",
          "text": [
            "\n",
            "\n",
            "\n",
            "  0%|          | 0/100 [00:00<?, ?it/s]\u001b[A\u001b[A\u001b[A\n",
            "\n",
            "\n",
            "  1%|          | 1/100 [00:02<03:29,  2.11s/it]\u001b[A\u001b[A\u001b[A\n",
            "\n",
            "\n",
            "  2%|▏         | 2/100 [00:04<03:22,  2.07s/it]\u001b[A\u001b[A\u001b[A\n",
            "\n",
            "\n",
            "  3%|▎         | 3/100 [00:06<03:16,  2.03s/it]\u001b[A\u001b[A\u001b[A\n",
            "\n",
            "\n",
            "  4%|▍         | 4/100 [00:08<03:17,  2.06s/it]\u001b[A\u001b[A\u001b[A\n",
            "\n",
            "\n",
            "  5%|▌         | 5/100 [00:10<03:14,  2.05s/it]\u001b[A\u001b[A\u001b[A\n",
            "\n",
            "\n",
            "  6%|▌         | 6/100 [00:12<03:09,  2.02s/it]\u001b[A\u001b[A\u001b[A\n",
            "\n",
            "\n",
            "  7%|▋         | 7/100 [00:14<03:04,  1.98s/it]\u001b[A\u001b[A\u001b[A\n",
            "\n",
            "\n",
            "  8%|▊         | 8/100 [00:16<03:05,  2.01s/it]\u001b[A\u001b[A\u001b[A\n",
            "\n",
            "\n",
            "  9%|▉         | 9/100 [00:18<03:00,  1.98s/it]\u001b[A\u001b[A\u001b[A\n",
            "\n",
            "\n",
            " 10%|█         | 10/100 [00:20<03:00,  2.01s/it]\u001b[A\u001b[A\u001b[A\n",
            "\n",
            "\n",
            " 11%|█         | 11/100 [00:22<02:59,  2.02s/it]\u001b[A\u001b[A\u001b[A\n",
            "\n",
            "\n",
            " 12%|█▏        | 12/100 [00:24<02:54,  1.98s/it]\u001b[A\u001b[A\u001b[A\n",
            "\n",
            "\n",
            " 13%|█▎        | 13/100 [00:26<02:52,  1.98s/it]\u001b[A\u001b[A\u001b[A\n",
            "\n",
            "\n",
            " 14%|█▍        | 14/100 [00:28<02:52,  2.00s/it]\u001b[A\u001b[A\u001b[A\n",
            "\n",
            "\n",
            " 15%|█▌        | 15/100 [00:30<02:52,  2.03s/it]\u001b[A\u001b[A\u001b[A\n",
            "\n",
            "\n",
            " 16%|█▌        | 16/100 [00:32<02:48,  2.01s/it]\u001b[A\u001b[A\u001b[A\n",
            "\n",
            "\n",
            " 17%|█▋        | 17/100 [00:34<02:47,  2.02s/it]\u001b[A\u001b[A\u001b[A\n",
            "\n",
            "\n",
            " 18%|█▊        | 18/100 [00:36<02:44,  2.01s/it]\u001b[A\u001b[A\u001b[A\n",
            "\n",
            "\n",
            " 19%|█▉        | 19/100 [00:38<02:43,  2.01s/it]\u001b[A\u001b[A\u001b[A\n",
            "\n",
            "\n",
            " 20%|██        | 20/100 [00:40<02:42,  2.03s/it]\u001b[A\u001b[A\u001b[A\n",
            "\n",
            "\n",
            " 21%|██        | 21/100 [00:42<02:38,  2.01s/it]\u001b[A\u001b[A\u001b[A\n",
            "\n",
            "\n",
            " 22%|██▏       | 22/100 [00:44<02:34,  1.99s/it]\u001b[A\u001b[A\u001b[A\n",
            "\n",
            "\n",
            " 23%|██▎       | 23/100 [00:46<02:34,  2.00s/it]\u001b[A\u001b[A\u001b[A\n",
            "\n",
            "\n",
            " 24%|██▍       | 24/100 [00:48<02:32,  2.00s/it]\u001b[A\u001b[A\u001b[A\n",
            "\n",
            "\n",
            " 25%|██▌       | 25/100 [00:49<02:26,  1.95s/it]\u001b[A\u001b[A\u001b[A\n",
            "\n",
            "\n",
            " 26%|██▌       | 26/100 [00:52<02:26,  1.98s/it]\u001b[A\u001b[A\u001b[A\n",
            "\n",
            "\n",
            " 27%|██▋       | 27/100 [00:54<02:24,  1.98s/it]\u001b[A\u001b[A\u001b[A\n",
            "\n",
            "\n",
            " 28%|██▊       | 28/100 [00:56<02:25,  2.02s/it]\u001b[A\u001b[A\u001b[A\n",
            "\n",
            "\n",
            " 29%|██▉       | 29/100 [00:58<02:22,  2.00s/it]\u001b[A\u001b[A\u001b[A\n",
            "\n",
            "\n",
            " 30%|███       | 30/100 [01:00<02:18,  1.99s/it]\u001b[A\u001b[A\u001b[A\n",
            "\n",
            "\n",
            " 31%|███       | 31/100 [01:02<02:17,  2.00s/it]\u001b[A\u001b[A\u001b[A\n",
            "\n",
            "\n",
            " 32%|███▏      | 32/100 [01:04<02:18,  2.04s/it]\u001b[A\u001b[A\u001b[A\n",
            "\n",
            "\n",
            " 33%|███▎      | 33/100 [01:06<02:17,  2.05s/it]\u001b[A\u001b[A\u001b[A\n",
            "\n",
            "\n",
            " 34%|███▍      | 34/100 [01:08<02:14,  2.04s/it]\u001b[A\u001b[A\u001b[A\n",
            "\n",
            "\n",
            " 35%|███▌      | 35/100 [01:10<02:07,  1.96s/it]\u001b[A\u001b[A\u001b[A\n",
            "\n",
            "\n",
            " 36%|███▌      | 36/100 [01:12<02:05,  1.96s/it]\u001b[A\u001b[A\u001b[A\n",
            "\n",
            "\n",
            " 37%|███▋      | 37/100 [01:13<02:02,  1.94s/it]\u001b[A\u001b[A\u001b[A\n",
            "\n",
            "\n",
            " 38%|███▊      | 38/100 [01:15<02:02,  1.97s/it]\u001b[A\u001b[A\u001b[A\n",
            "\n",
            "\n",
            " 39%|███▉      | 39/100 [01:18<02:02,  2.00s/it]\u001b[A\u001b[A\u001b[A\n",
            "\n",
            "\n",
            " 40%|████      | 40/100 [01:19<01:59,  1.99s/it]\u001b[A\u001b[A\u001b[A\n",
            "\n",
            "\n",
            " 41%|████      | 41/100 [01:21<01:56,  1.97s/it]\u001b[A\u001b[A\u001b[A\n",
            "\n",
            "\n",
            " 42%|████▏     | 42/100 [01:23<01:55,  1.99s/it]\u001b[A\u001b[A\u001b[A\n",
            "\n",
            "\n",
            " 43%|████▎     | 43/100 [01:26<01:55,  2.02s/it]\u001b[A\u001b[A\u001b[A\n",
            "\n",
            "\n",
            " 44%|████▍     | 44/100 [01:28<01:54,  2.05s/it]\u001b[A\u001b[A\u001b[A\n",
            "\n",
            "\n",
            " 45%|████▌     | 45/100 [01:30<01:53,  2.06s/it]\u001b[A\u001b[A\u001b[A\n",
            "\n",
            "\n",
            " 46%|████▌     | 46/100 [01:32<01:48,  2.02s/it]\u001b[A\u001b[A\u001b[A\n",
            "\n",
            "\n",
            " 47%|████▋     | 47/100 [01:34<01:47,  2.03s/it]\u001b[A\u001b[A\u001b[A\n",
            "\n",
            "\n",
            " 48%|████▊     | 48/100 [01:36<01:43,  1.99s/it]\u001b[A\u001b[A\u001b[A\n",
            "\n",
            "\n",
            " 49%|████▉     | 49/100 [01:38<01:43,  2.02s/it]\u001b[A\u001b[A\u001b[A\n",
            "\n",
            "\n",
            " 50%|█████     | 50/100 [01:40<01:40,  2.00s/it]\u001b[A\u001b[A\u001b[A\n",
            "\n",
            "\n",
            " 51%|█████     | 51/100 [01:42<01:38,  2.01s/it]\u001b[A\u001b[A\u001b[A\n",
            "\n",
            "\n",
            " 52%|█████▏    | 52/100 [01:44<01:38,  2.05s/it]\u001b[A\u001b[A\u001b[A\n",
            "\n",
            "\n",
            " 53%|█████▎    | 53/100 [01:46<01:36,  2.05s/it]\u001b[A\u001b[A\u001b[A\n",
            "\n",
            "\n",
            " 54%|█████▍    | 54/100 [01:48<01:32,  2.02s/it]\u001b[A\u001b[A\u001b[A\n",
            "\n",
            "\n",
            " 55%|█████▌    | 55/100 [01:50<01:31,  2.03s/it]\u001b[A\u001b[A\u001b[A\n",
            "\n",
            "\n",
            " 56%|█████▌    | 56/100 [01:52<01:29,  2.03s/it]\u001b[A\u001b[A\u001b[A\n",
            "\n",
            "\n",
            " 57%|█████▋    | 57/100 [01:54<01:28,  2.06s/it]\u001b[A\u001b[A\u001b[A\n",
            "\n",
            "\n",
            " 58%|█████▊    | 58/100 [01:56<01:26,  2.07s/it]\u001b[A\u001b[A\u001b[A\n",
            "\n",
            "\n",
            " 59%|█████▉    | 59/100 [01:58<01:24,  2.06s/it]\u001b[A\u001b[A\u001b[A\n",
            "\n",
            "\n",
            " 60%|██████    | 60/100 [02:00<01:22,  2.07s/it]\u001b[A\u001b[A\u001b[A\n",
            "\n",
            "\n",
            " 61%|██████    | 61/100 [02:02<01:20,  2.06s/it]\u001b[A\u001b[A\u001b[A\n",
            "\n",
            "\n",
            " 62%|██████▏   | 62/100 [02:04<01:18,  2.06s/it]\u001b[A\u001b[A\u001b[A\n",
            "\n",
            "\n",
            " 63%|██████▎   | 63/100 [02:06<01:16,  2.07s/it]\u001b[A\u001b[A\u001b[A\n",
            "\n",
            "\n",
            " 64%|██████▍   | 64/100 [02:09<01:14,  2.07s/it]\u001b[A\u001b[A\u001b[A\n",
            "\n",
            "\n",
            " 65%|██████▌   | 65/100 [02:10<01:10,  2.01s/it]\u001b[A\u001b[A\u001b[A\n",
            "\n",
            "\n",
            " 66%|██████▌   | 66/100 [02:12<01:08,  2.01s/it]\u001b[A\u001b[A\u001b[A\n",
            "\n",
            "\n",
            " 67%|██████▋   | 67/100 [02:14<01:06,  2.00s/it]\u001b[A\u001b[A\u001b[A\n",
            "\n",
            "\n",
            " 68%|██████▊   | 68/100 [02:16<01:03,  1.98s/it]\u001b[A\u001b[A\u001b[A\n",
            "\n",
            "\n",
            " 69%|██████▉   | 69/100 [02:18<01:00,  1.96s/it]\u001b[A\u001b[A\u001b[A\n",
            "\n",
            "\n",
            " 70%|███████   | 70/100 [02:20<00:59,  1.99s/it]\u001b[A\u001b[A\u001b[A\n",
            "\n",
            "\n",
            " 71%|███████   | 71/100 [02:22<00:58,  2.01s/it]\u001b[A\u001b[A\u001b[A\n",
            "\n",
            "\n",
            " 72%|███████▏  | 72/100 [02:25<00:57,  2.05s/it]\u001b[A\u001b[A\u001b[A\n",
            "\n",
            "\n",
            " 73%|███████▎  | 73/100 [02:26<00:54,  2.02s/it]\u001b[A\u001b[A\u001b[A\n",
            "\n",
            "\n",
            " 74%|███████▍  | 74/100 [02:29<00:53,  2.06s/it]\u001b[A\u001b[A\u001b[A\n",
            "\n",
            "\n",
            " 75%|███████▌  | 75/100 [02:30<00:49,  1.99s/it]\u001b[A\u001b[A\u001b[A\n",
            "\n",
            "\n",
            " 76%|███████▌  | 76/100 [02:32<00:47,  1.99s/it]\u001b[A\u001b[A\u001b[A\n",
            "\n",
            "\n",
            " 77%|███████▋  | 77/100 [02:35<00:46,  2.02s/it]\u001b[A\u001b[A\u001b[A\n",
            "\n",
            "\n",
            " 78%|███████▊  | 78/100 [02:37<00:44,  2.02s/it]\u001b[A\u001b[A\u001b[A\n",
            "\n",
            "\n",
            " 79%|███████▉  | 79/100 [02:39<00:42,  2.01s/it]\u001b[A\u001b[A\u001b[A\n",
            "\n",
            "\n",
            " 80%|████████  | 80/100 [02:40<00:39,  1.98s/it]\u001b[A\u001b[A\u001b[A\n",
            "\n",
            "\n",
            " 81%|████████  | 81/100 [02:42<00:37,  1.97s/it]\u001b[A\u001b[A\u001b[A\n",
            "\n",
            "\n",
            " 82%|████████▏ | 82/100 [02:44<00:35,  1.99s/it]\u001b[A\u001b[A\u001b[A\n",
            "\n",
            "\n",
            " 83%|████████▎ | 83/100 [02:46<00:34,  2.01s/it]\u001b[A\u001b[A\u001b[A\n",
            "\n",
            "\n",
            " 84%|████████▍ | 84/100 [02:49<00:32,  2.04s/it]\u001b[A\u001b[A\u001b[A\n",
            "\n",
            "\n",
            " 85%|████████▌ | 85/100 [02:51<00:31,  2.08s/it]\u001b[A\u001b[A\u001b[A\n",
            "\n",
            "\n",
            " 86%|████████▌ | 86/100 [02:53<00:28,  2.05s/it]\u001b[A\u001b[A\u001b[A\n",
            "\n",
            "\n",
            " 87%|████████▋ | 87/100 [02:55<00:26,  2.02s/it]\u001b[A\u001b[A\u001b[A\n",
            "\n",
            "\n",
            " 88%|████████▊ | 88/100 [02:57<00:24,  2.04s/it]\u001b[A\u001b[A\u001b[A\n",
            "\n",
            "\n",
            " 89%|████████▉ | 89/100 [02:59<00:22,  2.06s/it]\u001b[A\u001b[A\u001b[A\n",
            "\n",
            "\n",
            " 90%|█████████ | 90/100 [03:01<00:20,  2.04s/it]\u001b[A\u001b[A\u001b[A\n",
            "\n",
            "\n",
            " 91%|█████████ | 91/100 [03:03<00:17,  1.99s/it]\u001b[A\u001b[A\u001b[A\n",
            "\n",
            "\n",
            " 92%|█████████▏| 92/100 [03:05<00:15,  1.97s/it]\u001b[A\u001b[A\u001b[A\n",
            "\n",
            "\n",
            " 93%|█████████▎| 93/100 [03:07<00:13,  2.00s/it]\u001b[A\u001b[A\u001b[A\n",
            "\n",
            "\n",
            " 94%|█████████▍| 94/100 [03:09<00:12,  2.02s/it]\u001b[A\u001b[A\u001b[A\n",
            "\n",
            "\n",
            " 95%|█████████▌| 95/100 [03:11<00:10,  2.06s/it]\u001b[A\u001b[A\u001b[A\n",
            "\n",
            "\n",
            " 96%|█████████▌| 96/100 [03:13<00:08,  2.05s/it]\u001b[A\u001b[A\u001b[A\n",
            "\n",
            "\n",
            " 97%|█████████▋| 97/100 [03:15<00:06,  2.03s/it]\u001b[A\u001b[A\u001b[A\n",
            "\n",
            "\n",
            " 98%|█████████▊| 98/100 [03:17<00:04,  2.06s/it]\u001b[A\u001b[A\u001b[A\n",
            "\n",
            "\n",
            " 99%|█████████▉| 99/100 [03:19<00:02,  2.07s/it]\u001b[A\u001b[A\u001b[A\n",
            "\n",
            "\n",
            "100%|██████████| 100/100 [03:21<00:00,  2.02s/it]\n"
          ],
          "name": "stderr"
        },
        {
          "output_type": "display_data",
          "data": {
            "image/png": "[encoded data removed]",
            "text/plain": [
              "<Figure size 432x288 with 1 Axes>"
            ]
          },
          "metadata": {
            "tags": [],
            "needs_background": "light"
          }
        }
      ]
    },
    {
      "cell_type": "code",
      "metadata": {
        "colab": {
          "base_uri": "https://localhost:8080/",
          "height": 937
        },
        "id": "Xtd-mjgg1hkP",
        "outputId": "f1440e77-1b10-413f-8fb4-a4031e1a15e2"
      },
      "source": [
        "#Iteración de theta para valores grandes, en donde se clasifica y se define la detección para cada fila (Cuva ROC completa):\n",
        "FPRv2=[]                   #promedio0*4, promedio0/10\n",
        "TPRv2=[]\n",
        "for theta in tqdm(np.logspace(7,18,10)):\n",
        "  prueba.loc[prueba[\"p(X|Hadron)/p(X|No-Hadron)\"]>theta,[\"clasificación\"]]=1\n",
        "  prueba.loc[prueba[\"p(X|Hadron)/p(X|No-Hadron)\"]<=theta,[\"clasificación\"]]=0\n",
        "  for i in range(len(prueba)):\n",
        "    if prueba.iloc[i,10]==1 and prueba.iloc[i,14]==1:\n",
        "       prueba.iloc[i,15]=\"TP\"\n",
        "    if prueba.iloc[i,10]==0 and prueba.iloc[i,14]==1:\n",
        "       prueba.iloc[i,15]=\"FP\"\n",
        "    if prueba.iloc[i,10]==1 and prueba.iloc[i,14]==0:\n",
        "       prueba.iloc[i,15]=\"FN\"\n",
        "    if prueba.iloc[i,10]==0 and prueba.iloc[i,14]==0:\n",
        "       prueba.iloc[i,15]=\"TN\"\n",
        "  prueba.iloc[1,15]=\"TP\"\n",
        "  prueba.iloc[2,15]=\"FP\"\n",
        "  prueba.iloc[3,15]=\"FN\"\n",
        "  prueba.iloc[4,15]=\"TN\"\n",
        "  DT=prueba['detección'].value_counts()\n",
        "  FPR=DT[\"FP\"]/(DT[\"FP\"] + DT[\"TN\"])\n",
        "  TPR=DT[\"TP\"]/(DT[\"TP\"] + DT[\"FN\"])\n",
        "  FPRv2.append(FPR)\n",
        "  TPRv2.append(TPR)\n",
        "print(FPRv2)  \n",
        "print(TPRv2)\n",
        "# Concatenación y grafico curva ROC\n",
        "FPRv1.extend(FPRv2)\n",
        "TPRv1.extend(TPRv2)\n",
        "plt.plot(FPRv1, TPRv1,color = 'red')\n",
        "plt.xlabel('FPR')\n",
        "plt.ylabel('TPR')\n",
        "plt.title('Curva ROC')\n",
        "x=np.arange(0, 1, 0.01)\n",
        "plt.plot(x,x,\"b--\")\n",
        "plt.legend([\"Clasificador de Bayes\", \"Clasificador Random\"], loc =\"lower right\")\n",
        "plt.savefig(\"ROC1\")\n",
        "plt.show()"
      ],
      "execution_count": null,
      "outputs": [
        {
          "output_type": "stream",
          "text": [
            "\n",
            "\n",
            "\n",
            "  0%|          | 0/10 [00:00<?, ?it/s]\u001b[A\u001b[A\u001b[A\n",
            "\n",
            "\n",
            " 10%|█         | 1/10 [00:02<00:18,  2.06s/it]\u001b[A\u001b[A\u001b[A\n",
            "\n",
            "\n",
            " 20%|██        | 2/10 [00:04<00:16,  2.05s/it]\u001b[A\u001b[A\u001b[A\n",
            "\n",
            "\n",
            " 30%|███       | 3/10 [00:06<00:14,  2.07s/it]\u001b[A\u001b[A\u001b[A\n",
            "\n",
            "\n",
            " 40%|████      | 4/10 [00:08<00:12,  2.02s/it]\u001b[A\u001b[A\u001b[A\n",
            "\n",
            "\n",
            " 50%|█████     | 5/10 [00:10<00:10,  2.00s/it]\u001b[A\u001b[A\u001b[A\n",
            "\n",
            "\n",
            " 60%|██████    | 6/10 [00:12<00:07,  1.99s/it]\u001b[A\u001b[A\u001b[A\n",
            "\n",
            "\n",
            " 70%|███████   | 7/10 [00:14<00:06,  2.04s/it]\u001b[A\u001b[A\u001b[A\n",
            "\n",
            "\n",
            " 80%|████████  | 8/10 [00:15<00:03,  1.97s/it]\u001b[A\u001b[A\u001b[A\n",
            "\n",
            "\n",
            " 90%|█████████ | 9/10 [00:18<00:02,  2.01s/it]\u001b[A\u001b[A\u001b[A\n",
            "\n",
            "\n",
            "100%|██████████| 10/10 [00:20<00:00,  2.01s/it]\n"
          ],
          "name": "stderr"
        },
        {
          "output_type": "stream",
          "text": [
            "[0.004060089321965083, 0.0032480714575720666, 0.0032480714575720666, 0.0028420625253755584, 0.00243605359317905, 0.00243605359317905, 0.0020300446609825416, 0.0016240357287860333, 0.0004060089321965083, 0.0004060089321965083]\n",
            "[0.15361670395227442, 0.1297539149888143, 0.10961968680089486, 0.10067114093959731, 0.0947054436987323, 0.08501118568232663, 0.06562266964951528, 0.041014168530947054, 0.017897091722595078, 0.011185682326621925]\n"
          ],
          "name": "stdout"
        },
        {
          "output_type": "display_data",
          "data": {
            "image/png": "[encoded data removed]",
            "text/plain": [
              "<Figure size 432x288 with 1 Axes>"
            ]
          },
          "metadata": {
            "tags": [],
            "needs_background": "light"
          }
        }
      ]
    },
    {
      "cell_type": "markdown",
      "metadata": {
        "id": "b_vLA-IdGlDq"
      },
      "source": [
        "**15.**  Genere la curva precisión-recall"
      ]
    },
    {
      "cell_type": "code",
      "metadata": {
        "colab": {
          "base_uri": "https://localhost:8080/",
          "height": 1000
        },
        "id": "bDwlhBGX04Pv",
        "outputId": "e73928f6-08f6-43e6-c4b5-089daec11505"
      },
      "source": [
        "#Iteración sobre theta para la curva Precision - Recall:\n",
        "Precisionv1=[]\n",
        "Recallv1=[]\n",
        "for theta in tqdm(np.logspace(-6,6,100)):\n",
        "  prueba.loc[prueba[\"p(X|Hadron)/p(X|No-Hadron)\"]>theta,[\"clasificación\"]]=1\n",
        "  prueba.loc[prueba[\"p(X|Hadron)/p(X|No-Hadron)\"]<=theta,[\"clasificación\"]]=0\n",
        "  for i in range(len(prueba)):\n",
        "    if prueba.iloc[i,10]==1 and prueba.iloc[i,14]==1:\n",
        "       prueba.iloc[i,15]=\"TP\"\n",
        "    if prueba.iloc[i,10]==0 and prueba.iloc[i,14]==1:\n",
        "       prueba.iloc[i,15]=\"FP\"\n",
        "    if prueba.iloc[i,10]==1 and prueba.iloc[i,14]==0:\n",
        "       prueba.iloc[i,15]=\"FN\"\n",
        "    if prueba.iloc[i,10]==0 and prueba.iloc[i,14]==0:\n",
        "       prueba.iloc[i,15]=\"TN\"\n",
        "  prueba.iloc[1,15]=\"TP\"\n",
        "  prueba.iloc[2,15]=\"FP\"\n",
        "  prueba.iloc[3,15]=\"FN\"\n",
        "  prueba.iloc[4,15]=\"TN\"\n",
        "  DT=prueba['detección'].value_counts()\n",
        "  Precision=DT[\"TP\"]/(DT[\"TP\"] + DT[\"FP\"])\n",
        "  Recall=DT[\"TP\"]/(DT[\"TP\"] + DT[\"FN\"])\n",
        "  Precisionv1.append(Precision)\n",
        "  Recallv1.append(Recall)\n",
        "plt.plot(Precisionv1,Recallv1,color='red')\n",
        "plt.xlabel('Precision')\n",
        "plt.ylabel('Recall')\n",
        "plt.title('Curva Precision-Recall')\n",
        "plt.legend(['Clasificador de Bayes'],loc ='upper right')\n",
        "plt.savefig(\"precision1\")\n",
        "plt.show()  "
      ],
      "execution_count": null,
      "outputs": [
        {
          "output_type": "stream",
          "text": [
            "\n",
            "\n",
            "\n",
            "  0%|          | 0/100 [00:00<?, ?it/s]\u001b[A\u001b[A\u001b[A\n",
            "\n",
            "\n",
            "  1%|          | 1/100 [00:02<03:26,  2.08s/it]\u001b[A\u001b[A\u001b[A\n",
            "\n",
            "\n",
            "  2%|▏         | 2/100 [00:04<03:20,  2.05s/it]\u001b[A\u001b[A\u001b[A\n",
            "\n",
            "\n",
            "  3%|▎         | 3/100 [00:06<03:19,  2.06s/it]\u001b[A\u001b[A\u001b[A\n",
            "\n",
            "\n",
            "  4%|▍         | 4/100 [00:08<03:15,  2.03s/it]\u001b[A\u001b[A\u001b[A\n",
            "\n",
            "\n",
            "  5%|▌         | 5/100 [00:10<03:14,  2.05s/it]\u001b[A\u001b[A\u001b[A\n",
            "\n",
            "\n",
            "  6%|▌         | 6/100 [00:12<03:13,  2.06s/it]\u001b[A\u001b[A\u001b[A\n",
            "\n",
            "\n",
            "  7%|▋         | 7/100 [00:14<03:13,  2.08s/it]\u001b[A\u001b[A\u001b[A\n",
            "\n",
            "\n",
            "  8%|▊         | 8/100 [00:16<03:12,  2.09s/it]\u001b[A\u001b[A\u001b[A\n",
            "\n",
            "\n",
            "  9%|▉         | 9/100 [00:18<03:11,  2.10s/it]\u001b[A\u001b[A\u001b[A\n",
            "\n",
            "\n",
            " 10%|█         | 10/100 [00:20<03:09,  2.11s/it]\u001b[A\u001b[A\u001b[A\n",
            "\n",
            "\n",
            " 11%|█         | 11/100 [00:22<03:05,  2.08s/it]\u001b[A\u001b[A\u001b[A\n",
            "\n",
            "\n",
            " 12%|█▏        | 12/100 [00:24<02:59,  2.04s/it]\u001b[A\u001b[A\u001b[A\n",
            "\n",
            "\n",
            " 13%|█▎        | 13/100 [00:26<02:56,  2.02s/it]\u001b[A\u001b[A\u001b[A\n",
            "\n",
            "\n",
            " 14%|█▍        | 14/100 [00:28<02:56,  2.05s/it]\u001b[A\u001b[A\u001b[A\n",
            "\n",
            "\n",
            " 15%|█▌        | 15/100 [00:30<02:53,  2.04s/it]\u001b[A\u001b[A\u001b[A\n",
            "\n",
            "\n",
            " 16%|█▌        | 16/100 [00:32<02:52,  2.05s/it]\u001b[A\u001b[A\u001b[A\n",
            "\n",
            "\n",
            " 17%|█▋        | 17/100 [00:34<02:49,  2.04s/it]\u001b[A\u001b[A\u001b[A\n",
            "\n",
            "\n",
            " 18%|█▊        | 18/100 [00:37<02:47,  2.05s/it]\u001b[A\u001b[A\u001b[A\n",
            "\n",
            "\n",
            " 19%|█▉        | 19/100 [00:39<02:47,  2.07s/it]\u001b[A\u001b[A\u001b[A\n",
            "\n",
            "\n",
            " 20%|██        | 20/100 [00:41<02:44,  2.06s/it]\u001b[A\u001b[A\u001b[A\n",
            "\n",
            "\n",
            " 21%|██        | 21/100 [00:43<02:43,  2.06s/it]\u001b[A\u001b[A\u001b[A\n",
            "\n",
            "\n",
            " 22%|██▏       | 22/100 [00:45<02:41,  2.07s/it]\u001b[A\u001b[A\u001b[A\n",
            "\n",
            "\n",
            " 23%|██▎       | 23/100 [00:47<02:35,  2.03s/it]\u001b[A\u001b[A\u001b[A\n",
            "\n",
            "\n",
            " 24%|██▍       | 24/100 [00:49<02:34,  2.03s/it]\u001b[A\u001b[A\u001b[A\n",
            "\n",
            "\n",
            " 25%|██▌       | 25/100 [00:51<02:35,  2.07s/it]\u001b[A\u001b[A\u001b[A\n",
            "\n",
            "\n",
            " 26%|██▌       | 26/100 [00:53<02:34,  2.09s/it]\u001b[A\u001b[A\u001b[A\n",
            "\n",
            "\n",
            " 27%|██▋       | 27/100 [00:55<02:27,  2.03s/it]\u001b[A\u001b[A\u001b[A\n",
            "\n",
            "\n",
            " 28%|██▊       | 28/100 [00:57<02:20,  1.96s/it]\u001b[A\u001b[A\u001b[A\n",
            "\n",
            "\n",
            " 29%|██▉       | 29/100 [00:59<02:23,  2.02s/it]\u001b[A\u001b[A\u001b[A\n",
            "\n",
            "\n",
            " 30%|███       | 30/100 [01:01<02:20,  2.01s/it]\u001b[A\u001b[A\u001b[A\n",
            "\n",
            "\n",
            " 31%|███       | 31/100 [01:03<02:17,  2.00s/it]\u001b[A\u001b[A\u001b[A\n",
            "\n",
            "\n",
            " 32%|███▏      | 32/100 [01:05<02:15,  1.99s/it]\u001b[A\u001b[A\u001b[A\n",
            "\n",
            "\n",
            " 33%|███▎      | 33/100 [01:07<02:12,  1.98s/it]\u001b[A\u001b[A\u001b[A\n",
            "\n",
            "\n",
            " 34%|███▍      | 34/100 [01:09<02:13,  2.02s/it]\u001b[A\u001b[A\u001b[A\n",
            "\n",
            "\n",
            " 35%|███▌      | 35/100 [01:11<02:12,  2.04s/it]\u001b[A\u001b[A\u001b[A\n",
            "\n",
            "\n",
            " 36%|███▌      | 36/100 [01:13<02:08,  2.01s/it]\u001b[A\u001b[A\u001b[A\n",
            "\n",
            "\n",
            " 37%|███▋      | 37/100 [01:15<02:07,  2.02s/it]\u001b[A\u001b[A\u001b[A\n",
            "\n",
            "\n",
            " 38%|███▊      | 38/100 [01:17<02:02,  1.98s/it]\u001b[A\u001b[A\u001b[A\n",
            "\n",
            "\n",
            " 39%|███▉      | 39/100 [01:19<02:00,  1.97s/it]\u001b[A\u001b[A\u001b[A\n",
            "\n",
            "\n",
            " 40%|████      | 40/100 [01:21<01:58,  1.97s/it]\u001b[A\u001b[A\u001b[A\n",
            "\n",
            "\n",
            " 41%|████      | 41/100 [01:23<01:57,  1.99s/it]\u001b[A\u001b[A\u001b[A\n",
            "\n",
            "\n",
            " 42%|████▏     | 42/100 [01:25<01:56,  2.00s/it]\u001b[A\u001b[A\u001b[A\n",
            "\n",
            "\n",
            " 43%|████▎     | 43/100 [01:27<01:56,  2.05s/it]\u001b[A\u001b[A\u001b[A\n",
            "\n",
            "\n",
            " 44%|████▍     | 44/100 [01:29<01:53,  2.02s/it]\u001b[A\u001b[A\u001b[A\n",
            "\n",
            "\n",
            " 45%|████▌     | 45/100 [01:31<01:50,  2.02s/it]\u001b[A\u001b[A\u001b[A\n",
            "\n",
            "\n",
            " 46%|████▌     | 46/100 [01:33<01:49,  2.03s/it]\u001b[A\u001b[A\u001b[A\n",
            "\n",
            "\n",
            " 47%|████▋     | 47/100 [01:35<01:49,  2.07s/it]\u001b[A\u001b[A\u001b[A\n",
            "\n",
            "\n",
            " 48%|████▊     | 48/100 [01:37<01:47,  2.07s/it]\u001b[A\u001b[A\u001b[A\n",
            "\n",
            "\n",
            " 49%|████▉     | 49/100 [01:39<01:46,  2.08s/it]\u001b[A\u001b[A\u001b[A\n",
            "\n",
            "\n",
            " 50%|█████     | 50/100 [01:41<01:44,  2.09s/it]\u001b[A\u001b[A\u001b[A\n",
            "\n",
            "\n",
            " 51%|█████     | 51/100 [01:44<01:41,  2.07s/it]\u001b[A\u001b[A\u001b[A\n",
            "\n",
            "\n",
            " 52%|█████▏    | 52/100 [01:46<01:40,  2.09s/it]\u001b[A\u001b[A\u001b[A\n",
            "\n",
            "\n",
            " 53%|█████▎    | 53/100 [01:48<01:38,  2.10s/it]\u001b[A\u001b[A\u001b[A\n",
            "\n",
            "\n",
            " 54%|█████▍    | 54/100 [01:50<01:35,  2.08s/it]\u001b[A\u001b[A\u001b[A\n",
            "\n",
            "\n",
            " 55%|█████▌    | 55/100 [01:52<01:34,  2.10s/it]\u001b[A\u001b[A\u001b[A\n",
            "\n",
            "\n",
            " 56%|█████▌    | 56/100 [01:54<01:32,  2.09s/it]\u001b[A\u001b[A\u001b[A\n",
            "\n",
            "\n",
            " 57%|█████▋    | 57/100 [01:56<01:27,  2.04s/it]\u001b[A\u001b[A\u001b[A\n",
            "\n",
            "\n",
            " 58%|█████▊    | 58/100 [01:58<01:26,  2.05s/it]\u001b[A\u001b[A\u001b[A\n",
            "\n",
            "\n",
            " 59%|█████▉    | 59/100 [02:00<01:23,  2.03s/it]\u001b[A\u001b[A\u001b[A\n",
            "\n",
            "\n",
            " 60%|██████    | 60/100 [02:02<01:20,  2.00s/it]\u001b[A\u001b[A\u001b[A\n",
            "\n",
            "\n",
            " 61%|██████    | 61/100 [02:04<01:17,  1.99s/it]\u001b[A\u001b[A\u001b[A\n",
            "\n",
            "\n",
            " 62%|██████▏   | 62/100 [02:06<01:15,  2.00s/it]\u001b[A\u001b[A\u001b[A\n",
            "\n",
            "\n",
            " 63%|██████▎   | 63/100 [02:08<01:14,  2.01s/it]\u001b[A\u001b[A\u001b[A\n",
            "\n",
            "\n",
            " 64%|██████▍   | 64/100 [02:10<01:13,  2.04s/it]\u001b[A\u001b[A\u001b[A\n",
            "\n",
            "\n",
            " 65%|██████▌   | 65/100 [02:12<01:11,  2.05s/it]\u001b[A\u001b[A\u001b[A\n",
            "\n",
            "\n",
            " 66%|██████▌   | 66/100 [02:14<01:09,  2.03s/it]\u001b[A\u001b[A\u001b[A\n",
            "\n",
            "\n",
            " 67%|██████▋   | 67/100 [02:16<01:08,  2.07s/it]\u001b[A\u001b[A\u001b[A\n",
            "\n",
            "\n",
            " 68%|██████▊   | 68/100 [02:18<01:05,  2.03s/it]\u001b[A\u001b[A\u001b[A\n",
            "\n",
            "\n",
            " 69%|██████▉   | 69/100 [02:20<01:02,  2.03s/it]\u001b[A\u001b[A\u001b[A\n",
            "\n",
            "\n",
            " 70%|███████   | 70/100 [02:22<01:02,  2.07s/it]\u001b[A\u001b[A\u001b[A\n",
            "\n",
            "\n",
            " 71%|███████   | 71/100 [02:24<00:58,  2.03s/it]\u001b[A\u001b[A\u001b[A\n",
            "\n",
            "\n",
            " 72%|███████▏  | 72/100 [02:26<00:57,  2.04s/it]\u001b[A\u001b[A\u001b[A\n",
            "\n",
            "\n",
            " 73%|███████▎  | 73/100 [02:28<00:55,  2.05s/it]\u001b[A\u001b[A\u001b[A\n",
            "\n",
            "\n",
            " 74%|███████▍  | 74/100 [02:30<00:52,  2.02s/it]\u001b[A\u001b[A\u001b[A\n",
            "\n",
            "\n",
            " 75%|███████▌  | 75/100 [02:32<00:49,  2.00s/it]\u001b[A\u001b[A\u001b[A\n",
            "\n",
            "\n",
            " 76%|███████▌  | 76/100 [02:35<00:49,  2.05s/it]\u001b[A\u001b[A\u001b[A\n",
            "\n",
            "\n",
            " 77%|███████▋  | 77/100 [02:37<00:46,  2.03s/it]\u001b[A\u001b[A\u001b[A\n",
            "\n",
            "\n",
            " 78%|███████▊  | 78/100 [02:39<00:45,  2.05s/it]\u001b[A\u001b[A\u001b[A\n",
            "\n",
            "\n",
            " 79%|███████▉  | 79/100 [02:41<00:43,  2.06s/it]\u001b[A\u001b[A\u001b[A\n",
            "\n",
            "\n",
            " 80%|████████  | 80/100 [02:43<00:40,  2.03s/it]\u001b[A\u001b[A\u001b[A\n",
            "\n",
            "\n",
            " 81%|████████  | 81/100 [02:45<00:38,  2.03s/it]\u001b[A\u001b[A\u001b[A\n",
            "\n",
            "\n",
            " 82%|████████▏ | 82/100 [02:47<00:36,  2.03s/it]\u001b[A\u001b[A\u001b[A\n",
            "\n",
            "\n",
            " 83%|████████▎ | 83/100 [02:49<00:34,  2.00s/it]\u001b[A\u001b[A\u001b[A\n",
            "\n",
            "\n",
            " 84%|████████▍ | 84/100 [02:51<00:31,  1.97s/it]\u001b[A\u001b[A\u001b[A\n",
            "\n",
            "\n",
            " 85%|████████▌ | 85/100 [02:53<00:29,  1.99s/it]\u001b[A\u001b[A\u001b[A\n",
            "\n",
            "\n",
            " 86%|████████▌ | 86/100 [02:55<00:28,  2.00s/it]\u001b[A\u001b[A\u001b[A\n",
            "\n",
            "\n",
            " 87%|████████▋ | 87/100 [02:57<00:25,  1.99s/it]\u001b[A\u001b[A\u001b[A\n",
            "\n",
            "\n",
            " 88%|████████▊ | 88/100 [02:59<00:24,  2.00s/it]\u001b[A\u001b[A\u001b[A\n",
            "\n",
            "\n",
            " 89%|████████▉ | 89/100 [03:01<00:21,  1.97s/it]\u001b[A\u001b[A\u001b[A\n",
            "\n",
            "\n",
            " 90%|█████████ | 90/100 [03:03<00:19,  1.97s/it]\u001b[A\u001b[A\u001b[A\n",
            "\n",
            "\n",
            " 91%|█████████ | 91/100 [03:05<00:18,  2.03s/it]\u001b[A\u001b[A\u001b[A\n",
            "\n",
            "\n",
            " 92%|█████████▏| 92/100 [03:07<00:15,  2.00s/it]\u001b[A\u001b[A\u001b[A\n",
            "\n",
            "\n",
            " 93%|█████████▎| 93/100 [03:09<00:14,  2.03s/it]\u001b[A\u001b[A\u001b[A\n",
            "\n",
            "\n",
            " 94%|█████████▍| 94/100 [03:11<00:12,  2.02s/it]\u001b[A\u001b[A\u001b[A\n",
            "\n",
            "\n",
            " 95%|█████████▌| 95/100 [03:13<00:10,  2.04s/it]\u001b[A\u001b[A\u001b[A\n",
            "\n",
            "\n",
            " 96%|█████████▌| 96/100 [03:15<00:08,  2.03s/it]\u001b[A\u001b[A\u001b[A\n",
            "\n",
            "\n",
            " 97%|█████████▋| 97/100 [03:17<00:06,  2.03s/it]\u001b[A\u001b[A\u001b[A\n",
            "\n",
            "\n",
            " 98%|█████████▊| 98/100 [03:19<00:04,  2.04s/it]\u001b[A\u001b[A\u001b[A\n",
            "\n",
            "\n",
            " 99%|█████████▉| 99/100 [03:21<00:02,  2.01s/it]\u001b[A\u001b[A\u001b[A\n",
            "\n",
            "\n",
            "100%|██████████| 100/100 [03:23<00:00,  2.03s/it]\n"
          ],
          "name": "stderr"
        },
        {
          "output_type": "display_data",
          "data": {
            "image/png": "[encoded data removed]",
            "text/plain": [
              "<Figure size 432x288 with 1 Axes>"
            ]
          },
          "metadata": {
            "tags": [],
            "needs_background": "light"
          }
        }
      ]
    },
    {
      "cell_type": "markdown",
      "metadata": {
        "id": "_iykHCfV0N8L"
      },
      "source": [
        "# ***Parte 3***:  Clasificación usando gaussianas multivariantes"
      ]
    },
    {
      "cell_type": "markdown",
      "metadata": {
        "id": "Ft3jsRYzHUIA"
      },
      "source": [
        "**16.**  Entrenar un modelo gaussiano multidimensional para cada clase, encontrando la media y covarianza, a partir del conjunto de entrenamiento."
      ]
    },
    {
      "cell_type": "code",
      "metadata": {
        "colab": {
          "base_uri": "https://localhost:8080/"
        },
        "id": "6TTtkIonGR5R",
        "outputId": "7c8d437c-eed7-4b50-8a64-3b6dca8daaa9"
      },
      "source": [
        "# Eliminamos la columna \"class\" de los datos de entrenamiento para poder calcular promedios y varianzas:\n",
        "Ge.drop(['class'], axis=1,inplace=True)\n",
        "He.drop(['class'], axis=1,inplace=True)\n",
        "print(Ge)\n",
        "print(He)"
      ],
      "execution_count": null,
      "outputs": [
        {
          "output_type": "stream",
          "text": [
            "      fLength   fwidth   fSize   fConc  ...  fM3Long  fM3Trans   fAlpha    fDist\n",
            "0     50.5321  26.6170  3.5064  0.2103  ...  53.0803  -12.8047   3.4310  211.479\n",
            "1     17.1299  15.2017  2.2577  0.6575  ...  15.1462    7.8090  80.5999  159.324\n",
            "2     13.2918   9.6037  2.3064  0.8296  ...  -8.8904  -10.9194  77.1591  125.530\n",
            "3     33.5462  21.3973  3.1052  0.2967  ...  18.2868    9.7640   8.7244  176.299\n",
            "4     32.2964  17.2756  2.6585  0.3600  ... -21.3147    6.6299  35.1875  192.477\n",
            "...       ...      ...     ...     ...  ...      ...       ...      ...      ...\n",
            "9862  67.6373  32.5679  3.4624  0.1662  ...  48.8606   23.5379   1.6460  220.402\n",
            "9863  29.9259   9.5265  2.4541  0.5448  ...  17.0588   -5.2099   0.2550  218.329\n",
            "9864  62.4341  40.7553  3.0308  0.1938  ...  52.4417   31.8603  30.6078  328.353\n",
            "9865  66.2708  21.1399  3.1064  0.2333  ...  60.0875   16.1390   5.9980  307.171\n",
            "9866  43.7724  20.3530  2.8982  0.2743  ...  38.4208   11.1037  16.2500  273.837\n",
            "\n",
            "[9867 rows x 10 columns]\n",
            "       fLength   fwidth   fSize   fConc  ...  fM3Long  fM3Trans   fAlpha     fDist\n",
            "0      45.6986  17.3784  2.5873  0.4369  ... -43.8671   14.0995  54.3215  200.1990\n",
            "1     111.3448  22.4878  2.9761  0.3863  ... -81.0276    7.2081  18.4264  290.5854\n",
            "2      44.7018  23.1111  2.8322  0.3835  ... -38.9734    7.3620  43.7833  224.2310\n",
            "3      34.4133   9.8594  2.7627  0.4974  ...  25.1394    8.6112  62.8310  223.9640\n",
            "4      18.9655  12.8313  2.4057  0.4990  ...   6.4283    7.9385  17.6540  182.3450\n",
            "...        ...      ...     ...     ...  ...      ...       ...      ...       ...\n",
            "5344   21.4297  10.5062  2.5601  0.6384  ...  17.3680  -11.3864   7.4151  151.9170\n",
            "5345  103.8751  43.5467  3.5540  0.2919  ...  53.9875  -32.5059  17.1784  346.1485\n",
            "5346   18.2925   8.9937  2.7072  0.7228  ...  10.0855   13.7851  41.6170  164.6588\n",
            "5347   22.0777  14.9281  2.5611  0.4203  ...   9.8719    1.0923  24.0431  245.9470\n",
            "5348   91.1155  20.9876  3.2055  0.1975  ...  56.2955    7.0787  32.0834  300.5130\n",
            "\n",
            "[5349 rows x 10 columns]\n"
          ],
          "name": "stdout"
        }
      ]
    },
    {
      "cell_type": "code",
      "metadata": {
        "id": "jwK9sI5m_CxF",
        "colab": {
          "base_uri": "https://localhost:8080/"
        },
        "outputId": "4e29d40d-994b-4882-90c5-877a7d36fded"
      },
      "source": [
        "# Calculo de promedio y matriz de covarianza clase No-Hadrón:\n",
        "meang=np.mean(Ge)\n",
        "covg=np.cov(Ge,rowvar = False)\n",
        "print(\"Clase No-Hadrón\")\n",
        "print(meang)\n",
        "print(covg)\n",
        "print(covg.shape)\n",
        "\n",
        "# Calculo de promedio y matriz de covarianza clase Hadrón:\n",
        "meanh=np.mean(He)\n",
        "covh=np.cov(He,rowvar = False)\n",
        "print(\"Clase Hadrón\")\n",
        "print(meanh)\n",
        "print(covh)\n",
        "print(covh.shape)\n"
      ],
      "execution_count": null,
      "outputs": [
        {
          "output_type": "stream",
          "text": [
            "Clase No-Hadrón\n",
            "fLength      43.653851\n",
            "fwidth       18.586782\n",
            "fSize         2.784515\n",
            "fConc         0.382905\n",
            "fconc1        0.214592\n",
            "fAsym         3.510546\n",
            "fM3Long      17.703550\n",
            "fM3Trans      0.224544\n",
            "fAlpha       18.684161\n",
            "fDist       190.613593\n",
            "dtype: float64\n",
            "[[ 6.76535237e+02  1.61751268e+02  9.21540531e+00 -3.27839264e+00\n",
            "  -1.87121288e+00 -1.07877256e+02  4.76078227e+02  6.67555009e+00\n",
            "  -2.51280737e+02  1.10392517e+03]\n",
            " [ 1.61751268e+02  7.98818382e+01  3.53631026e+00 -1.21038932e+00\n",
            "  -6.93803690e-01  2.11677147e+00  1.29833565e+02  6.41862846e+00\n",
            "  -5.77156409e+01  2.46314347e+02]\n",
            " [ 9.21540531e+00  3.53631026e+00  2.13091274e-01 -7.06845046e-02\n",
            "  -4.03233967e-02  5.84928248e-01  8.50875052e+00  1.75337540e-01\n",
            "  -4.54574724e+00  1.47737420e+01]\n",
            " [-3.27839264e+00 -1.21038932e+00 -7.06845046e-02  3.14720911e-02\n",
            "   1.84019348e-02 -2.51713364e-01 -2.73401784e+00 -4.90984071e-02\n",
            "   1.83547020e+00 -4.55215500e+00]\n",
            " [-1.87121288e+00 -6.93803690e-01 -4.03233967e-02  1.84019348e-02\n",
            "   1.12241544e-02 -1.68524610e-01 -1.56564159e+00 -2.92554333e-02\n",
            "   1.05264355e+00 -2.55732924e+00]\n",
            " [-1.07877256e+02  2.11677147e+00  5.84928248e-01 -2.51713364e-01\n",
            "  -1.68524610e-01  1.54352595e+03  2.41781223e+02 -4.49409487e+00\n",
            "  -4.03176250e+00 -4.95798169e+02]\n",
            " [ 4.76078227e+02  1.29833565e+02  8.50875052e+00 -2.73401784e+00\n",
            "  -1.56564159e+00  2.41781223e+02  1.15084614e+03  5.89532341e+00\n",
            "  -1.96925696e+02  6.92202331e+02]\n",
            " [ 6.67555009e+00  6.41862846e+00  1.75337540e-01 -4.90984071e-02\n",
            "  -2.92554333e-02 -4.49409487e+00  5.89532341e+00  1.84316804e+02\n",
            "  -2.96427742e+00  1.82659277e+01]\n",
            " [-2.51280737e+02 -5.77156409e+01 -4.54574724e+00  1.83547020e+00\n",
            "   1.05264355e+00 -4.03176250e+00 -1.96925696e+02 -2.96427742e+00\n",
            "   4.58443735e+02 -6.29101787e+02]\n",
            " [ 1.10392517e+03  2.46314347e+02  1.47737420e+01 -4.55215500e+00\n",
            "  -2.55732924e+00 -4.95798169e+02  6.92202331e+02  1.82659277e+01\n",
            "  -6.29101787e+02  4.91224284e+03]]\n",
            "(10, 10)\n",
            "Clase Hadrón\n",
            "fLength      70.649410\n",
            "fwidth       28.716750\n",
            "fSize         2.901010\n",
            "fConc         0.374702\n",
            "fconc1        0.214132\n",
            "fAsym       -18.249343\n",
            "fM3Long      -2.319402\n",
            "fM3Trans      0.414408\n",
            "fAlpha       44.203040\n",
            "fDist       200.007014\n",
            "dtype: float64\n",
            "[[ 3.35822544e+03  1.21838628e+03  2.09287507e+01 -7.66895249e+00\n",
            "  -4.49515973e+00 -2.00151580e+03 -1.23193235e+03  1.31408353e+01\n",
            "  -1.12569585e+01  1.53337848e+03]\n",
            " [ 1.21838628e+03  7.40459823e+02  1.03929710e+01 -3.51705333e+00\n",
            "  -2.06347796e+00 -6.90109465e+02 -5.49154954e+02  2.70618501e+01\n",
            "   3.27602827e+01  7.92413039e+02]\n",
            " [ 2.09287507e+01  1.03929710e+01  2.31822961e-01 -7.73446056e-02\n",
            "  -4.53903224e-02 -1.23897173e+01 -7.41184131e+00  2.47916456e-01\n",
            "   4.26825370e-02  1.56443931e+01]\n",
            " [-7.66895249e+00 -3.51705333e+00 -7.73446056e-02  3.65683836e-02\n",
            "   2.19822106e-02  3.85046926e+00  1.68583984e+00 -6.68005620e-02\n",
            "  -5.76085873e-02 -4.25175526e+00]\n",
            " [-4.49515973e+00 -2.06347796e+00 -4.53903224e-02  2.19822106e-02\n",
            "   1.39731937e-02  2.21248237e+00  9.74719431e-01 -4.29240273e-02\n",
            "  -4.42941548e-02 -2.39833922e+00]\n",
            " [-2.00151580e+03 -6.90109465e+02 -1.23897173e+01  3.85046926e+00\n",
            "   2.21248237e+00  6.74534731e+03  1.64284818e+03  2.24053198e+01\n",
            "   1.19675791e+02 -1.54827570e+03]\n",
            " [-1.23193235e+03 -5.49154954e+02 -7.41184131e+00  1.68583984e+00\n",
            "   9.74719431e-01  1.64284818e+03  4.93388708e+03 -2.90669087e+01\n",
            "   5.40888532e+00 -6.33905233e+02]\n",
            " [ 1.31408353e+01  2.70618501e+01  2.47916456e-01 -6.68005620e-02\n",
            "  -4.29240273e-02  2.24053198e+01 -2.90669087e+01  8.99995689e+02\n",
            "   4.50264378e+00  2.42867933e+01]\n",
            " [-1.12569585e+01  3.27602827e+01  4.26825370e-02 -5.76085873e-02\n",
            "  -4.42941548e-02  1.19675791e+02  5.40888532e+00  4.50264378e+00\n",
            "   6.73691239e+02 -2.12816362e+02]\n",
            " [ 1.53337848e+03  7.92413039e+02  1.56443931e+01 -4.25175526e+00\n",
            "  -2.39833922e+00 -1.54827570e+03 -6.33905233e+02  2.42867933e+01\n",
            "  -2.12816362e+02  6.71421800e+03]]\n",
            "(10, 10)\n"
          ],
          "name": "stdout"
        }
      ]
    },
    {
      "cell_type": "code",
      "metadata": {
        "id": "EqBqZluQKWBL"
      },
      "source": [
        "# Función auxiliar para calcular verosimilitudes:\n",
        "def VerosimilitudNormal(x, dimx, promedios, cov): # x:array de 10 features, dimx: dim de x, promedios: array de promedios de cada feature, cov: array matriz de cov.\n",
        "    xm = x - promedios\n",
        "    return (1. / (np.sqrt((2 * np.pi)**dimx * np.linalg.det(cov))) * \n",
        "            np.exp(-np.transpose(xm)@np.linalg.inv(cov)@xm/2))\n",
        "    \n",
        "#VerosimilitudNormal clase g:\n",
        "#VerosimilitudNormal(x, 10, meang, covg)\n",
        "\n",
        "#VerosimilitudNormal clase h:\n",
        "#VerosimilitudNormal(x, 10, meanh, covh)"
      ],
      "execution_count": null,
      "outputs": []
    },
    {
      "cell_type": "markdown",
      "metadata": {
        "id": "c5Yk6ZGHHWaz"
      },
      "source": [
        "**17.**  Encontrar las verosimilitudes en ambas clases para cada muestra del conjunto de prueba, usando \n",
        "las gaussianas."
      ]
    },
    {
      "cell_type": "code",
      "metadata": {
        "colab": {
          "base_uri": "https://localhost:8080/"
        },
        "id": "rCgVmTHKVTVI",
        "outputId": "da217ebe-9561-4ad0-bef4-1007ba458461"
      },
      "source": [
        "#Calculo de verosimilitud para cada fila de la matriz de prueba:\n",
        "for i in tqdm(range(len(prueba))):\n",
        "    y=[]\n",
        "    for j in range(0,10):\n",
        "      y.append(prueba.iloc[i,j])\n",
        "    x=np.array(y)\n",
        "    prueba.iloc[(i,11)]= VerosimilitudNormal(x, 10, meang, covg) \n",
        "    prueba.iloc[(i,12)]= VerosimilitudNormal(x, 10, meanh, covh)  "
      ],
      "execution_count": null,
      "outputs": [
        {
          "output_type": "stream",
          "text": [
            "\n",
            "\n",
            "\n",
            "  0%|          | 0/3804 [00:00<?, ?it/s]\u001b[A\u001b[A\u001b[A\n",
            "\n",
            "\n",
            "  1%|          | 34/3804 [00:00<00:11, 337.92it/s]\u001b[A\u001b[A\u001b[A\n",
            "\n",
            "\n",
            "  2%|▏         | 71/3804 [00:00<00:10, 346.52it/s]\u001b[A\u001b[A\u001b[A\n",
            "\n",
            "\n",
            "  3%|▎         | 109/3804 [00:00<00:10, 355.30it/s]\u001b[A\u001b[A\u001b[A\n",
            "\n",
            "\n",
            "  4%|▍         | 147/3804 [00:00<00:10, 360.66it/s]\u001b[A\u001b[A\u001b[A\n",
            "\n",
            "\n",
            "  5%|▍         | 178/3804 [00:00<00:10, 340.36it/s]\u001b[A\u001b[A\u001b[A\n",
            "\n",
            "\n",
            "  6%|▌         | 214/3804 [00:00<00:10, 343.49it/s]\u001b[A\u001b[A\u001b[A\n",
            "\n",
            "\n",
            "  6%|▋         | 247/3804 [00:00<00:10, 337.66it/s]\u001b[A\u001b[A\u001b[A\n",
            "\n",
            "\n",
            "  7%|▋         | 280/3804 [00:00<00:10, 334.55it/s]\u001b[A\u001b[A\u001b[A\n",
            "\n",
            "\n",
            "  8%|▊         | 314/3804 [00:00<00:10, 334.16it/s]\u001b[A\u001b[A\u001b[A\n",
            "\n",
            "\n",
            "  9%|▉         | 350/3804 [00:01<00:10, 340.70it/s]\u001b[A\u001b[A\u001b[A\n",
            "\n",
            "\n",
            " 10%|█         | 384/3804 [00:01<00:10, 332.69it/s]\u001b[A\u001b[A\u001b[A\n",
            "\n",
            "\n",
            " 11%|█         | 418/3804 [00:01<00:10, 333.04it/s]\u001b[A\u001b[A\u001b[A\n",
            "\n",
            "\n",
            " 12%|█▏        | 451/3804 [00:01<00:10, 329.29it/s]\u001b[A\u001b[A\u001b[A\n",
            "\n",
            "\n",
            " 13%|█▎        | 484/3804 [00:01<00:10, 328.49it/s]\u001b[A\u001b[A\u001b[A\n",
            "\n",
            "\n",
            " 14%|█▎        | 517/3804 [00:01<00:10, 320.17it/s]\u001b[A\u001b[A\u001b[A\n",
            "\n",
            "\n",
            " 15%|█▍        | 552/3804 [00:01<00:09, 328.09it/s]\u001b[A\u001b[A\u001b[A\n",
            "\n",
            "\n",
            " 15%|█▌        | 587/3804 [00:01<00:09, 332.59it/s]\u001b[A\u001b[A\u001b[A\n",
            "\n",
            "\n",
            " 16%|█▋        | 622/3804 [00:01<00:09, 335.64it/s]\u001b[A\u001b[A\u001b[A\n",
            "\n",
            "\n",
            " 17%|█▋        | 658/3804 [00:01<00:09, 342.17it/s]\u001b[A\u001b[A\u001b[A\n",
            "\n",
            "\n",
            " 18%|█▊        | 693/3804 [00:02<00:09, 338.32it/s]\u001b[A\u001b[A\u001b[A\n",
            "\n",
            "\n",
            " 19%|█▉        | 727/3804 [00:02<00:09, 327.77it/s]\u001b[A\u001b[A\u001b[A\n",
            "\n",
            "\n",
            " 20%|█▉        | 760/3804 [00:02<00:09, 317.49it/s]\u001b[A\u001b[A\u001b[A\n",
            "\n",
            "\n",
            " 21%|██        | 795/3804 [00:02<00:09, 326.43it/s]\u001b[A\u001b[A\u001b[A\n",
            "\n",
            "\n",
            " 22%|██▏       | 830/3804 [00:02<00:08, 332.50it/s]\u001b[A\u001b[A\u001b[A\n",
            "\n",
            "\n",
            " 23%|██▎       | 864/3804 [00:02<00:09, 322.97it/s]\u001b[A\u001b[A\u001b[A\n",
            "\n",
            "\n",
            " 24%|██▎       | 900/3804 [00:02<00:08, 331.44it/s]\u001b[A\u001b[A\u001b[A\n",
            "\n",
            "\n",
            " 25%|██▍       | 934/3804 [00:02<00:08, 333.72it/s]\u001b[A\u001b[A\u001b[A\n",
            "\n",
            "\n",
            " 25%|██▌       | 969/3804 [00:02<00:08, 336.38it/s]\u001b[A\u001b[A\u001b[A\n",
            "\n",
            "\n",
            " 26%|██▋       | 1006/3804 [00:03<00:08, 344.05it/s]\u001b[A\u001b[A\u001b[A\n",
            "\n",
            "\n",
            " 27%|██▋       | 1041/3804 [00:03<00:08, 319.12it/s]\u001b[A\u001b[A\u001b[A\n",
            "\n",
            "\n",
            " 28%|██▊       | 1074/3804 [00:03<00:08, 322.02it/s]\u001b[A\u001b[A\u001b[A\n",
            "\n",
            "\n",
            " 29%|██▉       | 1110/3804 [00:03<00:08, 329.86it/s]\u001b[A\u001b[A\u001b[A\n",
            "\n",
            "\n",
            " 30%|███       | 1144/3804 [00:03<00:08, 323.05it/s]\u001b[A\u001b[A\u001b[A\n",
            "\n",
            "\n",
            " 31%|███       | 1177/3804 [00:03<00:08, 312.63it/s]\u001b[A\u001b[A\u001b[A\n",
            "\n",
            "\n",
            " 32%|███▏      | 1212/3804 [00:03<00:08, 322.52it/s]\u001b[A\u001b[A\u001b[A\n",
            "\n",
            "\n",
            " 33%|███▎      | 1250/3804 [00:03<00:07, 336.10it/s]\u001b[A\u001b[A\u001b[A\n",
            "\n",
            "\n",
            " 34%|███▍      | 1286/3804 [00:03<00:07, 342.13it/s]\u001b[A\u001b[A\u001b[A\n",
            "\n",
            "\n",
            " 35%|███▍      | 1321/3804 [00:03<00:07, 343.65it/s]\u001b[A\u001b[A\u001b[A\n",
            "\n",
            "\n",
            " 36%|███▌      | 1358/3804 [00:04<00:07, 346.53it/s]\u001b[A\u001b[A\u001b[A\n",
            "\n",
            "\n",
            " 37%|███▋      | 1394/3804 [00:04<00:06, 349.39it/s]\u001b[A\u001b[A\u001b[A\n",
            "\n",
            "\n",
            " 38%|███▊      | 1430/3804 [00:04<00:06, 351.57it/s]\u001b[A\u001b[A\u001b[A\n",
            "\n",
            "\n",
            " 39%|███▊      | 1466/3804 [00:04<00:06, 347.92it/s]\u001b[A\u001b[A\u001b[A\n",
            "\n",
            "\n",
            " 39%|███▉      | 1502/3804 [00:04<00:06, 349.12it/s]\u001b[A\u001b[A\u001b[A\n",
            "\n",
            "\n",
            " 40%|████      | 1537/3804 [00:04<00:06, 334.37it/s]\u001b[A\u001b[A\u001b[A\n",
            "\n",
            "\n",
            " 41%|████▏     | 1571/3804 [00:04<00:06, 335.89it/s]\u001b[A\u001b[A\u001b[A\n",
            "\n",
            "\n",
            " 42%|████▏     | 1608/3804 [00:04<00:06, 343.93it/s]\u001b[A\u001b[A\u001b[A\n",
            "\n",
            "\n",
            " 43%|████▎     | 1645/3804 [00:04<00:06, 350.27it/s]\u001b[A\u001b[A\u001b[A\n",
            "\n",
            "\n",
            " 44%|████▍     | 1681/3804 [00:04<00:06, 350.82it/s]\u001b[A\u001b[A\u001b[A\n",
            "\n",
            "\n",
            " 45%|████▌     | 1718/3804 [00:05<00:05, 353.89it/s]\u001b[A\u001b[A\u001b[A\n",
            "\n",
            "\n",
            " 46%|████▌     | 1754/3804 [00:05<00:05, 353.32it/s]\u001b[A\u001b[A\u001b[A\n",
            "\n",
            "\n",
            " 47%|████▋     | 1790/3804 [00:05<00:05, 347.25it/s]\u001b[A\u001b[A\u001b[A\n",
            "\n",
            "\n",
            " 48%|████▊     | 1826/3804 [00:05<00:05, 350.40it/s]\u001b[A\u001b[A\u001b[A\n",
            "\n",
            "\n",
            " 49%|████▉     | 1862/3804 [00:05<00:05, 352.50it/s]\u001b[A\u001b[A\u001b[A\n",
            "\n",
            "\n",
            " 50%|████▉     | 1898/3804 [00:05<00:05, 331.44it/s]\u001b[A\u001b[A\u001b[A\n",
            "\n",
            "\n",
            " 51%|█████     | 1932/3804 [00:05<00:05, 326.95it/s]\u001b[A\u001b[A\u001b[A\n",
            "\n",
            "\n",
            " 52%|█████▏    | 1965/3804 [00:05<00:05, 323.06it/s]\u001b[A\u001b[A\u001b[A\n",
            "\n",
            "\n",
            " 53%|█████▎    | 1998/3804 [00:05<00:05, 322.21it/s]\u001b[A\u001b[A\u001b[A\n",
            "\n",
            "\n",
            " 53%|█████▎    | 2031/3804 [00:06<00:05, 323.49it/s]\u001b[A\u001b[A\u001b[A\n",
            "\n",
            "\n",
            " 54%|█████▍    | 2068/3804 [00:06<00:05, 335.46it/s]\u001b[A\u001b[A\u001b[A\n",
            "\n",
            "\n",
            " 55%|█████▌    | 2105/3804 [00:06<00:04, 342.81it/s]\u001b[A\u001b[A\u001b[A\n",
            "\n",
            "\n",
            " 56%|█████▋    | 2143/3804 [00:06<00:04, 350.85it/s]\u001b[A\u001b[A\u001b[A\n",
            "\n",
            "\n",
            " 57%|█████▋    | 2179/3804 [00:06<00:04, 350.10it/s]\u001b[A\u001b[A\u001b[A\n",
            "\n",
            "\n",
            " 58%|█████▊    | 2216/3804 [00:06<00:04, 354.25it/s]\u001b[A\u001b[A\u001b[A\n",
            "\n",
            "\n",
            " 59%|█████▉    | 2252/3804 [00:06<00:04, 330.81it/s]\u001b[A\u001b[A\u001b[A\n",
            "\n",
            "\n",
            " 60%|██████    | 2286/3804 [00:06<00:04, 320.40it/s]\u001b[A\u001b[A\u001b[A\n",
            "\n",
            "\n",
            " 61%|██████    | 2323/3804 [00:06<00:04, 333.71it/s]\u001b[A\u001b[A\u001b[A\n",
            "\n",
            "\n",
            " 62%|██████▏   | 2358/3804 [00:06<00:04, 336.25it/s]\u001b[A\u001b[A\u001b[A\n",
            "\n",
            "\n",
            " 63%|██████▎   | 2394/3804 [00:07<00:04, 340.45it/s]\u001b[A\u001b[A\u001b[A\n",
            "\n",
            "\n",
            " 64%|██████▍   | 2429/3804 [00:07<00:04, 338.19it/s]\u001b[A\u001b[A\u001b[A\n",
            "\n",
            "\n",
            " 65%|██████▍   | 2463/3804 [00:07<00:03, 337.69it/s]\u001b[A\u001b[A\u001b[A\n",
            "\n",
            "\n",
            " 66%|██████▌   | 2497/3804 [00:07<00:03, 336.71it/s]\u001b[A\u001b[A\u001b[A\n",
            "\n",
            "\n",
            " 67%|██████▋   | 2531/3804 [00:07<00:03, 334.21it/s]\u001b[A\u001b[A\u001b[A\n",
            "\n",
            "\n",
            " 67%|██████▋   | 2565/3804 [00:07<00:03, 328.83it/s]\u001b[A\u001b[A\u001b[A\n",
            "\n",
            "\n",
            " 68%|██████▊   | 2602/3804 [00:07<00:03, 338.73it/s]\u001b[A\u001b[A\u001b[A\n",
            "\n",
            "\n",
            " 69%|██████▉   | 2640/3804 [00:07<00:03, 349.06it/s]\u001b[A\u001b[A\u001b[A\n",
            "\n",
            "\n",
            " 70%|███████   | 2676/3804 [00:07<00:03, 335.62it/s]\u001b[A\u001b[A\u001b[A\n",
            "\n",
            "\n",
            " 71%|███████▏  | 2713/3804 [00:08<00:03, 343.43it/s]\u001b[A\u001b[A\u001b[A\n",
            "\n",
            "\n",
            " 72%|███████▏  | 2749/3804 [00:08<00:03, 346.15it/s]\u001b[A\u001b[A\u001b[A\n",
            "\n",
            "\n",
            " 73%|███████▎  | 2786/3804 [00:08<00:02, 352.14it/s]\u001b[A\u001b[A\u001b[A\n",
            "\n",
            "\n",
            " 74%|███████▍  | 2822/3804 [00:08<00:02, 352.91it/s]\u001b[A\u001b[A\u001b[A\n",
            "\n",
            "\n",
            " 75%|███████▌  | 2858/3804 [00:08<00:02, 351.85it/s]\u001b[A\u001b[A\u001b[A\n",
            "\n",
            "\n",
            " 76%|███████▌  | 2894/3804 [00:08<00:02, 350.89it/s]\u001b[A\u001b[A\u001b[A\n",
            "\n",
            "\n",
            " 77%|███████▋  | 2930/3804 [00:08<00:02, 336.35it/s]\u001b[A\u001b[A\u001b[A\n",
            "\n",
            "\n",
            " 78%|███████▊  | 2967/3804 [00:08<00:02, 343.52it/s]\u001b[A\u001b[A\u001b[A\n",
            "\n",
            "\n",
            " 79%|███████▉  | 3002/3804 [00:08<00:02, 342.97it/s]\u001b[A\u001b[A\u001b[A\n",
            "\n",
            "\n",
            " 80%|███████▉  | 3037/3804 [00:08<00:02, 342.37it/s]\u001b[A\u001b[A\u001b[A\n",
            "\n",
            "\n",
            " 81%|████████  | 3072/3804 [00:09<00:02, 343.22it/s]\u001b[A\u001b[A\u001b[A\n",
            "\n",
            "\n",
            " 82%|████████▏ | 3110/3804 [00:09<00:01, 351.26it/s]\u001b[A\u001b[A\u001b[A\n",
            "\n",
            "\n",
            " 83%|████████▎ | 3146/3804 [00:09<00:01, 352.80it/s]\u001b[A\u001b[A\u001b[A\n",
            "\n",
            "\n",
            " 84%|████████▎ | 3184/3804 [00:09<00:01, 358.12it/s]\u001b[A\u001b[A\u001b[A\n",
            "\n",
            "\n",
            " 85%|████████▍ | 3220/3804 [00:09<00:01, 353.31it/s]\u001b[A\u001b[A\u001b[A\n",
            "\n",
            "\n",
            " 86%|████████▌ | 3256/3804 [00:09<00:01, 351.12it/s]\u001b[A\u001b[A\u001b[A\n",
            "\n",
            "\n",
            " 87%|████████▋ | 3292/3804 [00:09<00:01, 334.44it/s]\u001b[A\u001b[A\u001b[A\n",
            "\n",
            "\n",
            " 87%|████████▋ | 3327/3804 [00:09<00:01, 338.21it/s]\u001b[A\u001b[A\u001b[A\n",
            "\n",
            "\n",
            " 88%|████████▊ | 3365/3804 [00:09<00:01, 347.35it/s]\u001b[A\u001b[A\u001b[A\n",
            "\n",
            "\n",
            " 89%|████████▉ | 3400/3804 [00:10<00:01, 344.72it/s]\u001b[A\u001b[A\u001b[A\n",
            "\n",
            "\n",
            " 90%|█████████ | 3435/3804 [00:10<00:01, 343.88it/s]\u001b[A\u001b[A\u001b[A\n",
            "\n",
            "\n",
            " 91%|█████████▏| 3472/3804 [00:10<00:00, 350.63it/s]\u001b[A\u001b[A\u001b[A\n",
            "\n",
            "\n",
            " 92%|█████████▏| 3508/3804 [00:10<00:00, 349.92it/s]\u001b[A\u001b[A\u001b[A\n",
            "\n",
            "\n",
            " 93%|█████████▎| 3544/3804 [00:10<00:00, 349.08it/s]\u001b[A\u001b[A\u001b[A\n",
            "\n",
            "\n",
            " 94%|█████████▍| 3579/3804 [00:10<00:00, 337.59it/s]\u001b[A\u001b[A\u001b[A\n",
            "\n",
            "\n",
            " 95%|█████████▌| 3615/3804 [00:10<00:00, 342.06it/s]\u001b[A\u001b[A\u001b[A\n",
            "\n",
            "\n",
            " 96%|█████████▌| 3650/3804 [00:10<00:00, 331.14it/s]\u001b[A\u001b[A\u001b[A\n",
            "\n",
            "\n",
            " 97%|█████████▋| 3687/3804 [00:10<00:00, 340.00it/s]\u001b[A\u001b[A\u001b[A\n",
            "\n",
            "\n",
            " 98%|█████████▊| 3724/3804 [00:10<00:00, 347.26it/s]\u001b[A\u001b[A\u001b[A\n",
            "\n",
            "\n",
            " 99%|█████████▉| 3759/3804 [00:11<00:00, 345.83it/s]\u001b[A\u001b[A\u001b[A\n",
            "\n",
            "\n",
            "100%|██████████| 3804/3804 [00:11<00:00, 339.56it/s]\n"
          ],
          "name": "stderr"
        }
      ]
    },
    {
      "cell_type": "code",
      "metadata": {
        "id": "a9o8vIfX2ytV",
        "colab": {
          "base_uri": "https://localhost:8080/",
          "height": 445
        },
        "outputId": "1845bd16-c4a3-4ba0-8d66-a8f5a0c9f787"
      },
      "source": [
        "prueba"
      ],
      "execution_count": null,
      "outputs": [
        {
          "output_type": "execute_result",
          "data": {
            "text/html": [
              "<div>\n",
              "<style scoped>\n",
              "    .dataframe tbody tr th:only-of-type {\n",
              "        vertical-align: middle;\n",
              "    }\n",
              "\n",
              "    .dataframe tbody tr th {\n",
              "        vertical-align: top;\n",
              "    }\n",
              "\n",
              "    .dataframe thead th {\n",
              "        text-align: right;\n",
              "    }\n",
              "</style>\n",
              "<table border=\"1\" class=\"dataframe\">\n",
              "  <thead>\n",
              "    <tr style=\"text-align: right;\">\n",
              "      <th></th>\n",
              "      <th>fLength</th>\n",
              "      <th>fwidth</th>\n",
              "      <th>fSize</th>\n",
              "      <th>fConc</th>\n",
              "      <th>fconc1</th>\n",
              "      <th>fAsym</th>\n",
              "      <th>fM3Long</th>\n",
              "      <th>fM3Trans</th>\n",
              "      <th>fAlpha</th>\n",
              "      <th>fDist</th>\n",
              "      <th>class</th>\n",
              "      <th>verosimilitud No-Hadrón</th>\n",
              "      <th>verosimilitud Hadrón</th>\n",
              "      <th>p(X|Hadron)/p(X|No-Hadron)</th>\n",
              "      <th>clasificación</th>\n",
              "      <th>detección</th>\n",
              "    </tr>\n",
              "  </thead>\n",
              "  <tbody>\n",
              "    <tr>\n",
              "      <th>0</th>\n",
              "      <td>35.1147</td>\n",
              "      <td>17.8008</td>\n",
              "      <td>2.9096</td>\n",
              "      <td>0.3842</td>\n",
              "      <td>0.2063</td>\n",
              "      <td>37.0454</td>\n",
              "      <td>35.0040</td>\n",
              "      <td>8.3877</td>\n",
              "      <td>16.6113</td>\n",
              "      <td>142.507</td>\n",
              "      <td>0</td>\n",
              "      <td>2.912698e-11</td>\n",
              "      <td>9.05966e-14</td>\n",
              "      <td>4.78338</td>\n",
              "      <td>0</td>\n",
              "      <td>TN</td>\n",
              "    </tr>\n",
              "    <tr>\n",
              "      <th>1</th>\n",
              "      <td>66.2943</td>\n",
              "      <td>23.1329</td>\n",
              "      <td>3.1339</td>\n",
              "      <td>0.2131</td>\n",
              "      <td>0.1128</td>\n",
              "      <td>12.4525</td>\n",
              "      <td>71.7250</td>\n",
              "      <td>14.0150</td>\n",
              "      <td>2.3140</td>\n",
              "      <td>179.632</td>\n",
              "      <td>0</td>\n",
              "      <td>1.070645e-11</td>\n",
              "      <td>2.62548e-14</td>\n",
              "      <td>0.0947842</td>\n",
              "      <td>0</td>\n",
              "      <td>TP</td>\n",
              "    </tr>\n",
              "    <tr>\n",
              "      <th>2</th>\n",
              "      <td>138.8380</td>\n",
              "      <td>32.8249</td>\n",
              "      <td>3.2464</td>\n",
              "      <td>0.1713</td>\n",
              "      <td>0.1035</td>\n",
              "      <td>-122.6340</td>\n",
              "      <td>95.0450</td>\n",
              "      <td>-27.8132</td>\n",
              "      <td>3.4990</td>\n",
              "      <td>297.614</td>\n",
              "      <td>0</td>\n",
              "      <td>8.978537e-19</td>\n",
              "      <td>1.99277e-15</td>\n",
              "      <td>728.494</td>\n",
              "      <td>0</td>\n",
              "      <td>FP</td>\n",
              "    </tr>\n",
              "    <tr>\n",
              "      <th>3</th>\n",
              "      <td>43.3510</td>\n",
              "      <td>17.7081</td>\n",
              "      <td>2.9287</td>\n",
              "      <td>0.3477</td>\n",
              "      <td>0.2210</td>\n",
              "      <td>37.3736</td>\n",
              "      <td>31.5782</td>\n",
              "      <td>-12.4757</td>\n",
              "      <td>20.6640</td>\n",
              "      <td>140.190</td>\n",
              "      <td>0</td>\n",
              "      <td>1.336295e-11</td>\n",
              "      <td>7.98796e-14</td>\n",
              "      <td>7.2032</td>\n",
              "      <td>0</td>\n",
              "      <td>FN</td>\n",
              "    </tr>\n",
              "    <tr>\n",
              "      <th>4</th>\n",
              "      <td>19.5014</td>\n",
              "      <td>12.4493</td>\n",
              "      <td>2.3531</td>\n",
              "      <td>0.5322</td>\n",
              "      <td>0.2993</td>\n",
              "      <td>3.1483</td>\n",
              "      <td>-12.5260</td>\n",
              "      <td>-10.1548</td>\n",
              "      <td>27.6440</td>\n",
              "      <td>214.814</td>\n",
              "      <td>0</td>\n",
              "      <td>2.497952e-11</td>\n",
              "      <td>1.13114e-13</td>\n",
              "      <td>4.59772</td>\n",
              "      <td>0</td>\n",
              "      <td>TN</td>\n",
              "    </tr>\n",
              "    <tr>\n",
              "      <th>...</th>\n",
              "      <td>...</td>\n",
              "      <td>...</td>\n",
              "      <td>...</td>\n",
              "      <td>...</td>\n",
              "      <td>...</td>\n",
              "      <td>...</td>\n",
              "      <td>...</td>\n",
              "      <td>...</td>\n",
              "      <td>...</td>\n",
              "      <td>...</td>\n",
              "      <td>...</td>\n",
              "      <td>...</td>\n",
              "      <td>...</td>\n",
              "      <td>...</td>\n",
              "      <td>...</td>\n",
              "      <td>...</td>\n",
              "    </tr>\n",
              "    <tr>\n",
              "      <th>3799</th>\n",
              "      <td>91.7079</td>\n",
              "      <td>37.8589</td>\n",
              "      <td>3.1148</td>\n",
              "      <td>0.2226</td>\n",
              "      <td>0.1263</td>\n",
              "      <td>68.2425</td>\n",
              "      <td>78.7615</td>\n",
              "      <td>-15.9738</td>\n",
              "      <td>3.5523</td>\n",
              "      <td>199.296</td>\n",
              "      <td>1</td>\n",
              "      <td>2.469707e-15</td>\n",
              "      <td>1.86029e-14</td>\n",
              "      <td>4.34049</td>\n",
              "      <td>0</td>\n",
              "      <td>FN</td>\n",
              "    </tr>\n",
              "    <tr>\n",
              "      <th>3800</th>\n",
              "      <td>21.9678</td>\n",
              "      <td>11.1386</td>\n",
              "      <td>2.2041</td>\n",
              "      <td>0.5687</td>\n",
              "      <td>0.3344</td>\n",
              "      <td>15.0071</td>\n",
              "      <td>19.0468</td>\n",
              "      <td>3.2381</td>\n",
              "      <td>44.1080</td>\n",
              "      <td>170.345</td>\n",
              "      <td>1</td>\n",
              "      <td>1.656387e-11</td>\n",
              "      <td>1.06712e-13</td>\n",
              "      <td>9.46745</td>\n",
              "      <td>0</td>\n",
              "      <td>FN</td>\n",
              "    </tr>\n",
              "    <tr>\n",
              "      <th>3801</th>\n",
              "      <td>29.5321</td>\n",
              "      <td>13.4738</td>\n",
              "      <td>2.5676</td>\n",
              "      <td>0.3978</td>\n",
              "      <td>0.2152</td>\n",
              "      <td>38.6563</td>\n",
              "      <td>13.5948</td>\n",
              "      <td>7.3248</td>\n",
              "      <td>79.3750</td>\n",
              "      <td>196.192</td>\n",
              "      <td>1</td>\n",
              "      <td>5.441209e-14</td>\n",
              "      <td>7.57907e-14</td>\n",
              "      <td>6.91278</td>\n",
              "      <td>0</td>\n",
              "      <td>FN</td>\n",
              "    </tr>\n",
              "    <tr>\n",
              "      <th>3802</th>\n",
              "      <td>27.5203</td>\n",
              "      <td>11.1225</td>\n",
              "      <td>2.3598</td>\n",
              "      <td>0.4629</td>\n",
              "      <td>0.2467</td>\n",
              "      <td>19.2496</td>\n",
              "      <td>-17.6584</td>\n",
              "      <td>10.0941</td>\n",
              "      <td>57.6127</td>\n",
              "      <td>151.036</td>\n",
              "      <td>0</td>\n",
              "      <td>4.219606e-12</td>\n",
              "      <td>1.01184e-13</td>\n",
              "      <td>6.32985</td>\n",
              "      <td>0</td>\n",
              "      <td>TN</td>\n",
              "    </tr>\n",
              "    <tr>\n",
              "      <th>3803</th>\n",
              "      <td>22.3636</td>\n",
              "      <td>10.3991</td>\n",
              "      <td>2.1399</td>\n",
              "      <td>0.5362</td>\n",
              "      <td>0.2717</td>\n",
              "      <td>-3.5835</td>\n",
              "      <td>16.6461</td>\n",
              "      <td>-8.5049</td>\n",
              "      <td>5.6931</td>\n",
              "      <td>163.934</td>\n",
              "      <td>0</td>\n",
              "      <td>2.336355e-12</td>\n",
              "      <td>7.93398e-15</td>\n",
              "      <td>0.225661</td>\n",
              "      <td>0</td>\n",
              "      <td>TN</td>\n",
              "    </tr>\n",
              "  </tbody>\n",
              "</table>\n",
              "<p>3804 rows × 16 columns</p>\n",
              "</div>"
            ],
            "text/plain": [
              "       fLength   fwidth  ...  clasificación  detección\n",
              "0      35.1147  17.8008  ...              0         TN\n",
              "1      66.2943  23.1329  ...              0         TP\n",
              "2     138.8380  32.8249  ...              0         FP\n",
              "3      43.3510  17.7081  ...              0         FN\n",
              "4      19.5014  12.4493  ...              0         TN\n",
              "...        ...      ...  ...            ...        ...\n",
              "3799   91.7079  37.8589  ...              0         FN\n",
              "3800   21.9678  11.1386  ...              0         FN\n",
              "3801   29.5321  13.4738  ...              0         FN\n",
              "3802   27.5203  11.1225  ...              0         TN\n",
              "3803   22.3636  10.3991  ...              0         TN\n",
              "\n",
              "[3804 rows x 16 columns]"
            ]
          },
          "metadata": {
            "tags": []
          },
          "execution_count": 266
        }
      ]
    },
    {
      "cell_type": "markdown",
      "metadata": {
        "id": "ljKaSTeYHZW1"
      },
      "source": [
        "**18.** Mover Θ, clasificar el conjunto de prueba y calcular la Tasa de Verdaderos Positivos y Tasa de \n",
        "Falsos Positivos cada vez para luego generar la curva ROC (TVP vs TFP).\n"
      ]
    },
    {
      "cell_type": "code",
      "metadata": {
        "id": "amPV2xZM0_uv"
      },
      "source": [
        "#Prevenimos la aparición de Nan's:\n",
        "prueba[\"verosimilitud No-Hadrón\"].replace(0,10**(-30),inplace=True)"
      ],
      "execution_count": null,
      "outputs": []
    },
    {
      "cell_type": "code",
      "metadata": {
        "id": "ABLb2EbY1Wnm"
      },
      "source": [
        "#Actualizamos valores:\n",
        "prueba[\"p(X|Hadron)/p(X|No-Hadron)\"] = prueba[\"verosimilitud Hadrón\"]/prueba[\"verosimilitud No-Hadrón\"]"
      ],
      "execution_count": null,
      "outputs": []
    },
    {
      "cell_type": "code",
      "metadata": {
        "colab": {
          "base_uri": "https://localhost:8080/"
        },
        "id": "oLfQF1M_aVTi",
        "outputId": "8ceb937a-fb5b-419e-83cc-4a798770acbd"
      },
      "source": [
        "mediana1=prueba[\"p(X|Hadron)/p(X|No-Hadron)\"].median()\n",
        "promedio1=prueba[\"p(X|Hadron)/p(X|No-Hadron)\"].mean()\n",
        "print(mediana1)\n",
        "print(promedio1)"
      ],
      "execution_count": null,
      "outputs": [
        {
          "output_type": "stream",
          "text": [
            "0.018419640982803326\n",
            "1.272735210932376e+258\n"
          ],
          "name": "stdout"
        }
      ]
    },
    {
      "cell_type": "code",
      "metadata": {
        "colab": {
          "base_uri": "https://localhost:8080/",
          "height": 1000
        },
        "id": "XnYF1OGB1383",
        "outputId": "0f5c9dd5-6cff-4547-e222-5814c3ce9dc5"
      },
      "source": [
        "#Iteración para theta para valores pequeños:\n",
        "FPRv3=[]\n",
        "TPRv3=[]  \n",
        "for theta in tqdm(np.logspace(-6,6,100)):\n",
        "  prueba.loc[prueba[\"p(X|Hadron)/p(X|No-Hadron)\"]>theta,[\"clasificación\"]]=1\n",
        "  prueba.loc[prueba[\"p(X|Hadron)/p(X|No-Hadron)\"]<=theta,[\"clasificación\"]]=0\n",
        "  for i in range(len(prueba)):\n",
        "    if prueba.iloc[i,10]==1 and prueba.iloc[i,14]==1:\n",
        "       prueba.iloc[i,15]=\"TP\"\n",
        "    if prueba.iloc[i,10]==0 and prueba.iloc[i,14]==1:\n",
        "       prueba.iloc[i,15]=\"FP\"\n",
        "    if prueba.iloc[i,10]==1 and prueba.iloc[i,14]==0:\n",
        "       prueba.iloc[i,15]=\"FN\"\n",
        "    if prueba.iloc[i,10]==0 and prueba.iloc[i,14]==0:\n",
        "       prueba.iloc[i,15]=\"TN\"\n",
        "  prueba.iloc[1,15]=\"TP\"\n",
        "  prueba.iloc[2,15]=\"FP\"\n",
        "  prueba.iloc[3,15]=\"FN\"\n",
        "  prueba.iloc[4,15]=\"TN\"\n",
        "  DT=prueba['detección'].value_counts()\n",
        "  FPR=DT[\"FP\"]/(DT[\"FP\"] + DT[\"TN\"])\n",
        "  TPR=DT[\"TP\"]/(DT[\"TP\"] + DT[\"FN\"])\n",
        "  FPRv3.append(FPR)\n",
        "  TPRv3.append(TPR)\n",
        "print(FPRv3)  \n",
        "print(TPRv3)\n",
        "plt.plot(FPRv3, TPRv3,color = 'red')\n",
        "plt.xlabel('FPR')\n",
        "plt.ylabel('TPR')\n",
        "plt.title('Curva ROC')\n",
        "x=np.arange(0, 1, 0.01)\n",
        "plt.plot(x,x,\"b--\")\n",
        "plt.legend([\"Clasificador de Bayes - Gaussiano\", \"Clasificador Random\"], loc =\"lower right\")\n",
        "plt.show()"
      ],
      "execution_count": null,
      "outputs": [
        {
          "output_type": "stream",
          "text": [
            "\n",
            "\n",
            "\n",
            "  0%|          | 0/100 [00:00<?, ?it/s]\u001b[A\u001b[A\u001b[A\n",
            "\n",
            "\n",
            "  1%|          | 1/100 [00:01<02:59,  1.82s/it]\u001b[A\u001b[A\u001b[A\n",
            "\n",
            "\n",
            "  2%|▏         | 2/100 [00:03<02:59,  1.83s/it]\u001b[A\u001b[A\u001b[A\n",
            "\n",
            "\n",
            "  3%|▎         | 3/100 [00:05<03:04,  1.90s/it]\u001b[A\u001b[A\u001b[A\n",
            "\n",
            "\n",
            "  4%|▍         | 4/100 [00:07<03:02,  1.90s/it]\u001b[A\u001b[A\u001b[A\n",
            "\n",
            "\n",
            "  5%|▌         | 5/100 [00:09<03:07,  1.98s/it]\u001b[A\u001b[A\u001b[A\n",
            "\n",
            "\n",
            "  6%|▌         | 6/100 [00:11<03:05,  1.98s/it]\u001b[A\u001b[A\u001b[A\n",
            "\n",
            "\n",
            "  7%|▋         | 7/100 [00:13<02:59,  1.93s/it]\u001b[A\u001b[A\u001b[A\n",
            "\n",
            "\n",
            "  8%|▊         | 8/100 [00:15<03:02,  1.99s/it]\u001b[A\u001b[A\u001b[A\n",
            "\n",
            "\n",
            "  9%|▉         | 9/100 [00:17<03:01,  2.00s/it]\u001b[A\u001b[A\u001b[A\n",
            "\n",
            "\n",
            " 10%|█         | 10/100 [00:19<03:05,  2.06s/it]\u001b[A\u001b[A\u001b[A\n",
            "\n",
            "\n",
            " 11%|█         | 11/100 [00:22<03:03,  2.06s/it]\u001b[A\u001b[A\u001b[A\n",
            "\n",
            "\n",
            " 12%|█▏        | 12/100 [00:24<03:02,  2.08s/it]\u001b[A\u001b[A\u001b[A\n",
            "\n",
            "\n",
            " 13%|█▎        | 13/100 [00:26<02:58,  2.05s/it]\u001b[A\u001b[A\u001b[A\n",
            "\n",
            "\n",
            " 14%|█▍        | 14/100 [00:28<02:54,  2.03s/it]\u001b[A\u001b[A\u001b[A\n",
            "\n",
            "\n",
            " 15%|█▌        | 15/100 [00:30<02:52,  2.02s/it]\u001b[A\u001b[A\u001b[A\n",
            "\n",
            "\n",
            " 16%|█▌        | 16/100 [00:32<02:47,  1.99s/it]\u001b[A\u001b[A\u001b[A\n",
            "\n",
            "\n",
            " 17%|█▋        | 17/100 [00:34<02:48,  2.03s/it]\u001b[A\u001b[A\u001b[A\n",
            "\n",
            "\n",
            " 18%|█▊        | 18/100 [00:36<02:49,  2.07s/it]\u001b[A\u001b[A\u001b[A\n",
            "\n",
            "\n",
            " 19%|█▉        | 19/100 [00:38<02:46,  2.05s/it]\u001b[A\u001b[A\u001b[A\n",
            "\n",
            "\n",
            " 20%|██        | 20/100 [00:40<02:42,  2.03s/it]\u001b[A\u001b[A\u001b[A\n",
            "\n",
            "\n",
            " 21%|██        | 21/100 [00:42<02:39,  2.01s/it]\u001b[A\u001b[A\u001b[A\n",
            "\n",
            "\n",
            " 22%|██▏       | 22/100 [00:44<02:36,  2.01s/it]\u001b[A\u001b[A\u001b[A\n",
            "\n",
            "\n",
            " 23%|██▎       | 23/100 [00:46<02:35,  2.02s/it]\u001b[A\u001b[A\u001b[A\n",
            "\n",
            "\n",
            " 24%|██▍       | 24/100 [00:48<02:34,  2.03s/it]\u001b[A\u001b[A\u001b[A\n",
            "\n",
            "\n",
            " 25%|██▌       | 25/100 [00:50<02:33,  2.05s/it]\u001b[A\u001b[A\u001b[A\n",
            "\n",
            "\n",
            " 26%|██▌       | 26/100 [00:52<02:25,  1.97s/it]\u001b[A\u001b[A\u001b[A\n",
            "\n",
            "\n",
            " 27%|██▋       | 27/100 [00:54<02:24,  1.98s/it]\u001b[A\u001b[A\u001b[A\n",
            "\n",
            "\n",
            " 28%|██▊       | 28/100 [00:56<02:19,  1.94s/it]\u001b[A\u001b[A\u001b[A\n",
            "\n",
            "\n",
            " 29%|██▉       | 29/100 [00:58<02:19,  1.96s/it]\u001b[A\u001b[A\u001b[A\n",
            "\n",
            "\n",
            " 30%|███       | 30/100 [01:00<02:20,  2.01s/it]\u001b[A\u001b[A\u001b[A\n",
            "\n",
            "\n",
            " 31%|███       | 31/100 [01:02<02:16,  1.98s/it]\u001b[A\u001b[A\u001b[A\n",
            "\n",
            "\n",
            " 32%|███▏      | 32/100 [01:04<02:15,  2.00s/it]\u001b[A\u001b[A\u001b[A\n",
            "\n",
            "\n",
            " 33%|███▎      | 33/100 [01:06<02:14,  2.00s/it]\u001b[A\u001b[A\u001b[A\n",
            "\n",
            "\n",
            " 34%|███▍      | 34/100 [01:08<02:12,  2.00s/it]\u001b[A\u001b[A\u001b[A\n",
            "\n",
            "\n",
            " 35%|███▌      | 35/100 [01:10<02:08,  1.98s/it]\u001b[A\u001b[A\u001b[A\n",
            "\n",
            "\n",
            " 36%|███▌      | 36/100 [01:12<02:08,  2.01s/it]\u001b[A\u001b[A\u001b[A\n",
            "\n",
            "\n",
            " 37%|███▋      | 37/100 [01:14<02:06,  2.00s/it]\u001b[A\u001b[A\u001b[A\n",
            "\n",
            "\n",
            " 38%|███▊      | 38/100 [01:16<02:01,  1.96s/it]\u001b[A\u001b[A\u001b[A\n",
            "\n",
            "\n",
            " 39%|███▉      | 39/100 [01:18<02:00,  1.98s/it]\u001b[A\u001b[A\u001b[A\n",
            "\n",
            "\n",
            " 40%|████      | 40/100 [01:20<02:00,  2.00s/it]\u001b[A\u001b[A\u001b[A\n",
            "\n",
            "\n",
            " 41%|████      | 41/100 [01:22<01:59,  2.02s/it]\u001b[A\u001b[A\u001b[A\n",
            "\n",
            "\n",
            " 42%|████▏     | 42/100 [01:24<01:55,  1.98s/it]\u001b[A\u001b[A\u001b[A\n",
            "\n",
            "\n",
            " 43%|████▎     | 43/100 [01:25<01:50,  1.94s/it]\u001b[A\u001b[A\u001b[A\n",
            "\n",
            "\n",
            " 44%|████▍     | 44/100 [01:27<01:48,  1.94s/it]\u001b[A\u001b[A\u001b[A\n",
            "\n",
            "\n",
            " 45%|████▌     | 45/100 [01:29<01:46,  1.93s/it]\u001b[A\u001b[A\u001b[A\n",
            "\n",
            "\n",
            " 46%|████▌     | 46/100 [01:31<01:46,  1.98s/it]\u001b[A\u001b[A\u001b[A\n",
            "\n",
            "\n",
            " 47%|████▋     | 47/100 [01:34<01:47,  2.03s/it]\u001b[A\u001b[A\u001b[A\n",
            "\n",
            "\n",
            " 48%|████▊     | 48/100 [01:36<01:45,  2.03s/it]\u001b[A\u001b[A\u001b[A\n",
            "\n",
            "\n",
            " 49%|████▉     | 49/100 [01:37<01:41,  1.99s/it]\u001b[A\u001b[A\u001b[A\n",
            "\n",
            "\n",
            " 50%|█████     | 50/100 [01:39<01:38,  1.97s/it]\u001b[A\u001b[A\u001b[A\n",
            "\n",
            "\n",
            " 51%|█████     | 51/100 [01:41<01:37,  2.00s/it]\u001b[A\u001b[A\u001b[A\n",
            "\n",
            "\n",
            " 52%|█████▏    | 52/100 [01:43<01:36,  2.01s/it]\u001b[A\u001b[A\u001b[A\n",
            "\n",
            "\n",
            " 53%|█████▎    | 53/100 [01:46<01:35,  2.02s/it]\u001b[A\u001b[A\u001b[A\n",
            "\n",
            "\n",
            " 54%|█████▍    | 54/100 [01:48<01:34,  2.04s/it]\u001b[A\u001b[A\u001b[A\n",
            "\n",
            "\n",
            " 55%|█████▌    | 55/100 [01:50<01:30,  2.01s/it]\u001b[A\u001b[A\u001b[A\n",
            "\n",
            "\n",
            " 56%|█████▌    | 56/100 [01:52<01:29,  2.04s/it]\u001b[A\u001b[A\u001b[A\n",
            "\n",
            "\n",
            " 57%|█████▋    | 57/100 [01:54<01:28,  2.05s/it]\u001b[A\u001b[A\u001b[A\n",
            "\n",
            "\n",
            " 58%|█████▊    | 58/100 [01:56<01:25,  2.03s/it]\u001b[A\u001b[A\u001b[A\n",
            "\n",
            "\n",
            " 59%|█████▉    | 59/100 [01:58<01:21,  2.00s/it]\u001b[A\u001b[A\u001b[A\n",
            "\n",
            "\n",
            " 60%|██████    | 60/100 [02:00<01:18,  1.96s/it]\u001b[A\u001b[A\u001b[A\n",
            "\n",
            "\n",
            " 61%|██████    | 61/100 [02:02<01:18,  2.00s/it]\u001b[A\u001b[A\u001b[A\n",
            "\n",
            "\n",
            " 62%|██████▏   | 62/100 [02:04<01:16,  2.02s/it]\u001b[A\u001b[A\u001b[A\n",
            "\n",
            "\n",
            " 63%|██████▎   | 63/100 [02:06<01:15,  2.04s/it]\u001b[A\u001b[A\u001b[A\n",
            "\n",
            "\n",
            " 64%|██████▍   | 64/100 [02:08<01:13,  2.05s/it]\u001b[A\u001b[A\u001b[A\n",
            "\n",
            "\n",
            " 65%|██████▌   | 65/100 [02:10<01:12,  2.08s/it]\u001b[A\u001b[A\u001b[A\n",
            "\n",
            "\n",
            " 66%|██████▌   | 66/100 [02:12<01:09,  2.06s/it]\u001b[A\u001b[A\u001b[A\n",
            "\n",
            "\n",
            " 67%|██████▋   | 67/100 [02:14<01:08,  2.07s/it]\u001b[A\u001b[A\u001b[A\n",
            "\n",
            "\n",
            " 68%|██████▊   | 68/100 [02:16<01:05,  2.05s/it]\u001b[A\u001b[A\u001b[A\n",
            "\n",
            "\n",
            " 69%|██████▉   | 69/100 [02:18<01:02,  2.03s/it]\u001b[A\u001b[A\u001b[A\n",
            "\n",
            "\n",
            " 70%|███████   | 70/100 [02:20<01:00,  2.02s/it]\u001b[A\u001b[A\u001b[A\n",
            "\n",
            "\n",
            " 71%|███████   | 71/100 [02:22<00:59,  2.04s/it]\u001b[A\u001b[A\u001b[A\n",
            "\n",
            "\n",
            " 72%|███████▏  | 72/100 [02:24<00:57,  2.05s/it]\u001b[A\u001b[A\u001b[A\n",
            "\n",
            "\n",
            " 73%|███████▎  | 73/100 [02:26<00:55,  2.04s/it]\u001b[A\u001b[A\u001b[A\n",
            "\n",
            "\n",
            " 74%|███████▍  | 74/100 [02:28<00:53,  2.06s/it]\u001b[A\u001b[A\u001b[A\n",
            "\n",
            "\n",
            " 75%|███████▌  | 75/100 [02:30<00:51,  2.05s/it]\u001b[A\u001b[A\u001b[A\n",
            "\n",
            "\n",
            " 76%|███████▌  | 76/100 [02:32<00:49,  2.05s/it]\u001b[A\u001b[A\u001b[A\n",
            "\n",
            "\n",
            " 77%|███████▋  | 77/100 [02:34<00:47,  2.05s/it]\u001b[A\u001b[A\u001b[A\n",
            "\n",
            "\n",
            " 78%|███████▊  | 78/100 [02:36<00:44,  2.03s/it]\u001b[A\u001b[A\u001b[A\n",
            "\n",
            "\n",
            " 79%|███████▉  | 79/100 [02:38<00:41,  2.00s/it]\u001b[A\u001b[A\u001b[A\n",
            "\n",
            "\n",
            " 80%|████████  | 80/100 [02:40<00:39,  1.96s/it]\u001b[A\u001b[A\u001b[A\n",
            "\n",
            "\n",
            " 81%|████████  | 81/100 [02:42<00:37,  1.99s/it]\u001b[A\u001b[A\u001b[A\n",
            "\n",
            "\n",
            " 82%|████████▏ | 82/100 [02:44<00:36,  2.03s/it]\u001b[A\u001b[A\u001b[A\n",
            "\n",
            "\n",
            " 83%|████████▎ | 83/100 [02:46<00:34,  2.02s/it]\u001b[A\u001b[A\u001b[A\n",
            "\n",
            "\n",
            " 84%|████████▍ | 84/100 [02:48<00:32,  2.00s/it]\u001b[A\u001b[A\u001b[A\n",
            "\n",
            "\n",
            " 85%|████████▌ | 85/100 [02:50<00:29,  1.97s/it]\u001b[A\u001b[A\u001b[A\n",
            "\n",
            "\n",
            " 86%|████████▌ | 86/100 [02:52<00:27,  1.95s/it]\u001b[A\u001b[A\u001b[A\n",
            "\n",
            "\n",
            " 87%|████████▋ | 87/100 [02:54<00:25,  1.97s/it]\u001b[A\u001b[A\u001b[A\n",
            "\n",
            "\n",
            " 88%|████████▊ | 88/100 [02:56<00:23,  1.99s/it]\u001b[A\u001b[A\u001b[A\n",
            "\n",
            "\n",
            " 89%|████████▉ | 89/100 [02:58<00:21,  1.96s/it]\u001b[A\u001b[A\u001b[A\n",
            "\n",
            "\n",
            " 90%|█████████ | 90/100 [03:00<00:19,  1.95s/it]\u001b[A\u001b[A\u001b[A\n",
            "\n",
            "\n",
            " 91%|█████████ | 91/100 [03:02<00:17,  1.99s/it]\u001b[A\u001b[A\u001b[A\n",
            "\n",
            "\n",
            " 92%|█████████▏| 92/100 [03:04<00:16,  2.02s/it]\u001b[A\u001b[A\u001b[A\n",
            "\n",
            "\n",
            " 93%|█████████▎| 93/100 [03:06<00:14,  2.02s/it]\u001b[A\u001b[A\u001b[A\n",
            "\n",
            "\n",
            " 94%|█████████▍| 94/100 [03:08<00:12,  2.01s/it]\u001b[A\u001b[A\u001b[A\n",
            "\n",
            "\n",
            " 95%|█████████▌| 95/100 [03:10<00:09,  2.00s/it]\u001b[A\u001b[A\u001b[A\n",
            "\n",
            "\n",
            " 96%|█████████▌| 96/100 [03:12<00:08,  2.03s/it]\u001b[A\u001b[A\u001b[A\n",
            "\n",
            "\n",
            " 97%|█████████▋| 97/100 [03:14<00:06,  2.03s/it]\u001b[A\u001b[A\u001b[A\n",
            "\n",
            "\n",
            " 98%|█████████▊| 98/100 [03:16<00:04,  2.03s/it]\u001b[A\u001b[A\u001b[A\n",
            "\n",
            "\n",
            " 99%|█████████▉| 99/100 [03:18<00:02,  2.01s/it]\u001b[A\u001b[A\u001b[A\n",
            "\n",
            "\n",
            "100%|██████████| 100/100 [03:20<00:00,  2.01s/it]"
          ],
          "name": "stderr"
        },
        {
          "output_type": "stream",
          "text": [
            "[0.9995939910678034, 0.9995939910678034, 0.9995939910678034, 0.9995939910678034, 0.9995939910678034, 0.9995939910678034, 0.9995939910678034, 0.9995939910678034, 0.9995939910678034, 0.9995939910678034, 0.9995939910678034, 0.9995939910678034, 0.9995939910678034, 0.9995939910678034, 0.9995939910678034, 0.9995939910678034, 0.9995939910678034, 0.999187982135607, 0.999187982135607, 0.9979699553390174, 0.997563946406821, 0.9963459196102314, 0.9910678034916768, 0.9837596427121397, 0.976045473000406, 0.9638652050345108, 0.9419407226958993, 0.9090539991879821, 0.8465286236297198, 0.7559886317498985, 0.6613885505481121, 0.5708485586682907, 0.4831506293138449, 0.42062525375558263, 0.35850588712951686, 0.3110028420625254, 0.2744620381648396, 0.24035728786033292, 0.21680876979293545, 0.19488428745432398, 0.16849370686155096, 0.14738124238733252, 0.1368250101502233, 0.1218026796589525, 0.11368250101502234, 0.09987819732034105, 0.0921640276086074, 0.0832318311002842, 0.07632967925294357, 0.07186358099878197, 0.06902151847340642, 0.06414941128704832, 0.05602923264311815, 0.05278116118554608, 0.04912708079577751, 0.04425497360941941, 0.04141291108404385, 0.03857084855866829, 0.03654080389768575, 0.034916768168899714, 0.03329273244011368, 0.032480714575720666, 0.030044660982541615, 0.028014616321559074, 0.02679658952496955, 0.02639058059277304, 0.025172553796183515, 0.023142509135200974, 0.02151847340641494, 0.01989443767762891, 0.018270401948842874, 0.01705237515225335, 0.016240357287860333, 0.016240357287860333, 0.015834348355663823, 0.015834348355663823, 0.015428339423467316, 0.015022330491270807, 0.014616321559074299, 0.014210312626877792, 0.013804303694681283, 0.013804303694681283, 0.013804303694681283, 0.012992285830288266, 0.012992285830288266, 0.011774259033698742, 0.011368250101502234, 0.010556232237109216, 0.010556232237109216, 0.010556232237109216, 0.010556232237109216, 0.010556232237109216, 0.010556232237109216, 0.010556232237109216, 0.010556232237109216, 0.0097442143727162, 0.0097442143727162, 0.0097442143727162, 0.0097442143727162, 0.0097442143727162]\n",
            "[0.9985085756897838, 0.9985085756897838, 0.9985085756897838, 0.9985085756897838, 0.9985085756897838, 0.9985085756897838, 0.9985085756897838, 0.9985085756897838, 0.9985085756897838, 0.9985085756897838, 0.9985085756897838, 0.9985085756897838, 0.9985085756897838, 0.9985085756897838, 0.9985085756897838, 0.9985085756897838, 0.9985085756897838, 0.9985085756897838, 0.9985085756897838, 0.9985085756897838, 0.9985085756897838, 0.9985085756897838, 0.9985085756897838, 0.9985085756897838, 0.9985085756897838, 0.9985085756897838, 0.9977628635346756, 0.9977628635346756, 0.994034302759135, 0.9873228933631618, 0.9783743475018642, 0.9604772557792692, 0.9388516032811335, 0.9172259507829977, 0.8806860551826995, 0.8598061148396718, 0.8351976137211037, 0.8068605518269948, 0.7755406413124534, 0.7457121551081283, 0.7203579418344519, 0.6987322893363161, 0.6718866517524236, 0.6472781506338553, 0.6263982102908278, 0.6032811334824758, 0.5824011931394482, 0.5637583892617449, 0.5488441461595824, 0.5339299030574198, 0.5190156599552572, 0.5003728560775541, 0.48396718866517524, 0.4742729306487696, 0.46756152125279643, 0.45786726323639076, 0.45041014168530946, 0.4429530201342282, 0.4325130499627144, 0.424310216256525, 0.4153616703952274, 0.40939597315436244, 0.40119313944817303, 0.39373601789709173, 0.3855331841909023, 0.38031319910514544, 0.3743475018642804, 0.37285607755406414, 0.366144668158091, 0.3624161073825503, 0.35943325876211785, 0.35495898583146906, 0.35197613721103654, 0.3504847129008203, 0.34750186428038776, 0.34750186428038776, 0.34451901565995524, 0.3415361670395227, 0.3348247576435496, 0.32811334824757643, 0.32811334824757643, 0.32289336316181955, 0.32065622669649513, 0.31767337807606266, 0.31767337807606266, 0.3131991051454139, 0.3087248322147651, 0.30648769574944074, 0.3035048471290082, 0.3012677106636838, 0.3005219985085757, 0.29679343773303507, 0.2953020134228188, 0.29381058911260255, 0.29157345264727813, 0.29082774049217003, 0.28635346756152125, 0.2841163310961969, 0.28187919463087246, 0.27889634601043994]\n"
          ],
          "name": "stdout"
        },
        {
          "output_type": "stream",
          "text": [
            "\n"
          ],
          "name": "stderr"
        },
        {
          "output_type": "display_data",
          "data": {
            "image/png": "[encoded data removed]",
            "text/plain": [
              "<Figure size 432x288 with 1 Axes>"
            ]
          },
          "metadata": {
            "tags": [],
            "needs_background": "light"
          }
        }
      ]
    },
    {
      "cell_type": "code",
      "metadata": {
        "id": "Ed3MGEzG5s_y"
      },
      "source": [
        ""
      ],
      "execution_count": null,
      "outputs": []
    },
    {
      "cell_type": "code",
      "metadata": {
        "colab": {
          "base_uri": "https://localhost:8080/",
          "height": 937
        },
        "id": "WhLFLfI08_8m",
        "outputId": "597ded53-dc38-4b3c-f2f6-3ff28fec60a3"
      },
      "source": [
        "#Iteración theta para altos valores\n",
        "FPRv4=[]   \n",
        "TPRv4=[]\n",
        "for theta in tqdm(np.logspace(50,200,10)):\n",
        "  prueba.loc[prueba[\"p(X|Hadron)/p(X|No-Hadron)\"]>theta,[\"clasificación\"]]=1\n",
        "  prueba.loc[prueba[\"p(X|Hadron)/p(X|No-Hadron)\"]<=theta,[\"clasificación\"]]=0\n",
        "  for i in range(len(prueba)):\n",
        "    if prueba.iloc[i,10]==1 and prueba.iloc[i,14]==1:\n",
        "       prueba.iloc[i,15]=\"TP\"\n",
        "    if prueba.iloc[i,10]==0 and prueba.iloc[i,14]==1:\n",
        "       prueba.iloc[i,15]=\"FP\"\n",
        "    if prueba.iloc[i,10]==1 and prueba.iloc[i,14]==0:\n",
        "       prueba.iloc[i,15]=\"FN\"\n",
        "    if prueba.iloc[i,10]==0 and prueba.iloc[i,14]==0:\n",
        "       prueba.iloc[i,15]=\"TN\"\n",
        "  prueba.iloc[1,15]=\"TP\"\n",
        "  prueba.iloc[2,15]=\"FP\"\n",
        "  prueba.iloc[3,15]=\"FN\"\n",
        "  prueba.iloc[4,15]=\"TN\"\n",
        "  DT=prueba['detección'].value_counts()\n",
        "  FPR=DT[\"FP\"]/(DT[\"FP\"] + DT[\"TN\"])\n",
        "  TPR=DT[\"TP\"]/(DT[\"TP\"] + DT[\"FN\"])\n",
        "  FPRv4.append(FPR)\n",
        "  TPRv4.append(TPR)\n",
        "print(FPRv4)  \n",
        "print(TPRv4)\n",
        "# Concatenación y grafico curva ROC\n",
        "FPRv3.extend(FPRv4)\n",
        "TPRv3.extend(TPRv4)\n",
        "plt.plot(FPRv3, TPRv3,color = 'red')\n",
        "plt.xlabel('FPR')\n",
        "plt.ylabel('TPR')\n",
        "plt.title('Curva ROC')\n",
        "x=np.arange(0, 1, 0.01)\n",
        "plt.plot(x,x,\"b--\")\n",
        "plt.legend([\"Clasificador de Bayes - Gaussiano\", \"Clasificador Random\"], loc =\"lower right\")\n",
        "plt.savefig('ROC-Gaus')\n",
        "plt.show()"
      ],
      "execution_count": null,
      "outputs": [
        {
          "output_type": "stream",
          "text": [
            "\n",
            "\n",
            "\n",
            "  0%|          | 0/10 [00:00<?, ?it/s]\u001b[A\u001b[A\u001b[A\n",
            "\n",
            "\n",
            " 10%|█         | 1/10 [00:01<00:17,  1.95s/it]\u001b[A\u001b[A\u001b[A\n",
            "\n",
            "\n",
            " 20%|██        | 2/10 [00:03<00:15,  1.96s/it]\u001b[A\u001b[A\u001b[A\n",
            "\n",
            "\n",
            " 30%|███       | 3/10 [00:05<00:13,  1.97s/it]\u001b[A\u001b[A\u001b[A\n",
            "\n",
            "\n",
            " 40%|████      | 4/10 [00:07<00:11,  1.98s/it]\u001b[A\u001b[A\u001b[A\n",
            "\n",
            "\n",
            " 50%|█████     | 5/10 [00:09<00:09,  1.97s/it]\u001b[A\u001b[A\u001b[A\n",
            "\n",
            "\n",
            " 60%|██████    | 6/10 [00:11<00:07,  1.98s/it]\u001b[A\u001b[A\u001b[A\n",
            "\n",
            "\n",
            " 70%|███████   | 7/10 [00:13<00:05,  1.99s/it]\u001b[A\u001b[A\u001b[A\n",
            "\n",
            "\n",
            " 80%|████████  | 8/10 [00:15<00:03,  1.99s/it]\u001b[A\u001b[A\u001b[A\n",
            "\n",
            "\n",
            " 90%|█████████ | 9/10 [00:17<00:01,  2.00s/it]\u001b[A\u001b[A\u001b[A\n",
            "\n",
            "\n",
            "100%|██████████| 10/10 [00:19<00:00,  1.97s/it]\n"
          ],
          "name": "stderr"
        },
        {
          "output_type": "stream",
          "text": [
            "[0.0016240357287860333, 0.0008120178643930166, 0.0008120178643930166, 0.0008120178643930166, 0.0008120178643930166, 0.0008120178643930166, 0.0008120178643930166, 0.0008120178643930166, 0.0004060089321965083, 0.0004060089321965083]\n",
            "[0.049962714392244596, 0.03355704697986577, 0.023117076808351976, 0.014168530947054437, 0.011185682326621925, 0.008948545861297539, 0.00820283370618941, 0.005965697240865026, 0.0037285607755406414, 0.0037285607755406414]\n"
          ],
          "name": "stdout"
        },
        {
          "output_type": "display_data",
          "data": {
            "image/png": "[encoded data removed]",
            "text/plain": [
              "<Figure size 432x288 with 1 Axes>"
            ]
          },
          "metadata": {
            "tags": [],
            "needs_background": "light"
          }
        }
      ]
    },
    {
      "cell_type": "markdown",
      "metadata": {
        "id": "DkrEbXNoHbZ9"
      },
      "source": [
        "**19.**  Genere la curva precisión-recall."
      ]
    },
    {
      "cell_type": "code",
      "metadata": {
        "colab": {
          "base_uri": "https://localhost:8080/",
          "height": 1000
        },
        "id": "10DWWhkJPtjR",
        "outputId": "5c6ea232-99e9-49d0-bda8-064867edec28"
      },
      "source": [
        "#Iteración curva precisión \n",
        "Precisionv20=[] \n",
        "Recallv20=[]\n",
        "for theta in tqdm(np.logspace(-6,6,100)):\n",
        "  prueba.loc[prueba[\"p(X|Hadron)/p(X|No-Hadron)\"]>theta,[\"clasificación\"]]=1\n",
        "  prueba.loc[prueba[\"p(X|Hadron)/p(X|No-Hadron)\"]<=theta,[\"clasificación\"]]=0\n",
        "  for i in range(len(prueba)):\n",
        "    if prueba.iloc[i,10]==1 and prueba.iloc[i,14]==1:\n",
        "       prueba.iloc[i,15]=\"TP\"\n",
        "    if prueba.iloc[i,10]==0 and prueba.iloc[i,14]==1:\n",
        "       prueba.iloc[i,15]=\"FP\"\n",
        "    if prueba.iloc[i,10]==1 and prueba.iloc[i,14]==0:\n",
        "       prueba.iloc[i,15]=\"FN\"\n",
        "    if prueba.iloc[i,10]==0 and prueba.iloc[i,14]==0:\n",
        "       prueba.iloc[i,15]=\"TN\"\n",
        "  prueba.iloc[1,15]=\"TP\"\n",
        "  prueba.iloc[2,15]=\"FP\"\n",
        "  prueba.iloc[3,15]=\"FN\"\n",
        "  prueba.iloc[4,15]=\"TN\"\n",
        "  DT=prueba['detección'].value_counts()\n",
        "  Precision=DT[\"TP\"]/(DT[\"TP\"] + DT[\"FP\"])\n",
        "  Recall=DT[\"TP\"]/(DT[\"TP\"] + DT[\"FN\"])\n",
        "  Precisionv20.append(Precision)\n",
        "  Recallv20.append(Recall)\n",
        "plt.plot(Precisionv20,Recallv20,color='red')\n",
        "plt.xlabel('Precision')\n",
        "plt.ylabel('Recall')\n",
        "plt.title('Curva Precision-Recall')\n",
        "plt.legend(['Clasificador de Bayes - Gaussiano'],loc ='upper right')\n",
        "plt.savefig('precision-Gaus')\n",
        "plt.show()"
      ],
      "execution_count": null,
      "outputs": [
        {
          "output_type": "stream",
          "text": [
            "\n",
            "\n",
            "\n",
            "  0%|          | 0/100 [00:00<?, ?it/s]\u001b[A\u001b[A\u001b[A\n",
            "\n",
            "\n",
            "  1%|          | 1/100 [00:01<03:07,  1.89s/it]\u001b[A\u001b[A\u001b[A\n",
            "\n",
            "\n",
            "  2%|▏         | 2/100 [00:03<03:09,  1.93s/it]\u001b[A\u001b[A\u001b[A\n",
            "\n",
            "\n",
            "  3%|▎         | 3/100 [00:06<03:11,  1.98s/it]\u001b[A\u001b[A\u001b[A\n",
            "\n",
            "\n",
            "  4%|▍         | 4/100 [00:08<03:10,  1.99s/it]\u001b[A\u001b[A\u001b[A\n",
            "\n",
            "\n",
            "  5%|▌         | 5/100 [00:09<03:08,  1.98s/it]\u001b[A\u001b[A\u001b[A\n",
            "\n",
            "\n",
            "  6%|▌         | 6/100 [00:11<03:01,  1.93s/it]\u001b[A\u001b[A\u001b[A\n",
            "\n",
            "\n",
            "  7%|▋         | 7/100 [00:13<03:00,  1.94s/it]\u001b[A\u001b[A\u001b[A\n",
            "\n",
            "\n",
            "  8%|▊         | 8/100 [00:15<02:59,  1.95s/it]\u001b[A\u001b[A\u001b[A\n",
            "\n",
            "\n",
            "  9%|▉         | 9/100 [00:17<02:56,  1.94s/it]\u001b[A\u001b[A\u001b[A\n",
            "\n",
            "\n",
            " 10%|█         | 10/100 [00:19<02:59,  1.99s/it]\u001b[A\u001b[A\u001b[A\n",
            "\n",
            "\n",
            " 11%|█         | 11/100 [00:21<02:59,  2.02s/it]\u001b[A\u001b[A\u001b[A\n",
            "\n",
            "\n",
            " 12%|█▏        | 12/100 [00:23<02:57,  2.01s/it]\u001b[A\u001b[A\u001b[A\n",
            "\n",
            "\n",
            " 13%|█▎        | 13/100 [00:25<02:56,  2.03s/it]\u001b[A\u001b[A\u001b[A\n",
            "\n",
            "\n",
            " 14%|█▍        | 14/100 [00:27<02:51,  2.00s/it]\u001b[A\u001b[A\u001b[A\n",
            "\n",
            "\n",
            " 15%|█▌        | 15/100 [00:29<02:52,  2.03s/it]\u001b[A\u001b[A\u001b[A\n",
            "\n",
            "\n",
            " 16%|█▌        | 16/100 [00:31<02:46,  1.98s/it]\u001b[A\u001b[A\u001b[A\n",
            "\n",
            "\n",
            " 17%|█▋        | 17/100 [00:33<02:44,  1.99s/it]\u001b[A\u001b[A\u001b[A\n",
            "\n",
            "\n",
            " 18%|█▊        | 18/100 [00:35<02:42,  1.98s/it]\u001b[A\u001b[A\u001b[A\n",
            "\n",
            "\n",
            " 19%|█▉        | 19/100 [00:37<02:39,  1.97s/it]\u001b[A\u001b[A\u001b[A\n",
            "\n",
            "\n",
            " 20%|██        | 20/100 [00:39<02:35,  1.95s/it]\u001b[A\u001b[A\u001b[A\n",
            "\n",
            "\n",
            " 21%|██        | 21/100 [00:41<02:37,  1.99s/it]\u001b[A\u001b[A\u001b[A\n",
            "\n",
            "\n",
            " 22%|██▏       | 22/100 [00:43<02:35,  1.99s/it]\u001b[A\u001b[A\u001b[A\n",
            "\n",
            "\n",
            " 23%|██▎       | 23/100 [00:45<02:37,  2.05s/it]\u001b[A\u001b[A\u001b[A\n",
            "\n",
            "\n",
            " 24%|██▍       | 24/100 [00:47<02:35,  2.05s/it]\u001b[A\u001b[A\u001b[A\n",
            "\n",
            "\n",
            " 25%|██▌       | 25/100 [00:49<02:33,  2.05s/it]\u001b[A\u001b[A\u001b[A\n",
            "\n",
            "\n",
            " 26%|██▌       | 26/100 [00:52<02:32,  2.06s/it]\u001b[A\u001b[A\u001b[A\n",
            "\n",
            "\n",
            " 27%|██▋       | 27/100 [00:54<02:31,  2.08s/it]\u001b[A\u001b[A\u001b[A\n",
            "\n",
            "\n",
            " 28%|██▊       | 28/100 [00:56<02:24,  2.00s/it]\u001b[A\u001b[A\u001b[A\n",
            "\n",
            "\n",
            " 29%|██▉       | 29/100 [00:57<02:21,  2.00s/it]\u001b[A\u001b[A\u001b[A\n",
            "\n",
            "\n",
            " 30%|███       | 30/100 [00:59<02:17,  1.97s/it]\u001b[A\u001b[A\u001b[A\n",
            "\n",
            "\n",
            " 31%|███       | 31/100 [01:01<02:16,  1.98s/it]\u001b[A\u001b[A\u001b[A\n",
            "\n",
            "\n",
            " 32%|███▏      | 32/100 [01:04<02:17,  2.02s/it]\u001b[A\u001b[A\u001b[A\n",
            "\n",
            "\n",
            " 33%|███▎      | 33/100 [01:05<02:13,  1.99s/it]\u001b[A\u001b[A\u001b[A\n",
            "\n",
            "\n",
            " 34%|███▍      | 34/100 [01:08<02:13,  2.02s/it]\u001b[A\u001b[A\u001b[A\n",
            "\n",
            "\n",
            " 35%|███▌      | 35/100 [01:09<02:09,  2.00s/it]\u001b[A\u001b[A\u001b[A\n",
            "\n",
            "\n",
            " 36%|███▌      | 36/100 [01:11<02:06,  1.98s/it]\u001b[A\u001b[A\u001b[A\n",
            "\n",
            "\n",
            " 37%|███▋      | 37/100 [01:13<02:06,  2.01s/it]\u001b[A\u001b[A\u001b[A\n",
            "\n",
            "\n",
            " 38%|███▊      | 38/100 [01:15<02:01,  1.97s/it]\u001b[A\u001b[A\u001b[A\n",
            "\n",
            "\n",
            " 39%|███▉      | 39/100 [01:17<02:03,  2.02s/it]\u001b[A\u001b[A\u001b[A\n",
            "\n",
            "\n",
            " 40%|████      | 40/100 [01:19<01:59,  2.00s/it]\u001b[A\u001b[A\u001b[A\n",
            "\n",
            "\n",
            " 41%|████      | 41/100 [01:21<01:57,  1.99s/it]\u001b[A\u001b[A\u001b[A\n",
            "\n",
            "\n",
            " 42%|████▏     | 42/100 [01:23<01:54,  1.97s/it]\u001b[A\u001b[A\u001b[A\n",
            "\n",
            "\n",
            " 43%|████▎     | 43/100 [01:25<01:52,  1.97s/it]\u001b[A\u001b[A\u001b[A\n",
            "\n",
            "\n",
            " 44%|████▍     | 44/100 [01:27<01:52,  2.00s/it]\u001b[A\u001b[A\u001b[A\n",
            "\n",
            "\n",
            " 45%|████▌     | 45/100 [01:29<01:49,  1.99s/it]\u001b[A\u001b[A\u001b[A\n",
            "\n",
            "\n",
            " 46%|████▌     | 46/100 [01:31<01:49,  2.02s/it]\u001b[A\u001b[A\u001b[A\n",
            "\n",
            "\n",
            " 47%|████▋     | 47/100 [01:34<01:49,  2.06s/it]\u001b[A\u001b[A\u001b[A\n",
            "\n",
            "\n",
            " 48%|████▊     | 48/100 [01:35<01:44,  2.00s/it]\u001b[A\u001b[A\u001b[A\n",
            "\n",
            "\n",
            " 49%|████▉     | 49/100 [01:38<01:42,  2.01s/it]\u001b[A\u001b[A\u001b[A\n",
            "\n",
            "\n",
            " 50%|█████     | 50/100 [01:40<01:42,  2.04s/it]\u001b[A\u001b[A\u001b[A\n",
            "\n",
            "\n",
            " 51%|█████     | 51/100 [01:42<01:40,  2.05s/it]\u001b[A\u001b[A\u001b[A\n",
            "\n",
            "\n",
            " 52%|█████▏    | 52/100 [01:44<01:38,  2.06s/it]\u001b[A\u001b[A\u001b[A\n",
            "\n",
            "\n",
            " 53%|█████▎    | 53/100 [01:46<01:37,  2.07s/it]\u001b[A\u001b[A\u001b[A\n",
            "\n",
            "\n",
            " 54%|█████▍    | 54/100 [01:48<01:35,  2.08s/it]\u001b[A\u001b[A\u001b[A\n",
            "\n",
            "\n",
            " 55%|█████▌    | 55/100 [01:50<01:31,  2.03s/it]\u001b[A\u001b[A\u001b[A\n",
            "\n",
            "\n",
            " 56%|█████▌    | 56/100 [01:52<01:30,  2.07s/it]\u001b[A\u001b[A\u001b[A\n",
            "\n",
            "\n",
            " 57%|█████▋    | 57/100 [01:54<01:28,  2.06s/it]\u001b[A\u001b[A\u001b[A\n",
            "\n",
            "\n",
            " 58%|█████▊    | 58/100 [01:56<01:27,  2.08s/it]\u001b[A\u001b[A\u001b[A\n",
            "\n",
            "\n",
            " 59%|█████▉    | 59/100 [01:58<01:25,  2.10s/it]\u001b[A\u001b[A\u001b[A\n",
            "\n",
            "\n",
            " 60%|██████    | 60/100 [02:00<01:23,  2.09s/it]\u001b[A\u001b[A\u001b[A\n",
            "\n",
            "\n",
            " 61%|██████    | 61/100 [02:03<01:21,  2.10s/it]\u001b[A\u001b[A\u001b[A\n",
            "\n",
            "\n",
            " 62%|██████▏   | 62/100 [02:04<01:18,  2.06s/it]\u001b[A\u001b[A\u001b[A\n",
            "\n",
            "\n",
            " 63%|██████▎   | 63/100 [02:07<01:17,  2.09s/it]\u001b[A\u001b[A\u001b[A\n",
            "\n",
            "\n",
            " 64%|██████▍   | 64/100 [02:09<01:12,  2.03s/it]\u001b[A\u001b[A\u001b[A\n",
            "\n",
            "\n",
            " 65%|██████▌   | 65/100 [02:11<01:13,  2.10s/it]\u001b[A\u001b[A\u001b[A\n",
            "\n",
            "\n",
            " 66%|██████▌   | 66/100 [02:13<01:12,  2.14s/it]\u001b[A\u001b[A\u001b[A\n",
            "\n",
            "\n",
            " 67%|██████▋   | 67/100 [02:15<01:10,  2.14s/it]\u001b[A\u001b[A\u001b[A\n",
            "\n",
            "\n",
            " 68%|██████▊   | 68/100 [02:17<01:08,  2.14s/it]\u001b[A\u001b[A\u001b[A\n",
            "\n",
            "\n",
            " 69%|██████▉   | 69/100 [02:19<01:05,  2.11s/it]\u001b[A\u001b[A\u001b[A\n",
            "\n",
            "\n",
            " 70%|███████   | 70/100 [02:21<01:02,  2.09s/it]\u001b[A\u001b[A\u001b[A\n",
            "\n",
            "\n",
            " 71%|███████   | 71/100 [02:23<01:00,  2.10s/it]\u001b[A\u001b[A\u001b[A\n",
            "\n",
            "\n",
            " 72%|███████▏  | 72/100 [02:26<01:00,  2.15s/it]\u001b[A\u001b[A\u001b[A\n",
            "\n",
            "\n",
            " 73%|███████▎  | 73/100 [02:28<00:59,  2.19s/it]\u001b[A\u001b[A\u001b[A\n",
            "\n",
            "\n",
            " 74%|███████▍  | 74/100 [02:30<00:57,  2.20s/it]\u001b[A\u001b[A\u001b[A\n",
            "\n",
            "\n",
            " 75%|███████▌  | 75/100 [02:32<00:54,  2.16s/it]\u001b[A\u001b[A\u001b[A\n",
            "\n",
            "\n",
            " 76%|███████▌  | 76/100 [02:34<00:51,  2.13s/it]\u001b[A\u001b[A\u001b[A\n",
            "\n",
            "\n",
            " 77%|███████▋  | 77/100 [02:37<00:49,  2.15s/it]\u001b[A\u001b[A\u001b[A\n",
            "\n",
            "\n",
            " 78%|███████▊  | 78/100 [02:39<00:47,  2.16s/it]\u001b[A\u001b[A\u001b[A\n",
            "\n",
            "\n",
            " 79%|███████▉  | 79/100 [02:41<00:45,  2.18s/it]\u001b[A\u001b[A\u001b[A\n",
            "\n",
            "\n",
            " 80%|████████  | 80/100 [02:43<00:42,  2.14s/it]\u001b[A\u001b[A\u001b[A\n",
            "\n",
            "\n",
            " 81%|████████  | 81/100 [02:45<00:41,  2.17s/it]\u001b[A\u001b[A\u001b[A\n",
            "\n",
            "\n",
            " 82%|████████▏ | 82/100 [02:47<00:37,  2.10s/it]\u001b[A\u001b[A\u001b[A\n",
            "\n",
            "\n",
            " 83%|████████▎ | 83/100 [02:49<00:34,  2.05s/it]\u001b[A\u001b[A\u001b[A\n",
            "\n",
            "\n",
            " 84%|████████▍ | 84/100 [02:51<00:32,  2.04s/it]\u001b[A\u001b[A\u001b[A\n",
            "\n",
            "\n",
            " 85%|████████▌ | 85/100 [02:53<00:31,  2.08s/it]\u001b[A\u001b[A\u001b[A\n",
            "\n",
            "\n",
            " 86%|████████▌ | 86/100 [02:56<00:29,  2.11s/it]\u001b[A\u001b[A\u001b[A\n",
            "\n",
            "\n",
            " 87%|████████▋ | 87/100 [02:58<00:27,  2.13s/it]\u001b[A\u001b[A\u001b[A\n",
            "\n",
            "\n",
            " 88%|████████▊ | 88/100 [03:00<00:25,  2.12s/it]\u001b[A\u001b[A\u001b[A\n",
            "\n",
            "\n",
            " 89%|████████▉ | 89/100 [03:02<00:23,  2.11s/it]\u001b[A\u001b[A\u001b[A\n",
            "\n",
            "\n",
            " 90%|█████████ | 90/100 [03:04<00:21,  2.11s/it]\u001b[A\u001b[A\u001b[A\n",
            "\n",
            "\n",
            " 91%|█████████ | 91/100 [03:06<00:18,  2.11s/it]\u001b[A\u001b[A\u001b[A\n",
            "\n",
            "\n",
            " 92%|█████████▏| 92/100 [03:08<00:16,  2.09s/it]\u001b[A\u001b[A\u001b[A\n",
            "\n",
            "\n",
            " 93%|█████████▎| 93/100 [03:10<00:14,  2.07s/it]\u001b[A\u001b[A\u001b[A\n",
            "\n",
            "\n",
            " 94%|█████████▍| 94/100 [03:12<00:12,  2.10s/it]\u001b[A\u001b[A\u001b[A\n",
            "\n",
            "\n",
            " 95%|█████████▌| 95/100 [03:14<00:10,  2.11s/it]\u001b[A\u001b[A\u001b[A\n",
            "\n",
            "\n",
            " 96%|█████████▌| 96/100 [03:17<00:08,  2.12s/it]\u001b[A\u001b[A\u001b[A\n",
            "\n",
            "\n",
            " 97%|█████████▋| 97/100 [03:19<00:06,  2.12s/it]\u001b[A\u001b[A\u001b[A\n",
            "\n",
            "\n",
            " 98%|█████████▊| 98/100 [03:21<00:04,  2.13s/it]\u001b[A\u001b[A\u001b[A\n",
            "\n",
            "\n",
            " 99%|█████████▉| 99/100 [03:23<00:02,  2.17s/it]\u001b[A\u001b[A\u001b[A\n",
            "\n",
            "\n",
            "100%|██████████| 100/100 [03:25<00:00,  2.06s/it]\n"
          ],
          "name": "stderr"
        },
        {
          "output_type": "display_data",
          "data": {
            "image/png": "[encoded data removed]",
            "text/plain": [
              "<Figure size 432x288 with 1 Axes>"
            ]
          },
          "metadata": {
            "tags": [],
            "needs_background": "light"
          }
        }
      ]
    },
    {
      "cell_type": "markdown",
      "metadata": {
        "id": "CQl4T3Ix0QL0"
      },
      "source": [
        "# ***Parte 4***:  Comparación de resultados"
      ]
    },
    {
      "cell_type": "markdown",
      "metadata": {
        "id": "r_bkps1uHfJC"
      },
      "source": [
        "**20.**  Grafique ambas curvas ROC en un único gráfico."
      ]
    },
    {
      "cell_type": "code",
      "metadata": {
        "id": "SkFondTs_F_s",
        "colab": {
          "base_uri": "https://localhost:8080/",
          "height": 295
        },
        "outputId": "909115c4-6ced-46e3-e1aa-e93c9051ff59"
      },
      "source": [
        "#Graficos sobrepuestos de curvas ROC  de ambos clasificadores:\n",
        "plt.plot(FPRv1, TPRv1)\n",
        "plt.plot(FPRv3, TPRv3)\n",
        "x=np.arange(0, 1, 0.01)\n",
        "plt.plot(x,x,\"b--\")\n",
        "plt.legend([\"Clasificador de Bayes\",\"Clasificador de Bayes - Gaussiano\", \"Clasificador Random\"], loc =\"lower right\")\n",
        "plt.title('Curvas ROC')\n",
        "plt.xlabel('FPR')\n",
        "plt.ylabel('TPR')\n",
        "plt.savefig('Curvas ROC')\n",
        "plt.show()"
      ],
      "execution_count": null,
      "outputs": [
        {
          "output_type": "display_data",
          "data": {
            "image/png": "[encoded data removed]",
            "text/plain": [
              "<Figure size 432x288 with 1 Axes>"
            ]
          },
          "metadata": {
            "tags": [],
            "needs_background": "light"
          }
        }
      ]
    },
    {
      "cell_type": "markdown",
      "metadata": {
        "id": "cRJh82YRHnJn"
      },
      "source": [
        "**21.** Grafique ambas curvas precisión-recall en un único gráfico."
      ]
    },
    {
      "cell_type": "code",
      "metadata": {
        "id": "SrL5nHb__GbE",
        "colab": {
          "base_uri": "https://localhost:8080/",
          "height": 295
        },
        "outputId": "73ca8b16-5866-4132-f45e-562acadb42f6"
      },
      "source": [
        "#Graficos sobrepuestos de curvas precision-recall  de ambos clasificadores:\n",
        "plt.plot(Precisionv1,Recallv1)\n",
        "plt.plot(Precisionv20,Recallv20)\n",
        "plt.legend([\"Clasificador de Bayes\",\"Clasificador de Bayes - Gaussiano\"], loc =\"lower left\")\n",
        "plt.xlabel('Precision')\n",
        "plt.ylabel('Recall')\n",
        "plt.title('Curvas Precision-Recall')\n",
        "plt.savefig('Curvas Precision')\n",
        "plt.show()"
      ],
      "execution_count": null,
      "outputs": [
        {
          "output_type": "display_data",
          "data": {
            "image/png": "[encoded data removed]",
            "text/plain": [
              "<Figure size 432x288 with 1 Axes>"
            ]
          },
          "metadata": {
            "tags": [],
            "needs_background": "light"
          }
        }
      ]
    },
    {
      "cell_type": "markdown",
      "metadata": {
        "id": "SEMXmB_6HnTv"
      },
      "source": [
        "**22.** Compare los tiempos requeridos para entrenar ambos clasificadores."
      ]
    },
    {
      "cell_type": "code",
      "metadata": {
        "colab": {
          "base_uri": "https://localhost:8080/",
          "height": 282
        },
        "id": "DYpy-otae8_z",
        "outputId": "38d0aacd-cd30-456b-ce86-34310e753ce7"
      },
      "source": [
        "# Entrenamiento P3:\n",
        "# Calculo de promedio y matriz de covarianza clase No-Hadrón:\n",
        "meang=np.mean(Ge)\n",
        "covg=np.cov(Ge,rowvar = False)\n",
        "\n",
        "# Calculo de promedio y matriz de covarianza clase Hadrón:\n",
        "meanh=np.mean(He)\n",
        "covh=np.cov(He,rowvar = False)\n",
        "\n",
        "TiempoP3=time.time()\n",
        "\n",
        "#Entrenamiento P2:\n",
        "#Se procede a guardar Counts y Bins para cada feature de la clase No-Hadrón:\n",
        "CountsClaseG=[]\n",
        "BinsClaseG=[]\n",
        "for i in range(0,10):\n",
        "  counts, bins, bars=plt.hist(Ge.iloc[:,i], bins=25)\n",
        "  counts=counts/np.sum(counts)\n",
        "  CountsClaseG.append(counts)\n",
        "  BinsClaseG.append(bins)\n",
        "#Se procede a guardar Counts y Bins para cada feature de la clase Hadrón:\n",
        "CountsClaseH=[]\n",
        "BinsClaseH=[]\n",
        "for i in range(0,10):\n",
        "  counts, bins, bars=plt.hist(He.iloc[:,i], bins=25)\n",
        "  counts=counts/np.sum(counts)\n",
        "  CountsClaseH.append(counts)\n",
        "  BinsClaseH.append(bins)\n",
        "\n",
        "TiempoP2=time.time()\n",
        "\n",
        "#Para comparar los tiempos de entrenamiento de ambos clasificadores restaremos los tiempos de entrenamiento de la parte 2 con el tiempo de entrenamiento de la parte 3\n",
        "DeltaT=TiempoP2-TiempoP3\n",
        "print(DeltaT)"
      ],
      "execution_count": null,
      "outputs": [
        {
          "output_type": "stream",
          "text": [
            "0.39943528175354004\n"
          ],
          "name": "stdout"
        },
        {
          "output_type": "display_data",
          "data": {
            "image/png": "[encoded data removed]",
            "text/plain": [
              "<Figure size 432x288 with 1 Axes>"
            ]
          },
          "metadata": {
            "tags": [],
            "needs_background": "light"
          }
        }
      ]
    }
  ]
}