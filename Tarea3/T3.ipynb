{
  "nbformat": 4,
  "nbformat_minor": 0,
  "metadata": {
    "colab": {
      "name": "tarea3ic.ipynb",
      "provenance": [],
      "collapsed_sections": []
    },
    "kernelspec": {
      "name": "python3",
      "display_name": "Python 3"
    },
    "language_info": {
      "name": "python"
    }
  },
  "cells": [
    {
      "cell_type": "markdown",
      "metadata": {
        "id": "i50TvQIr90uz"
      },
      "source": [
        "# **Tarea 3: Selección de Características**\n",
        "**Nombre:** José Luis Cádiz\n",
        "\n",
        "**ReadMe:** Ejecutar todo el código, si se ejecuta solo una parte aislada pueden existir errores, producto de que hay variables que se sobreescriben. **Subir archivo 'diabetes.arff' antes de ejecutar.**"
      ]
    },
    {
      "cell_type": "markdown",
      "metadata": {
        "id": "_kmoJlzA-Zh0"
      },
      "source": [
        "# **Introducción:**"
      ]
    },
    {
      "cell_type": "markdown",
      "metadata": {
        "id": "ft56PQPo0XZP"
      },
      "source": [
        "**En el contexto del curso ''Inteligencia Computacional'', se presentará a continuación el desarrollo de la ''Tarea 3'' del curso. Esta tarea pretende desarrollar el proceso de selección de features para clasificadores tipo SVM y Random Forest, para luego comparar el desempeño de ambos clasificadores en el contexto de detección de diabetes, haciendo uso de las librerías pandas, numpy, matplotlib y scikit-learn entre otras.**\n",
        "\n",
        "**A continuación se explica a grandes razgos lo que se realizará en en la tarea: En la parte 1, se partirá por procesar los datos, separaparandolos en los conjuntos de Entrenamiento, Validación y Prueba. Luego estos conjuntos serán normalizados para el mejor funcionamiento del clasificador SVM.**\n",
        "**Ya con los datos listos, se entrenan clasificadores SVM y Random Forest para distintas variantes de features: considerando todas las features, features seleccionadas según \"SelectFromModel\" y features según \"SelectKBest\" para k=2 y k=4. Luego sus desempeños son evaludos según accuracies y matrices de confusión.**\n",
        "**Finalmente, se eligirá la mejor versión de SVM y Random Forest para evaluarlos en el conjunto de prueba.** \n",
        "\n",
        "**En la parte 2, se analizan los resultados de la parte 1, en donde se indica cual fue el mejor clasificador para la detección de diabetes y  el efecto/utilidad de la redución de features.**\n",
        "\n",
        "\n",
        "**Finalmente, se termina el documento con las conclusiones principales de esta experiencia.**"
      ]
    },
    {
      "cell_type": "code",
      "metadata": {
        "id": "ngqPb48j_xSk"
      },
      "source": [
        "#Importando librerias:\n",
        "import numpy as np\n",
        "from matplotlib import pyplot as plt\n",
        "import pandas as pd\n",
        "\n",
        "from scipy.io import arff #Para leer archivos arff\n",
        "#Libreria sklearn:\n",
        "from sklearn.preprocessing import StandardScaler\n",
        "from sklearn import svm\n",
        "from sklearn.model_selection import GridSearchCV\n",
        "from sklearn import metrics\n",
        "from sklearn.metrics import plot_confusion_matrix\n",
        "from sklearn.metrics import precision_recall_curve\n",
        "from sklearn.metrics import average_precision_score\n",
        "from sklearn.model_selection import train_test_split\n",
        "from sklearn.model_selection import PredefinedSplit\n",
        "from sklearn.metrics import confusion_matrix\n",
        "import seaborn as sns\n",
        "from sklearn.feature_selection import SelectFromModel\n",
        "from sklearn.feature_selection import SelectKBest\n",
        "from sklearn.ensemble import RandomForestClassifier\n",
        "\n",
        "#Para el calculo de tiempos de entrenamiento:\n",
        "import time\n",
        "\n",
        "#Importar datos desde google drive:\n",
        "#from google.colab import drive  #Se uso para no subir el archivo cada vez que se avanzaba en la tarea\n",
        "#drive.mount('/content/drive')"
      ],
      "execution_count": null,
      "outputs": []
    },
    {
      "cell_type": "markdown",
      "metadata": {
        "id": "rFCfZAbs-3Up"
      },
      "source": [
        "**Parte 1: Pruebas**"
      ]
    },
    {
      "cell_type": "markdown",
      "metadata": {
        "id": "M4WEUUe3_zL5"
      },
      "source": [
        "**a)** Explicar brevemente cuáles son las características contenidas en el dataset:\n",
        "\n",
        "**Leyendo el Dataset en un block de notas, las features se pueden describir como sigue:**\n",
        " 1. **Number of times pregnant**: Indica número de veces que la mujer ha estado embarazada.\n",
        " 2. **Plasma glucose concentration a 2 hours in an oral glucose tolerance test**: Indica la concentración de glucosa en plasma a 2 horas de una prueba de tolerancia oral a la glucosa.\n",
        " 3. **Diastolic blood pressure (mm Hg)**: Indica la presión arterial diastólica.\n",
        " 4. **Triceps skin fold thickness (mm)**: Indica \n",
        "Espesor del pliegue cutáneo del tríceps.\n",
        " 5. **2-Hour serum insulin (mu U/ml)** indica Insulina sérica de 2 horas.\n",
        " 6. **Body mass index (weight in kg/(height in m)^2)**: Indica el índice de masa corporal.\n",
        " 7. **Diabetes pedigree function**: Indica la función del árbol genealógico de la diabetes.\n",
        " 8. **Age (years)**: Indica la edad de la mujer.\n"
      ]
    },
    {
      "cell_type": "markdown",
      "metadata": {
        "id": "7D7qM12UAK6I"
      },
      "source": [
        "**b)** Leer el archivo de diabetes usando pandas. Se debe reemplazar las etiquetas de la clase por los valores 0 y 1. Además se debe dividir en entrenamiento (60%), validación (20%) y prueba (20%) usando train_test_split:"
      ]
    },
    {
      "cell_type": "code",
      "metadata": {
        "colab": {
          "base_uri": "https://localhost:8080/"
        },
        "id": "YkULCf5q-8YL",
        "outputId": "442df2c1-f9ab-4afa-afa7-adbfd4460814"
      },
      "source": [
        "#Lectura del Dataset usando pandas:\n",
        "#path = 'drive/My Drive/Inteligencia Computacional/diabetes.arff'\n",
        "path='diabetes.arff'  #Subir archivo\n",
        "data = arff.loadarff(path)\n",
        "data = pd.DataFrame(data[0])\n",
        "print('Lectura de datos:')\n",
        "print('')\n",
        "print(data.head())\n",
        "print('')\n",
        "\n",
        "#Se reemplazan las etiquetas por 0's y 1's:\n",
        "data['class']=data['class'].replace({b\"tested_positive\":1,b\"tested_negative\":0}) \n",
        "print('Datos con etiqueta binaria:')\n",
        "print('')\n",
        "print(data.head())\n",
        "print('')\n",
        "\n",
        "#Ahora se procede a separar los conjuntos en entrenamiento, validación y prueba:\n",
        "Entrenamiento, provisorio=train_test_split(data,test_size=0.4,shuffle=True,random_state=45) #60% para entrenamiento\n",
        "Validacion, Prueba=train_test_split(provisorio,test_size=0.5,shuffle=True,random_state=45) #20% para validación y prueba\n",
        "Entrenamiento=Entrenamiento.reset_index(drop=True) #Reinicio de indices\n",
        "Validacion=Validacion.reset_index(drop=True) #Reinicio de indices\n",
        "Prueba=Prueba.reset_index(drop=True) #Reinicio de indices\n",
        "print('Entrenamiento:')\n",
        "print('')\n",
        "print(Entrenamiento.head())\n",
        "print('')\n",
        "print('Validacion:')\n",
        "print('')\n",
        "print(Validacion.head())\n",
        "print('')\n",
        "print('Prueba:')\n",
        "print('')\n",
        "print(Prueba.head())"
      ],
      "execution_count": null,
      "outputs": [
        {
          "output_type": "stream",
          "text": [
            "Lectura de datos:\n",
            "\n",
            "   preg   plas  pres  skin   insu  mass   pedi   age               class\n",
            "0   6.0  148.0  72.0  35.0    0.0  33.6  0.627  50.0  b'tested_positive'\n",
            "1   1.0   85.0  66.0  29.0    0.0  26.6  0.351  31.0  b'tested_negative'\n",
            "2   8.0  183.0  64.0   0.0    0.0  23.3  0.672  32.0  b'tested_positive'\n",
            "3   1.0   89.0  66.0  23.0   94.0  28.1  0.167  21.0  b'tested_negative'\n",
            "4   0.0  137.0  40.0  35.0  168.0  43.1  2.288  33.0  b'tested_positive'\n",
            "\n",
            "Datos con etiqueta binaria:\n",
            "\n",
            "   preg   plas  pres  skin   insu  mass   pedi   age  class\n",
            "0   6.0  148.0  72.0  35.0    0.0  33.6  0.627  50.0      1\n",
            "1   1.0   85.0  66.0  29.0    0.0  26.6  0.351  31.0      0\n",
            "2   8.0  183.0  64.0   0.0    0.0  23.3  0.672  32.0      1\n",
            "3   1.0   89.0  66.0  23.0   94.0  28.1  0.167  21.0      0\n",
            "4   0.0  137.0  40.0  35.0  168.0  43.1  2.288  33.0      1\n",
            "\n",
            "Entrenamiento:\n",
            "\n",
            "   preg   plas  pres  skin   insu  mass   pedi   age  class\n",
            "0   2.0  128.0  64.0  42.0    0.0  40.0  1.101  24.0      0\n",
            "1   2.0  144.0  58.0  33.0  135.0  31.6  0.422  25.0      1\n",
            "2   3.0   83.0  58.0  31.0   18.0  34.3  0.336  25.0      0\n",
            "3   2.0  129.0  74.0  26.0  205.0  33.2  0.591  25.0      0\n",
            "4   8.0  181.0  68.0  36.0  495.0  30.1  0.615  60.0      1\n",
            "\n",
            "Validacion:\n",
            "\n",
            "   preg   plas  pres  skin   insu  mass   pedi   age  class\n",
            "0   1.0   81.0  72.0  18.0   40.0  26.6  0.283  24.0      0\n",
            "1   7.0  159.0  66.0   0.0    0.0  30.4  0.383  36.0      1\n",
            "2   6.0   85.0  78.0   0.0    0.0  31.2  0.382  42.0      0\n",
            "3   7.0  114.0  66.0   0.0    0.0  32.8  0.258  42.0      1\n",
            "4   0.0   97.0  64.0  36.0  100.0  36.8  0.600  25.0      0\n",
            "\n",
            "Prueba:\n",
            "\n",
            "   preg   plas  pres  skin   insu  mass   pedi   age  class\n",
            "0   2.0   99.0  60.0  17.0  160.0  36.6  0.453  21.0      0\n",
            "1   0.0  161.0  50.0   0.0    0.0  21.9  0.254  65.0      0\n",
            "2   2.0   81.0  60.0  22.0    0.0  27.7  0.290  25.0      0\n",
            "3   1.0   97.0  68.0  21.0    0.0  27.2  1.095  22.0      0\n",
            "4   4.0   83.0  86.0  19.0    0.0  29.3  0.317  34.0      0\n"
          ],
          "name": "stdout"
        }
      ]
    },
    {
      "cell_type": "markdown",
      "metadata": {
        "id": "JMJM-JULAMTK"
      },
      "source": [
        "**c)** Preprocesar las características usando un StandardScaler:"
      ]
    },
    {
      "cell_type": "code",
      "metadata": {
        "id": "h8IUqOjOCqFW",
        "colab": {
          "base_uri": "https://localhost:8080/"
        },
        "outputId": "a623d4ef-750e-469b-81f3-8706a843caed"
      },
      "source": [
        "#Entrenamiento de StandardScaler:\n",
        "features=[\"preg\",\"plas\",\"pres\",\"skin\",\"insu\",\"mass\",\"pedi\",\"age\"]\n",
        "scaler = StandardScaler().fit(Entrenamiento[features])\n",
        "\n",
        "#De los DataFrame Entrenamiento, validacion y prueba, guardamos y eliminamos la columna 'class' para poder escalar cada conjunto posteriormente:\n",
        "\n",
        "#Guardar:\n",
        "classentrenamiento=Entrenamiento[\"class\"]\n",
        "classvalidacion=Validacion[\"class\"]\n",
        "classprueba=Prueba[\"class\"]\n",
        "\n",
        "#Eliminar:\n",
        "Entrenamiento=Entrenamiento.drop(['class'], axis=1)\n",
        "Validacion=Validacion.drop(['class'], axis=1)\n",
        "Prueba=Prueba.drop(['class'], axis=1)\n",
        "\n",
        "#Escalamiento:\n",
        "Entrenamiento = pd.DataFrame(scaler.transform(Entrenamiento))\n",
        "Validacion = pd.DataFrame(scaler.transform(Validacion))\n",
        "Prueba = pd.DataFrame(scaler.transform(Prueba))\n",
        "\n",
        "#Volvemos a insertar nombre de columnas, producto de que scaler entrega un array, perdiendose la información del nombre de las columnas:\n",
        "Entrenamiento.set_axis(features, axis=1, inplace=True)\n",
        "Validacion.set_axis(features, axis=1, inplace=True)\n",
        "Prueba.set_axis(features, axis=1, inplace=True)\n",
        "\n",
        "#Se reincorporan las columnas 'class' de cada DataFrame:\n",
        "Entrenamiento['class']=classentrenamiento\n",
        "Validacion['class']=classvalidacion\n",
        "Prueba['class']=classprueba\n",
        "\n",
        "print('Entrenamiento:')\n",
        "print('')\n",
        "print(Entrenamiento.head())\n",
        "print('')\n",
        "print('Validacion:')\n",
        "print('')\n",
        "print(Validacion.head())\n",
        "print('')\n",
        "print('Prueba:')\n",
        "print('')\n",
        "print(Prueba.head())"
      ],
      "execution_count": null,
      "outputs": [
        {
          "output_type": "stream",
          "text": [
            "Entrenamiento:\n",
            "\n",
            "       preg      plas      pres      skin  ...      mass      pedi       age  class\n",
            "0 -0.532391  0.208599 -0.227032  1.386294  ...  1.014897  1.953666 -0.774479      0\n",
            "1 -0.532391  0.737460 -0.524566  0.815281  ... -0.005015 -0.157970 -0.687671      1\n",
            "2 -0.242225 -1.278825 -0.524566  0.688389  ...  0.322814 -0.425424 -0.687671      0\n",
            "3 -0.532391  0.241652  0.268859  0.371159  ...  0.189254  0.367606 -0.687671      0\n",
            "4  1.208602  1.960453 -0.028675  1.005618  ... -0.187142  0.442244  2.350613      1\n",
            "\n",
            "[5 rows x 9 columns]\n",
            "\n",
            "Validacion:\n",
            "\n",
            "       preg      plas      pres      skin  ...      mass      pedi       age  class\n",
            "0 -0.822556 -1.344933  0.169681 -0.136409  ... -0.612106 -0.590249 -0.774479      0\n",
            "1  0.918437  1.233268 -0.127854 -1.278436  ... -0.150717 -0.279257  0.267218      1\n",
            "2  0.628271 -1.212717  0.467215 -1.278436  ... -0.053582 -0.282367  0.788067      0\n",
            "3  0.918437 -0.254155 -0.127854 -1.278436  ...  0.140687 -0.667998  0.788067      1\n",
            "4 -1.112721 -0.816071 -0.227032  1.005618  ...  0.626359  0.395595 -0.687671      0\n",
            "\n",
            "[5 rows x 9 columns]\n",
            "\n",
            "Prueba:\n",
            "\n",
            "       preg      plas      pres      skin  ...      mass      pedi       age  class\n",
            "0 -0.532391 -0.749963 -0.425388 -0.199855  ...  0.602075 -0.061563 -1.034904      0\n",
            "1 -1.112721  1.299376 -0.921279 -1.278436  ... -1.182771 -0.680437  2.784653      0\n",
            "2 -0.532391 -1.344933 -0.425388  0.117375  ... -0.478546 -0.568480 -0.687671      0\n",
            "3 -0.822556 -0.816071 -0.028675  0.053929  ... -0.539255  1.935006 -0.948096      0\n",
            "4  0.047940 -1.278825  0.863928 -0.072963  ... -0.284277 -0.484512  0.093602      0\n",
            "\n",
            "[5 rows x 9 columns]\n"
          ],
          "name": "stdout"
        }
      ]
    },
    {
      "cell_type": "markdown",
      "metadata": {
        "id": "x09Y3uL8ANks"
      },
      "source": [
        "**d)** Realizar una clasificación inicial usando un clasificador svm lineal. Se debe usar una grilla sobre \n",
        "el hiperparámetro C. En esta tarea, en el grid search se debe usar el conjunto de validación para \n",
        "evaluar la calidad de los hiperparámetros. Además, se debe indicar el tiempo de entrenamiento:"
      ]
    },
    {
      "cell_type": "code",
      "metadata": {
        "id": "ek_DfqKqCrNM",
        "colab": {
          "base_uri": "https://localhost:8080/"
        },
        "outputId": "feea3406-e2f8-4e59-ed19-02bfd826f906"
      },
      "source": [
        "#Unión del conjunto de Entrenamiento y Validación:\n",
        "Entre_Vali=pd.concat([Entrenamiento,Validacion])\n",
        "\n",
        "#Indices para separar ambos conjuntos:\n",
        "Entre_indice=np.full(len(Entrenamiento),-1)\n",
        "Vali_indice=np.full(len(Validacion),0)\n",
        "Indices=np.append(Entre_indice,Vali_indice)\n",
        "x=PredefinedSplit(Indices)\n",
        "\n",
        "##Grilla:\n",
        "C=[0.0001, 0.001, 0.1]\n",
        "model0=svm.SVC(kernel='linear', probability=False)\n",
        "clf0=GridSearchCV(model0,{'C':C},cv=x) \n",
        "\n",
        "#Tiempo Inicial:\n",
        "T1=time.time()\n",
        "\n",
        "#Selección de hiperparametros del clasificador:\n",
        "clf0.fit(Entre_Vali[features],Entre_Vali['class']) \n",
        "\n",
        "df=pd.DataFrame(clf0.cv_results_)\n",
        "print('Tabla Resumen:')\n",
        "print('')\n",
        "print(df[['param_C','mean_test_score']])\n",
        "print('')\n",
        "print('Mejor Parámetro:')\n",
        "print('')\n",
        "print(clf0.best_params_)\n",
        "\n",
        "#Reentrenamiento:\n",
        "best_param=clf0.best_params_['C']\n",
        "model0=svm.SVC(kernel='linear',C=best_param,probability=False)\n",
        "#Entrenamiento de parámetros del clasificador:\n",
        "clf0=model0.fit(Entrenamiento[features],Entrenamiento['class']) \n",
        "\n",
        "#Tiempo final:\n",
        "T2=time.time()\n",
        "T00=T2-T1\n",
        "print('')\n",
        "print('Tiempo de Entrenamiento: '+str(T00)+'[s]')\n",
        "\n",
        "\n"
      ],
      "execution_count": null,
      "outputs": [
        {
          "output_type": "stream",
          "text": [
            "Tabla Resumen:\n",
            "\n",
            "  param_C  mean_test_score\n",
            "0  0.0001         0.662338\n",
            "1   0.001         0.662338\n",
            "2     0.1         0.759740\n",
            "\n",
            "Mejor Parámetro:\n",
            "\n",
            "{'C': 0.1}\n",
            "\n",
            "Tiempo de Entrenamiento: 0.05362224578857422[s]\n"
          ],
          "name": "stdout"
        }
      ]
    },
    {
      "cell_type": "markdown",
      "metadata": {
        "id": "a1QqYfdPAOr8"
      },
      "source": [
        "**e)** Generar una matriz de confusión normalizada para el clasificador inicial, calculando además el accuracy (el promedio de la diagonal), usando el conjunto de validación. Se debe usar sns.heatmap( ) para mostrar la matriz de confusión:"
      ]
    },
    {
      "cell_type": "code",
      "metadata": {
        "id": "DS4C0q_3Cr9-",
        "colab": {
          "base_uri": "https://localhost:8080/",
          "height": 635
        },
        "outputId": "0b9c4846-608e-4c9e-fd55-aa934c0d77dd"
      },
      "source": [
        "#Clasificación del conjunto de validación con clasificador SVM lineal:\n",
        "y_pred=pd.DataFrame(clf0.predict(Validacion[features])) #Usado para calcular la matriz de confusion\n",
        "Validacion['clasificacion']=y_pred #Clasificación\n",
        "y_true=Validacion['class'] #Clasificación true, usado para calcular la matriz de confusion\n",
        "print('')\n",
        "print('Clasificación del Conjunto de Validación:')\n",
        "print('')\n",
        "print(Validacion[['class','clasificacion']])\n",
        "print('')\n",
        "\n",
        "#Datos de la matriz de confusión:\n",
        "Confusion=confusion_matrix(y_true, y_pred,normalize='true') \n",
        "Confusion=Confusion.astype(np.float64) #Se cambia el tipo de dato para obtener números decimales\n",
        "\n",
        "#Matriz de confusión:\n",
        "ax=sns.heatmap(Confusion, annot=True)\n",
        "ax.set_title('Matriz de confusion normalizada - SVM Lineal - All Feature')\n",
        "plt.xlabel('Predict Label')\n",
        "plt.ylabel('True Label')\n",
        "\n",
        "#Accuracy:\n",
        "Accuracy0= metrics.accuracy_score(y_true, y_pred)\n",
        "print('Accuracy: '+str(Accuracy0))\n",
        "print('')\n",
        "\n"
      ],
      "execution_count": null,
      "outputs": [
        {
          "output_type": "stream",
          "text": [
            "\n",
            "Clasificación del Conjunto de Validación:\n",
            "\n",
            "     class  clasificacion\n",
            "0        0              0\n",
            "1        1              1\n",
            "2        0              0\n",
            "3        1              0\n",
            "4        0              0\n",
            "..     ...            ...\n",
            "149      0              0\n",
            "150      1              0\n",
            "151      0              0\n",
            "152      1              0\n",
            "153      0              0\n",
            "\n",
            "[154 rows x 2 columns]\n",
            "\n",
            "Accuracy: 0.7597402597402597\n",
            "\n"
          ],
          "name": "stdout"
        },
        {
          "output_type": "display_data",
          "data": {
            "image/png": "[encoded data removed]",
            "text/plain": [
              "<Figure size 432x288 with 2 Axes>"
            ]
          },
          "metadata": {
            "tags": [],
            "needs_background": "light"
          }
        }
      ]
    },
    {
      "cell_type": "markdown",
      "metadata": {
        "id": "VHVxsHSiClWk"
      },
      "source": [
        "**Se observa una baja tasa de verdaderos positivos y una buena tasa de veraderos negativos.**"
      ]
    },
    {
      "cell_type": "markdown",
      "metadata": {
        "id": "gaxXZ8WqAPwL"
      },
      "source": [
        "**f)** Realizar selección de características usando SelectFromModel (un clasificador de tipo wrapper), usando el mejor clasificador encontrado en el punto anterior (el que contiene los mejores hiperparámetros). Indique cuáles son las características seleccionadas:"
      ]
    },
    {
      "cell_type": "code",
      "metadata": {
        "id": "kD7_0PimCsWz",
        "colab": {
          "base_uri": "https://localhost:8080/"
        },
        "outputId": "105a0834-97b7-427d-b947-4d34c35afb2d"
      },
      "source": [
        "#Seleccion de features:\n",
        "select=SelectFromModel(model0).fit(Entrenamiento[features],Entrenamiento['class'])\n",
        "\n",
        "#Nuevas features:\n",
        "indice=select.get_support(indices=True) #Se guardan los indices que corresponden a las features seleccionadas\n",
        "new_feature1=[features[i] for i in indice]\n",
        "print('Finalmente las features seleccionadas son: '+str(new_feature1))"
      ],
      "execution_count": null,
      "outputs": [
        {
          "output_type": "stream",
          "text": [
            "Finalmente las features seleccionadas son: ['plas', 'mass']\n"
          ],
          "name": "stdout"
        }
      ]
    },
    {
      "cell_type": "markdown",
      "metadata": {
        "id": "ObZnunxyAQq6"
      },
      "source": [
        "**g)** Entrenar un segundo clasificador con el conjunto de características reducido, indicando el tiempo de entrenamiento:"
      ]
    },
    {
      "cell_type": "code",
      "metadata": {
        "id": "7rZi7sUOCtB4",
        "colab": {
          "base_uri": "https://localhost:8080/"
        },
        "outputId": "1a995440-fead-484a-aa75-e0cb92fe8f7c"
      },
      "source": [
        "#Se agrega columna 'class'a la lista que contiene las features seleccionadas:\n",
        "new_feature1.append('class')\n",
        "\n",
        "#Unión del conjunto de Entrenamiento y Validación:\n",
        "Entre_Vali=pd.concat([Entrenamiento[new_feature1],Validacion[new_feature1]]) #new_feature1 contiene la lista con las features seleccionadas\n",
        "\n",
        "#Se elimina 'class' de new_feature1:\n",
        "new_feature1.remove('class')\n",
        "\n",
        "#Indices para separar ambos conjuntos:\n",
        "Entre_indice=np.full(len(Entrenamiento),-1) #Los largos son los mismos que el conjunto con features seleccionadas\n",
        "Vali_indice=np.full(len(Validacion),0)      #Los largos son los mismos que el conjunto con features seleccionadas\n",
        "Indices=np.append(Entre_indice,Vali_indice)\n",
        "x=PredefinedSplit(Indices)\n",
        "\n",
        "##Grilla:\n",
        "C=[0.0001, 0.001, 0.1]\n",
        "model1=svm.SVC(kernel='linear', probability=False)\n",
        "clf1=GridSearchCV(model1,{'C':C},cv=x) \n",
        "\n",
        "#Tiempo Inicial:\n",
        "T1=time.time()\n",
        "\n",
        "#Selección de hiperparametros del clasificador:\n",
        "clf1.fit(Entre_Vali[new_feature1],Entre_Vali['class'])\n",
        "\n",
        "df=pd.DataFrame(clf1.cv_results_)\n",
        "print('Tabla Resumen:')\n",
        "print('')\n",
        "print(df[['param_C','mean_test_score']])\n",
        "print('')\n",
        "print('Mejor Parámetro:')\n",
        "print('')\n",
        "print(clf1.best_params_) \n",
        "\n",
        "#Reentrenamiento:\n",
        "best_param=clf1.best_params_['C']\n",
        "model1=svm.SVC(kernel='linear',C=best_param,probability=False)\n",
        "\n",
        "#Entrenamiento de parámetros del clasificador:\n",
        "clf1=model1.fit(Entrenamiento[new_feature1],Entrenamiento['class']) \n",
        "\n",
        "#Tiempo final:\n",
        "T2=time.time()\n",
        "T11=T2-T1\n",
        "print('')\n",
        "print('Tiempo de Entrenamiento: '+str(T11)+'[s]')\n"
      ],
      "execution_count": null,
      "outputs": [
        {
          "output_type": "stream",
          "text": [
            "Tabla Resumen:\n",
            "\n",
            "  param_C  mean_test_score\n",
            "0  0.0001         0.662338\n",
            "1   0.001         0.662338\n",
            "2     0.1         0.759740\n",
            "\n",
            "Mejor Parámetro:\n",
            "\n",
            "{'C': 0.1}\n",
            "\n",
            "Tiempo de Entrenamiento: 0.052842140197753906[s]\n"
          ],
          "name": "stdout"
        }
      ]
    },
    {
      "cell_type": "markdown",
      "metadata": {
        "id": "YsJtJq0fDKme"
      },
      "source": [
        "**Disminuyen los tiempos de entrenamiento producto de la reducción de features.**"
      ]
    },
    {
      "cell_type": "markdown",
      "metadata": {
        "id": "wlDgeBa9ARrv"
      },
      "source": [
        "**h)** Generar una matriz de confusión normalizada para el clasificador con características reducidas, calculando además el accuracy, usando el conjunto de validación. Se debe usar sns.heatmap( ) para mostrar la matriz de confusión:"
      ]
    },
    {
      "cell_type": "code",
      "metadata": {
        "id": "REsmnmRLCtqK",
        "colab": {
          "base_uri": "https://localhost:8080/",
          "height": 601
        },
        "outputId": "cdd8600c-3e31-482d-a9ca-1b0e20f70823"
      },
      "source": [
        "#Clasificación del conjunto de validación con clasificador SVM lineal:\n",
        "y_pred=pd.DataFrame(clf1.predict(Validacion[new_feature1])) #Usado para calcular la matriz de confusion\n",
        "Validacion['clasificacion']=y_pred #Clasificación\n",
        "y_true=Validacion['class'] #Clasificación true, usado para calcular la matriz de confusion\n",
        "print('')\n",
        "print(Validacion[['class','clasificacion']])\n",
        "print('')\n",
        "\n",
        "#Datos de la matriz de confusion:\n",
        "Confusion=confusion_matrix(y_true, y_pred,normalize='true')\n",
        "Confusion=Confusion.astype(np.float64) #Se cambia el tipo de dato para obtener números decimales\n",
        "\n",
        "#Matriz de confusión:\n",
        "ax=sns.heatmap(Confusion, annot=True)\n",
        "ax.set_title('Matriz de confusion normalizada - SVM Lineal - SelectFromModel')\n",
        "plt.xlabel('Predict Label')\n",
        "plt.ylabel('True Label')\n",
        "\n",
        "#Accuracy:\n",
        "Accuracy1= metrics.accuracy_score(y_true, y_pred)\n",
        "print('Accuracy: '+str(Accuracy1))\n",
        "print('')"
      ],
      "execution_count": null,
      "outputs": [
        {
          "output_type": "stream",
          "text": [
            "\n",
            "     class  clasificacion\n",
            "0        0              0\n",
            "1        1              1\n",
            "2        0              0\n",
            "3        1              0\n",
            "4        0              0\n",
            "..     ...            ...\n",
            "149      0              0\n",
            "150      1              0\n",
            "151      0              0\n",
            "152      1              1\n",
            "153      0              0\n",
            "\n",
            "[154 rows x 2 columns]\n",
            "\n",
            "Accuracy: 0.7597402597402597\n",
            "\n"
          ],
          "name": "stdout"
        },
        {
          "output_type": "display_data",
          "data": {
            "image/png": "[encoded data removed]",
            "text/plain": [
              "<Figure size 432x288 with 2 Axes>"
            ]
          },
          "metadata": {
            "tags": [],
            "needs_background": "light"
          }
        }
      ]
    },
    {
      "cell_type": "markdown",
      "metadata": {
        "id": "_ASHD0CkD8xv"
      },
      "source": [
        "**En este caso accuracy no varia producto de la disminución de features.**"
      ]
    },
    {
      "cell_type": "markdown",
      "metadata": {
        "id": "44Y6zpgvASkK"
      },
      "source": [
        "**i)** Repetir los pasos (g) y (h) usando un clasificador svm lineal, eligiendo las 4 mejores características encontradas por SelectKBest (método de tipo filtro):\n"
      ]
    },
    {
      "cell_type": "code",
      "metadata": {
        "colab": {
          "base_uri": "https://localhost:8080/"
        },
        "id": "sYDxG8oHxxoN",
        "outputId": "9778522e-3f88-479b-cbff-e395b56beaaa"
      },
      "source": [
        "#Seleccion de mejores 4 features:\n",
        "select=SelectKBest(k=4).fit(Entrenamiento[features],Entrenamiento['class']) #Entrenamiento para la seleccion\n",
        "indice=select.get_support(indices=True) #Se guardan los indices que corresponden a las features seleccionadas\n",
        "new_feature2=[features[i] for i in indice]\n",
        "print('Finalmente las features seleccionadas son: '+str(new_feature2))\n"
      ],
      "execution_count": null,
      "outputs": [
        {
          "output_type": "stream",
          "text": [
            "Finalmente las features seleccionadas son: ['plas', 'mass', 'pedi', 'age']\n"
          ],
          "name": "stdout"
        }
      ]
    },
    {
      "cell_type": "code",
      "metadata": {
        "colab": {
          "base_uri": "https://localhost:8080/"
        },
        "id": "9HWKi6UGJKcJ",
        "outputId": "55b93b5f-bc29-440b-af69-b25c03e7009b"
      },
      "source": [
        "#Parte g):\n",
        "\n",
        "#Se agrega columna 'class'a la lista que contiene las features seleccionadas:\n",
        "new_feature2.append('class')\n",
        "\n",
        "#Unión del conjunto de Entrenamiento y Validación:\n",
        "Entre_Vali=pd.concat([Entrenamiento[new_feature2],Validacion[new_feature2]]) #new_feature2 contiene la lista con las features seleccionadas\n",
        "\n",
        "#Se elimina 'class' de new_feature2:\n",
        "new_feature2.remove('class')\n",
        "\n",
        "#Indices para separar ambos conjuntos:\n",
        "Entre_indice=np.full(len(Entrenamiento),-1) #Los largos son los mismos que el conjunto con features seleccionadas\n",
        "Vali_indice=np.full(len(Validacion),0)      #Los largos son los mismos que el conjunto con features seleccionadas\n",
        "Indices=np.append(Entre_indice,Vali_indice)\n",
        "x=PredefinedSplit(Indices)\n",
        "\n",
        "##Grilla:\n",
        "C=[0.0001, 0.001, 0.1]\n",
        "model2=svm.SVC(kernel='linear', probability=False)\n",
        "clf2=GridSearchCV(model2,{'C':C},cv=x) \n",
        "\n",
        "#Tiempo Inicial:\n",
        "T1=time.time()\n",
        "\n",
        "#Selección de hiperparametros del clasificador:\n",
        "clf2.fit(Entre_Vali[new_feature2],Entre_Vali['class'])\n",
        "\n",
        "df=pd.DataFrame(clf2.cv_results_)\n",
        "print('Tabla Resumen:')\n",
        "print('')\n",
        "print(df[['param_C','mean_test_score']])\n",
        "print('')\n",
        "print('Mejor Parámetro:')\n",
        "print('')\n",
        "print(clf2.best_params_) \n",
        "\n",
        "#Reentrenamiento:\n",
        "best_param=clf2.best_params_['C']\n",
        "model2=svm.SVC(kernel='linear',C=best_param,probability=False)\n",
        "\n",
        "#Entrenamiento de parámetros del clasificador:\n",
        "clf2=model2.fit(Entrenamiento[new_feature2],Entrenamiento['class']) \n",
        "\n",
        "#Tiempo final:\n",
        "T2=time.time()\n",
        "T22=T2-T1\n",
        "print('')\n",
        "print('Tiempo de Entrenamiento: '+str(T22)+'[s]')"
      ],
      "execution_count": null,
      "outputs": [
        {
          "output_type": "stream",
          "text": [
            "Tabla Resumen:\n",
            "\n",
            "  param_C  mean_test_score\n",
            "0  0.0001         0.662338\n",
            "1   0.001         0.662338\n",
            "2     0.1         0.785714\n",
            "\n",
            "Mejor Parámetro:\n",
            "\n",
            "{'C': 0.1}\n",
            "\n",
            "Tiempo de Entrenamiento: 0.13765573501586914[s]\n"
          ],
          "name": "stdout"
        }
      ]
    },
    {
      "cell_type": "markdown",
      "metadata": {
        "id": "aWZL1cQUER5U"
      },
      "source": [
        "**Reducción del tiempo de entrenamiento.**"
      ]
    },
    {
      "cell_type": "code",
      "metadata": {
        "colab": {
          "base_uri": "https://localhost:8080/",
          "height": 601
        },
        "id": "LvVxhgZbJMRM",
        "outputId": "a2395766-ca0e-48b5-9486-dd9eea6b967b"
      },
      "source": [
        "#Parte h):\n",
        "\n",
        "#Clasificación del conjunto de validación con clasificador SVM lineal:\n",
        "y_pred=pd.DataFrame(clf2.predict(Validacion[new_feature2])) #Usado para calcular la matriz de confusion\n",
        "Validacion['clasificacion']=y_pred #Clasificación\n",
        "y_true=Validacion['class'] #Clasificación true, usado para calcular la matriz de confusion\n",
        "print('')\n",
        "print(Validacion[['class','clasificacion']])\n",
        "print('')\n",
        "\n",
        "#Datos de la matriz de confusion:\n",
        "Confusion=confusion_matrix(y_true, y_pred,normalize='true')\n",
        "Confusion=Confusion.astype(np.float64) #Se cambia el tipo de dato para obtener números decimales\n",
        "\n",
        "#Matriz de confusión:\n",
        "ax=sns.heatmap(Confusion, annot=True)\n",
        "ax.set_title('Matriz de confusion normalizada - SVM Lineal - SelectKBest k=4')\n",
        "plt.xlabel('Predict Label')\n",
        "plt.ylabel('True Label')\n",
        "\n",
        "#Accuracy:\n",
        "Accuracy2= metrics.accuracy_score(y_true, y_pred)\n",
        "print('Accuracy: '+str(Accuracy2))\n",
        "print('')"
      ],
      "execution_count": null,
      "outputs": [
        {
          "output_type": "stream",
          "text": [
            "\n",
            "     class  clasificacion\n",
            "0        0              0\n",
            "1        1              1\n",
            "2        0              0\n",
            "3        1              0\n",
            "4        0              0\n",
            "..     ...            ...\n",
            "149      0              0\n",
            "150      1              0\n",
            "151      0              0\n",
            "152      1              1\n",
            "153      0              0\n",
            "\n",
            "[154 rows x 2 columns]\n",
            "\n",
            "Accuracy: 0.7857142857142857\n",
            "\n"
          ],
          "name": "stdout"
        },
        {
          "output_type": "display_data",
          "data": {
            "image/png": "[encoded data removed]",
            "text/plain": [
              "<Figure size 432x288 with 2 Axes>"
            ]
          },
          "metadata": {
            "tags": [],
            "needs_background": "light"
          }
        }
      ]
    },
    {
      "cell_type": "markdown",
      "metadata": {
        "id": "C2nPBPxCEcsF"
      },
      "source": [
        "**En este caso, además de disminuir los tiempos de entrenamiento, aumenta el accuracy del clasificador.**"
      ]
    },
    {
      "cell_type": "markdown",
      "metadata": {
        "id": "piB2oVmiATtv"
      },
      "source": [
        "**j)** Repetir los pasos (g) y (h) usando un clasificador svm lineal, eligiendo las 2 mejores características encontradas por SelectKBest:"
      ]
    },
    {
      "cell_type": "code",
      "metadata": {
        "id": "MIekDtuMCvFv",
        "colab": {
          "base_uri": "https://localhost:8080/"
        },
        "outputId": "dd28ab10-2447-4e47-c8ed-84e30126ea87"
      },
      "source": [
        "#Seleccion de mejores 2 features:\n",
        "select=SelectKBest(k=2).fit(Entrenamiento[features],Entrenamiento['class']) #Entrenamiento para la seleccion\n",
        "indice=select.get_support(indices=True) #Se guardan los indices que corresponden a las features seleccionadas\n",
        "new_feature3=[features[i] for i in indice]\n",
        "print('Finalmente las features seleccionadas son: '+str(new_feature3))"
      ],
      "execution_count": null,
      "outputs": [
        {
          "output_type": "stream",
          "text": [
            "Finalmente las features seleccionadas son: ['plas', 'mass']\n"
          ],
          "name": "stdout"
        }
      ]
    },
    {
      "cell_type": "markdown",
      "metadata": {
        "id": "DYNhkll2EhJR"
      },
      "source": [
        "**Se obtienen las mismas features que con \"SelectFromModel\".**"
      ]
    },
    {
      "cell_type": "code",
      "metadata": {
        "colab": {
          "base_uri": "https://localhost:8080/"
        },
        "id": "b2-K3nyyNTq7",
        "outputId": "7c586ce3-a225-411a-d470-2b8df6fd1ace"
      },
      "source": [
        "#Parte g):\n",
        "\n",
        "#Se agrega columna 'class'a la lista que contiene las features seleccionadas:\n",
        "new_feature3.append('class')\n",
        "\n",
        "#Unión del conjunto de Entrenamiento y Validación:\n",
        "Entre_Vali=pd.concat([Entrenamiento[new_feature3],Validacion[new_feature3]]) #new_feature3 contiene la lista con las features seleccionadas\n",
        "\n",
        "#Se elimina 'class' de new_feature3:\n",
        "new_feature3.remove('class')\n",
        "\n",
        "#Indices para separar ambos conjuntos:\n",
        "Entre_indice=np.full(len(Entrenamiento),-1) #Los largos son los mismos que el conjunto con features seleccionadas\n",
        "Vali_indice=np.full(len(Validacion),0)      #Los largos son los mismos que el conjunto con features seleccionadas\n",
        "Indices=np.append(Entre_indice,Vali_indice)\n",
        "x=PredefinedSplit(Indices)\n",
        "\n",
        "##Grilla:\n",
        "C=[0.0001, 0.001, 0.1]\n",
        "model3=svm.SVC(kernel='linear', probability=False)\n",
        "clf3=GridSearchCV(model3,{'C':C},cv=x) \n",
        "\n",
        "#Tiempo Inicial:\n",
        "T1=time.time()\n",
        "\n",
        "#Selección de hiperparametros del clasificador:\n",
        "clf3.fit(Entre_Vali[new_feature3],Entre_Vali['class'])\n",
        "\n",
        "df=pd.DataFrame(clf3.cv_results_)\n",
        "print('Tabla Resumen:')\n",
        "print('')\n",
        "print(df[['param_C','mean_test_score']])\n",
        "print('')\n",
        "print('Mejor Parámetro:')\n",
        "print('')\n",
        "print(clf3.best_params_) \n",
        "\n",
        "#Reentrenamiento:\n",
        "best_param=clf3.best_params_['C']\n",
        "model3=svm.SVC(kernel='linear',C=best_param,probability=False)\n",
        "\n",
        "#Entrenamiento de parámetros del clasificador:\n",
        "clf3=model3.fit(Entrenamiento[new_feature3],Entrenamiento['class']) \n",
        "\n",
        "#Tiempo final:\n",
        "T2=time.time()\n",
        "T3=T2-T1\n",
        "print('')\n",
        "print('Tiempo de Entrenamiento: '+str(T3)+'[s]')"
      ],
      "execution_count": null,
      "outputs": [
        {
          "output_type": "stream",
          "text": [
            "Tabla Resumen:\n",
            "\n",
            "  param_C  mean_test_score\n",
            "0  0.0001         0.662338\n",
            "1   0.001         0.662338\n",
            "2     0.1         0.759740\n",
            "\n",
            "Mejor Parámetro:\n",
            "\n",
            "{'C': 0.1}\n",
            "\n",
            "Tiempo de Entrenamiento: 0.038121938705444336[s]\n"
          ],
          "name": "stdout"
        }
      ]
    },
    {
      "cell_type": "markdown",
      "metadata": {
        "id": "sVaS-K_lE9us"
      },
      "source": [
        "**El tiempo de entrenamiento, no es el mismo que el de \"SelectFromModel\", esto se asocia a las variaciones de rendimiento de los computadores de google, ya que estos tiempos deberian ser los mismos al estar procesando exactamente las mismas variables.**"
      ]
    },
    {
      "cell_type": "code",
      "metadata": {
        "colab": {
          "base_uri": "https://localhost:8080/",
          "height": 601
        },
        "id": "IFQYVwBNNeWD",
        "outputId": "46c53e96-d602-49e9-c3f3-df0c14ca46fe"
      },
      "source": [
        "#Parte h):\n",
        "\n",
        "#Clasificación del conjunto de validación con clasificador SVM lineal:\n",
        "y_pred=pd.DataFrame(clf3.predict(Validacion[new_feature3])) #Usado para calcular la matriz de confusion\n",
        "Validacion['clasificacion']=y_pred #Clasificación\n",
        "y_true=Validacion['class'] #Clasificación true, usado para calcular la matriz de confusion\n",
        "print('')\n",
        "print(Validacion[['class','clasificacion']])\n",
        "print('')\n",
        "\n",
        "#Datos de la matriz de confusion:\n",
        "Confusion=confusion_matrix(y_true, y_pred,normalize='true')\n",
        "Confusion=Confusion.astype(np.float64) #Se cambia el tipo de dato para obtener números decimales\n",
        "\n",
        "#Matriz de confusión:\n",
        "ax=sns.heatmap(Confusion, annot=True)\n",
        "ax.set_title('Matriz de confusion normalizada - SVM Lineal - SelectKBest k=2')\n",
        "plt.xlabel('Predict Label')\n",
        "plt.ylabel('True Label')\n",
        "\n",
        "#Accuracy:\n",
        "Accuracy3= metrics.accuracy_score(y_true, y_pred)\n",
        "print('Accuracy: '+str(Accuracy3))\n",
        "print('')"
      ],
      "execution_count": null,
      "outputs": [
        {
          "output_type": "stream",
          "text": [
            "\n",
            "     class  clasificacion\n",
            "0        0              0\n",
            "1        1              1\n",
            "2        0              0\n",
            "3        1              0\n",
            "4        0              0\n",
            "..     ...            ...\n",
            "149      0              0\n",
            "150      1              0\n",
            "151      0              0\n",
            "152      1              1\n",
            "153      0              0\n",
            "\n",
            "[154 rows x 2 columns]\n",
            "\n",
            "Accuracy: 0.7597402597402597\n",
            "\n"
          ],
          "name": "stdout"
        },
        {
          "output_type": "display_data",
          "data": {
            "image/png": "[encoded data removed]",
            "text/plain": [
              "<Figure size 432x288 with 2 Axes>"
            ]
          },
          "metadata": {
            "tags": [],
            "needs_background": "light"
          }
        }
      ]
    },
    {
      "cell_type": "markdown",
      "metadata": {
        "id": "2n6QGXjqEqot"
      },
      "source": [
        "**Se obtiene el mismo accuracy que en \"SelectFromModel\" dado que son los mismas features.**"
      ]
    },
    {
      "cell_type": "markdown",
      "metadata": {
        "id": "UNU4EqRcAU4H"
      },
      "source": [
        "**k)** Repetir el paso (d) y (e) usando un clasificador RandomForest, con una profundidad de 3 y usando una grilla sobre el hiperparámetro n_estimators:"
      ]
    },
    {
      "cell_type": "code",
      "metadata": {
        "id": "Hx8RbN5NCvpY",
        "colab": {
          "base_uri": "https://localhost:8080/"
        },
        "outputId": "89e71f99-8f29-4f56-9645-aa8acf5f15b5"
      },
      "source": [
        "#Parte d):\n",
        "\n",
        "#Unión del conjunto de Entrenamiento y Validación:\n",
        "Entre_Vali=pd.concat([Entrenamiento,Validacion])\n",
        "\n",
        "#Indices para separar ambos conjuntos:\n",
        "Entre_indice=np.full(len(Entrenamiento),-1)\n",
        "Vali_indice=np.full(len(Validacion),0)\n",
        "Indices=np.append(Entre_indice,Vali_indice)\n",
        "x=PredefinedSplit(Indices)\n",
        "\n",
        "#Grilla:\n",
        "arboles={'n_estimators':[50,100,150,200,250]}\n",
        "model4=RandomForestClassifier(max_depth=3,random_state=0)\n",
        "clf4=GridSearchCV(model4,arboles,cv=x)\n",
        "\n",
        "#Tiempo Inicial:\n",
        "T1=time.time()\n",
        "\n",
        "#Selección de hiperparametros del clasificador:\n",
        "clf4.fit(Entre_Vali[features],Entre_Vali['class']) \n",
        "\n",
        "df=pd.DataFrame(clf4.cv_results_)\n",
        "print('Tabla Resumen:')\n",
        "print('')\n",
        "print(df[['param_n_estimators','mean_test_score']])\n",
        "print('')\n",
        "print('Mejor Parámetro:')\n",
        "print('')\n",
        "print(clf4.best_params_)\n",
        "\n",
        "#Reentrenamiento:\n",
        "best_param=clf4.best_params_['n_estimators']\n",
        "model4=RandomForestClassifier(max_depth=3,n_estimators=best_param,random_state=0)\n",
        "#Entrenamiento de parámetros del clasificador:\n",
        "clf4=model4.fit(Entrenamiento[features],Entrenamiento['class']) \n",
        "\n",
        "#Tiempo final:\n",
        "T2=time.time()\n",
        "T4=T2-T1\n",
        "print('')\n",
        "print('Tiempo de Entrenamiento: '+str(T4)+'[s]')\n",
        "\n"
      ],
      "execution_count": null,
      "outputs": [
        {
          "output_type": "stream",
          "text": [
            "Tabla Resumen:\n",
            "\n",
            "  param_n_estimators  mean_test_score\n",
            "0                 50         0.740260\n",
            "1                100         0.779221\n",
            "2                150         0.759740\n",
            "3                200         0.766234\n",
            "4                250         0.766234\n",
            "\n",
            "Mejor Parámetro:\n",
            "\n",
            "{'n_estimators': 100}\n",
            "\n",
            "Tiempo de Entrenamiento: 1.4797255992889404[s]\n"
          ],
          "name": "stdout"
        }
      ]
    },
    {
      "cell_type": "markdown",
      "metadata": {
        "id": "pbvoXu2NFWWf"
      },
      "source": [
        "**Número de arboles variará cada vez que se ejecute el código producto del proceso aleatorio interno que tiene el entrenamiento de Random Forest. También se puede observar que en este caso el tiempo de entrenamiento de Random Forest es mayor al de SVM, pero esto es solamente a que se esta usando valores de C muy particulares para resolver los procesos de optimización internos de SVM de forma rápida.**"
      ]
    },
    {
      "cell_type": "code",
      "metadata": {
        "colab": {
          "base_uri": "https://localhost:8080/",
          "height": 635
        },
        "id": "XelM_DYxQkAq",
        "outputId": "c38f3d63-ed2a-4aa3-e3ce-778d70c0d4f1"
      },
      "source": [
        "#Parte e):\n",
        "\n",
        "#Clasificación del conjunto de validación con clasificador Random Forest:\n",
        "y_pred=pd.DataFrame(clf4.predict(Validacion[features])) #Usado para calcular la matriz de confusion\n",
        "Validacion['clasificacion']=y_pred #Clasificación\n",
        "y_true=Validacion['class'] #Clasificación true, usado para calcular la matriz de confusion\n",
        "print('')\n",
        "print('Clasificación del Conjunto de Validación:')\n",
        "print('')\n",
        "print(Validacion[['class','clasificacion']])\n",
        "print('')\n",
        "\n",
        "#Datos de la matriz de confusión:\n",
        "Confusion=confusion_matrix(y_true, y_pred,normalize='true') \n",
        "Confusion=Confusion.astype(np.float64) #Se cambia el tipo de dato para obtener números decimales\n",
        "\n",
        "#Matriz de confusión:\n",
        "ax=sns.heatmap(Confusion, annot=True)\n",
        "ax.set_title('Matriz de confusion normalizada - Random Forest - All Feature')\n",
        "plt.xlabel('Predict Label')\n",
        "plt.ylabel('True Label')\n",
        "\n",
        "#Accuracy:\n",
        "Accuracy4= metrics.accuracy_score(y_true, y_pred)\n",
        "print('Accuracy: '+str(Accuracy4))\n",
        "print('')\n"
      ],
      "execution_count": null,
      "outputs": [
        {
          "output_type": "stream",
          "text": [
            "\n",
            "Clasificación del Conjunto de Validación:\n",
            "\n",
            "     class  clasificacion\n",
            "0        0              0\n",
            "1        1              1\n",
            "2        0              0\n",
            "3        1              0\n",
            "4        0              0\n",
            "..     ...            ...\n",
            "149      0              0\n",
            "150      1              0\n",
            "151      0              0\n",
            "152      1              0\n",
            "153      0              0\n",
            "\n",
            "[154 rows x 2 columns]\n",
            "\n",
            "Accuracy: 0.7792207792207793\n",
            "\n"
          ],
          "name": "stdout"
        },
        {
          "output_type": "display_data",
          "data": {
            "image/png": "[encoded data removed]",
            "text/plain": [
              "<Figure size 432x288 with 2 Axes>"
            ]
          },
          "metadata": {
            "tags": [],
            "needs_background": "light"
          }
        }
      ]
    },
    {
      "cell_type": "markdown",
      "metadata": {
        "id": "lpV3U2YRGGYf"
      },
      "source": [
        "**Se obtiene una mala tasa de verdaderos positivos y una buena tasa de verdaderos negativos.**"
      ]
    },
    {
      "cell_type": "markdown",
      "metadata": {
        "id": "UYJmJeVsAWH8"
      },
      "source": [
        "**l)** Repetir los pasos (g) y (h) usando un clasificador RandomForest, usando el selector de características SelectFromModel:"
      ]
    },
    {
      "cell_type": "code",
      "metadata": {
        "id": "MPRPu0yeCwKd",
        "colab": {
          "base_uri": "https://localhost:8080/"
        },
        "outputId": "0debcf2b-7766-4556-f533-710f442fc98d"
      },
      "source": [
        "#Seleccion de features:\n",
        "select=SelectFromModel(model4).fit(Entrenamiento[features],Entrenamiento['class'])\n",
        "\n",
        "#Nuevas features:\n",
        "indice=select.get_support(indices=True) #Se guardan los indices que corresponden a las features seleccionadas\n",
        "new_feature5=[features[i] for i in indice]\n",
        "print('Finalmente las features seleccionadas son: '+str(new_feature5))"
      ],
      "execution_count": null,
      "outputs": [
        {
          "output_type": "stream",
          "text": [
            "Finalmente las features seleccionadas son: ['plas', 'mass', 'age']\n"
          ],
          "name": "stdout"
        }
      ]
    },
    {
      "cell_type": "code",
      "metadata": {
        "colab": {
          "base_uri": "https://localhost:8080/"
        },
        "id": "tpJhCzMIYBa-",
        "outputId": "cb187f59-64d3-46d8-d7ff-b1db92dc5aac"
      },
      "source": [
        "#Parte g):\n",
        "\n",
        "#Se agrega columna 'class'a la lista que contiene las features seleccionadas:\n",
        "new_feature5.append('class')\n",
        "\n",
        "#Unión del conjunto de Entrenamiento y Validación:\n",
        "Entre_Vali=pd.concat([Entrenamiento[new_feature5],Validacion[new_feature5]]) #new_feature5 contiene la lista con las features seleccionadas\n",
        "\n",
        "#Se elimina 'class' de new_feature5:\n",
        "new_feature5.remove('class')\n",
        "\n",
        "#Indices para separar ambos conjuntos:\n",
        "Entre_indice=np.full(len(Entrenamiento),-1) #Los largos son los mismos que el conjunto con features seleccionadas\n",
        "Vali_indice=np.full(len(Validacion),0)      #Los largos son los mismos que el conjunto con features seleccionadas\n",
        "Indices=np.append(Entre_indice,Vali_indice)\n",
        "x=PredefinedSplit(Indices)\n",
        "\n",
        "##Grilla:\n",
        "arboles={'n_estimators':[50,100,150,200,250]}\n",
        "model5=RandomForestClassifier(max_depth=3,random_state=0)\n",
        "clf5=GridSearchCV(model5,arboles,cv=x)\n",
        "\n",
        "#Tiempo Inicial:\n",
        "T1=time.time()\n",
        "\n",
        "#Selección de hiperparametros del clasificador:\n",
        "clf5.fit(Entre_Vali[new_feature5],Entre_Vali['class']) \n",
        "\n",
        "df=pd.DataFrame(clf5.cv_results_)\n",
        "print('Tabla Resumen:')\n",
        "print('')\n",
        "print(df[['param_n_estimators','mean_test_score']])\n",
        "print('')\n",
        "print('Mejor Parámetro:')\n",
        "print('')\n",
        "print(clf5.best_params_)\n",
        "\n",
        "#Reentrenamiento:\n",
        "best_param=clf5.best_params_['n_estimators']\n",
        "model5=RandomForestClassifier(max_depth=3,n_estimators=best_param,random_state=0)\n",
        "#Entrenamiento de parámetros del clasificador:\n",
        "clf5=model5.fit(Entrenamiento[new_feature5],Entrenamiento['class']) \n",
        "\n",
        "#Tiempo final:\n",
        "T2=time.time()\n",
        "T5=T2-T1\n",
        "print('')\n",
        "print('Tiempo de Entrenamiento: '+str(T5)+'[s]')"
      ],
      "execution_count": null,
      "outputs": [
        {
          "output_type": "stream",
          "text": [
            "Tabla Resumen:\n",
            "\n",
            "  param_n_estimators  mean_test_score\n",
            "0                 50         0.733766\n",
            "1                100         0.746753\n",
            "2                150         0.753247\n",
            "3                200         0.740260\n",
            "4                250         0.740260\n",
            "\n",
            "Mejor Parámetro:\n",
            "\n",
            "{'n_estimators': 150}\n",
            "\n",
            "Tiempo de Entrenamiento: 1.5564863681793213[s]\n"
          ],
          "name": "stdout"
        }
      ]
    },
    {
      "cell_type": "markdown",
      "metadata": {
        "id": "VRp30F5SGbTk"
      },
      "source": [
        "**Se disminuye el tiempo de entrenamiento producto de la reducción de features.**"
      ]
    },
    {
      "cell_type": "code",
      "metadata": {
        "colab": {
          "base_uri": "https://localhost:8080/",
          "height": 601
        },
        "id": "Fe1R2T57YDG-",
        "outputId": "c38e8e69-c3e8-4b03-9230-8ae2e01b56f3"
      },
      "source": [
        "#Parte h):\n",
        "\n",
        "#Clasificación del conjunto de validación con clasificador Random Forest:\n",
        "y_pred=pd.DataFrame(clf5.predict(Validacion[new_feature5])) #Usado para calcular la matriz de confusion\n",
        "Validacion['clasificacion']=y_pred #Clasificación\n",
        "y_true=Validacion['class'] #Clasificación true, usado para calcular la matriz de confusion\n",
        "print('')\n",
        "print(Validacion[['class','clasificacion']])\n",
        "print('')\n",
        "\n",
        "#Datos de la matriz de confusion:\n",
        "Confusion=confusion_matrix(y_true, y_pred,normalize='true')\n",
        "Confusion=Confusion.astype(np.float64) #Se cambia el tipo de dato para obtener números decimales\n",
        "\n",
        "#Matriz de confusión:\n",
        "ax=sns.heatmap(Confusion, annot=True)\n",
        "ax.set_title('Matriz de confusion normalizada - Random Forest - SelectFromModel')\n",
        "plt.xlabel('Predict Label')\n",
        "plt.ylabel('True Label')\n",
        "\n",
        "#Accuracy:\n",
        "Accuracy5= metrics.accuracy_score(y_true, y_pred)\n",
        "print('Accuracy: '+str(Accuracy5))\n",
        "print('')"
      ],
      "execution_count": null,
      "outputs": [
        {
          "output_type": "stream",
          "text": [
            "\n",
            "     class  clasificacion\n",
            "0        0              0\n",
            "1        1              1\n",
            "2        0              0\n",
            "3        1              0\n",
            "4        0              0\n",
            "..     ...            ...\n",
            "149      0              0\n",
            "150      1              0\n",
            "151      0              0\n",
            "152      1              1\n",
            "153      0              0\n",
            "\n",
            "[154 rows x 2 columns]\n",
            "\n",
            "Accuracy: 0.7532467532467533\n",
            "\n"
          ],
          "name": "stdout"
        },
        {
          "output_type": "display_data",
          "data": {
            "image/png": "[encoded data removed]",
            "text/plain": [
              "<Figure size 432x288 with 2 Axes>"
            ]
          },
          "metadata": {
            "tags": [],
            "needs_background": "light"
          }
        }
      ]
    },
    {
      "cell_type": "markdown",
      "metadata": {
        "id": "JaHycLr2GpJr"
      },
      "source": [
        "**Producto de la selección de features, disminuye el accuracy del clasificador.**"
      ]
    },
    {
      "cell_type": "markdown",
      "metadata": {
        "id": "Kgvns7zaAXBI"
      },
      "source": [
        "**m)** Repetir los pasos (g) y (h) usando un clasificador RandomForest, eligiendo las 4 mejores características encontradas por SelectKBest:"
      ]
    },
    {
      "cell_type": "code",
      "metadata": {
        "id": "fj8ciTtZCxPX",
        "colab": {
          "base_uri": "https://localhost:8080/"
        },
        "outputId": "61905e25-12f4-418a-aacd-1ee71b66b24c"
      },
      "source": [
        "#Seleccion de mejores 4 features:\n",
        "select=SelectKBest(k=4).fit(Entrenamiento[features],Entrenamiento['class']) #Entrenamiento para la seleccion\n",
        "indice=select.get_support(indices=True) #Se guardan los indices que corresponden a las features seleccionadas\n",
        "new_feature6=[features[i] for i in indice]\n",
        "print('Finalmente las features seleccionadas son: '+str(new_feature6))"
      ],
      "execution_count": null,
      "outputs": [
        {
          "output_type": "stream",
          "text": [
            "Finalmente las features seleccionadas son: ['plas', 'mass', 'pedi', 'age']\n"
          ],
          "name": "stdout"
        }
      ]
    },
    {
      "cell_type": "code",
      "metadata": {
        "colab": {
          "base_uri": "https://localhost:8080/"
        },
        "id": "vLAyZfFoYGB1",
        "outputId": "ddd53b77-2e1a-40b8-8d8d-d9a15acc76b9"
      },
      "source": [
        "#Parte g):\n",
        "\n",
        "#Se agrega columna 'class'a la lista que contiene las features seleccionadas:\n",
        "new_feature6.append('class')\n",
        "\n",
        "#Unión del conjunto de Entrenamiento y Validación:\n",
        "Entre_Vali=pd.concat([Entrenamiento[new_feature6],Validacion[new_feature6]]) #new_feature6 contiene la lista con las features seleccionadas\n",
        "\n",
        "#Se elimina 'class' de new_feature6:\n",
        "new_feature6.remove('class')\n",
        "\n",
        "#Indices para separar ambos conjuntos:\n",
        "Entre_indice=np.full(len(Entrenamiento),-1) #Los largos son los mismos que el conjunto con features seleccionadas\n",
        "Vali_indice=np.full(len(Validacion),0)      #Los largos son los mismos que el conjunto con features seleccionadas\n",
        "Indices=np.append(Entre_indice,Vali_indice)\n",
        "x=PredefinedSplit(Indices)\n",
        "\n",
        "##Grilla:\n",
        "arboles={'n_estimators':[50,100,150,200,250]}\n",
        "model6=RandomForestClassifier(max_depth=3,random_state=0)\n",
        "clf6=GridSearchCV(model6,arboles,cv=x)\n",
        "\n",
        "#Tiempo Inicial:\n",
        "T1=time.time()\n",
        "\n",
        "#Selección de hiperparametros del clasificador:\n",
        "clf6.fit(Entre_Vali[new_feature6],Entre_Vali['class']) \n",
        "\n",
        "df=pd.DataFrame(clf6.cv_results_)\n",
        "print('Tabla Resumen:')\n",
        "print('')\n",
        "print(df[['param_n_estimators','mean_test_score']])\n",
        "print('')\n",
        "print('Mejor Parámetro:')\n",
        "print('')\n",
        "print(clf6.best_params_)\n",
        "\n",
        "#Reentrenamiento:\n",
        "best_param=clf6.best_params_['n_estimators']\n",
        "model6=RandomForestClassifier(max_depth=3,n_estimators=best_param,random_state=0)\n",
        "#Entrenamiento de parámetros del clasificador:\n",
        "clf6=model6.fit(Entrenamiento[new_feature6],Entrenamiento['class']) \n",
        "\n",
        "#Tiempo final:\n",
        "T2=time.time()\n",
        "T6=T2-T1\n",
        "print('')\n",
        "print('Tiempo de Entrenamiento: '+str(T6)+'[s]')"
      ],
      "execution_count": null,
      "outputs": [
        {
          "output_type": "stream",
          "text": [
            "Tabla Resumen:\n",
            "\n",
            "  param_n_estimators  mean_test_score\n",
            "0                 50         0.740260\n",
            "1                100         0.720779\n",
            "2                150         0.720779\n",
            "3                200         0.733766\n",
            "4                250         0.740260\n",
            "\n",
            "Mejor Parámetro:\n",
            "\n",
            "{'n_estimators': 50}\n",
            "\n",
            "Tiempo de Entrenamiento: 1.4180033206939697[s]\n"
          ],
          "name": "stdout"
        }
      ]
    },
    {
      "cell_type": "markdown",
      "metadata": {
        "id": "iYbC27MQGwRc"
      },
      "source": [
        "**Tiempos de entrenamiento se reducen.**"
      ]
    },
    {
      "cell_type": "code",
      "metadata": {
        "colab": {
          "base_uri": "https://localhost:8080/",
          "height": 601
        },
        "id": "3TdMvLHEYHua",
        "outputId": "02b05981-ddbd-4857-ee02-d9bb07584a32"
      },
      "source": [
        "#Parte h):\n",
        "\n",
        "#Clasificación del conjunto de validación con clasificador Random Forest:\n",
        "y_pred=pd.DataFrame(clf6.predict(Validacion[new_feature6])) #Usado para calcular la matriz de confusion\n",
        "Validacion['clasificacion']=y_pred #Clasificación\n",
        "y_true=Validacion['class'] #Clasificación true, usado para calcular la matriz de confusion\n",
        "print('')\n",
        "print(Validacion[['class','clasificacion']])\n",
        "print('')\n",
        "\n",
        "#Datos de la matriz de confusion:\n",
        "Confusion=confusion_matrix(y_true, y_pred,normalize='true')\n",
        "Confusion=Confusion.astype(np.float64) #Se cambia el tipo de dato para obtener números decimales\n",
        "\n",
        "#Matriz de confusión:\n",
        "ax=sns.heatmap(Confusion, annot=True)\n",
        "ax.set_title('Matriz de confusion normalizada - Random Forest - SelectKBest k=4')\n",
        "plt.xlabel('Predict Label')\n",
        "plt.ylabel('True Label')\n",
        "\n",
        "#Accuracy:\n",
        "Accuracy6= metrics.accuracy_score(y_true, y_pred)\n",
        "print('Accuracy: '+str(Accuracy6))\n",
        "print('')"
      ],
      "execution_count": null,
      "outputs": [
        {
          "output_type": "stream",
          "text": [
            "\n",
            "     class  clasificacion\n",
            "0        0              0\n",
            "1        1              1\n",
            "2        0              0\n",
            "3        1              0\n",
            "4        0              0\n",
            "..     ...            ...\n",
            "149      0              0\n",
            "150      1              0\n",
            "151      0              0\n",
            "152      1              0\n",
            "153      0              0\n",
            "\n",
            "[154 rows x 2 columns]\n",
            "\n",
            "Accuracy: 0.7402597402597403\n",
            "\n"
          ],
          "name": "stdout"
        },
        {
          "output_type": "display_data",
          "data": {
            "image/png": "[encoded data removed]",
            "text/plain": [
              "<Figure size 432x288 with 2 Axes>"
            ]
          },
          "metadata": {
            "tags": [],
            "needs_background": "light"
          }
        }
      ]
    },
    {
      "cell_type": "markdown",
      "metadata": {
        "id": "DItpbcJMG2QT"
      },
      "source": [
        "**El accuracy disminuye aun más respecto de \"SelectFromModel\".**"
      ]
    },
    {
      "cell_type": "markdown",
      "metadata": {
        "id": "zxNnAKxJEAmZ"
      },
      "source": [
        "**n)** Repetir los pasos (g) y (h) usando un clasificador RandomForest, eligiendo las 2 mejores características encontradas por SelectKBest:"
      ]
    },
    {
      "cell_type": "code",
      "metadata": {
        "id": "hDYlltU_ECpE",
        "colab": {
          "base_uri": "https://localhost:8080/"
        },
        "outputId": "01737255-a6ba-46d9-f30f-f2cfb5fef2a4"
      },
      "source": [
        "#Seleccion de mejores 2 features:\n",
        "select=SelectKBest(k=2).fit(Entrenamiento[features],Entrenamiento['class']) #Entrenamiento para la seleccion\n",
        "indice=select.get_support(indices=True) #Se guardan los indices que corresponden a las features seleccionadas\n",
        "new_feature7=[features[i] for i in indice]\n",
        "print('Finalmente las features seleccionadas son: '+str(new_feature7))"
      ],
      "execution_count": null,
      "outputs": [
        {
          "output_type": "stream",
          "text": [
            "Finalmente las features seleccionadas son: ['plas', 'mass']\n"
          ],
          "name": "stdout"
        }
      ]
    },
    {
      "cell_type": "markdown",
      "metadata": {
        "id": "DWQ4vX9JG-bz"
      },
      "source": [
        "**Se obtienen los mismos features que para el caso SVM, esto es porque este proceso de selección de features, es independiente del modelo.**"
      ]
    },
    {
      "cell_type": "code",
      "metadata": {
        "colab": {
          "base_uri": "https://localhost:8080/"
        },
        "id": "_Bfx1TmCYLz2",
        "outputId": "cc7a8182-6dbb-44c7-da73-d1d0d271b281"
      },
      "source": [
        "#Parte g):\n",
        "\n",
        "#Se agrega columna 'class'a la lista que contiene las features seleccionadas:\n",
        "new_feature7.append('class')\n",
        "\n",
        "#Unión del conjunto de Entrenamiento y Validación:\n",
        "Entre_Vali=pd.concat([Entrenamiento[new_feature7],Validacion[new_feature7]]) #new_feature7 contiene la lista con las features seleccionadas\n",
        "\n",
        "#Se elimina 'class' de new_feature7:\n",
        "new_feature7.remove('class')\n",
        "\n",
        "#Indices para separar ambos conjuntos:\n",
        "Entre_indice=np.full(len(Entrenamiento),-1) #Los largos son los mismos que el conjunto con features seleccionadas\n",
        "Vali_indice=np.full(len(Validacion),0)      #Los largos son los mismos que el conjunto con features seleccionadas\n",
        "Indices=np.append(Entre_indice,Vali_indice)\n",
        "x=PredefinedSplit(Indices)\n",
        "\n",
        "##Grilla:\n",
        "arboles={'n_estimators':[50,100,150,200,250]}\n",
        "model7=RandomForestClassifier(max_depth=3,random_state=0)\n",
        "clf7=GridSearchCV(model7,arboles,cv=x)\n",
        "\n",
        "#Tiempo Inicial:\n",
        "T1=time.time()\n",
        "\n",
        "#Selección de hiperparametros del clasificador:\n",
        "clf7.fit(Entre_Vali[new_feature7],Entre_Vali['class']) \n",
        "\n",
        "df=pd.DataFrame(clf7.cv_results_)\n",
        "print('Tabla Resumen:')\n",
        "print('')\n",
        "print(df[['param_n_estimators','mean_test_score']])\n",
        "print('')\n",
        "print('Mejor Parámetro:')\n",
        "print('')\n",
        "print(clf7.best_params_)\n",
        "\n",
        "#Reentrenamiento:\n",
        "best_param=clf7.best_params_['n_estimators']\n",
        "model7=RandomForestClassifier(max_depth=3,n_estimators=best_param,random_state=0)\n",
        "#Entrenamiento de parámetros del clasificador:\n",
        "clf7=model7.fit(Entrenamiento[new_feature7],Entrenamiento['class']) \n",
        "\n",
        "#Tiempo final:\n",
        "T2=time.time()\n",
        "T7=T2-T1\n",
        "print('')\n",
        "print('Tiempo de Entrenamiento: '+str(T7)+'[s]')"
      ],
      "execution_count": null,
      "outputs": [
        {
          "output_type": "stream",
          "text": [
            "Tabla Resumen:\n",
            "\n",
            "  param_n_estimators  mean_test_score\n",
            "0                 50         0.740260\n",
            "1                100         0.714286\n",
            "2                150         0.714286\n",
            "3                200         0.714286\n",
            "4                250         0.714286\n",
            "\n",
            "Mejor Parámetro:\n",
            "\n",
            "{'n_estimators': 50}\n",
            "\n",
            "Tiempo de Entrenamiento: 1.301703691482544[s]\n"
          ],
          "name": "stdout"
        }
      ]
    },
    {
      "cell_type": "code",
      "metadata": {
        "colab": {
          "base_uri": "https://localhost:8080/",
          "height": 601
        },
        "id": "6YsQRoFzYNJP",
        "outputId": "6f52fa6b-b18c-4461-ff4b-30714aceab03"
      },
      "source": [
        "#Parte h):\n",
        "\n",
        "#Clasificación del conjunto de validación con clasificador Random Forest:\n",
        "y_pred=pd.DataFrame(clf7.predict(Validacion[new_feature7])) #Usado para calcular la matriz de confusion\n",
        "Validacion['clasificacion']=y_pred #Clasificación\n",
        "y_true=Validacion['class'] #Clasificación true, usado para calcular la matriz de confusion\n",
        "print('')\n",
        "print(Validacion[['class','clasificacion']])\n",
        "print('')\n",
        "\n",
        "#Datos de la matriz de confusion:\n",
        "Confusion=confusion_matrix(y_true, y_pred,normalize='true')\n",
        "Confusion=Confusion.astype(np.float64) #Se cambia el tipo de dato para obtener números decimales\n",
        "\n",
        "#Matriz de confusión:\n",
        "ax=sns.heatmap(Confusion, annot=True)\n",
        "ax.set_title('Matriz de confusion normalizada - Random Forest - SelectKBest k=2')\n",
        "plt.xlabel('Predict Label')\n",
        "plt.ylabel('True Label')\n",
        "\n",
        "#Accuracy:\n",
        "Accuracy7= metrics.accuracy_score(y_true, y_pred)\n",
        "print('Accuracy: '+str(Accuracy7))\n",
        "print('')"
      ],
      "execution_count": null,
      "outputs": [
        {
          "output_type": "stream",
          "text": [
            "\n",
            "     class  clasificacion\n",
            "0        0              0\n",
            "1        1              1\n",
            "2        0              0\n",
            "3        1              0\n",
            "4        0              0\n",
            "..     ...            ...\n",
            "149      0              0\n",
            "150      1              0\n",
            "151      0              0\n",
            "152      1              1\n",
            "153      0              0\n",
            "\n",
            "[154 rows x 2 columns]\n",
            "\n",
            "Accuracy: 0.7402597402597403\n",
            "\n"
          ],
          "name": "stdout"
        },
        {
          "output_type": "display_data",
          "data": {
            "image/png": "[encoded data removed]",
            "text/plain": [
              "<Figure size 432x288 with 2 Axes>"
            ]
          },
          "metadata": {
            "tags": [],
            "needs_background": "light"
          }
        }
      ]
    },
    {
      "cell_type": "markdown",
      "metadata": {
        "id": "YNcmH33eAX9u"
      },
      "source": [
        "**o)** Evalúe el mejor svm y el mejor random forest encontrados con características reducidas sobre el conjunto de prueba, indicando sus matrices de confusión normalizadas y sus accuracies:"
      ]
    },
    {
      "cell_type": "markdown",
      "metadata": {
        "id": "CgTqyTB_HfUs"
      },
      "source": [
        "**Comparando matrices de confusion y accuracies, el mejor SVM es el que clasifica según SelectKBest (método de tipo filtro) con k=4 y el mejor Random Forest es el que clasifica según SelectFromModel (un clasificador de tipo wrapper).**"
      ]
    },
    {
      "cell_type": "code",
      "metadata": {
        "id": "j0Yx9tfVCxrn",
        "colab": {
          "base_uri": "https://localhost:8080/",
          "height": 675
        },
        "outputId": "d7590f72-76c9-41cf-ed86-ba518d0a11ea"
      },
      "source": [
        "#SVM:\n",
        "\n",
        "#SelectKBest 4:\n",
        "y_predSVM=pd.DataFrame(clf2.predict(Prueba[new_feature2])) #Usado para calcular la matriz de confusion\n",
        "y_trueSVM=Prueba['class']\n",
        "\n",
        "#Matriz de confusion y accuracy:\n",
        "\n",
        "#Datos de la matriz de confusion:\n",
        "Confusion=confusion_matrix(y_trueSVM, y_predSVM,normalize='true')\n",
        "Confusion=Confusion.astype(np.float64) #Se cambia el tipo de dato para obtener números decimales\n",
        "\n",
        "#Matriz de confusión:\n",
        "ax=sns.heatmap(Confusion, annot=True)\n",
        "ax.set_title('Matriz de confusion normalizada - SVM - SelectKBest k=4')\n",
        "plt.xlabel('Predict Label')\n",
        "plt.ylabel('True Label')\n",
        "plt.show()\n",
        "\n",
        "#Accuracy:\n",
        "AccuracySVM= metrics.accuracy_score(y_trueSVM, y_predSVM)\n",
        "print('')\n",
        "print('Accuracy: '+str(AccuracySVM))\n",
        "print('')\n",
        "\n",
        "#Random Forest:\n",
        "\n",
        "#SelectFromModel:\n",
        "y_predRF=pd.DataFrame(clf5.predict(Prueba[new_feature5])) #Usado para calcular la matriz de confusion\n",
        "y_trueRF=Prueba['class']\n",
        "\n",
        "#Matriz de confusion y accuracy:\n",
        "\n",
        "#Datos de la matriz de confusion:\n",
        "Confusion=confusion_matrix(y_trueRF, y_predRF,normalize='true')\n",
        "Confusion=Confusion.astype(np.float64) #Se cambia el tipo de dato para obtener números decimales\n",
        "\n",
        "#Matriz de confusión:\n",
        "ax=sns.heatmap(Confusion, annot=True)\n",
        "ax.set_title('Matriz de confusion normalizada - Random Forest - SelectFromModel')\n",
        "plt.xlabel('Predict Label')\n",
        "plt.ylabel('True Label')\n",
        "plt.show()\n",
        "\n",
        "#Accuracy:\n",
        "AccuracyRF= metrics.accuracy_score(y_trueRF, y_predRF)\n",
        "print('')\n",
        "print('Accuracy: '+str(AccuracyRF))\n",
        "print('')"
      ],
      "execution_count": null,
      "outputs": [
        {
          "output_type": "display_data",
          "data": {
            "image/png": "[encoded data removed]",
            "text/plain": [
              "<Figure size 432x288 with 2 Axes>"
            ]
          },
          "metadata": {
            "tags": [],
            "needs_background": "light"
          }
        },
        {
          "output_type": "stream",
          "text": [
            "\n",
            "Accuracy: 0.7597402597402597\n",
            "\n"
          ],
          "name": "stdout"
        },
        {
          "output_type": "display_data",
          "data": {
            "image/png": "[encoded data removed]",
            "text/plain": [
              "<Figure size 432x288 with 2 Axes>"
            ]
          },
          "metadata": {
            "tags": [],
            "needs_background": "light"
          }
        },
        {
          "output_type": "stream",
          "text": [
            "\n",
            "Accuracy: 0.7597402597402597\n",
            "\n"
          ],
          "name": "stdout"
        }
      ]
    },
    {
      "cell_type": "code",
      "metadata": {
        "colab": {
          "base_uri": "https://localhost:8080/"
        },
        "id": "bRQ1a0eCVHpx",
        "outputId": "b96a5d5a-2a4c-460b-8221-9c6ff68157f5"
      },
      "source": [
        "#Se comprueba el hecho de que los accuracies de ambos clasificadores son exactamente iguales, lo cual es muy extraño:\n",
        "AccuracyRF==AccuracySVM"
      ],
      "execution_count": null,
      "outputs": [
        {
          "output_type": "execute_result",
          "data": {
            "text/plain": [
              "True"
            ]
          },
          "metadata": {
            "tags": []
          },
          "execution_count": 29
        }
      ]
    },
    {
      "cell_type": "markdown",
      "metadata": {
        "id": "XiMiH9KH-5a9"
      },
      "source": [
        "**Parte 2: Análisis**"
      ]
    },
    {
      "cell_type": "markdown",
      "metadata": {
        "id": "gpQyTepw_Xj8"
      },
      "source": [
        "**a)** Indique qué tipo de clasificador (svm lineal o random forest) entrega en general mejores resultados:\n",
        "\n"
      ]
    },
    {
      "cell_type": "markdown",
      "metadata": {
        "id": "6gcJ7kecXAQV"
      },
      "source": [
        " **Para comparar el desempeño del mejor SVM lineal con el mejor Random Forest, nos basamos en los resultados obtenidos en el item o) de la parte 1. Dado que en este caso particular los accuracies son exactamente iguales, discriminaremos según las matrices de confusión.**\n",
        "\n",
        "**En el contexto del problema a resolver, es decir, detección de diabetes, lo más importante es detectar a los verdaderos positivos y no tanto los verdaderos negativos, ya que bastaria volver a hacerse otro examen si es que se detecta diabetes de forma incorrecta (falso positivo) y se debe evitar un caso en el cual a una persona enferma se le diga que esta sana. En ese sentido, el que tiene mayor tasa de detección de verdaderos positivos será el mejor, en este caso es el clasificador Random Forest.**\n",
        "\n",
        "**A modo de observación final, ambas tasas de detección de verdaderos positivos son muy bajos, en torno al 0.5, los cual no es deseable considerando la necesisidad de tener una alta tasa dado el contexto de salud que involucra. Por otro lado, las tasas de verdaderos negativos es alta en torno al 0.9, requerimiento que puede ser flexible en este caso. Teniendo en cuenta que no se satisfacen estos requerimientos básicos, se recomienda evaluar otros clasificadores estadisticos que sean capaces de tener un mayor rendimiento.**"
      ]
    },
    {
      "cell_type": "markdown",
      "metadata": {
        "id": "8oxACymL_Z-b"
      },
      "source": [
        "**b)** Indique el efecto de reducir características sobre el accuracy obtenido. Considere el número de características seleccionadas v/s el accuracy obtenido:"
      ]
    },
    {
      "cell_type": "markdown",
      "metadata": {
        "id": "z6d5fbnapKZX"
      },
      "source": [
        "**Antes de comenzar el análisis, se dejará un cuadro resumen para cada clasificador, considerando accuracies, número de features, y tiempos de entrenamiento:**"
      ]
    },
    {
      "cell_type": "code",
      "metadata": {
        "id": "yw6tKEHM_eli"
      },
      "source": [
        "#SVM:\n",
        "\n",
        "M1={'Clasificador':{},'Accuracy':{},'Número features seleccionadas':{},'Tiempo de entrenamiento [s]':{}}\n",
        "M1=pd.DataFrame(M1)\n",
        "M1['Clasificador']=['Clasificador SVM lineal','Clasificador SVM lineal SelectFromModel','Clasificador SVM lineal SelectKBest k=4','Clasificador SVM lineal SelectKBest k=2']\n",
        "M1['Accuracy']=[Accuracy0,Accuracy1,Accuracy2,Accuracy3]\n",
        "M1['Número features seleccionadas']=[len(features), len(new_feature1),len(new_feature2),len(new_feature3)]\n",
        "M1['Tiempo de entrenamiento [s]']=[T00,T11,T22,T3]\n",
        "M1.drop(['Tiempo de entrenamiento [s]'], axis=1,inplace=True)"
      ],
      "execution_count": null,
      "outputs": []
    },
    {
      "cell_type": "code",
      "metadata": {
        "colab": {
          "base_uri": "https://localhost:8080/",
          "height": 173
        },
        "id": "oQm-L4rmkKOl",
        "outputId": "7e111047-0870-494a-9d8b-ecd5dc3374c1"
      },
      "source": [
        "#Cuadro resumen SVM:\n",
        "M1.head()"
      ],
      "execution_count": null,
      "outputs": [
        {
          "output_type": "execute_result",
          "data": {
            "text/html": [
              "<div>\n",
              "<style scoped>\n",
              "    .dataframe tbody tr th:only-of-type {\n",
              "        vertical-align: middle;\n",
              "    }\n",
              "\n",
              "    .dataframe tbody tr th {\n",
              "        vertical-align: top;\n",
              "    }\n",
              "\n",
              "    .dataframe thead th {\n",
              "        text-align: right;\n",
              "    }\n",
              "</style>\n",
              "<table border=\"1\" class=\"dataframe\">\n",
              "  <thead>\n",
              "    <tr style=\"text-align: right;\">\n",
              "      <th></th>\n",
              "      <th>Clasificador</th>\n",
              "      <th>Accuracy</th>\n",
              "      <th>Número features seleccionadas</th>\n",
              "    </tr>\n",
              "  </thead>\n",
              "  <tbody>\n",
              "    <tr>\n",
              "      <th>0</th>\n",
              "      <td>Clasificador SVM lineal</td>\n",
              "      <td>0.759740</td>\n",
              "      <td>8</td>\n",
              "    </tr>\n",
              "    <tr>\n",
              "      <th>1</th>\n",
              "      <td>Clasificador SVM lineal SelectFromModel</td>\n",
              "      <td>0.759740</td>\n",
              "      <td>2</td>\n",
              "    </tr>\n",
              "    <tr>\n",
              "      <th>2</th>\n",
              "      <td>Clasificador SVM lineal SelectKBest k=4</td>\n",
              "      <td>0.785714</td>\n",
              "      <td>4</td>\n",
              "    </tr>\n",
              "    <tr>\n",
              "      <th>3</th>\n",
              "      <td>Clasificador SVM lineal SelectKBest k=2</td>\n",
              "      <td>0.759740</td>\n",
              "      <td>2</td>\n",
              "    </tr>\n",
              "  </tbody>\n",
              "</table>\n",
              "</div>"
            ],
            "text/plain": [
              "                              Clasificador  ...  Número features seleccionadas\n",
              "0                  Clasificador SVM lineal  ...                              8\n",
              "1  Clasificador SVM lineal SelectFromModel  ...                              2\n",
              "2  Clasificador SVM lineal SelectKBest k=4  ...                              4\n",
              "3  Clasificador SVM lineal SelectKBest k=2  ...                              2\n",
              "\n",
              "[4 rows x 3 columns]"
            ]
          },
          "metadata": {
            "tags": []
          },
          "execution_count": 33
        }
      ]
    },
    {
      "cell_type": "code",
      "metadata": {
        "id": "N-5tjJ8DfXam"
      },
      "source": [
        "#Random Forest:\n",
        "\n",
        "M2={'Clasificador':{},'Accuracy':{},'Número features seleccionadas':{},'Tiempo de entrenamiento [s]':{}}\n",
        "M2=pd.DataFrame(M2)\n",
        "M2['Clasificador']=['Clasificador Random Forest','Clasificador Random Forest SelectFromModel','Clasificador Random Forest SelectKBest k=4','Clasificador Random Forest SelectKBest k=2']\n",
        "M2['Accuracy']=[Accuracy0,Accuracy5,Accuracy6,Accuracy7]\n",
        "M2['Número features seleccionadas']=[len(features), len(new_feature5),len(new_feature6),len(new_feature7)]\n",
        "M2['Tiempo de entrenamiento [s]']=[T4,T5,T6,T7]\n",
        "M2.drop(['Tiempo de entrenamiento [s]'], axis=1,inplace=True)\n",
        "\n"
      ],
      "execution_count": null,
      "outputs": []
    },
    {
      "cell_type": "code",
      "metadata": {
        "colab": {
          "base_uri": "https://localhost:8080/",
          "height": 173
        },
        "id": "Md9EDXRukNDb",
        "outputId": "39c08e3c-43b5-41f1-9168-114e9721e16b"
      },
      "source": [
        "#Cuadro resumen Random Forest:\n",
        "M2.head()"
      ],
      "execution_count": null,
      "outputs": [
        {
          "output_type": "execute_result",
          "data": {
            "text/html": [
              "<div>\n",
              "<style scoped>\n",
              "    .dataframe tbody tr th:only-of-type {\n",
              "        vertical-align: middle;\n",
              "    }\n",
              "\n",
              "    .dataframe tbody tr th {\n",
              "        vertical-align: top;\n",
              "    }\n",
              "\n",
              "    .dataframe thead th {\n",
              "        text-align: right;\n",
              "    }\n",
              "</style>\n",
              "<table border=\"1\" class=\"dataframe\">\n",
              "  <thead>\n",
              "    <tr style=\"text-align: right;\">\n",
              "      <th></th>\n",
              "      <th>Clasificador</th>\n",
              "      <th>Accuracy</th>\n",
              "      <th>Número features seleccionadas</th>\n",
              "    </tr>\n",
              "  </thead>\n",
              "  <tbody>\n",
              "    <tr>\n",
              "      <th>0</th>\n",
              "      <td>Clasificador Random Forest</td>\n",
              "      <td>0.759740</td>\n",
              "      <td>8</td>\n",
              "    </tr>\n",
              "    <tr>\n",
              "      <th>1</th>\n",
              "      <td>Clasificador Random Forest SelectFromModel</td>\n",
              "      <td>0.753247</td>\n",
              "      <td>3</td>\n",
              "    </tr>\n",
              "    <tr>\n",
              "      <th>2</th>\n",
              "      <td>Clasificador Random Forest SelectKBest k=4</td>\n",
              "      <td>0.740260</td>\n",
              "      <td>4</td>\n",
              "    </tr>\n",
              "    <tr>\n",
              "      <th>3</th>\n",
              "      <td>Clasificador Random Forest SelectKBest k=2</td>\n",
              "      <td>0.740260</td>\n",
              "      <td>2</td>\n",
              "    </tr>\n",
              "  </tbody>\n",
              "</table>\n",
              "</div>"
            ],
            "text/plain": [
              "                                 Clasificador  ...  Número features seleccionadas\n",
              "0                  Clasificador Random Forest  ...                              8\n",
              "1  Clasificador Random Forest SelectFromModel  ...                              3\n",
              "2  Clasificador Random Forest SelectKBest k=4  ...                              4\n",
              "3  Clasificador Random Forest SelectKBest k=2  ...                              2\n",
              "\n",
              "[4 rows x 3 columns]"
            ]
          },
          "metadata": {
            "tags": []
          },
          "execution_count": 35
        }
      ]
    },
    {
      "cell_type": "markdown",
      "metadata": {
        "id": "G6ob9j2Hp9bC"
      },
      "source": [
        "**Para el caso del SVM, al reducir features con \"SelectFromModel\", este elimina features que no aportan al rendimiento, por lo que en este caso, el accuracy no cambia pero si se reduce el tiempo de entrenamiento. Por otro lado, al reducir features con \"SelectKBest\", para el caso de K=4 se aumenta el accuracy y además se reduce el tiempo de entrenamiento y para el caso k=2 el accuracy disminuye.**\n",
        "\n",
        "\n",
        "**Para el caso de Random Forest, al reducir features con \"SelectFromModel\", elimina features que practicamente obtienen los mismos accuracies y tiempos de entrenamiento. Por otro lado, al reducir features con \"SelectKBest\" para el caso k=2 y k=4, disminuyen los accuracies.**\n",
        "\n",
        "\n",
        "**Finalmente, se desprende que el proceso de selección de features según sea el caso, puede llegar a mejorar el desempeño del clasificador, ya que hay features que solo son ruido. Otra posibilidad que se puede dar es que el accuracy disminuya, pero tambien disminuyan los tiempos de entrenamiento, tiempo que según que tanto disminuya podria ser deseable a costa de perder un poco de accuracy cuando el número de features es de un orden mucho mayor.**"
      ]
    },
    {
      "cell_type": "markdown",
      "metadata": {
        "id": "ARIamwyP_cFv"
      },
      "source": [
        "**c)** Según los resultados de los dos puntos anteriores, analice la utilidad de la reducción de características para el conjunto de datos usado:"
      ]
    },
    {
      "cell_type": "markdown",
      "metadata": {
        "id": "g3w3pB7cxq9G"
      },
      "source": [
        "**A partir de las partes 1 y 2, se desprende que la utilidad de la reducción de features en el caso óptimo, es aumentar el accuracy eliminando features que solo son ruido para la clasificicación y disminuir tiempos de entrenamiento al reducir la cantidad de features a procesar.**\n",
        "\n",
        "**Cabe destacar que el caso óptimo no siempre se da, por lo que otras posibilidades que se pueden dar al reducir features es que el accuracy no cambie y el tiempo de entrenamiento disminuya, otra opción es que el accuracy disminuya junto con el tiempo de entrenamiento.**\n",
        "\n",
        "**En el caso en que el accuracy disminuya se debera evaluar si esta disminución de accuracy se compensa con la reducción del tiempo de entrenamiento. En este caso al ser pocas features, la reducción del tiempo de entrenamiento no compensaba la disminución del accuracy, por lo que en este caso, habría que elegir el conjunto de features que maximice el accuracy.**"
      ]
    },
    {
      "cell_type": "markdown",
      "metadata": {
        "id": "WXXJfvfR-uLh"
      },
      "source": [
        "# **Conclusiones:**"
      ]
    },
    {
      "cell_type": "markdown",
      "metadata": {
        "id": "9xYcGSuM0cxW"
      },
      "source": [
        "**En esta tarea se comprendio el proceso iterativo para elegir los mejores hiperparámetros haciendo uso del conjunto de entrenamiento y validación, ya que en tareas pasadas este proceso de selección se hacia mediante \"Cross Validation\". Tambien se comprendio el proceso de selección de features, el cual es un proceso iterativo en donde el diseñador debe elegir cual es el mejor conjunto de features, analizando las variaciones en el desempeño y tiempos de entrenamiento. Tambien de aprendio a entrenar a entrenar un clasificador Random Forest.**\n",
        "\n",
        "**En cuanto a dificultades, la tarea en si fue un tanto repetitiva por lo que en un principio se sintio que habría mucho que programar, sin embargo esto se soluciono haciendo un \"código reciclable\" de modo de usar las partes anteriores ya hechas, teniendo que cambiar solo detalles.**\n",
        "\n",
        "**En cuanto a los resultados obtenidos, se encontro un resultado anomalo en donde se obtiene exactamente el mismo accuracy para el clasificador SVM y Random Forest en el conjunto de prueba. Otro punto a destacar es que sorprenden las bajas tasas de verdaderos positivos que entregan los dos clasificadores, por lo que estos no son adecuados para la detección de diabetes.**\n",
        "**Tambien se observo que el número de arboles para el clasificador Random Forest cambia cada vez que se ejecuta el código, pero esto concuerda con lo que indica la teoría ya que, en cada proceso de entrenamiento hay un proceso aleatorio, el cual es el proceso de selección de features de cada arbol.**\n",
        "**Finalemente, el mejor clasificador es el Random Forest, el cual es mejor por centesimas respecto del SVM, observando la tasa de verdaderos positivos.**\n",
        "\n",
        "**En este caso no hay modo de mejorar el desempeño de los algoritmos, ya que se utilizaron librerias en donde los códigos de programación estan predefinidos.**"
      ]
    },
    {
      "cell_type": "code",
      "metadata": {
        "id": "oiUzbyIROD5p"
      },
      "source": [
        "#%cd ../"
      ],
      "execution_count": null,
      "outputs": []
    },
    {
      "cell_type": "code",
      "metadata": {
        "id": "PS4qtsNUKRVr"
      },
      "source": [
        "#Carpeta:\n",
        "#%cd /content/drive/MyDrive/Colab Notebooks "
      ],
      "execution_count": null,
      "outputs": []
    },
    {
      "cell_type": "code",
      "metadata": {
        "id": "Vagm-mzULVpS"
      },
      "source": [
        "#Install:\n",
        "#!sudo apt-get install texlive-xetex texlive-fonts-recommended texlive-generic-recommended"
      ],
      "execution_count": null,
      "outputs": []
    },
    {
      "cell_type": "code",
      "metadata": {
        "id": "BClZ9doAKe8S"
      },
      "source": [
        "#A PDF:\n",
        "#!jupyter nbconvert --to pdf tarea3ic.ipynb"
      ],
      "execution_count": null,
      "outputs": []
    }
  ]
}